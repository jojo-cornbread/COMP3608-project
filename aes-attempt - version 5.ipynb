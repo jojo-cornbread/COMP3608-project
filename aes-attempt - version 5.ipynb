{
 "cells": [
  {
   "cell_type": "code",
   "execution_count": 1,
   "id": "354ec223",
   "metadata": {
    "_cell_guid": "b1076dfc-b9ad-4769-8c92-a6c4dae69d19",
    "_uuid": "8f2839f25d086af736a60e9eeb907d3b93b6e0e5",
    "execution": {
     "iopub.execute_input": "2024-04-29T07:43:51.574842Z",
     "iopub.status.busy": "2024-04-29T07:43:51.574441Z",
     "iopub.status.idle": "2024-04-29T07:43:52.596422Z",
     "shell.execute_reply": "2024-04-29T07:43:52.594996Z"
    },
    "papermill": {
     "duration": 1.045013,
     "end_time": "2024-04-29T07:43:52.599749",
     "exception": false,
     "start_time": "2024-04-29T07:43:51.554736",
     "status": "completed"
    },
    "tags": []
   },
   "outputs": [
    {
     "name": "stdout",
     "output_type": "stream",
     "text": [
      "/kaggle/input/learning-agency-lab-automated-essay-scoring-2/sample_submission.csv\n",
      "/kaggle/input/learning-agency-lab-automated-essay-scoring-2/train.csv\n",
      "/kaggle/input/learning-agency-lab-automated-essay-scoring-2/test.csv\n"
     ]
    }
   ],
   "source": [
    "# This Python 3 environment comes with many helpful analytics libraries installed\n",
    "# It is defined by the kaggle/python Docker image: https://github.com/kaggle/docker-python\n",
    "# For example, here's several helpful packages to load\n",
    "\n",
    "import numpy as np # linear algebra\n",
    "import pandas as pd # data processing, CSV file I/O (e.g. pd.read_csv)\n",
    "\n",
    "# Input data files are available in the read-only \"../input/\" directory\n",
    "# For example, running this (by clicking run or pressing Shift+Enter) will list all files under the input directory\n",
    "\n",
    "import os\n",
    "for dirname, _, filenames in os.walk('/kaggle/input'):\n",
    "    for filename in filenames:\n",
    "        print(os.path.join(dirname, filename))\n",
    "\n",
    "# You can write up to 20GB to the current directory (/kaggle/working/) that gets preserved as output when you create a version using \"Save & Run All\" \n",
    "# You can also write temporary files to /kaggle/temp/, but they won't be saved outside of the current session"
   ]
  },
  {
   "cell_type": "markdown",
   "id": "fb34ee3b",
   "metadata": {
    "papermill": {
     "duration": 0.017126,
     "end_time": "2024-04-29T07:43:52.634708",
     "exception": false,
     "start_time": "2024-04-29T07:43:52.617582",
     "status": "completed"
    },
    "tags": []
   },
   "source": [
    "import other libraries"
   ]
  },
  {
   "cell_type": "code",
   "execution_count": 2,
   "id": "ece31fe4",
   "metadata": {
    "execution": {
     "iopub.execute_input": "2024-04-29T07:43:52.674168Z",
     "iopub.status.busy": "2024-04-29T07:43:52.672909Z",
     "iopub.status.idle": "2024-04-29T07:44:11.712419Z",
     "shell.execute_reply": "2024-04-29T07:44:11.711109Z"
    },
    "papermill": {
     "duration": 19.06355,
     "end_time": "2024-04-29T07:44:11.715712",
     "exception": false,
     "start_time": "2024-04-29T07:43:52.652162",
     "status": "completed"
    },
    "tags": []
   },
   "outputs": [],
   "source": [
    "from sklearn.feature_extraction.text import TfidfVectorizer, CountVectorizer\n",
    "from sklearn.linear_model import LogisticRegression, LogisticRegressionCV\n",
    "import xgboost as xgb\n",
    "from sklearn.ensemble import RandomForestClassifier\n",
    "from lightgbm import LGBMClassifier\n",
    "from sklearn.metrics import cohen_kappa_score, make_scorer, classification_report, accuracy_score\n",
    "import re\n",
    "from sklearn.pipeline import Pipeline\n",
    "# from sklearn.pipeline import FeatureUnion\n",
    "from sklearn.compose import ColumnTransformer\n",
    "from sklearn.model_selection import GridSearchCV, train_test_split, cross_validate\n",
    "from sklearn.preprocessing import StandardScaler, FunctionTransformer\n",
    "\n",
    "from gensim.models import Word2Vec"
   ]
  },
  {
   "cell_type": "markdown",
   "id": "a8ea5f15",
   "metadata": {
    "papermill": {
     "duration": 0.016936,
     "end_time": "2024-04-29T07:44:11.750660",
     "exception": false,
     "start_time": "2024-04-29T07:44:11.733724",
     "status": "completed"
    },
    "tags": []
   },
   "source": [
    "Read in the dataset"
   ]
  },
  {
   "cell_type": "code",
   "execution_count": 3,
   "id": "23038cc8",
   "metadata": {
    "execution": {
     "iopub.execute_input": "2024-04-29T07:44:11.791301Z",
     "iopub.status.busy": "2024-04-29T07:44:11.790514Z",
     "iopub.status.idle": "2024-04-29T07:44:12.903687Z",
     "shell.execute_reply": "2024-04-29T07:44:12.902097Z"
    },
    "papermill": {
     "duration": 1.13623,
     "end_time": "2024-04-29T07:44:12.906715",
     "exception": false,
     "start_time": "2024-04-29T07:44:11.770485",
     "status": "completed"
    },
    "tags": []
   },
   "outputs": [],
   "source": [
    "df_train = pd.read_csv('/kaggle/input/learning-agency-lab-automated-essay-scoring-2/train.csv')\n",
    "df_test = pd.read_csv('/kaggle/input/learning-agency-lab-automated-essay-scoring-2/test.csv')\n",
    "df_sub = pd.read_csv('/kaggle/input/learning-agency-lab-automated-essay-scoring-2/sample_submission.csv')"
   ]
  },
  {
   "cell_type": "markdown",
   "id": "52729e8e",
   "metadata": {
    "papermill": {
     "duration": 0.017297,
     "end_time": "2024-04-29T07:44:12.941760",
     "exception": false,
     "start_time": "2024-04-29T07:44:12.924463",
     "status": "completed"
    },
    "tags": []
   },
   "source": [
    "Data cleaning"
   ]
  },
  {
   "cell_type": "code",
   "execution_count": 4,
   "id": "2a84f71b",
   "metadata": {
    "execution": {
     "iopub.execute_input": "2024-04-29T07:44:12.978896Z",
     "iopub.status.busy": "2024-04-29T07:44:12.978375Z",
     "iopub.status.idle": "2024-04-29T07:44:12.995330Z",
     "shell.execute_reply": "2024-04-29T07:44:12.993440Z"
    },
    "papermill": {
     "duration": 0.039398,
     "end_time": "2024-04-29T07:44:12.998541",
     "exception": false,
     "start_time": "2024-04-29T07:44:12.959143",
     "status": "completed"
    },
    "tags": []
   },
   "outputs": [],
   "source": [
    "def removeHTML(x):\n",
    "    html=re.compile(r'<.*?>')\n",
    "    return html.sub(r'',x)\n",
    "\n",
    "def decontracted(phrase):\n",
    "    # specific\n",
    "    phrase = re.sub(r\"won\\'t\", \"will not\", phrase)\n",
    "    phrase = re.sub(r\"can\\'t\", \"can not\", phrase)\n",
    "\n",
    "    # general\n",
    "    phrase = re.sub(r\"n\\'t\", \" not\", phrase)\n",
    "    phrase = re.sub(r\"\\'re\", \" are\", phrase)\n",
    "    phrase = re.sub(r\"\\'s\", \" is\", phrase)\n",
    "    phrase = re.sub(r\"\\'d\", \" would\", phrase)\n",
    "    phrase = re.sub(r\"\\'ll\", \" will\", phrase)\n",
    "    phrase = re.sub(r\"\\'t\", \" not\", phrase)\n",
    "    phrase = re.sub(r\"\\'ve\", \" have\", phrase)\n",
    "    phrase = re.sub(r\"\\'m\", \" am\", phrase)\n",
    "    phrase = re.sub(r\"\\xa0\",\" \",phrase)\n",
    "    return phrase.strip()\n",
    "\n",
    "def clean_text(x):\n",
    "    # Convert words to lowercase\n",
    "    x = x.lower()\n",
    "    # Remove HTML\n",
    "    x = removeHTML(x)\n",
    "    # Delete strings starting with @\n",
    "    x = re.sub(\"@\\w+\", '',x)\n",
    "    # Delete Numbers\n",
    "    x = re.sub(\"'\\d+\", '',x)\n",
    "    x = re.sub(\"\\d+\", '',x)\n",
    "    # Delete URL\n",
    "    x = re.sub(\"http\\w+\", '',x)\n",
    "    # Replace consecutive empty spaces with a single space character\n",
    "    x = re.sub(r\"\\s+\", \" \", x)\n",
    "    # Replace consecutive commas and periods with one comma and period character\n",
    "    x = re.sub(r\"\\.+\", \".\", x)\n",
    "    x = re.sub(r\"\\,+\", \",\", x)\n",
    "    # Remove empty characters at the beginning and end\n",
    "    x = x.strip()\n",
    "    return decontracted(x)"
   ]
  },
  {
   "cell_type": "code",
   "execution_count": 5,
   "id": "df2ea540",
   "metadata": {
    "execution": {
     "iopub.execute_input": "2024-04-29T07:44:13.036896Z",
     "iopub.status.busy": "2024-04-29T07:44:13.036480Z",
     "iopub.status.idle": "2024-04-29T07:44:20.188081Z",
     "shell.execute_reply": "2024-04-29T07:44:20.186789Z"
    },
    "papermill": {
     "duration": 7.173886,
     "end_time": "2024-04-29T07:44:20.191193",
     "exception": false,
     "start_time": "2024-04-29T07:44:13.017307",
     "status": "completed"
    },
    "tags": []
   },
   "outputs": [],
   "source": [
    "df_train['full_text'] = df_train['full_text'].apply(clean_text)\n",
    "df_test['full_text'] = df_test['full_text'].apply(clean_text)\n"
   ]
  },
  {
   "cell_type": "code",
   "execution_count": 6,
   "id": "8845cd05",
   "metadata": {
    "execution": {
     "iopub.execute_input": "2024-04-29T07:44:20.228771Z",
     "iopub.status.busy": "2024-04-29T07:44:20.227453Z",
     "iopub.status.idle": "2024-04-29T07:44:20.236594Z",
     "shell.execute_reply": "2024-04-29T07:44:20.235390Z"
    },
    "papermill": {
     "duration": 0.030598,
     "end_time": "2024-04-29T07:44:20.239339",
     "exception": false,
     "start_time": "2024-04-29T07:44:20.208741",
     "status": "completed"
    },
    "tags": []
   },
   "outputs": [
    {
     "data": {
      "text/plain": [
       "'many people have car where they live. the thing they do not know is that when you use a car alot of thing can happen like you can get in accidet or the smoke that the car has is bad to breath on if someone is walk but in vauban,germany they dont have that proble because percent of vauban is families do not own cars,and percent sold a car to move there. street parkig ,driveways and home garages are forbidden on the outskirts of freiburd that near the french and swiss borders. you probaly will not see a car in vauban is streets because they are completely \"car free\" but if some that lives in vauban that owns a car ownership is allowed,but there are only two places that you can park a large garages at the edge of the development,where a car owner buys a space but it not cheap to buy one they sell the space for you car for $, along with a home. the vauban people completed this in ,they said that this an example of a growing trend in europe,the untile states and some where else are suburban life from auto use this is called \"smart planning\". the current efforts to drastically reduce greenhouse gas emissions from tailes the passengee cars are responsible for percent of greenhouse gas emissions in europe and up to percent in some car intensive in the united states. i honeslty think that good idea that they did that is vaudan because that makes cities denser and better for walking and in vauban there are , residents within a rectangular square mile. in the artical david gold berg said that \"all of our development since world war has been centered on the cars,and that will have to change\" and i think that was very true what david gold said because alot thing we need cars to do we can go anyway were with out cars beacuse some people are a very lazy to walk to place thats why they alot of people use car and i think that it was a good idea that that they did that in vauban so people can see how we really do not need car to go to place from place because we can walk from were we need to go or we can ride bycles with out the use of a car. it good that they are doing that if you thik about your help the earth in way and thats a very good thing to. in the united states ,the environmental protection agency is promoting what is called \"car reduced\"communtunties,and the legislators are starting to act,if cautiously. maany experts expect pubic transport serving suburbs to play a much larger role in a new six years federal transportation bill to approved this year. in previous bill, percent of appropriations have by law gone to highways and only percent to other transports. there many good reason why they should do this.'"
      ]
     },
     "execution_count": 6,
     "metadata": {},
     "output_type": "execute_result"
    }
   ],
   "source": [
    "df_train['full_text'][0]"
   ]
  },
  {
   "cell_type": "markdown",
   "id": "edeb0137",
   "metadata": {
    "papermill": {
     "duration": 0.018367,
     "end_time": "2024-04-29T07:44:20.275723",
     "exception": false,
     "start_time": "2024-04-29T07:44:20.257356",
     "status": "completed"
    },
    "tags": []
   },
   "source": [
    "feature extraction - maybe add in more features like bag of words/ keywords?"
   ]
  },
  {
   "cell_type": "markdown",
   "id": "38099bd7",
   "metadata": {
    "papermill": {
     "duration": 0.017505,
     "end_time": "2024-04-29T07:44:20.310717",
     "exception": false,
     "start_time": "2024-04-29T07:44:20.293212",
     "status": "completed"
    },
    "tags": []
   },
   "source": [
    "create a word_count and text length column"
   ]
  },
  {
   "cell_type": "code",
   "execution_count": 7,
   "id": "eaae3e9d",
   "metadata": {
    "execution": {
     "iopub.execute_input": "2024-04-29T07:44:20.348675Z",
     "iopub.status.busy": "2024-04-29T07:44:20.348266Z",
     "iopub.status.idle": "2024-04-29T07:44:21.357723Z",
     "shell.execute_reply": "2024-04-29T07:44:21.356601Z"
    },
    "papermill": {
     "duration": 1.032822,
     "end_time": "2024-04-29T07:44:21.361249",
     "exception": false,
     "start_time": "2024-04-29T07:44:20.328427",
     "status": "completed"
    },
    "tags": []
   },
   "outputs": [],
   "source": [
    "df_train['word_count'] = df_train[\"full_text\"].str.split().str.len()\n",
    "df_test['word_count'] = df_test[\"full_text\"].str.split().str.len()"
   ]
  },
  {
   "cell_type": "code",
   "execution_count": 8,
   "id": "518514cd",
   "metadata": {
    "execution": {
     "iopub.execute_input": "2024-04-29T07:44:21.398354Z",
     "iopub.status.busy": "2024-04-29T07:44:21.397942Z",
     "iopub.status.idle": "2024-04-29T07:44:21.419986Z",
     "shell.execute_reply": "2024-04-29T07:44:21.418501Z"
    },
    "papermill": {
     "duration": 0.044069,
     "end_time": "2024-04-29T07:44:21.422917",
     "exception": false,
     "start_time": "2024-04-29T07:44:21.378848",
     "status": "completed"
    },
    "tags": []
   },
   "outputs": [],
   "source": [
    "df_train['length'] = df_train[\"full_text\"].str.len()\n",
    "df_test['length'] = df_test[\"full_text\"].str.len()"
   ]
  },
  {
   "cell_type": "code",
   "execution_count": 9,
   "id": "6e2a2ccb",
   "metadata": {
    "execution": {
     "iopub.execute_input": "2024-04-29T07:44:21.461319Z",
     "iopub.status.busy": "2024-04-29T07:44:21.460845Z",
     "iopub.status.idle": "2024-04-29T07:44:21.609703Z",
     "shell.execute_reply": "2024-04-29T07:44:21.608120Z"
    },
    "papermill": {
     "duration": 0.170987,
     "end_time": "2024-04-29T07:44:21.612582",
     "exception": false,
     "start_time": "2024-04-29T07:44:21.441595",
     "status": "completed"
    },
    "tags": []
   },
   "outputs": [
    {
     "data": {
      "text/html": [
       "<div>\n",
       "<style scoped>\n",
       "    .dataframe tbody tr th:only-of-type {\n",
       "        vertical-align: middle;\n",
       "    }\n",
       "\n",
       "    .dataframe tbody tr th {\n",
       "        vertical-align: top;\n",
       "    }\n",
       "\n",
       "    .dataframe thead th {\n",
       "        text-align: right;\n",
       "    }\n",
       "</style>\n",
       "<table border=\"1\" class=\"dataframe\">\n",
       "  <thead>\n",
       "    <tr style=\"text-align: right;\">\n",
       "      <th></th>\n",
       "      <th>essay_id</th>\n",
       "      <th>full_text</th>\n",
       "      <th>score</th>\n",
       "      <th>word_count</th>\n",
       "      <th>length</th>\n",
       "    </tr>\n",
       "  </thead>\n",
       "  <tbody>\n",
       "    <tr>\n",
       "      <th>0</th>\n",
       "      <td>000d118</td>\n",
       "      <td>many people have car where they live. the thin...</td>\n",
       "      <td>3</td>\n",
       "      <td>496</td>\n",
       "      <td>2647</td>\n",
       "    </tr>\n",
       "    <tr>\n",
       "      <th>1</th>\n",
       "      <td>000fe60</td>\n",
       "      <td>i am a scientist at nasa that is discussing th...</td>\n",
       "      <td>3</td>\n",
       "      <td>336</td>\n",
       "      <td>1668</td>\n",
       "    </tr>\n",
       "    <tr>\n",
       "      <th>2</th>\n",
       "      <td>001ab80</td>\n",
       "      <td>people always wish they had the same technolog...</td>\n",
       "      <td>4</td>\n",
       "      <td>553</td>\n",
       "      <td>3068</td>\n",
       "    </tr>\n",
       "    <tr>\n",
       "      <th>3</th>\n",
       "      <td>001bdc0</td>\n",
       "      <td>we all heard about venus, the planet without a...</td>\n",
       "      <td>4</td>\n",
       "      <td>450</td>\n",
       "      <td>2679</td>\n",
       "    </tr>\n",
       "    <tr>\n",
       "      <th>4</th>\n",
       "      <td>002ba53</td>\n",
       "      <td>dear, state senator this is a letter to argue ...</td>\n",
       "      <td>3</td>\n",
       "      <td>377</td>\n",
       "      <td>2188</td>\n",
       "    </tr>\n",
       "  </tbody>\n",
       "</table>\n",
       "</div>"
      ],
      "text/plain": [
       "  essay_id                                          full_text  score  \\\n",
       "0  000d118  many people have car where they live. the thin...      3   \n",
       "1  000fe60  i am a scientist at nasa that is discussing th...      3   \n",
       "2  001ab80  people always wish they had the same technolog...      4   \n",
       "3  001bdc0  we all heard about venus, the planet without a...      4   \n",
       "4  002ba53  dear, state senator this is a letter to argue ...      3   \n",
       "\n",
       "   word_count  length  \n",
       "0         496    2647  \n",
       "1         336    1668  \n",
       "2         553    3068  \n",
       "3         450    2679  \n",
       "4         377    2188  "
      ]
     },
     "execution_count": 9,
     "metadata": {},
     "output_type": "execute_result"
    }
   ],
   "source": [
    "df_train.head()"
   ]
  },
  {
   "cell_type": "markdown",
   "id": "3fe1d86a",
   "metadata": {
    "papermill": {
     "duration": 0.01709,
     "end_time": "2024-04-29T07:44:21.647246",
     "exception": false,
     "start_time": "2024-04-29T07:44:21.630156",
     "status": "completed"
    },
    "tags": []
   },
   "source": [
    "attempt at creating vector embeddings:"
   ]
  },
  {
   "cell_type": "code",
   "execution_count": 10,
   "id": "2aa13fa9",
   "metadata": {
    "execution": {
     "iopub.execute_input": "2024-04-29T07:44:21.683860Z",
     "iopub.status.busy": "2024-04-29T07:44:21.683477Z",
     "iopub.status.idle": "2024-04-29T07:45:34.083287Z",
     "shell.execute_reply": "2024-04-29T07:45:34.082308Z"
    },
    "papermill": {
     "duration": 72.421879,
     "end_time": "2024-04-29T07:45:34.086378",
     "exception": false,
     "start_time": "2024-04-29T07:44:21.664499",
     "status": "completed"
    },
    "tags": []
   },
   "outputs": [],
   "source": [
    "word2vec_model = Word2Vec(df_train['full_text'], \n",
    "                          vector_size=100,\n",
    "                          min_count=1,\n",
    "                          window=5, \n",
    "                          )"
   ]
  },
  {
   "cell_type": "code",
   "execution_count": 11,
   "id": "457349cf",
   "metadata": {
    "execution": {
     "iopub.execute_input": "2024-04-29T07:45:34.124236Z",
     "iopub.status.busy": "2024-04-29T07:45:34.123382Z",
     "iopub.status.idle": "2024-04-29T07:45:34.130758Z",
     "shell.execute_reply": "2024-04-29T07:45:34.129275Z"
    },
    "papermill": {
     "duration": 0.028694,
     "end_time": "2024-04-29T07:45:34.133436",
     "exception": false,
     "start_time": "2024-04-29T07:45:34.104742",
     "status": "completed"
    },
    "tags": []
   },
   "outputs": [],
   "source": [
    "def vectorize_text(text, word2vec_model):\n",
    "    text_vector = np.zeros(100)  # Initialize a vector of zeros (100-dimensional)\n",
    "    for word in text.split():  # Split text into words\n",
    "        if word in word2vec_model.wv:  # Check if word is in the vocabulary\n",
    "            text_vector += word2vec_model.wv[word]  # Add word vector to the text vector\n",
    "    return text_vector"
   ]
  },
  {
   "cell_type": "code",
   "execution_count": 12,
   "id": "a01913e1",
   "metadata": {
    "execution": {
     "iopub.execute_input": "2024-04-29T07:45:34.172505Z",
     "iopub.status.busy": "2024-04-29T07:45:34.172113Z",
     "iopub.status.idle": "2024-04-29T07:45:43.658952Z",
     "shell.execute_reply": "2024-04-29T07:45:43.657544Z"
    },
    "papermill": {
     "duration": 9.510723,
     "end_time": "2024-04-29T07:45:43.662217",
     "exception": false,
     "start_time": "2024-04-29T07:45:34.151494",
     "status": "completed"
    },
    "tags": []
   },
   "outputs": [],
   "source": [
    "# Apply the vectorize_text function to each text entry in train_df['full_text']\n",
    "df_train['text_vector'] = df_train['full_text'].apply(lambda x: vectorize_text(x, word2vec_model))\n",
    "df_test['text_vector'] = df_test['full_text'].apply(lambda x: vectorize_text(x, word2vec_model))\n"
   ]
  },
  {
   "cell_type": "code",
   "execution_count": 13,
   "id": "6f7245f8",
   "metadata": {
    "execution": {
     "iopub.execute_input": "2024-04-29T07:45:43.699876Z",
     "iopub.status.busy": "2024-04-29T07:45:43.699389Z",
     "iopub.status.idle": "2024-04-29T07:45:43.723775Z",
     "shell.execute_reply": "2024-04-29T07:45:43.722289Z"
    },
    "papermill": {
     "duration": 0.046704,
     "end_time": "2024-04-29T07:45:43.726944",
     "exception": false,
     "start_time": "2024-04-29T07:45:43.680240",
     "status": "completed"
    },
    "tags": []
   },
   "outputs": [
    {
     "data": {
      "text/html": [
       "<div>\n",
       "<style scoped>\n",
       "    .dataframe tbody tr th:only-of-type {\n",
       "        vertical-align: middle;\n",
       "    }\n",
       "\n",
       "    .dataframe tbody tr th {\n",
       "        vertical-align: top;\n",
       "    }\n",
       "\n",
       "    .dataframe thead th {\n",
       "        text-align: right;\n",
       "    }\n",
       "</style>\n",
       "<table border=\"1\" class=\"dataframe\">\n",
       "  <thead>\n",
       "    <tr style=\"text-align: right;\">\n",
       "      <th></th>\n",
       "      <th>essay_id</th>\n",
       "      <th>full_text</th>\n",
       "      <th>score</th>\n",
       "      <th>word_count</th>\n",
       "      <th>length</th>\n",
       "      <th>text_vector</th>\n",
       "    </tr>\n",
       "  </thead>\n",
       "  <tbody>\n",
       "    <tr>\n",
       "      <th>0</th>\n",
       "      <td>000d118</td>\n",
       "      <td>many people have car where they live. the thin...</td>\n",
       "      <td>3</td>\n",
       "      <td>496</td>\n",
       "      <td>2647</td>\n",
       "      <td>[-0.6929380334913731, 2.866185742430389, -3.85...</td>\n",
       "    </tr>\n",
       "    <tr>\n",
       "      <th>1</th>\n",
       "      <td>000fe60</td>\n",
       "      <td>i am a scientist at nasa that is discussing th...</td>\n",
       "      <td>3</td>\n",
       "      <td>336</td>\n",
       "      <td>1668</td>\n",
       "      <td>[-0.33317258208990097, 2.139420425519347, -4.4...</td>\n",
       "    </tr>\n",
       "    <tr>\n",
       "      <th>2</th>\n",
       "      <td>001ab80</td>\n",
       "      <td>people always wish they had the same technolog...</td>\n",
       "      <td>4</td>\n",
       "      <td>553</td>\n",
       "      <td>3068</td>\n",
       "      <td>[-0.026480753906071186, 1.453783854842186, -2....</td>\n",
       "    </tr>\n",
       "    <tr>\n",
       "      <th>3</th>\n",
       "      <td>001bdc0</td>\n",
       "      <td>we all heard about venus, the planet without a...</td>\n",
       "      <td>4</td>\n",
       "      <td>450</td>\n",
       "      <td>2679</td>\n",
       "      <td>[-0.0007969895377755165, 3.742163436487317, -3...</td>\n",
       "    </tr>\n",
       "    <tr>\n",
       "      <th>4</th>\n",
       "      <td>002ba53</td>\n",
       "      <td>dear, state senator this is a letter to argue ...</td>\n",
       "      <td>3</td>\n",
       "      <td>377</td>\n",
       "      <td>2188</td>\n",
       "      <td>[-0.29576310981065035, -0.024010476656258106, ...</td>\n",
       "    </tr>\n",
       "  </tbody>\n",
       "</table>\n",
       "</div>"
      ],
      "text/plain": [
       "  essay_id                                          full_text  score  \\\n",
       "0  000d118  many people have car where they live. the thin...      3   \n",
       "1  000fe60  i am a scientist at nasa that is discussing th...      3   \n",
       "2  001ab80  people always wish they had the same technolog...      4   \n",
       "3  001bdc0  we all heard about venus, the planet without a...      4   \n",
       "4  002ba53  dear, state senator this is a letter to argue ...      3   \n",
       "\n",
       "   word_count  length                                        text_vector  \n",
       "0         496    2647  [-0.6929380334913731, 2.866185742430389, -3.85...  \n",
       "1         336    1668  [-0.33317258208990097, 2.139420425519347, -4.4...  \n",
       "2         553    3068  [-0.026480753906071186, 1.453783854842186, -2....  \n",
       "3         450    2679  [-0.0007969895377755165, 3.742163436487317, -3...  \n",
       "4         377    2188  [-0.29576310981065035, -0.024010476656258106, ...  "
      ]
     },
     "execution_count": 13,
     "metadata": {},
     "output_type": "execute_result"
    }
   ],
   "source": [
    "df_train.head()"
   ]
  },
  {
   "cell_type": "code",
   "execution_count": 14,
   "id": "56b45b2c",
   "metadata": {
    "execution": {
     "iopub.execute_input": "2024-04-29T07:45:43.765572Z",
     "iopub.status.busy": "2024-04-29T07:45:43.763904Z",
     "iopub.status.idle": "2024-04-29T07:45:43.770326Z",
     "shell.execute_reply": "2024-04-29T07:45:43.769202Z"
    },
    "papermill": {
     "duration": 0.0283,
     "end_time": "2024-04-29T07:45:43.772945",
     "exception": false,
     "start_time": "2024-04-29T07:45:43.744645",
     "status": "completed"
    },
    "tags": []
   },
   "outputs": [],
   "source": [
    "# X_train = df_train['full_text']\n",
    "# y_train = df_train['score']\n",
    "# X_test = df_test['full_text']\n",
    "# y_test = df_sub['score']"
   ]
  },
  {
   "cell_type": "markdown",
   "id": "4666bb1a",
   "metadata": {
    "papermill": {
     "duration": 0.017985,
     "end_time": "2024-04-29T07:45:43.808756",
     "exception": false,
     "start_time": "2024-04-29T07:45:43.790771",
     "status": "completed"
    },
    "tags": []
   },
   "source": [
    "this method trains and evaluates each pipeline \n",
    "returns the y_pred and quadratic weighted kappa score of the model"
   ]
  },
  {
   "cell_type": "code",
   "execution_count": 15,
   "id": "724f4a48",
   "metadata": {
    "execution": {
     "iopub.execute_input": "2024-04-29T07:45:43.912106Z",
     "iopub.status.busy": "2024-04-29T07:45:43.911690Z",
     "iopub.status.idle": "2024-04-29T07:45:43.919935Z",
     "shell.execute_reply": "2024-04-29T07:45:43.918504Z"
    },
    "papermill": {
     "duration": 0.030007,
     "end_time": "2024-04-29T07:45:43.922563",
     "exception": false,
     "start_time": "2024-04-29T07:45:43.892556",
     "status": "completed"
    },
    "tags": []
   },
   "outputs": [],
   "source": [
    "def train_and_evaluate_pipeline(pipeline, X_train, y_train, X_test, y_test):\n",
    "    pipeline.fit(X_train, y_train)\n",
    "    y_pred = pipeline.predict(X_test)\n",
    "    \n",
    "    kappa = cohen_kappa_score(y_test, y_pred, weights='quadratic')\n",
    "    \n",
    "    print()\n",
    "    print('Classifier used: ', pipeline.named_steps['classifier'])\n",
    "    print('y_test: ', y_test.tolist()[0:10])\n",
    "    print('y_pred: ', y_pred.tolist()[0:10])\n",
    "    print('quadratic weighted kappa score: ', kappa)\n",
    "    \n",
    "    return pipeline, y_pred"
   ]
  },
  {
   "cell_type": "markdown",
   "id": "722ac603",
   "metadata": {
    "papermill": {
     "duration": 0.017215,
     "end_time": "2024-04-29T07:45:43.957359",
     "exception": false,
     "start_time": "2024-04-29T07:45:43.940144",
     "status": "completed"
    },
    "tags": []
   },
   "source": [
    "method for performing cross_validation of pipelines and showing their average performances"
   ]
  },
  {
   "cell_type": "code",
   "execution_count": 16,
   "id": "6d2a7396",
   "metadata": {
    "execution": {
     "iopub.execute_input": "2024-04-29T07:45:43.995143Z",
     "iopub.status.busy": "2024-04-29T07:45:43.994732Z",
     "iopub.status.idle": "2024-04-29T07:45:44.004916Z",
     "shell.execute_reply": "2024-04-29T07:45:44.002921Z"
    },
    "papermill": {
     "duration": 0.032643,
     "end_time": "2024-04-29T07:45:44.008026",
     "exception": false,
     "start_time": "2024-04-29T07:45:43.975383",
     "status": "completed"
    },
    "tags": []
   },
   "outputs": [],
   "source": [
    "#define quadratic weighted kappa as a custom scorer\n",
    "qwk_scorer = make_scorer(cohen_kappa_score, weights='quadratic')\n",
    "\n",
    "def pipeline_cross_validation(pipeline, X_train, y_train, qwk_scorer=qwk_scorer):\n",
    "    # Define cross-validation strategy and perform cross-validation\n",
    "    scoring = {'accuracy': 'accuracy', 'f1_weighted': 'f1_weighted', 'qwk': qwk_scorer}\n",
    "    cv_results = cross_validate(pipeline, X_train, y_train, cv=5, scoring=scoring)\n",
    "\n",
    "    # Print cross-validation results\n",
    "    print(\"Mean Accuracy:\", np.mean(cv_results['test_accuracy']))\n",
    "    print(\"Mean Weighted F1-score:\", np.mean(cv_results['test_f1_weighted']))\n",
    "    print(\"Mean Quadratic Weighted Kappa Score:\", np.mean(cv_results['test_qwk']))"
   ]
  },
  {
   "cell_type": "markdown",
   "id": "50594fc5",
   "metadata": {
    "papermill": {
     "duration": 0.017928,
     "end_time": "2024-04-29T07:45:44.044270",
     "exception": false,
     "start_time": "2024-04-29T07:45:44.026342",
     "status": "completed"
    },
    "tags": []
   },
   "source": [
    "create the tfidf"
   ]
  },
  {
   "cell_type": "code",
   "execution_count": 17,
   "id": "660e3e28",
   "metadata": {
    "execution": {
     "iopub.execute_input": "2024-04-29T07:45:44.082617Z",
     "iopub.status.busy": "2024-04-29T07:45:44.082098Z",
     "iopub.status.idle": "2024-04-29T07:45:44.087849Z",
     "shell.execute_reply": "2024-04-29T07:45:44.086349Z"
    },
    "papermill": {
     "duration": 0.028121,
     "end_time": "2024-04-29T07:45:44.090489",
     "exception": false,
     "start_time": "2024-04-29T07:45:44.062368",
     "status": "completed"
    },
    "tags": []
   },
   "outputs": [],
   "source": [
    "tfidf_vectorizer = TfidfVectorizer(stop_words='english', min_df=0.05, max_df=0.95,)\n",
    "# tfidf = tfidf_vectorizer.fit_transform(X_train)\n"
   ]
  },
  {
   "cell_type": "markdown",
   "id": "f78c24f6",
   "metadata": {
    "papermill": {
     "duration": 0.017306,
     "end_time": "2024-04-29T07:45:44.125370",
     "exception": false,
     "start_time": "2024-04-29T07:45:44.108064",
     "status": "completed"
    },
    "tags": []
   },
   "source": [
    "create the multinomial logistic regression classifier"
   ]
  },
  {
   "cell_type": "code",
   "execution_count": 18,
   "id": "7d078ca3",
   "metadata": {
    "execution": {
     "iopub.execute_input": "2024-04-29T07:45:44.162908Z",
     "iopub.status.busy": "2024-04-29T07:45:44.162518Z",
     "iopub.status.idle": "2024-04-29T07:45:44.168805Z",
     "shell.execute_reply": "2024-04-29T07:45:44.167259Z"
    },
    "papermill": {
     "duration": 0.028718,
     "end_time": "2024-04-29T07:45:44.171572",
     "exception": false,
     "start_time": "2024-04-29T07:45:44.142854",
     "status": "completed"
    },
    "tags": []
   },
   "outputs": [],
   "source": [
    "logreg_clf = LogisticRegression(multi_class='multinomial', solver='lbfgs', max_iter=500)"
   ]
  },
  {
   "cell_type": "markdown",
   "id": "c6f89571",
   "metadata": {
    "papermill": {
     "duration": 0.01791,
     "end_time": "2024-04-29T07:45:44.207191",
     "exception": false,
     "start_time": "2024-04-29T07:45:44.189281",
     "status": "completed"
    },
    "tags": []
   },
   "source": [
    "create a pipeline for logistic regression classifier"
   ]
  },
  {
   "cell_type": "code",
   "execution_count": 19,
   "id": "e5968143",
   "metadata": {
    "execution": {
     "iopub.execute_input": "2024-04-29T07:45:44.244477Z",
     "iopub.status.busy": "2024-04-29T07:45:44.244086Z",
     "iopub.status.idle": "2024-04-29T07:45:44.250571Z",
     "shell.execute_reply": "2024-04-29T07:45:44.248997Z"
    },
    "papermill": {
     "duration": 0.028882,
     "end_time": "2024-04-29T07:45:44.253736",
     "exception": false,
     "start_time": "2024-04-29T07:45:44.224854",
     "status": "completed"
    },
    "tags": []
   },
   "outputs": [],
   "source": [
    "# Define a transformer to extract 'text_vector' from DataFrame\n",
    "def get_text_vector(df):\n",
    "    return np.vstack(df['text_vector'])"
   ]
  },
  {
   "cell_type": "code",
   "execution_count": 20,
   "id": "c63a374c",
   "metadata": {
    "execution": {
     "iopub.execute_input": "2024-04-29T07:45:44.291385Z",
     "iopub.status.busy": "2024-04-29T07:45:44.290831Z",
     "iopub.status.idle": "2024-04-29T07:45:44.299561Z",
     "shell.execute_reply": "2024-04-29T07:45:44.297803Z"
    },
    "papermill": {
     "duration": 0.030923,
     "end_time": "2024-04-29T07:45:44.302406",
     "exception": false,
     "start_time": "2024-04-29T07:45:44.271483",
     "status": "completed"
    },
    "tags": []
   },
   "outputs": [],
   "source": [
    "tfidf_preprocessor = ColumnTransformer(\n",
    "    transformers=[\n",
    "        ('text', tfidf_vectorizer, 'full_text'),\n",
    "        ('word_count', StandardScaler(), ['word_count']),\n",
    "        ('length', StandardScaler(), ['length'])\n",
    "    ],\n",
    "    remainder='passthrough'\n",
    ")\n",
    "\n",
    "w2v_preprocessor = ColumnTransformer(\n",
    "    transformers=[\n",
    "#         ('text', tfidf_vectorizer, 'full_text'),\n",
    "        ('text_vector', FunctionTransformer(get_text_vector, validate=False), ['text_vector']),\n",
    "        ('word_count', StandardScaler(), ['word_count']),\n",
    "        ('length', StandardScaler(), ['length'])\n",
    "    ],\n",
    "    remainder='passthrough'\n",
    ")"
   ]
  },
  {
   "cell_type": "code",
   "execution_count": 21,
   "id": "795fc934",
   "metadata": {
    "execution": {
     "iopub.execute_input": "2024-04-29T07:45:44.342729Z",
     "iopub.status.busy": "2024-04-29T07:45:44.342333Z",
     "iopub.status.idle": "2024-04-29T07:45:44.348910Z",
     "shell.execute_reply": "2024-04-29T07:45:44.347486Z"
    },
    "papermill": {
     "duration": 0.030196,
     "end_time": "2024-04-29T07:45:44.351335",
     "exception": false,
     "start_time": "2024-04-29T07:45:44.321139",
     "status": "completed"
    },
    "tags": []
   },
   "outputs": [],
   "source": [
    "logreg_pipeline = Pipeline(steps=[\n",
    "#     ('tfidf', tfidf_vectorizer),\n",
    "    ('preprocessor', tfidf_preprocessor),\n",
    "    ('classifier', logreg_clf)\n",
    "])\n",
    "\n",
    "w2v_logreg_pipeline = Pipeline(steps=[\n",
    "    ('preprocessor', w2v_preprocessor),\n",
    "    ('classifier', logreg_clf)\n",
    "])"
   ]
  },
  {
   "cell_type": "markdown",
   "id": "bfb97632",
   "metadata": {
    "papermill": {
     "duration": 0.018858,
     "end_time": "2024-04-29T07:45:44.388453",
     "exception": false,
     "start_time": "2024-04-29T07:45:44.369595",
     "status": "completed"
    },
    "tags": []
   },
   "source": [
    "fit and make a prediction"
   ]
  },
  {
   "cell_type": "code",
   "execution_count": 22,
   "id": "f74bf0c7",
   "metadata": {
    "execution": {
     "iopub.execute_input": "2024-04-29T07:45:44.429521Z",
     "iopub.status.busy": "2024-04-29T07:45:44.429126Z",
     "iopub.status.idle": "2024-04-29T07:45:44.434723Z",
     "shell.execute_reply": "2024-04-29T07:45:44.433210Z"
    },
    "papermill": {
     "duration": 0.029341,
     "end_time": "2024-04-29T07:45:44.437825",
     "exception": false,
     "start_time": "2024-04-29T07:45:44.408484",
     "status": "completed"
    },
    "tags": []
   },
   "outputs": [],
   "source": [
    "# df_sub['essay_id'].tolist()\n",
    "# df_train.loc[(df_train['essay_id'] == '000d118') | (df_train['essay_id'] =='000fe60') | (df_train['essay_id'] =='001ab80')]\n",
    "# sub_df_data = df_train.loc[(df_train['essay_id'] == '000d118') | (df_train['essay_id'] =='000fe60') | (df_train['essay_id'] =='001ab80')]\n",
    "# X_test3 = tfidf_vectorizer.transform(df_test['full_text'])"
   ]
  },
  {
   "cell_type": "code",
   "execution_count": 23,
   "id": "d3a158a1",
   "metadata": {
    "execution": {
     "iopub.execute_input": "2024-04-29T07:45:44.478440Z",
     "iopub.status.busy": "2024-04-29T07:45:44.478026Z",
     "iopub.status.idle": "2024-04-29T07:45:44.509751Z",
     "shell.execute_reply": "2024-04-29T07:45:44.508390Z"
    },
    "papermill": {
     "duration": 0.056205,
     "end_time": "2024-04-29T07:45:44.513288",
     "exception": false,
     "start_time": "2024-04-29T07:45:44.457083",
     "status": "completed"
    },
    "tags": []
   },
   "outputs": [],
   "source": [
    "X = df_train[['full_text', 'word_count', 'length']]\n",
    "# X = df_train['full_text']\n",
    "y = df_train['score']\n",
    "sub_X = df_test[['full_text', 'word_count', 'length']]\n",
    "sub_y = df_sub['score']\n",
    "\n",
    "X_train, X_test, y_train, y_test = train_test_split(X, y, train_size = 0.8)\n",
    "\n",
    "X2 = df_train[['word_count', 'length', 'text_vector']]\n",
    "sub_X2 = df_test[['word_count', 'length', 'text_vector']]\n",
    "\n",
    "# X2 = np.array(df_train['text_vector'].tolist())\n",
    "# sub_X2 = np.array(df_test['text_vector'].tolist())\n",
    "\n",
    "X_train2, X_test2, y_train2, y_test2 = train_test_split(X2, y, train_size = 0.8)\n",
    "\n",
    "\n",
    "# trained_logreg_pipeline, logreg_y_pred = train_and_evaluate_pipeline(logreg_pipeline, X_train, y_train, X_test, y_test)"
   ]
  },
  {
   "cell_type": "code",
   "execution_count": 24,
   "id": "6ecd37d7",
   "metadata": {
    "execution": {
     "iopub.execute_input": "2024-04-29T07:45:44.552103Z",
     "iopub.status.busy": "2024-04-29T07:45:44.551673Z",
     "iopub.status.idle": "2024-04-29T07:45:53.891099Z",
     "shell.execute_reply": "2024-04-29T07:45:53.889926Z"
    },
    "papermill": {
     "duration": 9.361888,
     "end_time": "2024-04-29T07:45:53.893735",
     "exception": false,
     "start_time": "2024-04-29T07:45:44.531847",
     "status": "completed"
    },
    "tags": []
   },
   "outputs": [
    {
     "name": "stdout",
     "output_type": "stream",
     "text": [
      "\n",
      "Classifier used:  LogisticRegression(max_iter=500, multi_class='multinomial')\n",
      "y_test:  [2, 2, 3, 4, 5, 3, 3, 2, 3, 3]\n",
      "y_pred:  [2, 1, 3, 4, 4, 3, 2, 2, 4, 3]\n",
      "quadratic weighted kappa score:  0.7210035214939079\n"
     ]
    }
   ],
   "source": [
    "trained_logreg_pipeline, logreg_y_pred = train_and_evaluate_pipeline(logreg_pipeline, X_train, y_train, X_test, y_test)"
   ]
  },
  {
   "cell_type": "code",
   "execution_count": null,
   "id": "b000f830",
   "metadata": {
    "papermill": {
     "duration": 0.017459,
     "end_time": "2024-04-29T07:45:53.929022",
     "exception": false,
     "start_time": "2024-04-29T07:45:53.911563",
     "status": "completed"
    },
    "tags": []
   },
   "outputs": [],
   "source": []
  },
  {
   "cell_type": "markdown",
   "id": "35998471",
   "metadata": {
    "papermill": {
     "duration": 0.017908,
     "end_time": "2024-04-29T07:45:53.964618",
     "exception": false,
     "start_time": "2024-04-29T07:45:53.946710",
     "status": "completed"
    },
    "tags": []
   },
   "source": [
    "commented off just to make the notebook save and rerun properly, need to use a different clf if plan to keep"
   ]
  },
  {
   "cell_type": "code",
   "execution_count": 25,
   "id": "f836a3e0",
   "metadata": {
    "execution": {
     "iopub.execute_input": "2024-04-29T07:45:54.003705Z",
     "iopub.status.busy": "2024-04-29T07:45:54.002630Z",
     "iopub.status.idle": "2024-04-29T07:45:54.008776Z",
     "shell.execute_reply": "2024-04-29T07:45:54.007584Z"
    },
    "papermill": {
     "duration": 0.029077,
     "end_time": "2024-04-29T07:45:54.011474",
     "exception": false,
     "start_time": "2024-04-29T07:45:53.982397",
     "status": "completed"
    },
    "tags": []
   },
   "outputs": [],
   "source": [
    "# trained_logreg_pipeline2, logreg_y_pred2 = train_and_evaluate_pipeline(w2v_logreg_pipeline, X_train2, y_train2, X_test2, y_test2)"
   ]
  },
  {
   "cell_type": "code",
   "execution_count": 26,
   "id": "48d64077",
   "metadata": {
    "execution": {
     "iopub.execute_input": "2024-04-29T07:45:54.049348Z",
     "iopub.status.busy": "2024-04-29T07:45:54.048614Z",
     "iopub.status.idle": "2024-04-29T07:46:30.182633Z",
     "shell.execute_reply": "2024-04-29T07:46:30.181391Z"
    },
    "papermill": {
     "duration": 36.174213,
     "end_time": "2024-04-29T07:46:30.203618",
     "exception": false,
     "start_time": "2024-04-29T07:45:54.029405",
     "status": "completed"
    },
    "tags": []
   },
   "outputs": [
    {
     "name": "stdout",
     "output_type": "stream",
     "text": [
      "Mean Accuracy: 0.5905381003972554\n",
      "Mean Weighted F1-score: 0.5795778162668027\n",
      "Mean Quadratic Weighted Kappa Score: 0.7229012629910739\n"
     ]
    }
   ],
   "source": [
    "pipeline_cross_validation(logreg_pipeline, X_train, y_train)"
   ]
  },
  {
   "cell_type": "code",
   "execution_count": 27,
   "id": "cb416cef",
   "metadata": {
    "execution": {
     "iopub.execute_input": "2024-04-29T07:46:30.243983Z",
     "iopub.status.busy": "2024-04-29T07:46:30.243238Z",
     "iopub.status.idle": "2024-04-29T07:46:30.265995Z",
     "shell.execute_reply": "2024-04-29T07:46:30.264767Z"
    },
    "papermill": {
     "duration": 0.046224,
     "end_time": "2024-04-29T07:46:30.268800",
     "exception": false,
     "start_time": "2024-04-29T07:46:30.222576",
     "status": "completed"
    },
    "tags": []
   },
   "outputs": [
    {
     "name": "stdout",
     "output_type": "stream",
     "text": [
      "              precision    recall  f1-score   support\n",
      "\n",
      "           1       0.61      0.25      0.36       272\n",
      "           2       0.63      0.67      0.65       930\n",
      "           3       0.56      0.70      0.62      1216\n",
      "           4       0.61      0.53      0.56       831\n",
      "           5       0.49      0.32      0.39       184\n",
      "           6       0.25      0.07      0.11        29\n",
      "\n",
      "    accuracy                           0.59      3462\n",
      "   macro avg       0.53      0.42      0.45      3462\n",
      "weighted avg       0.59      0.59      0.58      3462\n",
      "\n"
     ]
    }
   ],
   "source": [
    "print(classification_report(y_test, logreg_y_pred))"
   ]
  },
  {
   "cell_type": "code",
   "execution_count": 28,
   "id": "42ac2663",
   "metadata": {
    "execution": {
     "iopub.execute_input": "2024-04-29T07:46:30.310265Z",
     "iopub.status.busy": "2024-04-29T07:46:30.309471Z",
     "iopub.status.idle": "2024-04-29T07:46:30.326888Z",
     "shell.execute_reply": "2024-04-29T07:46:30.325634Z"
    },
    "papermill": {
     "duration": 0.041934,
     "end_time": "2024-04-29T07:46:30.330119",
     "exception": false,
     "start_time": "2024-04-29T07:46:30.288185",
     "status": "completed"
    },
    "tags": []
   },
   "outputs": [
    {
     "name": "stdout",
     "output_type": "stream",
     "text": [
      "Model prediction on submission essays:  [3, 3, 4]\n",
      "Submission essays actual classes:  [3, 3, 4]\n"
     ]
    }
   ],
   "source": [
    "print(\"Model prediction on submission essays: \", trained_logreg_pipeline.predict(sub_X).tolist())\n",
    "print('Submission essays actual classes: ', sub_y.tolist())"
   ]
  },
  {
   "cell_type": "code",
   "execution_count": 29,
   "id": "ab915c0e",
   "metadata": {
    "execution": {
     "iopub.execute_input": "2024-04-29T07:46:30.370431Z",
     "iopub.status.busy": "2024-04-29T07:46:30.369923Z",
     "iopub.status.idle": "2024-04-29T07:46:30.375282Z",
     "shell.execute_reply": "2024-04-29T07:46:30.373672Z"
    },
    "papermill": {
     "duration": 0.03009,
     "end_time": "2024-04-29T07:46:30.378938",
     "exception": false,
     "start_time": "2024-04-29T07:46:30.348848",
     "status": "completed"
    },
    "tags": []
   },
   "outputs": [],
   "source": [
    "# logregcv_clf = LogisticRegressionCV(multi_class='multinomial', cv=5, solver='lbfgs', max_iter=1000, refit=True, scoring=qwk_scorer)"
   ]
  },
  {
   "cell_type": "markdown",
   "id": "79c9df26",
   "metadata": {
    "papermill": {
     "duration": 0.018583,
     "end_time": "2024-04-29T07:46:30.417228",
     "exception": false,
     "start_time": "2024-04-29T07:46:30.398645",
     "status": "completed"
    },
    "tags": []
   },
   "source": [
    "create a lightgbm model pipeline\n",
    "\n",
    "lgbm over xgboost for performance and scalability? maybe elaborate more"
   ]
  },
  {
   "cell_type": "code",
   "execution_count": 30,
   "id": "9079372a",
   "metadata": {
    "execution": {
     "iopub.execute_input": "2024-04-29T07:46:30.460971Z",
     "iopub.status.busy": "2024-04-29T07:46:30.460513Z",
     "iopub.status.idle": "2024-04-29T07:46:30.466078Z",
     "shell.execute_reply": "2024-04-29T07:46:30.465107Z"
    },
    "papermill": {
     "duration": 0.031696,
     "end_time": "2024-04-29T07:46:30.468537",
     "exception": false,
     "start_time": "2024-04-29T07:46:30.436841",
     "status": "completed"
    },
    "tags": []
   },
   "outputs": [],
   "source": [
    "lgbm_clf = LGBMClassifier(objective='multiclass', num_class=6, metric='multi_logloss', num_leaves=31, learning_rate=0.1, feature_fraction=0.6)"
   ]
  },
  {
   "cell_type": "code",
   "execution_count": 31,
   "id": "21d9bc95",
   "metadata": {
    "execution": {
     "iopub.execute_input": "2024-04-29T07:46:30.510400Z",
     "iopub.status.busy": "2024-04-29T07:46:30.509109Z",
     "iopub.status.idle": "2024-04-29T07:46:30.515100Z",
     "shell.execute_reply": "2024-04-29T07:46:30.514026Z"
    },
    "papermill": {
     "duration": 0.030101,
     "end_time": "2024-04-29T07:46:30.517867",
     "exception": false,
     "start_time": "2024-04-29T07:46:30.487766",
     "status": "completed"
    },
    "tags": []
   },
   "outputs": [],
   "source": [
    "lgbm_pipeline = Pipeline(steps=[\n",
    "#     ('tfidf', tfidf_vectorizer),   # TF-IDF Vectorizer\n",
    "    ('preprocessor', tfidf_preprocessor),\n",
    "    ('classifier', lgbm_clf) # LightGBM Classifier\n",
    "])"
   ]
  },
  {
   "cell_type": "markdown",
   "id": "9419e011",
   "metadata": {
    "papermill": {
     "duration": 0.019928,
     "end_time": "2024-04-29T07:46:30.557490",
     "exception": false,
     "start_time": "2024-04-29T07:46:30.537562",
     "status": "completed"
    },
    "tags": []
   },
   "source": [
    "use some GridSearchCV to find the best parameters"
   ]
  },
  {
   "cell_type": "code",
   "execution_count": 32,
   "id": "9ce910e8",
   "metadata": {
    "execution": {
     "iopub.execute_input": "2024-04-29T07:46:30.597850Z",
     "iopub.status.busy": "2024-04-29T07:46:30.597358Z",
     "iopub.status.idle": "2024-04-29T07:46:30.603595Z",
     "shell.execute_reply": "2024-04-29T07:46:30.602102Z"
    },
    "papermill": {
     "duration": 0.029967,
     "end_time": "2024-04-29T07:46:30.606496",
     "exception": false,
     "start_time": "2024-04-29T07:46:30.576529",
     "status": "completed"
    },
    "tags": []
   },
   "outputs": [],
   "source": [
    "# parameter grid used for the grid search:\n",
    "param_grid = {\n",
    "    'num_leaves': [31, 50, 100],\n",
    "    'learning_rate': [0.05, 0.1, 0.2],\n",
    "    'feature_fraction': [0.6, 0.8, 0.9]\n",
    "}"
   ]
  },
  {
   "cell_type": "code",
   "execution_count": 33,
   "id": "e5ad3bc5",
   "metadata": {
    "execution": {
     "iopub.execute_input": "2024-04-29T07:46:30.649872Z",
     "iopub.status.busy": "2024-04-29T07:46:30.648173Z",
     "iopub.status.idle": "2024-04-29T07:46:30.654860Z",
     "shell.execute_reply": "2024-04-29T07:46:30.653783Z"
    },
    "papermill": {
     "duration": 0.031575,
     "end_time": "2024-04-29T07:46:30.657793",
     "exception": false,
     "start_time": "2024-04-29T07:46:30.626218",
     "status": "completed"
    },
    "tags": []
   },
   "outputs": [],
   "source": [
    "# # create and fit the gridsearch\n",
    "# grid_search = GridSearchCV(estimator=lgbm_clf, param_grid=param_grid, cv=3, scoring=qwk_scorer)\n",
    "# grid_search.fit(tfidf_vectorizer.fit_transform(X_train), y_train)\n",
    "\n",
    "# # Print the best parameters and best score\n",
    "# print(\"Best Parameters: \", grid_search.best_params_)\n",
    "# print(\"Best Score (quadratic weighted kappa score): \", grid_search.best_score_)"
   ]
  },
  {
   "cell_type": "code",
   "execution_count": 34,
   "id": "dcfab6f9",
   "metadata": {
    "execution": {
     "iopub.execute_input": "2024-04-29T07:46:30.701324Z",
     "iopub.status.busy": "2024-04-29T07:46:30.700075Z",
     "iopub.status.idle": "2024-04-29T07:46:59.308333Z",
     "shell.execute_reply": "2024-04-29T07:46:59.306811Z"
    },
    "papermill": {
     "duration": 28.632275,
     "end_time": "2024-04-29T07:46:59.311246",
     "exception": false,
     "start_time": "2024-04-29T07:46:30.678971",
     "status": "completed"
    },
    "tags": []
   },
   "outputs": [
    {
     "name": "stdout",
     "output_type": "stream",
     "text": [
      "[LightGBM] [Warning] feature_fraction is set=0.6, colsample_bytree=1.0 will be ignored. Current value: feature_fraction=0.6\n",
      "[LightGBM] [Warning] feature_fraction is set=0.6, colsample_bytree=1.0 will be ignored. Current value: feature_fraction=0.6\n",
      "[LightGBM] [Info] Auto-choosing row-wise multi-threading, the overhead of testing was 0.063095 seconds.\n",
      "You can set `force_row_wise=true` to remove the overhead.\n",
      "And if memory is not enough, you can set `force_col_wise=true`.\n",
      "[LightGBM] [Info] Total Bins 112517\n",
      "[LightGBM] [Info] Number of data points in the train set: 13845, number of used features: 444\n",
      "[LightGBM] [Info] Start training from score -2.648127\n",
      "[LightGBM] [Info] Start training from score -1.294767\n",
      "[LightGBM] [Info] Start training from score -1.005767\n",
      "[LightGBM] [Info] Start training from score -1.498136\n",
      "[LightGBM] [Info] Start training from score -2.868723\n",
      "[LightGBM] [Info] Start training from score -4.691492\n",
      "[LightGBM] [Warning] feature_fraction is set=0.6, colsample_bytree=1.0 will be ignored. Current value: feature_fraction=0.6\n",
      "\n",
      "Classifier used:  LGBMClassifier(feature_fraction=0.6, metric='multi_logloss', num_class=6,\n",
      "               objective='multiclass')\n",
      "y_test:  [2, 2, 3, 4, 5, 3, 3, 2, 3, 3]\n",
      "y_pred:  [2, 2, 3, 4, 4, 3, 2, 2, 4, 3]\n",
      "quadratic weighted kappa score:  0.7380728425658367\n"
     ]
    }
   ],
   "source": [
    "trained_lgbm_pipeline, lgbm_y_pred = train_and_evaluate_pipeline(lgbm_pipeline, X_train, y_train, X_test, y_test)"
   ]
  },
  {
   "cell_type": "markdown",
   "id": "02bbb958",
   "metadata": {
    "papermill": {
     "duration": 0.01894,
     "end_time": "2024-04-29T07:46:59.349222",
     "exception": false,
     "start_time": "2024-04-29T07:46:59.330282",
     "status": "completed"
    },
    "tags": []
   },
   "source": [
    "commented off just to make the notebook run faster for now"
   ]
  },
  {
   "cell_type": "code",
   "execution_count": 35,
   "id": "7a4ada70",
   "metadata": {
    "execution": {
     "iopub.execute_input": "2024-04-29T07:46:59.389346Z",
     "iopub.status.busy": "2024-04-29T07:46:59.388847Z",
     "iopub.status.idle": "2024-04-29T07:46:59.393934Z",
     "shell.execute_reply": "2024-04-29T07:46:59.392909Z"
    },
    "papermill": {
     "duration": 0.02788,
     "end_time": "2024-04-29T07:46:59.396246",
     "exception": false,
     "start_time": "2024-04-29T07:46:59.368366",
     "status": "completed"
    },
    "tags": []
   },
   "outputs": [],
   "source": [
    "# pipeline_cross_validation(lgbm_pipeline, X_train, y_train)"
   ]
  },
  {
   "cell_type": "code",
   "execution_count": 36,
   "id": "8f5aae37",
   "metadata": {
    "execution": {
     "iopub.execute_input": "2024-04-29T07:46:59.437893Z",
     "iopub.status.busy": "2024-04-29T07:46:59.436674Z",
     "iopub.status.idle": "2024-04-29T07:46:59.462008Z",
     "shell.execute_reply": "2024-04-29T07:46:59.460107Z"
    },
    "papermill": {
     "duration": 0.049404,
     "end_time": "2024-04-29T07:46:59.465026",
     "exception": false,
     "start_time": "2024-04-29T07:46:59.415622",
     "status": "completed"
    },
    "tags": []
   },
   "outputs": [
    {
     "name": "stdout",
     "output_type": "stream",
     "text": [
      "              precision    recall  f1-score   support\n",
      "\n",
      "           1       0.60      0.31      0.41       272\n",
      "           2       0.65      0.62      0.64       930\n",
      "           3       0.58      0.67      0.62      1216\n",
      "           4       0.60      0.64      0.62       831\n",
      "           5       0.49      0.41      0.45       184\n",
      "           6       0.25      0.07      0.11        29\n",
      "\n",
      "    accuracy                           0.60      3462\n",
      "   macro avg       0.53      0.45      0.47      3462\n",
      "weighted avg       0.60      0.60      0.60      3462\n",
      "\n"
     ]
    }
   ],
   "source": [
    "print(classification_report(y_test, lgbm_y_pred))"
   ]
  },
  {
   "cell_type": "code",
   "execution_count": 37,
   "id": "83e9a4fe",
   "metadata": {
    "execution": {
     "iopub.execute_input": "2024-04-29T07:46:59.506168Z",
     "iopub.status.busy": "2024-04-29T07:46:59.504939Z",
     "iopub.status.idle": "2024-04-29T07:46:59.523729Z",
     "shell.execute_reply": "2024-04-29T07:46:59.522554Z"
    },
    "papermill": {
     "duration": 0.041735,
     "end_time": "2024-04-29T07:46:59.526305",
     "exception": false,
     "start_time": "2024-04-29T07:46:59.484570",
     "status": "completed"
    },
    "tags": []
   },
   "outputs": [
    {
     "name": "stdout",
     "output_type": "stream",
     "text": [
      "[LightGBM] [Warning] feature_fraction is set=0.6, colsample_bytree=1.0 will be ignored. Current value: feature_fraction=0.6\n",
      "Model prediction on submission essays:  [3, 3, 4]\n",
      "Submission essays actual classes:  [3, 3, 4]\n"
     ]
    }
   ],
   "source": [
    "# trained_lgbm_pipeline.predict(df_test[['full_text', 'word_count', 'length']]).tolist()\n",
    "print(\"Model prediction on submission essays: \", trained_lgbm_pipeline.predict(sub_X).tolist())\n",
    "print('Submission essays actual classes: ', sub_y.tolist())"
   ]
  },
  {
   "cell_type": "markdown",
   "id": "a6c4f2f7",
   "metadata": {
    "papermill": {
     "duration": 0.018473,
     "end_time": "2024-04-29T07:46:59.563648",
     "exception": false,
     "start_time": "2024-04-29T07:46:59.545175",
     "status": "completed"
    },
    "tags": []
   },
   "source": [
    "LogisticRegressionCV classifier model and pipeline"
   ]
  },
  {
   "cell_type": "code",
   "execution_count": 38,
   "id": "5284e576",
   "metadata": {
    "execution": {
     "iopub.execute_input": "2024-04-29T07:46:59.606192Z",
     "iopub.status.busy": "2024-04-29T07:46:59.604827Z",
     "iopub.status.idle": "2024-04-29T07:46:59.610669Z",
     "shell.execute_reply": "2024-04-29T07:46:59.609636Z"
    },
    "papermill": {
     "duration": 0.030691,
     "end_time": "2024-04-29T07:46:59.613225",
     "exception": false,
     "start_time": "2024-04-29T07:46:59.582534",
     "status": "completed"
    },
    "tags": []
   },
   "outputs": [],
   "source": [
    "# logregcv_clf = LogisticRegressionCV(multi_class='multinomial', cv=3, solver='lbfgs', max_iter=1000, refit=True, scoring=qwk_scorer)"
   ]
  },
  {
   "cell_type": "code",
   "execution_count": 39,
   "id": "3e1bb7ed",
   "metadata": {
    "execution": {
     "iopub.execute_input": "2024-04-29T07:46:59.653971Z",
     "iopub.status.busy": "2024-04-29T07:46:59.652580Z",
     "iopub.status.idle": "2024-04-29T07:46:59.658093Z",
     "shell.execute_reply": "2024-04-29T07:46:59.657076Z"
    },
    "papermill": {
     "duration": 0.028316,
     "end_time": "2024-04-29T07:46:59.660432",
     "exception": false,
     "start_time": "2024-04-29T07:46:59.632116",
     "status": "completed"
    },
    "tags": []
   },
   "outputs": [],
   "source": [
    "# logregcv_pipeline = Pipeline(steps=[\n",
    "# #     ('tfidf', tfidf_vectorizer),\n",
    "#     ('preprocessor', preprocessor),\n",
    "#     ('classifier', logregcv_clf)\n",
    "# ])"
   ]
  },
  {
   "cell_type": "code",
   "execution_count": 40,
   "id": "949cf6ff",
   "metadata": {
    "execution": {
     "iopub.execute_input": "2024-04-29T07:46:59.701834Z",
     "iopub.status.busy": "2024-04-29T07:46:59.700560Z",
     "iopub.status.idle": "2024-04-29T07:46:59.705351Z",
     "shell.execute_reply": "2024-04-29T07:46:59.704475Z"
    },
    "papermill": {
     "duration": 0.027701,
     "end_time": "2024-04-29T07:46:59.707780",
     "exception": false,
     "start_time": "2024-04-29T07:46:59.680079",
     "status": "completed"
    },
    "tags": []
   },
   "outputs": [],
   "source": [
    "# logregcv_y_pred = train_and_evaluate_pipeline(logregcv_pipeline, X_train, y_train, X_test, y_test)"
   ]
  },
  {
   "cell_type": "markdown",
   "id": "b6a15191",
   "metadata": {
    "papermill": {
     "duration": 0.01921,
     "end_time": "2024-04-29T07:46:59.746010",
     "exception": false,
     "start_time": "2024-04-29T07:46:59.726800",
     "status": "completed"
    },
    "tags": []
   },
   "source": [
    "# ***Things to do:***\n",
    "\n",
    "- put explanations and more markup in notebook\n",
    "\n",
    "- more EDA, some diagrams and graphs on the dataset \n",
    "\n",
    "    ideas: - compare the cross validation qwk scores, group by scores and show word lengths etc\n",
    "\n",
    "- try word2vec for vector embeddings and compare with tfidf - make w2v more accurate somehow\n",
    "\n",
    "- find more models - potential: xgboostclassifier, ordinal logistic regression, ordinal random forest,\n",
    "\n",
    "- overall increase the performance of the models they arent predicting the test dataset 100% correctly\n",
    "\n"
   ]
  },
  {
   "cell_type": "raw",
   "id": "1f1563f7",
   "metadata": {
    "papermill": {
     "duration": 0.019849,
     "end_time": "2024-04-29T07:46:59.784766",
     "exception": false,
     "start_time": "2024-04-29T07:46:59.764917",
     "status": "completed"
    },
    "tags": []
   },
   "source": []
  }
 ],
 "metadata": {
  "kaggle": {
   "accelerator": "none",
   "dataSources": [
    {
     "databundleVersionId": 8059942,
     "sourceId": 71485,
     "sourceType": "competition"
    }
   ],
   "dockerImageVersionId": 30698,
   "isGpuEnabled": false,
   "isInternetEnabled": true,
   "language": "python",
   "sourceType": "notebook"
  },
  "kernelspec": {
   "display_name": "Python 3",
   "language": "python",
   "name": "python3"
  },
  "language_info": {
   "codemirror_mode": {
    "name": "ipython",
    "version": 3
   },
   "file_extension": ".py",
   "mimetype": "text/x-python",
   "name": "python",
   "nbconvert_exporter": "python",
   "pygments_lexer": "ipython3",
   "version": "3.10.13"
  },
  "papermill": {
   "default_parameters": {},
   "duration": 192.758934,
   "end_time": "2024-04-29T07:47:01.131418",
   "environment_variables": {},
   "exception": null,
   "input_path": "__notebook__.ipynb",
   "output_path": "__notebook__.ipynb",
   "parameters": {},
   "start_time": "2024-04-29T07:43:48.372484",
   "version": "2.5.0"
  }
 },
 "nbformat": 4,
 "nbformat_minor": 5
}
