{
 "cells": [
  {
   "cell_type": "code",
   "execution_count": 1,
   "id": "d2940237",
   "metadata": {
    "_cell_guid": "b1076dfc-b9ad-4769-8c92-a6c4dae69d19",
    "_uuid": "8f2839f25d086af736a60e9eeb907d3b93b6e0e5",
    "execution": {
     "iopub.execute_input": "2024-04-28T06:17:51.391351Z",
     "iopub.status.busy": "2024-04-28T06:17:51.390618Z",
     "iopub.status.idle": "2024-04-28T06:17:52.523999Z",
     "shell.execute_reply": "2024-04-28T06:17:52.523122Z"
    },
    "papermill": {
     "duration": 1.151903,
     "end_time": "2024-04-28T06:17:52.526778",
     "exception": false,
     "start_time": "2024-04-28T06:17:51.374875",
     "status": "completed"
    },
    "tags": []
   },
   "outputs": [
    {
     "name": "stdout",
     "output_type": "stream",
     "text": [
      "/kaggle/input/learning-agency-lab-automated-essay-scoring-2/sample_submission.csv\n",
      "/kaggle/input/learning-agency-lab-automated-essay-scoring-2/train.csv\n",
      "/kaggle/input/learning-agency-lab-automated-essay-scoring-2/test.csv\n"
     ]
    }
   ],
   "source": [
    "# This Python 3 environment comes with many helpful analytics libraries installed\n",
    "# It is defined by the kaggle/python Docker image: https://github.com/kaggle/docker-python\n",
    "# For example, here's several helpful packages to load\n",
    "\n",
    "import numpy as np # linear algebra\n",
    "import pandas as pd # data processing, CSV file I/O (e.g. pd.read_csv)\n",
    "\n",
    "# Input data files are available in the read-only \"../input/\" directory\n",
    "# For example, running this (by clicking run or pressing Shift+Enter) will list all files under the input directory\n",
    "\n",
    "import os\n",
    "for dirname, _, filenames in os.walk('/kaggle/input'):\n",
    "    for filename in filenames:\n",
    "        print(os.path.join(dirname, filename))\n",
    "\n",
    "# You can write up to 20GB to the current directory (/kaggle/working/) that gets preserved as output when you create a version using \"Save & Run All\" \n",
    "# You can also write temporary files to /kaggle/temp/, but they won't be saved outside of the current session"
   ]
  },
  {
   "cell_type": "markdown",
   "id": "4856c314",
   "metadata": {
    "papermill": {
     "duration": 0.012887,
     "end_time": "2024-04-28T06:17:52.553296",
     "exception": false,
     "start_time": "2024-04-28T06:17:52.540409",
     "status": "completed"
    },
    "tags": []
   },
   "source": [
    "import other libraries"
   ]
  },
  {
   "cell_type": "code",
   "execution_count": 2,
   "id": "96f2bdec",
   "metadata": {
    "execution": {
     "iopub.execute_input": "2024-04-28T06:17:52.583105Z",
     "iopub.status.busy": "2024-04-28T06:17:52.582166Z",
     "iopub.status.idle": "2024-04-28T06:17:56.061587Z",
     "shell.execute_reply": "2024-04-28T06:17:56.060024Z"
    },
    "papermill": {
     "duration": 3.498228,
     "end_time": "2024-04-28T06:17:56.064797",
     "exception": false,
     "start_time": "2024-04-28T06:17:52.566569",
     "status": "completed"
    },
    "tags": []
   },
   "outputs": [],
   "source": [
    "from sklearn.feature_extraction.text import TfidfVectorizer, CountVectorizer\n",
    "from sklearn.linear_model import LogisticRegression, LogisticRegressionCV\n",
    "import xgboost as xgb\n",
    "from sklearn.ensemble import RandomForestClassifier\n",
    "from lightgbm import LGBMClassifier\n",
    "from sklearn.metrics import confusion_matrix\n",
    "from sklearn.metrics import cohen_kappa_score\n",
    "import re\n",
    "from sklearn.pipeline import Pipeline\n",
    "from sklearn.model_selection import GridSearchCV\n",
    "from sklearn.metrics import make_scorer\n",
    "from sklearn.metrics import classification_report\n",
    "from sklearn.metrics import accuracy_score"
   ]
  },
  {
   "cell_type": "markdown",
   "id": "9efc7318",
   "metadata": {
    "papermill": {
     "duration": 0.015049,
     "end_time": "2024-04-28T06:17:56.092783",
     "exception": false,
     "start_time": "2024-04-28T06:17:56.077734",
     "status": "completed"
    },
    "tags": []
   },
   "source": [
    "Read in the dataset"
   ]
  },
  {
   "cell_type": "code",
   "execution_count": 3,
   "id": "6fe59ee5",
   "metadata": {
    "execution": {
     "iopub.execute_input": "2024-04-28T06:17:56.131596Z",
     "iopub.status.busy": "2024-04-28T06:17:56.130039Z",
     "iopub.status.idle": "2024-04-28T06:17:57.272789Z",
     "shell.execute_reply": "2024-04-28T06:17:57.271523Z"
    },
    "papermill": {
     "duration": 1.166004,
     "end_time": "2024-04-28T06:17:57.276763",
     "exception": false,
     "start_time": "2024-04-28T06:17:56.110759",
     "status": "completed"
    },
    "tags": []
   },
   "outputs": [],
   "source": [
    "df_train = pd.read_csv('/kaggle/input/learning-agency-lab-automated-essay-scoring-2/train.csv')\n",
    "df_test = pd.read_csv('/kaggle/input/learning-agency-lab-automated-essay-scoring-2/test.csv')\n",
    "df_sub = pd.read_csv('/kaggle/input/learning-agency-lab-automated-essay-scoring-2/sample_submission.csv')"
   ]
  },
  {
   "cell_type": "markdown",
   "id": "60e6bda6",
   "metadata": {
    "papermill": {
     "duration": 0.013222,
     "end_time": "2024-04-28T06:17:57.304317",
     "exception": false,
     "start_time": "2024-04-28T06:17:57.291095",
     "status": "completed"
    },
    "tags": []
   },
   "source": [
    "Data cleaning"
   ]
  },
  {
   "cell_type": "code",
   "execution_count": 4,
   "id": "aae018e0",
   "metadata": {
    "execution": {
     "iopub.execute_input": "2024-04-28T06:17:57.332861Z",
     "iopub.status.busy": "2024-04-28T06:17:57.332409Z",
     "iopub.status.idle": "2024-04-28T06:17:57.346659Z",
     "shell.execute_reply": "2024-04-28T06:17:57.345332Z"
    },
    "papermill": {
     "duration": 0.03295,
     "end_time": "2024-04-28T06:17:57.350395",
     "exception": false,
     "start_time": "2024-04-28T06:17:57.317445",
     "status": "completed"
    },
    "tags": []
   },
   "outputs": [],
   "source": [
    "def removeHTML(x):\n",
    "    html=re.compile(r'<.*?>')\n",
    "    return html.sub(r'',x)\n",
    "\n",
    "def decontracted(phrase):\n",
    "    # specific\n",
    "    phrase = re.sub(r\"won\\'t\", \"will not\", phrase)\n",
    "    phrase = re.sub(r\"can\\'t\", \"can not\", phrase)\n",
    "\n",
    "    # general\n",
    "    phrase = re.sub(r\"n\\'t\", \" not\", phrase)\n",
    "    phrase = re.sub(r\"\\'re\", \" are\", phrase)\n",
    "    phrase = re.sub(r\"\\'s\", \" is\", phrase)\n",
    "    phrase = re.sub(r\"\\'d\", \" would\", phrase)\n",
    "    phrase = re.sub(r\"\\'ll\", \" will\", phrase)\n",
    "    phrase = re.sub(r\"\\'t\", \" not\", phrase)\n",
    "    phrase = re.sub(r\"\\'ve\", \" have\", phrase)\n",
    "    phrase = re.sub(r\"\\'m\", \" am\", phrase)\n",
    "    phrase = re.sub(r\"\\xa0\",\" \",phrase)\n",
    "    return phrase.strip()\n",
    "\n",
    "def clean_text(x):\n",
    "    # Convert words to lowercase\n",
    "    x = x.lower()\n",
    "    # Remove HTML\n",
    "    x = removeHTML(x)\n",
    "    # Delete strings starting with @\n",
    "    x = re.sub(\"@\\w+\", '',x)\n",
    "    # Delete Numbers\n",
    "    x = re.sub(\"'\\d+\", '',x)\n",
    "    x = re.sub(\"\\d+\", '',x)\n",
    "    # Delete URL\n",
    "    x = re.sub(\"http\\w+\", '',x)\n",
    "    # Replace consecutive empty spaces with a single space character\n",
    "    x = re.sub(r\"\\s+\", \" \", x)\n",
    "    # Replace consecutive commas and periods with one comma and period character\n",
    "    x = re.sub(r\"\\.+\", \".\", x)\n",
    "    x = re.sub(r\"\\,+\", \",\", x)\n",
    "    # Remove empty characters at the beginning and end\n",
    "    x = x.strip()\n",
    "    return decontracted(x)"
   ]
  },
  {
   "cell_type": "code",
   "execution_count": 5,
   "id": "67758c93",
   "metadata": {
    "execution": {
     "iopub.execute_input": "2024-04-28T06:17:57.379329Z",
     "iopub.status.busy": "2024-04-28T06:17:57.378935Z",
     "iopub.status.idle": "2024-04-28T06:18:04.760947Z",
     "shell.execute_reply": "2024-04-28T06:18:04.759558Z"
    },
    "papermill": {
     "duration": 7.400411,
     "end_time": "2024-04-28T06:18:04.764247",
     "exception": false,
     "start_time": "2024-04-28T06:17:57.363836",
     "status": "completed"
    },
    "tags": []
   },
   "outputs": [],
   "source": [
    "df_train['full_text'] = df_train['full_text'].apply(clean_text)\n",
    "df_test['full_text'] = df_test['full_text'].apply(clean_text)\n"
   ]
  },
  {
   "cell_type": "code",
   "execution_count": 6,
   "id": "ace33d98",
   "metadata": {
    "execution": {
     "iopub.execute_input": "2024-04-28T06:18:04.792734Z",
     "iopub.status.busy": "2024-04-28T06:18:04.792298Z",
     "iopub.status.idle": "2024-04-28T06:18:04.801602Z",
     "shell.execute_reply": "2024-04-28T06:18:04.800373Z"
    },
    "papermill": {
     "duration": 0.027008,
     "end_time": "2024-04-28T06:18:04.804334",
     "exception": false,
     "start_time": "2024-04-28T06:18:04.777326",
     "status": "completed"
    },
    "tags": []
   },
   "outputs": [
    {
     "data": {
      "text/plain": [
       "'many people have car where they live. the thing they do not know is that when you use a car alot of thing can happen like you can get in accidet or the smoke that the car has is bad to breath on if someone is walk but in vauban,germany they dont have that proble because percent of vauban is families do not own cars,and percent sold a car to move there. street parkig ,driveways and home garages are forbidden on the outskirts of freiburd that near the french and swiss borders. you probaly will not see a car in vauban is streets because they are completely \"car free\" but if some that lives in vauban that owns a car ownership is allowed,but there are only two places that you can park a large garages at the edge of the development,where a car owner buys a space but it not cheap to buy one they sell the space for you car for $, along with a home. the vauban people completed this in ,they said that this an example of a growing trend in europe,the untile states and some where else are suburban life from auto use this is called \"smart planning\". the current efforts to drastically reduce greenhouse gas emissions from tailes the passengee cars are responsible for percent of greenhouse gas emissions in europe and up to percent in some car intensive in the united states. i honeslty think that good idea that they did that is vaudan because that makes cities denser and better for walking and in vauban there are , residents within a rectangular square mile. in the artical david gold berg said that \"all of our development since world war has been centered on the cars,and that will have to change\" and i think that was very true what david gold said because alot thing we need cars to do we can go anyway were with out cars beacuse some people are a very lazy to walk to place thats why they alot of people use car and i think that it was a good idea that that they did that in vauban so people can see how we really do not need car to go to place from place because we can walk from were we need to go or we can ride bycles with out the use of a car. it good that they are doing that if you thik about your help the earth in way and thats a very good thing to. in the united states ,the environmental protection agency is promoting what is called \"car reduced\"communtunties,and the legislators are starting to act,if cautiously. maany experts expect pubic transport serving suburbs to play a much larger role in a new six years federal transportation bill to approved this year. in previous bill, percent of appropriations have by law gone to highways and only percent to other transports. there many good reason why they should do this.'"
      ]
     },
     "execution_count": 6,
     "metadata": {},
     "output_type": "execute_result"
    }
   ],
   "source": [
    "df_train['full_text'][0]"
   ]
  },
  {
   "cell_type": "markdown",
   "id": "70837ba3",
   "metadata": {
    "papermill": {
     "duration": 0.012946,
     "end_time": "2024-04-28T06:18:04.830593",
     "exception": false,
     "start_time": "2024-04-28T06:18:04.817647",
     "status": "completed"
    },
    "tags": []
   },
   "source": [
    "feature extraction - maybe add in more features like bag of words/ keywords?"
   ]
  },
  {
   "cell_type": "markdown",
   "id": "e1e47dd0",
   "metadata": {
    "papermill": {
     "duration": 0.012919,
     "end_time": "2024-04-28T06:18:04.856687",
     "exception": false,
     "start_time": "2024-04-28T06:18:04.843768",
     "status": "completed"
    },
    "tags": []
   },
   "source": [
    "create a word_count column"
   ]
  },
  {
   "cell_type": "code",
   "execution_count": 7,
   "id": "c17355ad",
   "metadata": {
    "execution": {
     "iopub.execute_input": "2024-04-28T06:18:04.885366Z",
     "iopub.status.busy": "2024-04-28T06:18:04.884917Z",
     "iopub.status.idle": "2024-04-28T06:18:06.269007Z",
     "shell.execute_reply": "2024-04-28T06:18:06.267111Z"
    },
    "papermill": {
     "duration": 1.402508,
     "end_time": "2024-04-28T06:18:06.272528",
     "exception": false,
     "start_time": "2024-04-28T06:18:04.870020",
     "status": "completed"
    },
    "tags": []
   },
   "outputs": [],
   "source": [
    "df_train['word_count'] = df_train[\"full_text\"].str.split().str.len()\n",
    "df_test['word_count'] = df_test[\"full_text\"].str.split().str.len()"
   ]
  },
  {
   "cell_type": "code",
   "execution_count": 8,
   "id": "48a060db",
   "metadata": {
    "execution": {
     "iopub.execute_input": "2024-04-28T06:18:06.310369Z",
     "iopub.status.busy": "2024-04-28T06:18:06.309795Z",
     "iopub.status.idle": "2024-04-28T06:18:06.495765Z",
     "shell.execute_reply": "2024-04-28T06:18:06.494304Z"
    },
    "papermill": {
     "duration": 0.207496,
     "end_time": "2024-04-28T06:18:06.498802",
     "exception": false,
     "start_time": "2024-04-28T06:18:06.291306",
     "status": "completed"
    },
    "tags": []
   },
   "outputs": [
    {
     "data": {
      "text/html": [
       "<div>\n",
       "<style scoped>\n",
       "    .dataframe tbody tr th:only-of-type {\n",
       "        vertical-align: middle;\n",
       "    }\n",
       "\n",
       "    .dataframe tbody tr th {\n",
       "        vertical-align: top;\n",
       "    }\n",
       "\n",
       "    .dataframe thead th {\n",
       "        text-align: right;\n",
       "    }\n",
       "</style>\n",
       "<table border=\"1\" class=\"dataframe\">\n",
       "  <thead>\n",
       "    <tr style=\"text-align: right;\">\n",
       "      <th></th>\n",
       "      <th>essay_id</th>\n",
       "      <th>full_text</th>\n",
       "      <th>score</th>\n",
       "      <th>word_count</th>\n",
       "    </tr>\n",
       "  </thead>\n",
       "  <tbody>\n",
       "    <tr>\n",
       "      <th>0</th>\n",
       "      <td>000d118</td>\n",
       "      <td>many people have car where they live. the thin...</td>\n",
       "      <td>3</td>\n",
       "      <td>496</td>\n",
       "    </tr>\n",
       "    <tr>\n",
       "      <th>1</th>\n",
       "      <td>000fe60</td>\n",
       "      <td>i am a scientist at nasa that is discussing th...</td>\n",
       "      <td>3</td>\n",
       "      <td>336</td>\n",
       "    </tr>\n",
       "    <tr>\n",
       "      <th>2</th>\n",
       "      <td>001ab80</td>\n",
       "      <td>people always wish they had the same technolog...</td>\n",
       "      <td>4</td>\n",
       "      <td>553</td>\n",
       "    </tr>\n",
       "    <tr>\n",
       "      <th>3</th>\n",
       "      <td>001bdc0</td>\n",
       "      <td>we all heard about venus, the planet without a...</td>\n",
       "      <td>4</td>\n",
       "      <td>450</td>\n",
       "    </tr>\n",
       "    <tr>\n",
       "      <th>4</th>\n",
       "      <td>002ba53</td>\n",
       "      <td>dear, state senator this is a letter to argue ...</td>\n",
       "      <td>3</td>\n",
       "      <td>377</td>\n",
       "    </tr>\n",
       "  </tbody>\n",
       "</table>\n",
       "</div>"
      ],
      "text/plain": [
       "  essay_id                                          full_text  score  \\\n",
       "0  000d118  many people have car where they live. the thin...      3   \n",
       "1  000fe60  i am a scientist at nasa that is discussing th...      3   \n",
       "2  001ab80  people always wish they had the same technolog...      4   \n",
       "3  001bdc0  we all heard about venus, the planet without a...      4   \n",
       "4  002ba53  dear, state senator this is a letter to argue ...      3   \n",
       "\n",
       "   word_count  \n",
       "0         496  \n",
       "1         336  \n",
       "2         553  \n",
       "3         450  \n",
       "4         377  "
      ]
     },
     "execution_count": 8,
     "metadata": {},
     "output_type": "execute_result"
    }
   ],
   "source": [
    "df_train.head()"
   ]
  },
  {
   "cell_type": "code",
   "execution_count": null,
   "id": "db53962b",
   "metadata": {
    "papermill": {
     "duration": 0.013325,
     "end_time": "2024-04-28T06:18:06.525768",
     "exception": false,
     "start_time": "2024-04-28T06:18:06.512443",
     "status": "completed"
    },
    "tags": []
   },
   "outputs": [],
   "source": []
  },
  {
   "cell_type": "markdown",
   "id": "0d37a2a0",
   "metadata": {
    "papermill": {
     "duration": 0.012822,
     "end_time": "2024-04-28T06:18:06.551695",
     "exception": false,
     "start_time": "2024-04-28T06:18:06.538873",
     "status": "completed"
    },
    "tags": []
   },
   "source": [
    "X and y's, might need to edit?\n",
    "\n",
    "possible solution i saw is to combine the train and test dfs and then split them again afterwards?"
   ]
  },
  {
   "cell_type": "code",
   "execution_count": 9,
   "id": "aac9b52b",
   "metadata": {
    "execution": {
     "iopub.execute_input": "2024-04-28T06:18:06.581458Z",
     "iopub.status.busy": "2024-04-28T06:18:06.580883Z",
     "iopub.status.idle": "2024-04-28T06:18:06.587728Z",
     "shell.execute_reply": "2024-04-28T06:18:06.586560Z"
    },
    "papermill": {
     "duration": 0.025452,
     "end_time": "2024-04-28T06:18:06.590705",
     "exception": false,
     "start_time": "2024-04-28T06:18:06.565253",
     "status": "completed"
    },
    "tags": []
   },
   "outputs": [],
   "source": [
    "X_train = df_train['full_text']\n",
    "y_train = df_train['score']\n",
    "X_test = df_test['full_text']\n",
    "# y_test = pd.DataFrame()\n",
    "y_test = df_sub['score']\n",
    "\n",
    "# X_train = tfidf_vectorizer.fit_transform(df_train['full_text'])\n",
    "# y_train = df_train['score']\n",
    "# X_test = tfidf_vectorizer.transform(df_test['full_text'])\n",
    "# y_test = df_test['target_column']"
   ]
  },
  {
   "cell_type": "markdown",
   "id": "6d2b513e",
   "metadata": {
    "papermill": {
     "duration": 0.013624,
     "end_time": "2024-04-28T06:18:06.618462",
     "exception": false,
     "start_time": "2024-04-28T06:18:06.604838",
     "status": "completed"
    },
    "tags": []
   },
   "source": [
    "this method trains and evaluates each pipeline \n",
    "returns the y_pred and quadratic weighted kappa score of the model"
   ]
  },
  {
   "cell_type": "code",
   "execution_count": 10,
   "id": "c4a76a23",
   "metadata": {
    "execution": {
     "iopub.execute_input": "2024-04-28T06:18:06.648091Z",
     "iopub.status.busy": "2024-04-28T06:18:06.647666Z",
     "iopub.status.idle": "2024-04-28T06:18:06.655265Z",
     "shell.execute_reply": "2024-04-28T06:18:06.653562Z"
    },
    "papermill": {
     "duration": 0.026167,
     "end_time": "2024-04-28T06:18:06.658366",
     "exception": false,
     "start_time": "2024-04-28T06:18:06.632199",
     "status": "completed"
    },
    "tags": []
   },
   "outputs": [],
   "source": [
    "def train_and_evaluate_pipeline(pipeline, X_train, y_train, X_test, y_test):\n",
    "    pipeline.fit(X_train, y_train)\n",
    "    y_pred = pipeline.predict(X_test)\n",
    "    \n",
    "    kappa = cohen_kappa_score(y_test, y_pred, weights='quadratic')\n",
    "    \n",
    "    print()\n",
    "    print('Classifier used: ', pipeline.named_steps['classifier'])\n",
    "    print('y_test: ', y_test.tolist())\n",
    "    print('y_pred: ', y_pred.tolist())\n",
    "    print('quadratic weighted kappa score: ', kappa)\n",
    "    \n",
    "    return y_pred"
   ]
  },
  {
   "cell_type": "markdown",
   "id": "8896a235",
   "metadata": {
    "papermill": {
     "duration": 0.01342,
     "end_time": "2024-04-28T06:18:06.685158",
     "exception": false,
     "start_time": "2024-04-28T06:18:06.671738",
     "status": "completed"
    },
    "tags": []
   },
   "source": [
    "create the tfidf"
   ]
  },
  {
   "cell_type": "code",
   "execution_count": 11,
   "id": "bdcda36a",
   "metadata": {
    "execution": {
     "iopub.execute_input": "2024-04-28T06:18:06.715039Z",
     "iopub.status.busy": "2024-04-28T06:18:06.713569Z",
     "iopub.status.idle": "2024-04-28T06:18:06.719745Z",
     "shell.execute_reply": "2024-04-28T06:18:06.718750Z"
    },
    "papermill": {
     "duration": 0.024136,
     "end_time": "2024-04-28T06:18:06.722319",
     "exception": false,
     "start_time": "2024-04-28T06:18:06.698183",
     "status": "completed"
    },
    "tags": []
   },
   "outputs": [],
   "source": [
    "tfidf_vectorizer = TfidfVectorizer(stop_words='english', min_df=0.05, max_df=0.95,)\n",
    "# tfidf = tfidf_vectorizer.fit_transform(X_train)\n"
   ]
  },
  {
   "cell_type": "markdown",
   "id": "7352268a",
   "metadata": {
    "papermill": {
     "duration": 0.013529,
     "end_time": "2024-04-28T06:18:06.748949",
     "exception": false,
     "start_time": "2024-04-28T06:18:06.735420",
     "status": "completed"
    },
    "tags": []
   },
   "source": [
    "create the multinomial logistic regression classifier"
   ]
  },
  {
   "cell_type": "code",
   "execution_count": 12,
   "id": "4bae842e",
   "metadata": {
    "execution": {
     "iopub.execute_input": "2024-04-28T06:18:06.777694Z",
     "iopub.status.busy": "2024-04-28T06:18:06.777284Z",
     "iopub.status.idle": "2024-04-28T06:18:06.782919Z",
     "shell.execute_reply": "2024-04-28T06:18:06.781444Z"
    },
    "papermill": {
     "duration": 0.023184,
     "end_time": "2024-04-28T06:18:06.785630",
     "exception": false,
     "start_time": "2024-04-28T06:18:06.762446",
     "status": "completed"
    },
    "tags": []
   },
   "outputs": [],
   "source": [
    "logreg_clf = LogisticRegression(multi_class='multinomial', solver='lbfgs', max_iter=500)"
   ]
  },
  {
   "cell_type": "markdown",
   "id": "feb1cc10",
   "metadata": {
    "papermill": {
     "duration": 0.012836,
     "end_time": "2024-04-28T06:18:06.811733",
     "exception": false,
     "start_time": "2024-04-28T06:18:06.798897",
     "status": "completed"
    },
    "tags": []
   },
   "source": [
    "create a pipeline for logistic regression classifier"
   ]
  },
  {
   "cell_type": "code",
   "execution_count": 13,
   "id": "d66432de",
   "metadata": {
    "execution": {
     "iopub.execute_input": "2024-04-28T06:18:06.840129Z",
     "iopub.status.busy": "2024-04-28T06:18:06.839712Z",
     "iopub.status.idle": "2024-04-28T06:18:06.844653Z",
     "shell.execute_reply": "2024-04-28T06:18:06.843423Z"
    },
    "papermill": {
     "duration": 0.0221,
     "end_time": "2024-04-28T06:18:06.846977",
     "exception": false,
     "start_time": "2024-04-28T06:18:06.824877",
     "status": "completed"
    },
    "tags": []
   },
   "outputs": [],
   "source": [
    "logreg_pipeline = Pipeline(steps=[\n",
    "    ('tfidf', tfidf_vectorizer),\n",
    "    ('classifier', logreg_clf)\n",
    "])"
   ]
  },
  {
   "cell_type": "markdown",
   "id": "2d47783d",
   "metadata": {
    "papermill": {
     "duration": 0.013273,
     "end_time": "2024-04-28T06:18:06.873707",
     "exception": false,
     "start_time": "2024-04-28T06:18:06.860434",
     "status": "completed"
    },
    "tags": []
   },
   "source": [
    "fit and make a prediction"
   ]
  },
  {
   "cell_type": "code",
   "execution_count": 14,
   "id": "ae83fa85",
   "metadata": {
    "execution": {
     "iopub.execute_input": "2024-04-28T06:18:06.903132Z",
     "iopub.status.busy": "2024-04-28T06:18:06.902676Z",
     "iopub.status.idle": "2024-04-28T06:18:16.314898Z",
     "shell.execute_reply": "2024-04-28T06:18:16.312856Z"
    },
    "papermill": {
     "duration": 9.431522,
     "end_time": "2024-04-28T06:18:16.318792",
     "exception": false,
     "start_time": "2024-04-28T06:18:06.887270",
     "status": "completed"
    },
    "tags": []
   },
   "outputs": [
    {
     "name": "stdout",
     "output_type": "stream",
     "text": [
      "\n",
      "Classifier used:  LogisticRegression(max_iter=500, multi_class='multinomial')\n",
      "y_test:  [3, 3, 4]\n",
      "y_pred:  [1, 3, 4]\n",
      "quadratic weighted kappa score:  0.6666666666666667\n"
     ]
    }
   ],
   "source": [
    "# logreg_pipeline.fit(X_train, y_train)\n",
    "# y_pred = logreg_pipeline.predict(X_test)\n",
    "\n",
    "logreg_y_pred = train_and_evaluate_pipeline(logreg_pipeline, X_train, y_train, X_test, y_test)"
   ]
  },
  {
   "cell_type": "code",
   "execution_count": 15,
   "id": "da9c205f",
   "metadata": {
    "execution": {
     "iopub.execute_input": "2024-04-28T06:18:16.358911Z",
     "iopub.status.busy": "2024-04-28T06:18:16.358416Z",
     "iopub.status.idle": "2024-04-28T06:18:16.364650Z",
     "shell.execute_reply": "2024-04-28T06:18:16.362965Z"
    },
    "papermill": {
     "duration": 0.026106,
     "end_time": "2024-04-28T06:18:16.367599",
     "exception": false,
     "start_time": "2024-04-28T06:18:16.341493",
     "status": "completed"
    },
    "tags": []
   },
   "outputs": [],
   "source": [
    "# logregcv_clf = LogisticRegressionCV(multi_class='multinomial', cv=5, solver='lbfgs', max_iter=1000, refit=True, scoring=qwk_scorer)"
   ]
  },
  {
   "cell_type": "code",
   "execution_count": 16,
   "id": "26499b3d",
   "metadata": {
    "execution": {
     "iopub.execute_input": "2024-04-28T06:18:16.398013Z",
     "iopub.status.busy": "2024-04-28T06:18:16.397580Z",
     "iopub.status.idle": "2024-04-28T06:18:16.402959Z",
     "shell.execute_reply": "2024-04-28T06:18:16.401504Z"
    },
    "papermill": {
     "duration": 0.023505,
     "end_time": "2024-04-28T06:18:16.405803",
     "exception": false,
     "start_time": "2024-04-28T06:18:16.382298",
     "status": "completed"
    },
    "tags": []
   },
   "outputs": [],
   "source": [
    "# y_pred.tolist()"
   ]
  },
  {
   "cell_type": "code",
   "execution_count": 17,
   "id": "cf54cc84",
   "metadata": {
    "execution": {
     "iopub.execute_input": "2024-04-28T06:18:16.435835Z",
     "iopub.status.busy": "2024-04-28T06:18:16.434680Z",
     "iopub.status.idle": "2024-04-28T06:18:16.440442Z",
     "shell.execute_reply": "2024-04-28T06:18:16.439337Z"
    },
    "papermill": {
     "duration": 0.023231,
     "end_time": "2024-04-28T06:18:16.442880",
     "exception": false,
     "start_time": "2024-04-28T06:18:16.419649",
     "status": "completed"
    },
    "tags": []
   },
   "outputs": [],
   "source": [
    "# kappa = cohen_kappa_score(y_true, y_pred, weights='quadratic')\n",
    "# kappa\n"
   ]
  },
  {
   "cell_type": "code",
   "execution_count": 18,
   "id": "5f0bd4a8",
   "metadata": {
    "execution": {
     "iopub.execute_input": "2024-04-28T06:18:16.472480Z",
     "iopub.status.busy": "2024-04-28T06:18:16.471719Z",
     "iopub.status.idle": "2024-04-28T06:18:16.476022Z",
     "shell.execute_reply": "2024-04-28T06:18:16.475158Z"
    },
    "papermill": {
     "duration": 0.021952,
     "end_time": "2024-04-28T06:18:16.478392",
     "exception": false,
     "start_time": "2024-04-28T06:18:16.456440",
     "status": "completed"
    },
    "tags": []
   },
   "outputs": [],
   "source": [
    "# y_test.tolist()"
   ]
  },
  {
   "cell_type": "markdown",
   "id": "2f44a25e",
   "metadata": {
    "papermill": {
     "duration": 0.013107,
     "end_time": "2024-04-28T06:18:16.505326",
     "exception": false,
     "start_time": "2024-04-28T06:18:16.492219",
     "status": "completed"
    },
    "tags": []
   },
   "source": [
    "create a lightgbm model pipeline\n",
    "\n",
    "lgbm over xgboost for performance and scalability? maybe elaborate more"
   ]
  },
  {
   "cell_type": "code",
   "execution_count": 19,
   "id": "71db9705",
   "metadata": {
    "execution": {
     "iopub.execute_input": "2024-04-28T06:18:16.536704Z",
     "iopub.status.busy": "2024-04-28T06:18:16.535737Z",
     "iopub.status.idle": "2024-04-28T06:18:16.540998Z",
     "shell.execute_reply": "2024-04-28T06:18:16.540157Z"
    },
    "papermill": {
     "duration": 0.023571,
     "end_time": "2024-04-28T06:18:16.543871",
     "exception": false,
     "start_time": "2024-04-28T06:18:16.520300",
     "status": "completed"
    },
    "tags": []
   },
   "outputs": [],
   "source": [
    "# params = {\n",
    "#     'objective': 'multiclass',\n",
    "#     'num_class': 6,\n",
    "#     'metric': 'multi_logloss',\n",
    "#     'num_leaves': 31,\n",
    "#     'learning_rate': 0.05,\n",
    "#     'feature_fraction': 0.9,\n",
    "# }\n",
    "lgbm_clf = LGBMClassifier(objective='multiclass', num_class=6, metric='multi_logloss', num_leaves=31, learning_rate=0.1, feature_fraction=0.6)\n",
    "\n",
    "# lgbm_clf = LGBMClassifier(params=params)"
   ]
  },
  {
   "cell_type": "code",
   "execution_count": 20,
   "id": "2c26ed81",
   "metadata": {
    "execution": {
     "iopub.execute_input": "2024-04-28T06:18:16.573041Z",
     "iopub.status.busy": "2024-04-28T06:18:16.572636Z",
     "iopub.status.idle": "2024-04-28T06:18:16.578227Z",
     "shell.execute_reply": "2024-04-28T06:18:16.576822Z"
    },
    "papermill": {
     "duration": 0.0234,
     "end_time": "2024-04-28T06:18:16.581008",
     "exception": false,
     "start_time": "2024-04-28T06:18:16.557608",
     "status": "completed"
    },
    "tags": []
   },
   "outputs": [],
   "source": [
    "lgbm_pipeline = Pipeline(steps=[\n",
    "    ('tfidf', tfidf_vectorizer),   # TF-IDF Vectorizer\n",
    "    ('classifier', lgbm_clf) # LightGBM Classifier\n",
    "])"
   ]
  },
  {
   "cell_type": "markdown",
   "id": "9811a25b",
   "metadata": {
    "papermill": {
     "duration": 0.013366,
     "end_time": "2024-04-28T06:18:16.608675",
     "exception": false,
     "start_time": "2024-04-28T06:18:16.595309",
     "status": "completed"
    },
    "tags": []
   },
   "source": [
    "use some GridSearchCV to find the best parameters"
   ]
  },
  {
   "cell_type": "code",
   "execution_count": 21,
   "id": "19962f7a",
   "metadata": {
    "execution": {
     "iopub.execute_input": "2024-04-28T06:18:16.639329Z",
     "iopub.status.busy": "2024-04-28T06:18:16.638933Z",
     "iopub.status.idle": "2024-04-28T06:18:16.645273Z",
     "shell.execute_reply": "2024-04-28T06:18:16.643776Z"
    },
    "papermill": {
     "duration": 0.025282,
     "end_time": "2024-04-28T06:18:16.648298",
     "exception": false,
     "start_time": "2024-04-28T06:18:16.623016",
     "status": "completed"
    },
    "tags": []
   },
   "outputs": [],
   "source": [
    "#define quadratic weighted kappa as a custom scorer\n",
    "qwk_scorer = make_scorer(cohen_kappa_score, weights='quadratic')\n",
    "\n",
    "# parameter grid used for the grid search:\n",
    "param_grid = {\n",
    "    'num_leaves': [31, 50, 100],\n",
    "    'learning_rate': [0.05, 0.1, 0.2],\n",
    "    'feature_fraction': [0.6, 0.8, 0.9]\n",
    "}"
   ]
  },
  {
   "cell_type": "code",
   "execution_count": 22,
   "id": "ba2a8e18",
   "metadata": {
    "execution": {
     "iopub.execute_input": "2024-04-28T06:18:16.680725Z",
     "iopub.status.busy": "2024-04-28T06:18:16.680342Z",
     "iopub.status.idle": "2024-04-28T06:18:16.685530Z",
     "shell.execute_reply": "2024-04-28T06:18:16.684086Z"
    },
    "papermill": {
     "duration": 0.02418,
     "end_time": "2024-04-28T06:18:16.688027",
     "exception": false,
     "start_time": "2024-04-28T06:18:16.663847",
     "status": "completed"
    },
    "tags": []
   },
   "outputs": [],
   "source": [
    "# # create and fit the gridsearch\n",
    "# grid_search = GridSearchCV(estimator=lgbm_clf, param_grid=param_grid, cv=3, scoring=qwk_scorer)\n",
    "# grid_search.fit(tfidf_vectorizer.fit_transform(X_train), y_train)\n",
    "\n",
    "# # Print the best parameters and best score\n",
    "# print(\"Best Parameters: \", grid_search.best_params_)\n",
    "# print(\"Best Score (quadratic weighted kappa score): \", grid_search.best_score_)"
   ]
  },
  {
   "cell_type": "code",
   "execution_count": 23,
   "id": "cd68f358",
   "metadata": {
    "execution": {
     "iopub.execute_input": "2024-04-28T06:18:16.717248Z",
     "iopub.status.busy": "2024-04-28T06:18:16.716774Z",
     "iopub.status.idle": "2024-04-28T06:18:51.786896Z",
     "shell.execute_reply": "2024-04-28T06:18:51.785734Z"
    },
    "papermill": {
     "duration": 35.10198,
     "end_time": "2024-04-28T06:18:51.803734",
     "exception": false,
     "start_time": "2024-04-28T06:18:16.701754",
     "status": "completed"
    },
    "tags": []
   },
   "outputs": [
    {
     "name": "stdout",
     "output_type": "stream",
     "text": [
      "[LightGBM] [Warning] feature_fraction is set=0.6, colsample_bytree=1.0 will be ignored. Current value: feature_fraction=0.6\n",
      "[LightGBM] [Warning] feature_fraction is set=0.6, colsample_bytree=1.0 will be ignored. Current value: feature_fraction=0.6\n",
      "[LightGBM] [Info] Auto-choosing row-wise multi-threading, the overhead of testing was 0.075276 seconds.\n",
      "You can set `force_row_wise=true` to remove the overhead.\n",
      "And if memory is not enough, you can set `force_col_wise=true`.\n",
      "[LightGBM] [Info] Total Bins 113475\n",
      "[LightGBM] [Info] Number of data points in the train set: 17307, number of used features: 445\n",
      "[LightGBM] [Info] Start training from score -2.626369\n",
      "[LightGBM] [Info] Start training from score -1.298667\n",
      "[LightGBM] [Info] Start training from score -1.013741\n",
      "[LightGBM] [Info] Start training from score -1.483490\n",
      "[LightGBM] [Info] Start training from score -2.881570\n",
      "[LightGBM] [Info] Start training from score -4.709010\n",
      "[LightGBM] [Warning] feature_fraction is set=0.6, colsample_bytree=1.0 will be ignored. Current value: feature_fraction=0.6\n",
      "\n",
      "Classifier used:  LGBMClassifier(feature_fraction=0.6, metric='multi_logloss', num_class=6,\n",
      "               objective='multiclass')\n",
      "y_test:  [3, 3, 4]\n",
      "y_pred:  [3, 2, 4]\n",
      "quadratic weighted kappa score:  0.6666666666666667\n"
     ]
    }
   ],
   "source": [
    "lgbm_y_pred = train_and_evaluate_pipeline(lgbm_pipeline, X_train, y_train, X_test, y_test)"
   ]
  },
  {
   "cell_type": "code",
   "execution_count": 24,
   "id": "baa57366",
   "metadata": {
    "execution": {
     "iopub.execute_input": "2024-04-28T06:18:51.905753Z",
     "iopub.status.busy": "2024-04-28T06:18:51.905347Z",
     "iopub.status.idle": "2024-04-28T06:18:51.927866Z",
     "shell.execute_reply": "2024-04-28T06:18:51.925566Z"
    },
    "papermill": {
     "duration": 0.113719,
     "end_time": "2024-04-28T06:18:51.930765",
     "exception": false,
     "start_time": "2024-04-28T06:18:51.817046",
     "status": "completed"
    },
    "tags": []
   },
   "outputs": [
    {
     "name": "stdout",
     "output_type": "stream",
     "text": [
      "              precision    recall  f1-score   support\n",
      "\n",
      "           2       0.00      0.00      0.00         0\n",
      "           3       1.00      0.50      0.67         2\n",
      "           4       1.00      1.00      1.00         1\n",
      "\n",
      "    accuracy                           0.67         3\n",
      "   macro avg       0.67      0.50      0.56         3\n",
      "weighted avg       1.00      0.67      0.78         3\n",
      "\n"
     ]
    },
    {
     "name": "stderr",
     "output_type": "stream",
     "text": [
      "/opt/conda/lib/python3.10/site-packages/sklearn/metrics/_classification.py:1344: UndefinedMetricWarning: Recall and F-score are ill-defined and being set to 0.0 in labels with no true samples. Use `zero_division` parameter to control this behavior.\n",
      "  _warn_prf(average, modifier, msg_start, len(result))\n",
      "/opt/conda/lib/python3.10/site-packages/sklearn/metrics/_classification.py:1344: UndefinedMetricWarning: Recall and F-score are ill-defined and being set to 0.0 in labels with no true samples. Use `zero_division` parameter to control this behavior.\n",
      "  _warn_prf(average, modifier, msg_start, len(result))\n",
      "/opt/conda/lib/python3.10/site-packages/sklearn/metrics/_classification.py:1344: UndefinedMetricWarning: Recall and F-score are ill-defined and being set to 0.0 in labels with no true samples. Use `zero_division` parameter to control this behavior.\n",
      "  _warn_prf(average, modifier, msg_start, len(result))\n"
     ]
    }
   ],
   "source": [
    "print(classification_report(y_test, lgbm_y_pred))"
   ]
  },
  {
   "cell_type": "markdown",
   "id": "99797770",
   "metadata": {
    "papermill": {
     "duration": 0.015096,
     "end_time": "2024-04-28T06:18:51.960846",
     "exception": false,
     "start_time": "2024-04-28T06:18:51.945750",
     "status": "completed"
    },
    "tags": []
   },
   "source": [
    "LogisticRegressionCV classifier model and pipeline"
   ]
  },
  {
   "cell_type": "code",
   "execution_count": 25,
   "id": "3ea4f899",
   "metadata": {
    "execution": {
     "iopub.execute_input": "2024-04-28T06:18:51.992653Z",
     "iopub.status.busy": "2024-04-28T06:18:51.992173Z",
     "iopub.status.idle": "2024-04-28T06:18:51.997659Z",
     "shell.execute_reply": "2024-04-28T06:18:51.996491Z"
    },
    "papermill": {
     "duration": 0.024343,
     "end_time": "2024-04-28T06:18:52.000420",
     "exception": false,
     "start_time": "2024-04-28T06:18:51.976077",
     "status": "completed"
    },
    "tags": []
   },
   "outputs": [],
   "source": [
    "logregcv_clf = LogisticRegressionCV(multi_class='multinomial', cv=3, solver='lbfgs', max_iter=1000, refit=True, scoring=qwk_scorer)"
   ]
  },
  {
   "cell_type": "code",
   "execution_count": 26,
   "id": "6b1d36b9",
   "metadata": {
    "execution": {
     "iopub.execute_input": "2024-04-28T06:18:52.032604Z",
     "iopub.status.busy": "2024-04-28T06:18:52.032150Z",
     "iopub.status.idle": "2024-04-28T06:18:52.037362Z",
     "shell.execute_reply": "2024-04-28T06:18:52.036161Z"
    },
    "papermill": {
     "duration": 0.024199,
     "end_time": "2024-04-28T06:18:52.040422",
     "exception": false,
     "start_time": "2024-04-28T06:18:52.016223",
     "status": "completed"
    },
    "tags": []
   },
   "outputs": [],
   "source": [
    "logregcv_pipeline = Pipeline(steps=[\n",
    "    ('tfidf', tfidf_vectorizer),\n",
    "    ('classifier', logregcv_clf)\n",
    "])"
   ]
  },
  {
   "cell_type": "code",
   "execution_count": 27,
   "id": "1a5e6769",
   "metadata": {
    "execution": {
     "iopub.execute_input": "2024-04-28T06:18:52.071421Z",
     "iopub.status.busy": "2024-04-28T06:18:52.070608Z",
     "iopub.status.idle": "2024-04-28T06:21:20.360870Z",
     "shell.execute_reply": "2024-04-28T06:21:20.359587Z"
    },
    "papermill": {
     "duration": 148.310011,
     "end_time": "2024-04-28T06:21:20.365193",
     "exception": false,
     "start_time": "2024-04-28T06:18:52.055182",
     "status": "completed"
    },
    "tags": []
   },
   "outputs": [
    {
     "name": "stderr",
     "output_type": "stream",
     "text": [
      "/opt/conda/lib/python3.10/site-packages/sklearn/linear_model/_logistic.py:458: ConvergenceWarning: lbfgs failed to converge (status=1):\n",
      "STOP: TOTAL NO. of ITERATIONS REACHED LIMIT.\n",
      "\n",
      "Increase the number of iterations (max_iter) or scale the data as shown in:\n",
      "    https://scikit-learn.org/stable/modules/preprocessing.html\n",
      "Please also refer to the documentation for alternative solver options:\n",
      "    https://scikit-learn.org/stable/modules/linear_model.html#logistic-regression\n",
      "  n_iter_i = _check_optimize_result(\n",
      "/opt/conda/lib/python3.10/site-packages/sklearn/linear_model/_logistic.py:458: ConvergenceWarning: lbfgs failed to converge (status=1):\n",
      "STOP: TOTAL NO. of ITERATIONS REACHED LIMIT.\n",
      "\n",
      "Increase the number of iterations (max_iter) or scale the data as shown in:\n",
      "    https://scikit-learn.org/stable/modules/preprocessing.html\n",
      "Please also refer to the documentation for alternative solver options:\n",
      "    https://scikit-learn.org/stable/modules/linear_model.html#logistic-regression\n",
      "  n_iter_i = _check_optimize_result(\n",
      "/opt/conda/lib/python3.10/site-packages/sklearn/linear_model/_logistic.py:458: ConvergenceWarning: lbfgs failed to converge (status=1):\n",
      "STOP: TOTAL NO. of ITERATIONS REACHED LIMIT.\n",
      "\n",
      "Increase the number of iterations (max_iter) or scale the data as shown in:\n",
      "    https://scikit-learn.org/stable/modules/preprocessing.html\n",
      "Please also refer to the documentation for alternative solver options:\n",
      "    https://scikit-learn.org/stable/modules/linear_model.html#logistic-regression\n",
      "  n_iter_i = _check_optimize_result(\n"
     ]
    },
    {
     "name": "stdout",
     "output_type": "stream",
     "text": [
      "\n",
      "Classifier used:  LogisticRegressionCV(cv=3, max_iter=1000, multi_class='multinomial',\n",
      "                     scoring=make_scorer(cohen_kappa_score, weights=quadratic))\n",
      "y_test:  [3, 3, 4]\n",
      "y_pred:  [1, 3, 4]\n",
      "quadratic weighted kappa score:  0.6666666666666667\n"
     ]
    },
    {
     "name": "stderr",
     "output_type": "stream",
     "text": [
      "/opt/conda/lib/python3.10/site-packages/sklearn/linear_model/_logistic.py:458: ConvergenceWarning: lbfgs failed to converge (status=1):\n",
      "STOP: TOTAL NO. of ITERATIONS REACHED LIMIT.\n",
      "\n",
      "Increase the number of iterations (max_iter) or scale the data as shown in:\n",
      "    https://scikit-learn.org/stable/modules/preprocessing.html\n",
      "Please also refer to the documentation for alternative solver options:\n",
      "    https://scikit-learn.org/stable/modules/linear_model.html#logistic-regression\n",
      "  n_iter_i = _check_optimize_result(\n"
     ]
    }
   ],
   "source": [
    "logregcv_y_pred = train_and_evaluate_pipeline(logregcv_pipeline, X_train, y_train, X_test, y_test)"
   ]
  },
  {
   "cell_type": "markdown",
   "id": "22c631cc",
   "metadata": {
    "papermill": {
     "duration": 0.01538,
     "end_time": "2024-04-28T06:21:20.395668",
     "exception": false,
     "start_time": "2024-04-28T06:21:20.380288",
     "status": "completed"
    },
    "tags": []
   },
   "source": [
    "# ***Things to do:***\n",
    "\n",
    "1- split the training dataset, that makes more sense lol i misinterpreted the dataset in the first place, probably should just use tfidf vectorizer on X and use that.... probably dont need the pipelines then\n",
    "\n",
    "2 - more EDA, some diagrams and graphs on the dataset\n",
    "\n",
    "3 - try word2vec for vector embeddings and compare with tfidf\n",
    "\n",
    "4 - find more models - potential: xgboostclassifier, ordinal logistic regression, ordinal random forest,\n",
    "\n",
    "5 - overall increase the performance of the models they arent predicting the test dataset 100% correctly\n",
    "\n"
   ]
  },
  {
   "cell_type": "raw",
   "id": "a521f4cf",
   "metadata": {
    "papermill": {
     "duration": 0.014418,
     "end_time": "2024-04-28T06:21:20.424819",
     "exception": false,
     "start_time": "2024-04-28T06:21:20.410401",
     "status": "completed"
    },
    "tags": []
   },
   "source": []
  }
 ],
 "metadata": {
  "kaggle": {
   "accelerator": "none",
   "dataSources": [
    {
     "databundleVersionId": 8059942,
     "sourceId": 71485,
     "sourceType": "competition"
    }
   ],
   "dockerImageVersionId": 30698,
   "isGpuEnabled": false,
   "isInternetEnabled": true,
   "language": "python",
   "sourceType": "notebook"
  },
  "kernelspec": {
   "display_name": "Python 3",
   "language": "python",
   "name": "python3"
  },
  "language_info": {
   "codemirror_mode": {
    "name": "ipython",
    "version": 3
   },
   "file_extension": ".py",
   "mimetype": "text/x-python",
   "name": "python",
   "nbconvert_exporter": "python",
   "pygments_lexer": "ipython3",
   "version": "3.10.13"
  },
  "papermill": {
   "default_parameters": {},
   "duration": 213.775124,
   "end_time": "2024-04-28T06:21:21.668583",
   "environment_variables": {},
   "exception": null,
   "input_path": "__notebook__.ipynb",
   "output_path": "__notebook__.ipynb",
   "parameters": {},
   "start_time": "2024-04-28T06:17:47.893459",
   "version": "2.5.0"
  }
 },
 "nbformat": 4,
 "nbformat_minor": 5
}
