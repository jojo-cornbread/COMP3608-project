{
 "cells": [
  {
   "cell_type": "code",
   "execution_count": 1,
   "id": "83201f5b",
   "metadata": {
    "_cell_guid": "b1076dfc-b9ad-4769-8c92-a6c4dae69d19",
    "_uuid": "8f2839f25d086af736a60e9eeb907d3b93b6e0e5",
    "execution": {
     "iopub.execute_input": "2024-04-28T02:29:01.355560Z",
     "iopub.status.busy": "2024-04-28T02:29:01.355193Z",
     "iopub.status.idle": "2024-04-28T02:29:02.286334Z",
     "shell.execute_reply": "2024-04-28T02:29:02.285422Z"
    },
    "papermill": {
     "duration": 0.942872,
     "end_time": "2024-04-28T02:29:02.289262",
     "exception": false,
     "start_time": "2024-04-28T02:29:01.346390",
     "status": "completed"
    },
    "tags": []
   },
   "outputs": [
    {
     "name": "stdout",
     "output_type": "stream",
     "text": [
      "/kaggle/input/learning-agency-lab-automated-essay-scoring-2/sample_submission.csv\n",
      "/kaggle/input/learning-agency-lab-automated-essay-scoring-2/train.csv\n",
      "/kaggle/input/learning-agency-lab-automated-essay-scoring-2/test.csv\n"
     ]
    }
   ],
   "source": [
    "# This Python 3 environment comes with many helpful analytics libraries installed\n",
    "# It is defined by the kaggle/python Docker image: https://github.com/kaggle/docker-python\n",
    "# For example, here's several helpful packages to load\n",
    "\n",
    "import numpy as np # linear algebra\n",
    "import pandas as pd # data processing, CSV file I/O (e.g. pd.read_csv)\n",
    "\n",
    "# Input data files are available in the read-only \"../input/\" directory\n",
    "# For example, running this (by clicking run or pressing Shift+Enter) will list all files under the input directory\n",
    "\n",
    "import os\n",
    "for dirname, _, filenames in os.walk('/kaggle/input'):\n",
    "    for filename in filenames:\n",
    "        print(os.path.join(dirname, filename))\n",
    "\n",
    "# You can write up to 20GB to the current directory (/kaggle/working/) that gets preserved as output when you create a version using \"Save & Run All\" \n",
    "# You can also write temporary files to /kaggle/temp/, but they won't be saved outside of the current session"
   ]
  },
  {
   "cell_type": "markdown",
   "id": "cdc418bd",
   "metadata": {
    "papermill": {
     "duration": 0.005746,
     "end_time": "2024-04-28T02:29:02.301061",
     "exception": false,
     "start_time": "2024-04-28T02:29:02.295315",
     "status": "completed"
    },
    "tags": []
   },
   "source": [
    "import other libraries"
   ]
  },
  {
   "cell_type": "code",
   "execution_count": 2,
   "id": "bc35e9c9",
   "metadata": {
    "execution": {
     "iopub.execute_input": "2024-04-28T02:29:02.314991Z",
     "iopub.status.busy": "2024-04-28T02:29:02.314076Z",
     "iopub.status.idle": "2024-04-28T02:29:04.140562Z",
     "shell.execute_reply": "2024-04-28T02:29:04.139525Z"
    },
    "papermill": {
     "duration": 1.83629,
     "end_time": "2024-04-28T02:29:04.143204",
     "exception": false,
     "start_time": "2024-04-28T02:29:02.306914",
     "status": "completed"
    },
    "tags": []
   },
   "outputs": [],
   "source": [
    "from sklearn.feature_extraction.text import TfidfVectorizer, CountVectorizer\n",
    "from sklearn.linear_model import LogisticRegression\n",
    "import xgboost as xgb\n",
    "from sklearn.ensemble import RandomForestClassifier\n",
    "from sklearn.metrics import confusion_matrix\n",
    "from sklearn.metrics import cohen_kappa_score\n",
    "import re\n",
    "from sklearn.pipeline import Pipeline"
   ]
  },
  {
   "cell_type": "markdown",
   "id": "68f3d1ed",
   "metadata": {
    "papermill": {
     "duration": 0.005711,
     "end_time": "2024-04-28T02:29:04.155367",
     "exception": false,
     "start_time": "2024-04-28T02:29:04.149656",
     "status": "completed"
    },
    "tags": []
   },
   "source": [
    "Read in the dataset"
   ]
  },
  {
   "cell_type": "code",
   "execution_count": 3,
   "id": "1ee95a8b",
   "metadata": {
    "execution": {
     "iopub.execute_input": "2024-04-28T02:29:04.169188Z",
     "iopub.status.busy": "2024-04-28T02:29:04.168752Z",
     "iopub.status.idle": "2024-04-28T02:29:05.044677Z",
     "shell.execute_reply": "2024-04-28T02:29:05.043491Z"
    },
    "papermill": {
     "duration": 0.886514,
     "end_time": "2024-04-28T02:29:05.047792",
     "exception": false,
     "start_time": "2024-04-28T02:29:04.161278",
     "status": "completed"
    },
    "tags": []
   },
   "outputs": [],
   "source": [
    "df_train = pd.read_csv('/kaggle/input/learning-agency-lab-automated-essay-scoring-2/train.csv')\n",
    "df_test = pd.read_csv('/kaggle/input/learning-agency-lab-automated-essay-scoring-2/test.csv')\n",
    "df_sub = pd.read_csv('/kaggle/input/learning-agency-lab-automated-essay-scoring-2/sample_submission.csv')"
   ]
  },
  {
   "cell_type": "markdown",
   "id": "7fc365cc",
   "metadata": {
    "papermill": {
     "duration": 0.005714,
     "end_time": "2024-04-28T02:29:05.060319",
     "exception": false,
     "start_time": "2024-04-28T02:29:05.054605",
     "status": "completed"
    },
    "tags": []
   },
   "source": [
    "Data cleaning"
   ]
  },
  {
   "cell_type": "code",
   "execution_count": 4,
   "id": "a3270a05",
   "metadata": {
    "execution": {
     "iopub.execute_input": "2024-04-28T02:29:05.075772Z",
     "iopub.status.busy": "2024-04-28T02:29:05.074656Z",
     "iopub.status.idle": "2024-04-28T02:29:05.085941Z",
     "shell.execute_reply": "2024-04-28T02:29:05.085139Z"
    },
    "papermill": {
     "duration": 0.021365,
     "end_time": "2024-04-28T02:29:05.088324",
     "exception": false,
     "start_time": "2024-04-28T02:29:05.066959",
     "status": "completed"
    },
    "tags": []
   },
   "outputs": [],
   "source": [
    "def removeHTML(x):\n",
    "    html=re.compile(r'<.*?>')\n",
    "    return html.sub(r'',x)\n",
    "\n",
    "def decontracted(phrase):\n",
    "    # specific\n",
    "    phrase = re.sub(r\"won\\'t\", \"will not\", phrase)\n",
    "    phrase = re.sub(r\"can\\'t\", \"can not\", phrase)\n",
    "\n",
    "    # general\n",
    "    phrase = re.sub(r\"n\\'t\", \" not\", phrase)\n",
    "    phrase = re.sub(r\"\\'re\", \" are\", phrase)\n",
    "    phrase = re.sub(r\"\\'s\", \" is\", phrase)\n",
    "    phrase = re.sub(r\"\\'d\", \" would\", phrase)\n",
    "    phrase = re.sub(r\"\\'ll\", \" will\", phrase)\n",
    "    phrase = re.sub(r\"\\'t\", \" not\", phrase)\n",
    "    phrase = re.sub(r\"\\'ve\", \" have\", phrase)\n",
    "    phrase = re.sub(r\"\\'m\", \" am\", phrase)\n",
    "    phrase = re.sub(r\"\\xa0\",\" \",phrase)\n",
    "    return phrase.strip()\n",
    "\n",
    "def clean_text(x):\n",
    "    # Convert words to lowercase\n",
    "    x = x.lower()\n",
    "    # Remove HTML\n",
    "    x = removeHTML(x)\n",
    "    # Delete strings starting with @\n",
    "    x = re.sub(\"@\\w+\", '',x)\n",
    "    # Delete Numbers\n",
    "    x = re.sub(\"'\\d+\", '',x)\n",
    "    x = re.sub(\"\\d+\", '',x)\n",
    "    # Delete URL\n",
    "    x = re.sub(\"http\\w+\", '',x)\n",
    "    # Replace consecutive empty spaces with a single space character\n",
    "    x = re.sub(r\"\\s+\", \" \", x)\n",
    "    # Replace consecutive commas and periods with one comma and period character\n",
    "    x = re.sub(r\"\\.+\", \".\", x)\n",
    "    x = re.sub(r\"\\,+\", \",\", x)\n",
    "    # Remove empty characters at the beginning and end\n",
    "    x = x.strip()\n",
    "    return decontracted(x)"
   ]
  },
  {
   "cell_type": "code",
   "execution_count": 5,
   "id": "6b2db90e",
   "metadata": {
    "execution": {
     "iopub.execute_input": "2024-04-28T02:29:05.101928Z",
     "iopub.status.busy": "2024-04-28T02:29:05.101556Z",
     "iopub.status.idle": "2024-04-28T02:29:10.491168Z",
     "shell.execute_reply": "2024-04-28T02:29:10.489747Z"
    },
    "papermill": {
     "duration": 5.399912,
     "end_time": "2024-04-28T02:29:10.494277",
     "exception": false,
     "start_time": "2024-04-28T02:29:05.094365",
     "status": "completed"
    },
    "tags": []
   },
   "outputs": [],
   "source": [
    "df_train['full_text'] = df_train['full_text'].apply(clean_text)\n",
    "df_test['full_text'] = df_test['full_text'].apply(clean_text)\n"
   ]
  },
  {
   "cell_type": "code",
   "execution_count": 6,
   "id": "2147c382",
   "metadata": {
    "execution": {
     "iopub.execute_input": "2024-04-28T02:29:10.508102Z",
     "iopub.status.busy": "2024-04-28T02:29:10.507701Z",
     "iopub.status.idle": "2024-04-28T02:29:10.517172Z",
     "shell.execute_reply": "2024-04-28T02:29:10.515876Z"
    },
    "papermill": {
     "duration": 0.019251,
     "end_time": "2024-04-28T02:29:10.519653",
     "exception": false,
     "start_time": "2024-04-28T02:29:10.500402",
     "status": "completed"
    },
    "tags": []
   },
   "outputs": [
    {
     "data": {
      "text/plain": [
       "'many people have car where they live. the thing they do not know is that when you use a car alot of thing can happen like you can get in accidet or the smoke that the car has is bad to breath on if someone is walk but in vauban,germany they dont have that proble because percent of vauban is families do not own cars,and percent sold a car to move there. street parkig ,driveways and home garages are forbidden on the outskirts of freiburd that near the french and swiss borders. you probaly will not see a car in vauban is streets because they are completely \"car free\" but if some that lives in vauban that owns a car ownership is allowed,but there are only two places that you can park a large garages at the edge of the development,where a car owner buys a space but it not cheap to buy one they sell the space for you car for $, along with a home. the vauban people completed this in ,they said that this an example of a growing trend in europe,the untile states and some where else are suburban life from auto use this is called \"smart planning\". the current efforts to drastically reduce greenhouse gas emissions from tailes the passengee cars are responsible for percent of greenhouse gas emissions in europe and up to percent in some car intensive in the united states. i honeslty think that good idea that they did that is vaudan because that makes cities denser and better for walking and in vauban there are , residents within a rectangular square mile. in the artical david gold berg said that \"all of our development since world war has been centered on the cars,and that will have to change\" and i think that was very true what david gold said because alot thing we need cars to do we can go anyway were with out cars beacuse some people are a very lazy to walk to place thats why they alot of people use car and i think that it was a good idea that that they did that in vauban so people can see how we really do not need car to go to place from place because we can walk from were we need to go or we can ride bycles with out the use of a car. it good that they are doing that if you thik about your help the earth in way and thats a very good thing to. in the united states ,the environmental protection agency is promoting what is called \"car reduced\"communtunties,and the legislators are starting to act,if cautiously. maany experts expect pubic transport serving suburbs to play a much larger role in a new six years federal transportation bill to approved this year. in previous bill, percent of appropriations have by law gone to highways and only percent to other transports. there many good reason why they should do this.'"
      ]
     },
     "execution_count": 6,
     "metadata": {},
     "output_type": "execute_result"
    }
   ],
   "source": [
    "df_train['full_text'][0]"
   ]
  },
  {
   "cell_type": "markdown",
   "id": "d83c4473",
   "metadata": {
    "papermill": {
     "duration": 0.005822,
     "end_time": "2024-04-28T02:29:10.532801",
     "exception": false,
     "start_time": "2024-04-28T02:29:10.526979",
     "status": "completed"
    },
    "tags": []
   },
   "source": [
    "feature extraction"
   ]
  },
  {
   "cell_type": "markdown",
   "id": "6a5c73df",
   "metadata": {
    "papermill": {
     "duration": 0.005677,
     "end_time": "2024-04-28T02:29:10.544692",
     "exception": false,
     "start_time": "2024-04-28T02:29:10.539015",
     "status": "completed"
    },
    "tags": []
   },
   "source": [
    "create a word_count column"
   ]
  },
  {
   "cell_type": "code",
   "execution_count": 7,
   "id": "3155b975",
   "metadata": {
    "execution": {
     "iopub.execute_input": "2024-04-28T02:29:10.558666Z",
     "iopub.status.busy": "2024-04-28T02:29:10.558301Z",
     "iopub.status.idle": "2024-04-28T02:29:11.532814Z",
     "shell.execute_reply": "2024-04-28T02:29:11.531394Z"
    },
    "papermill": {
     "duration": 0.985076,
     "end_time": "2024-04-28T02:29:11.535905",
     "exception": false,
     "start_time": "2024-04-28T02:29:10.550829",
     "status": "completed"
    },
    "tags": []
   },
   "outputs": [],
   "source": [
    "df_train['word_count'] = df_train[\"full_text\"].str.split().str.len()\n",
    "df_test['word_count'] = df_test[\"full_text\"].str.split().str.len()"
   ]
  },
  {
   "cell_type": "code",
   "execution_count": 8,
   "id": "1af67e8e",
   "metadata": {
    "execution": {
     "iopub.execute_input": "2024-04-28T02:29:11.549753Z",
     "iopub.status.busy": "2024-04-28T02:29:11.549393Z",
     "iopub.status.idle": "2024-04-28T02:29:11.564871Z",
     "shell.execute_reply": "2024-04-28T02:29:11.564086Z"
    },
    "papermill": {
     "duration": 0.025116,
     "end_time": "2024-04-28T02:29:11.567211",
     "exception": false,
     "start_time": "2024-04-28T02:29:11.542095",
     "status": "completed"
    },
    "tags": []
   },
   "outputs": [
    {
     "data": {
      "text/html": [
       "<div>\n",
       "<style scoped>\n",
       "    .dataframe tbody tr th:only-of-type {\n",
       "        vertical-align: middle;\n",
       "    }\n",
       "\n",
       "    .dataframe tbody tr th {\n",
       "        vertical-align: top;\n",
       "    }\n",
       "\n",
       "    .dataframe thead th {\n",
       "        text-align: right;\n",
       "    }\n",
       "</style>\n",
       "<table border=\"1\" class=\"dataframe\">\n",
       "  <thead>\n",
       "    <tr style=\"text-align: right;\">\n",
       "      <th></th>\n",
       "      <th>essay_id</th>\n",
       "      <th>full_text</th>\n",
       "      <th>score</th>\n",
       "      <th>word_count</th>\n",
       "    </tr>\n",
       "  </thead>\n",
       "  <tbody>\n",
       "    <tr>\n",
       "      <th>0</th>\n",
       "      <td>000d118</td>\n",
       "      <td>many people have car where they live. the thin...</td>\n",
       "      <td>3</td>\n",
       "      <td>496</td>\n",
       "    </tr>\n",
       "    <tr>\n",
       "      <th>1</th>\n",
       "      <td>000fe60</td>\n",
       "      <td>i am a scientist at nasa that is discussing th...</td>\n",
       "      <td>3</td>\n",
       "      <td>336</td>\n",
       "    </tr>\n",
       "    <tr>\n",
       "      <th>2</th>\n",
       "      <td>001ab80</td>\n",
       "      <td>people always wish they had the same technolog...</td>\n",
       "      <td>4</td>\n",
       "      <td>553</td>\n",
       "    </tr>\n",
       "    <tr>\n",
       "      <th>3</th>\n",
       "      <td>001bdc0</td>\n",
       "      <td>we all heard about venus, the planet without a...</td>\n",
       "      <td>4</td>\n",
       "      <td>450</td>\n",
       "    </tr>\n",
       "    <tr>\n",
       "      <th>4</th>\n",
       "      <td>002ba53</td>\n",
       "      <td>dear, state senator this is a letter to argue ...</td>\n",
       "      <td>3</td>\n",
       "      <td>377</td>\n",
       "    </tr>\n",
       "  </tbody>\n",
       "</table>\n",
       "</div>"
      ],
      "text/plain": [
       "  essay_id                                          full_text  score  \\\n",
       "0  000d118  many people have car where they live. the thin...      3   \n",
       "1  000fe60  i am a scientist at nasa that is discussing th...      3   \n",
       "2  001ab80  people always wish they had the same technolog...      4   \n",
       "3  001bdc0  we all heard about venus, the planet without a...      4   \n",
       "4  002ba53  dear, state senator this is a letter to argue ...      3   \n",
       "\n",
       "   word_count  \n",
       "0         496  \n",
       "1         336  \n",
       "2         553  \n",
       "3         450  \n",
       "4         377  "
      ]
     },
     "execution_count": 8,
     "metadata": {},
     "output_type": "execute_result"
    }
   ],
   "source": [
    "df_train.head()"
   ]
  },
  {
   "cell_type": "code",
   "execution_count": null,
   "id": "d3f5a979",
   "metadata": {
    "execution": {
     "iopub.execute_input": "2024-04-24T22:03:16.724637Z",
     "iopub.status.busy": "2024-04-24T22:03:16.723943Z",
     "iopub.status.idle": "2024-04-24T22:03:16.735406Z",
     "shell.execute_reply": "2024-04-24T22:03:16.734227Z",
     "shell.execute_reply.started": "2024-04-24T22:03:16.724604Z"
    },
    "papermill": {
     "duration": 0.006,
     "end_time": "2024-04-28T02:29:11.579631",
     "exception": false,
     "start_time": "2024-04-28T02:29:11.573631",
     "status": "completed"
    },
    "tags": []
   },
   "outputs": [],
   "source": []
  },
  {
   "cell_type": "code",
   "execution_count": 9,
   "id": "1eae2256",
   "metadata": {
    "execution": {
     "iopub.execute_input": "2024-04-28T02:29:11.595343Z",
     "iopub.status.busy": "2024-04-28T02:29:11.594351Z",
     "iopub.status.idle": "2024-04-28T02:29:11.729119Z",
     "shell.execute_reply": "2024-04-28T02:29:11.727973Z"
    },
    "papermill": {
     "duration": 0.144986,
     "end_time": "2024-04-28T02:29:11.731320",
     "exception": false,
     "start_time": "2024-04-28T02:29:11.586334",
     "status": "completed"
    },
    "tags": []
   },
   "outputs": [],
   "source": [
    "X_train = df_train['full_text']\n",
    "y_train = df_train['score']\n",
    "X_test = df_test['full_text']\n",
    "# y_test = pd.DataFrame()\n",
    "y_true = df_sub['score']\n",
    "\n",
    "# X_train = tfidf_vectorizer.fit_transform(df_train['full_text'])\n",
    "# y_train = df_train['score']\n",
    "# X_test = tfidf_vectorizer.transform(df_test['full_text'])\n",
    "# y_test = df_test['target_column']"
   ]
  },
  {
   "cell_type": "code",
   "execution_count": null,
   "id": "e817dc29",
   "metadata": {
    "execution": {
     "iopub.execute_input": "2024-04-24T22:02:02.195526Z",
     "iopub.status.busy": "2024-04-24T22:02:02.195096Z",
     "iopub.status.idle": "2024-04-24T22:02:02.207547Z",
     "shell.execute_reply": "2024-04-24T22:02:02.206224Z",
     "shell.execute_reply.started": "2024-04-24T22:02:02.195493Z"
    },
    "papermill": {
     "duration": 0.005898,
     "end_time": "2024-04-28T02:29:11.743479",
     "exception": false,
     "start_time": "2024-04-28T02:29:11.737581",
     "status": "completed"
    },
    "tags": []
   },
   "outputs": [],
   "source": []
  },
  {
   "cell_type": "markdown",
   "id": "108b1335",
   "metadata": {
    "papermill": {
     "duration": 0.00593,
     "end_time": "2024-04-28T02:29:11.755603",
     "exception": false,
     "start_time": "2024-04-28T02:29:11.749673",
     "status": "completed"
    },
    "tags": []
   },
   "source": [
    "create the tfidf matrix"
   ]
  },
  {
   "cell_type": "code",
   "execution_count": 10,
   "id": "310bec35",
   "metadata": {
    "execution": {
     "iopub.execute_input": "2024-04-28T02:29:11.770239Z",
     "iopub.status.busy": "2024-04-28T02:29:11.769509Z",
     "iopub.status.idle": "2024-04-28T02:29:16.030282Z",
     "shell.execute_reply": "2024-04-28T02:29:16.029259Z"
    },
    "papermill": {
     "duration": 4.270831,
     "end_time": "2024-04-28T02:29:16.032691",
     "exception": false,
     "start_time": "2024-04-28T02:29:11.761860",
     "status": "completed"
    },
    "tags": []
   },
   "outputs": [],
   "source": [
    "tfidf_vectorizer = TfidfVectorizer(stop_words='english', min_df=0.05, max_df=0.95,)\n",
    "tfidf = tfidf_vectorizer.fit_transform(df_train['full_text'])\n"
   ]
  },
  {
   "cell_type": "markdown",
   "id": "7e96723e",
   "metadata": {
    "papermill": {
     "duration": 0.005921,
     "end_time": "2024-04-28T02:29:16.045396",
     "exception": false,
     "start_time": "2024-04-28T02:29:16.039475",
     "status": "completed"
    },
    "tags": []
   },
   "source": [
    "create the multinomial logistic regression classifier"
   ]
  },
  {
   "cell_type": "code",
   "execution_count": 11,
   "id": "d4d27fa8",
   "metadata": {
    "execution": {
     "iopub.execute_input": "2024-04-28T02:29:16.059994Z",
     "iopub.status.busy": "2024-04-28T02:29:16.059005Z",
     "iopub.status.idle": "2024-04-28T02:29:16.064103Z",
     "shell.execute_reply": "2024-04-28T02:29:16.063048Z"
    },
    "papermill": {
     "duration": 0.014849,
     "end_time": "2024-04-28T02:29:16.066484",
     "exception": false,
     "start_time": "2024-04-28T02:29:16.051635",
     "status": "completed"
    },
    "tags": []
   },
   "outputs": [],
   "source": [
    "logreg_clf = LogisticRegression(multi_class='multinomial', solver='lbfgs', max_iter=1000)"
   ]
  },
  {
   "cell_type": "markdown",
   "id": "53bccc6b",
   "metadata": {
    "papermill": {
     "duration": 0.006074,
     "end_time": "2024-04-28T02:29:16.079346",
     "exception": false,
     "start_time": "2024-04-28T02:29:16.073272",
     "status": "completed"
    },
    "tags": []
   },
   "source": [
    "create a pipeline for logistic regression classifier"
   ]
  },
  {
   "cell_type": "code",
   "execution_count": 12,
   "id": "8f2da464",
   "metadata": {
    "execution": {
     "iopub.execute_input": "2024-04-28T02:29:16.093904Z",
     "iopub.status.busy": "2024-04-28T02:29:16.093524Z",
     "iopub.status.idle": "2024-04-28T02:29:16.098570Z",
     "shell.execute_reply": "2024-04-28T02:29:16.097267Z"
    },
    "papermill": {
     "duration": 0.015244,
     "end_time": "2024-04-28T02:29:16.101016",
     "exception": false,
     "start_time": "2024-04-28T02:29:16.085772",
     "status": "completed"
    },
    "tags": []
   },
   "outputs": [],
   "source": [
    "logreg_pipeline = Pipeline(steps=[\n",
    "    ('tfidf', tfidf_vectorizer),\n",
    "    ('classifier', logreg_clf)\n",
    "])"
   ]
  },
  {
   "cell_type": "code",
   "execution_count": 13,
   "id": "e7f9d1c8",
   "metadata": {
    "execution": {
     "iopub.execute_input": "2024-04-28T02:29:16.117989Z",
     "iopub.status.busy": "2024-04-28T02:29:16.117072Z",
     "iopub.status.idle": "2024-04-28T02:29:23.172379Z",
     "shell.execute_reply": "2024-04-28T02:29:23.171100Z"
    },
    "papermill": {
     "duration": 7.066724,
     "end_time": "2024-04-28T02:29:23.175180",
     "exception": false,
     "start_time": "2024-04-28T02:29:16.108456",
     "status": "completed"
    },
    "tags": []
   },
   "outputs": [],
   "source": [
    "logreg_pipeline.fit(X_train, y_train)\n",
    "y_pred = logreg_pipeline.predict(X_test)"
   ]
  },
  {
   "cell_type": "code",
   "execution_count": 14,
   "id": "e6d520d3",
   "metadata": {
    "execution": {
     "iopub.execute_input": "2024-04-28T02:29:23.192645Z",
     "iopub.status.busy": "2024-04-28T02:29:23.191921Z",
     "iopub.status.idle": "2024-04-28T02:29:23.201420Z",
     "shell.execute_reply": "2024-04-28T02:29:23.199655Z"
    },
    "papermill": {
     "duration": 0.021937,
     "end_time": "2024-04-28T02:29:23.204684",
     "exception": false,
     "start_time": "2024-04-28T02:29:23.182747",
     "status": "completed"
    },
    "tags": []
   },
   "outputs": [
    {
     "data": {
      "text/plain": [
       "array([1, 3, 4])"
      ]
     },
     "execution_count": 14,
     "metadata": {},
     "output_type": "execute_result"
    }
   ],
   "source": [
    "y_pred"
   ]
  },
  {
   "cell_type": "code",
   "execution_count": 15,
   "id": "ec5f1b63",
   "metadata": {
    "execution": {
     "iopub.execute_input": "2024-04-28T02:29:23.219647Z",
     "iopub.status.busy": "2024-04-28T02:29:23.219262Z",
     "iopub.status.idle": "2024-04-28T02:29:23.228759Z",
     "shell.execute_reply": "2024-04-28T02:29:23.227650Z"
    },
    "papermill": {
     "duration": 0.019589,
     "end_time": "2024-04-28T02:29:23.230986",
     "exception": false,
     "start_time": "2024-04-28T02:29:23.211397",
     "status": "completed"
    },
    "tags": []
   },
   "outputs": [
    {
     "data": {
      "text/plain": [
       "0.6666666666666667"
      ]
     },
     "execution_count": 15,
     "metadata": {},
     "output_type": "execute_result"
    }
   ],
   "source": [
    "kappa = cohen_kappa_score(y_true, y_pred, weights='quadratic')\n",
    "kappa\n"
   ]
  },
  {
   "cell_type": "code",
   "execution_count": null,
   "id": "bd925b81",
   "metadata": {
    "papermill": {
     "duration": 0.00623,
     "end_time": "2024-04-28T02:29:23.244430",
     "exception": false,
     "start_time": "2024-04-28T02:29:23.238200",
     "status": "completed"
    },
    "tags": []
   },
   "outputs": [],
   "source": []
  }
 ],
 "metadata": {
  "kaggle": {
   "accelerator": "none",
   "dataSources": [
    {
     "databundleVersionId": 8059942,
     "sourceId": 71485,
     "sourceType": "competition"
    }
   ],
   "dockerImageVersionId": 30698,
   "isGpuEnabled": false,
   "isInternetEnabled": true,
   "language": "python",
   "sourceType": "notebook"
  },
  "kernelspec": {
   "display_name": "Python 3",
   "language": "python",
   "name": "python3"
  },
  "language_info": {
   "codemirror_mode": {
    "name": "ipython",
    "version": 3
   },
   "file_extension": ".py",
   "mimetype": "text/x-python",
   "name": "python",
   "nbconvert_exporter": "python",
   "pygments_lexer": "ipython3",
   "version": "3.10.13"
  },
  "papermill": {
   "default_parameters": {},
   "duration": 25.413553,
   "end_time": "2024-04-28T02:29:23.872416",
   "environment_variables": {},
   "exception": null,
   "input_path": "__notebook__.ipynb",
   "output_path": "__notebook__.ipynb",
   "parameters": {},
   "start_time": "2024-04-28T02:28:58.458863",
   "version": "2.5.0"
  }
 },
 "nbformat": 4,
 "nbformat_minor": 5
}
