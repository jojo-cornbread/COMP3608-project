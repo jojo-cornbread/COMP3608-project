{
 "cells": [
  {
   "cell_type": "code",
   "execution_count": 1,
   "id": "e7c7403b",
   "metadata": {
    "_cell_guid": "b1076dfc-b9ad-4769-8c92-a6c4dae69d19",
    "_uuid": "8f2839f25d086af736a60e9eeb907d3b93b6e0e5",
    "execution": {
     "iopub.execute_input": "2024-05-04T02:28:31.519044Z",
     "iopub.status.busy": "2024-05-04T02:28:31.517655Z",
     "iopub.status.idle": "2024-05-04T02:28:32.472771Z",
     "shell.execute_reply": "2024-05-04T02:28:32.471458Z"
    },
    "papermill": {
     "duration": 0.977267,
     "end_time": "2024-05-04T02:28:32.475078",
     "exception": false,
     "start_time": "2024-05-04T02:28:31.497811",
     "status": "completed"
    },
    "tags": []
   },
   "outputs": [
    {
     "name": "stdout",
     "output_type": "stream",
     "text": [
      "/kaggle/input/learning-agency-lab-automated-essay-scoring-2/sample_submission.csv\n",
      "/kaggle/input/learning-agency-lab-automated-essay-scoring-2/train.csv\n",
      "/kaggle/input/learning-agency-lab-automated-essay-scoring-2/test.csv\n"
     ]
    }
   ],
   "source": [
    "# This Python 3 environment comes with many helpful analytics libraries installed\n",
    "# It is defined by the kaggle/python Docker image: https://github.com/kaggle/docker-python\n",
    "# For example, here's several helpful packages to load\n",
    "\n",
    "import numpy as np # linear algebra\n",
    "import pandas as pd # data processing, CSV file I/O (e.g. pd.read_csv)\n",
    "\n",
    "# Input data files are available in the read-only \"../input/\" directory\n",
    "# For example, running this (by clicking run or pressing Shift+Enter) will list all files under the input directory\n",
    "\n",
    "import os\n",
    "for dirname, _, filenames in os.walk('/kaggle/input'):\n",
    "    for filename in filenames:\n",
    "        print(os.path.join(dirname, filename))\n",
    "\n",
    "# You can write up to 20GB to the current directory (/kaggle/working/) that gets preserved as output when you create a version using \"Save & Run All\" \n",
    "# You can also write temporary files to /kaggle/temp/, but they won't be saved outside of the current session"
   ]
  },
  {
   "cell_type": "markdown",
   "id": "8284f473",
   "metadata": {
    "papermill": {
     "duration": 0.017857,
     "end_time": "2024-05-04T02:28:32.511632",
     "exception": false,
     "start_time": "2024-05-04T02:28:32.493775",
     "status": "completed"
    },
    "tags": []
   },
   "source": [
    "import other libraries"
   ]
  },
  {
   "cell_type": "code",
   "execution_count": 2,
   "id": "fe9c0191",
   "metadata": {
    "execution": {
     "iopub.execute_input": "2024-05-04T02:28:32.547971Z",
     "iopub.status.busy": "2024-05-04T02:28:32.547480Z",
     "iopub.status.idle": "2024-05-04T02:28:48.595527Z",
     "shell.execute_reply": "2024-05-04T02:28:48.594527Z"
    },
    "papermill": {
     "duration": 16.068909,
     "end_time": "2024-05-04T02:28:48.597966",
     "exception": false,
     "start_time": "2024-05-04T02:28:32.529057",
     "status": "completed"
    },
    "tags": []
   },
   "outputs": [
    {
     "name": "stdout",
     "output_type": "stream",
     "text": [
      "Collecting mord\r\n",
      "  Downloading mord-0.7.tar.gz (8.6 kB)\r\n",
      "  Preparing metadata (setup.py) ... \u001b[?25l-\b \bdone\r\n",
      "\u001b[?25hBuilding wheels for collected packages: mord\r\n",
      "  Building wheel for mord (setup.py) ... \u001b[?25l-\b \bdone\r\n",
      "\u001b[?25h  Created wheel for mord: filename=mord-0.7-py3-none-any.whl size=9886 sha256=b3978cdb6b80cf414cc310f821cf2cf5d034ed32768d5ed01ac1580a1ce9d6b1\r\n",
      "  Stored in directory: /root/.cache/pip/wheels/77/00/19/3cea86fbfc737ec4acb515cd94497dcc33f943fa157548b96c\r\n",
      "Successfully built mord\r\n",
      "Installing collected packages: mord\r\n",
      "Successfully installed mord-0.7\r\n"
     ]
    }
   ],
   "source": [
    "!pip install mord"
   ]
  },
  {
   "cell_type": "code",
   "execution_count": 3,
   "id": "063cd66a",
   "metadata": {
    "execution": {
     "iopub.execute_input": "2024-05-04T02:28:48.636056Z",
     "iopub.status.busy": "2024-05-04T02:28:48.635237Z",
     "iopub.status.idle": "2024-05-04T02:29:07.550139Z",
     "shell.execute_reply": "2024-05-04T02:29:07.549020Z"
    },
    "papermill": {
     "duration": 18.937048,
     "end_time": "2024-05-04T02:29:07.552739",
     "exception": false,
     "start_time": "2024-05-04T02:28:48.615691",
     "status": "completed"
    },
    "tags": []
   },
   "outputs": [
    {
     "name": "stdout",
     "output_type": "stream",
     "text": [
      "Collecting textatistic\r\n",
      "  Downloading textatistic-0.0.1.tar.gz (29 kB)\r\n",
      "  Preparing metadata (setup.py) ... \u001b[?25l-\b \bdone\r\n",
      "\u001b[?25hCollecting pyhyphen>=2.0.5 (from textatistic)\r\n",
      "  Downloading PyHyphen-4.0.3.tar.gz (40 kB)\r\n",
      "\u001b[2K     \u001b[90m━━━━━━━━━━━━━━━━━━━━━━━━━━━━━━━━━━━━━━━━\u001b[0m \u001b[32m40.5/40.5 kB\u001b[0m \u001b[31m1.4 MB/s\u001b[0m eta \u001b[36m0:00:00\u001b[0m\r\n",
      "\u001b[?25h  Preparing metadata (setup.py) ... \u001b[?25l-\b \bdone\r\n",
      "\u001b[?25hRequirement already satisfied: wheel>=0.36.0 in /opt/conda/lib/python3.10/site-packages (from pyhyphen>=2.0.5->textatistic) (0.42.0)\r\n",
      "Requirement already satisfied: setuptools>=52.0 in /opt/conda/lib/python3.10/site-packages (from pyhyphen>=2.0.5->textatistic) (69.0.3)\r\n",
      "Requirement already satisfied: appdirs>=1.4.0 in /opt/conda/lib/python3.10/site-packages (from pyhyphen>=2.0.5->textatistic) (1.4.4)\r\n",
      "Requirement already satisfied: requests>=2.25 in /opt/conda/lib/python3.10/site-packages (from pyhyphen>=2.0.5->textatistic) (2.31.0)\r\n",
      "Requirement already satisfied: charset-normalizer<4,>=2 in /opt/conda/lib/python3.10/site-packages (from requests>=2.25->pyhyphen>=2.0.5->textatistic) (3.3.2)\r\n",
      "Requirement already satisfied: idna<4,>=2.5 in /opt/conda/lib/python3.10/site-packages (from requests>=2.25->pyhyphen>=2.0.5->textatistic) (3.6)\r\n",
      "Requirement already satisfied: urllib3<3,>=1.21.1 in /opt/conda/lib/python3.10/site-packages (from requests>=2.25->pyhyphen>=2.0.5->textatistic) (1.26.18)\r\n",
      "Requirement already satisfied: certifi>=2017.4.17 in /opt/conda/lib/python3.10/site-packages (from requests>=2.25->pyhyphen>=2.0.5->textatistic) (2024.2.2)\r\n",
      "Building wheels for collected packages: textatistic, pyhyphen\r\n",
      "  Building wheel for textatistic (setup.py) ... \u001b[?25l-\b \bdone\r\n",
      "\u001b[?25h  Created wheel for textatistic: filename=textatistic-0.0.1-py3-none-any.whl size=29047 sha256=deedbe5dcd9fefccaf754bf9579ad520ae9684eabf69c73b709c3a22ea5d9291\r\n",
      "  Stored in directory: /root/.cache/pip/wheels/6e/31/c3/df8af4aa9ec3f671b0e8bc3bfa642c75918f2479ca4050f5f4\r\n",
      "  Building wheel for pyhyphen (setup.py) ... \u001b[?25l-\b \b\\\b \bdone\r\n",
      "\u001b[?25h  Created wheel for pyhyphen: filename=PyHyphen-4.0.3-cp37-abi3-linux_x86_64.whl size=37431 sha256=44187f751fc1ac1f628113f223b68b43740698a37bc52664f69808bfa81bcdd7\r\n",
      "  Stored in directory: /root/.cache/pip/wheels/5e/8e/2c/099292ddfe67d4168785f44109ee79131c652ee5bdd66502b8\r\n",
      "Successfully built textatistic pyhyphen\r\n",
      "Installing collected packages: pyhyphen, textatistic\r\n",
      "Successfully installed pyhyphen-4.0.3 textatistic-0.0.1\r\n"
     ]
    }
   ],
   "source": [
    "!pip install textatistic"
   ]
  },
  {
   "cell_type": "code",
   "execution_count": 4,
   "id": "6b4efde3",
   "metadata": {
    "execution": {
     "iopub.execute_input": "2024-05-04T02:29:07.593809Z",
     "iopub.status.busy": "2024-05-04T02:29:07.593386Z",
     "iopub.status.idle": "2024-05-04T02:29:25.300609Z",
     "shell.execute_reply": "2024-05-04T02:29:25.299556Z"
    },
    "papermill": {
     "duration": 17.731157,
     "end_time": "2024-05-04T02:29:25.303178",
     "exception": false,
     "start_time": "2024-05-04T02:29:07.572021",
     "status": "completed"
    },
    "tags": []
   },
   "outputs": [
    {
     "name": "stdout",
     "output_type": "stream",
     "text": [
      "[nltk_data] Downloading package stopwords to /usr/share/nltk_data...\n",
      "[nltk_data]   Package stopwords is already up-to-date!\n"
     ]
    }
   ],
   "source": [
    "from sklearn.feature_extraction.text import TfidfVectorizer, CountVectorizer\n",
    "from sklearn.linear_model import LogisticRegression\n",
    "import xgboost as xgb\n",
    "from sklearn.ensemble import RandomForestClassifier\n",
    "from lightgbm import LGBMClassifier\n",
    "from sklearn.metrics import cohen_kappa_score, make_scorer, classification_report, accuracy_score, confusion_matrix\n",
    "import re\n",
    "from sklearn.pipeline import Pipeline\n",
    "# from sklearn.pipeline import FeatureUnion\n",
    "from sklearn.compose import ColumnTransformer\n",
    "from sklearn.model_selection import GridSearchCV, train_test_split, cross_validate\n",
    "from sklearn.preprocessing import StandardScaler, FunctionTransformer\n",
    "\n",
    "from gensim.models import Word2Vec\n",
    "from mord import OrdinalRidge\n",
    "import seaborn as sns\n",
    "import matplotlib.pyplot as plt\n",
    "\n",
    "from sklearn.neural_network import MLPClassifier\n",
    "\n",
    "import nltk\n",
    "nltk.download('stopwords')\n",
    "from nltk.corpus import stopwords\n",
    "from wordcloud import WordCloud, STOPWORDS\n",
    "\n",
    "from textatistic import Textatistic\n",
    "# import statsmodels.api as sm\n",
    "# from statsmodels.miscmodels.ordinal_model import OrderedModel"
   ]
  },
  {
   "cell_type": "markdown",
   "id": "82341953",
   "metadata": {
    "papermill": {
     "duration": 0.018854,
     "end_time": "2024-05-04T02:29:25.341764",
     "exception": false,
     "start_time": "2024-05-04T02:29:25.322910",
     "status": "completed"
    },
    "tags": []
   },
   "source": [
    "****Read in the dataset"
   ]
  },
  {
   "cell_type": "code",
   "execution_count": 5,
   "id": "f39be778",
   "metadata": {
    "execution": {
     "iopub.execute_input": "2024-05-04T02:29:25.383818Z",
     "iopub.status.busy": "2024-05-04T02:29:25.382516Z",
     "iopub.status.idle": "2024-05-04T02:29:26.175529Z",
     "shell.execute_reply": "2024-05-04T02:29:26.174322Z"
    },
    "papermill": {
     "duration": 0.817558,
     "end_time": "2024-05-04T02:29:26.178452",
     "exception": false,
     "start_time": "2024-05-04T02:29:25.360894",
     "status": "completed"
    },
    "tags": []
   },
   "outputs": [],
   "source": [
    "df_train = pd.read_csv('/kaggle/input/learning-agency-lab-automated-essay-scoring-2/train.csv')\n",
    "df_test = pd.read_csv('/kaggle/input/learning-agency-lab-automated-essay-scoring-2/test.csv')\n",
    "df_sub = pd.read_csv('/kaggle/input/learning-agency-lab-automated-essay-scoring-2/sample_submission.csv')"
   ]
  },
  {
   "cell_type": "markdown",
   "id": "a4b892ed",
   "metadata": {
    "papermill": {
     "duration": 0.020171,
     "end_time": "2024-05-04T02:29:26.219035",
     "exception": false,
     "start_time": "2024-05-04T02:29:26.198864",
     "status": "completed"
    },
    "tags": []
   },
   "source": [
    "# data cleaning\n",
    "\n",
    "\n",
    "text cleaning functions to call on full_text"
   ]
  },
  {
   "cell_type": "code",
   "execution_count": 6,
   "id": "a3c7b0bf",
   "metadata": {
    "execution": {
     "iopub.execute_input": "2024-05-04T02:29:26.260392Z",
     "iopub.status.busy": "2024-05-04T02:29:26.259999Z",
     "iopub.status.idle": "2024-05-04T02:29:26.270642Z",
     "shell.execute_reply": "2024-05-04T02:29:26.269387Z"
    },
    "papermill": {
     "duration": 0.034007,
     "end_time": "2024-05-04T02:29:26.273150",
     "exception": false,
     "start_time": "2024-05-04T02:29:26.239143",
     "status": "completed"
    },
    "tags": []
   },
   "outputs": [],
   "source": [
    "def removeHTML(x):\n",
    "    html=re.compile(r'<.*?>')\n",
    "    return html.sub(r'',x)\n",
    "\n",
    "def decontracted(phrase):\n",
    "    # specific\n",
    "    phrase = re.sub(r\"won\\'t\", \"will not\", phrase)\n",
    "    phrase = re.sub(r\"can\\'t\", \"can not\", phrase)\n",
    "\n",
    "    # general\n",
    "    phrase = re.sub(r\"n\\'t\", \" not\", phrase)\n",
    "    phrase = re.sub(r\"\\'re\", \" are\", phrase)\n",
    "    phrase = re.sub(r\"\\'s\", \" is\", phrase)\n",
    "    phrase = re.sub(r\"\\'d\", \" would\", phrase)\n",
    "    phrase = re.sub(r\"\\'ll\", \" will\", phrase)\n",
    "    phrase = re.sub(r\"\\'t\", \" not\", phrase)\n",
    "    phrase = re.sub(r\"\\'ve\", \" have\", phrase)\n",
    "    phrase = re.sub(r\"\\'m\", \" am\", phrase)\n",
    "    phrase = re.sub(r\"\\xa0\",\" \",phrase)\n",
    "    return phrase.strip()\n",
    "\n",
    "def clean_text(x):\n",
    "    # Convert words to lowercase\n",
    "    x = x.lower()\n",
    "    # Remove HTML\n",
    "    x = removeHTML(x)\n",
    "    # Delete strings starting with @\n",
    "    x = re.sub(\"@\\w+\", '',x)\n",
    "    # Delete Numbers\n",
    "    x = re.sub(\"'\\d+\", '',x)\n",
    "    x = re.sub(\"\\d+\", '',x)\n",
    "    # Delete URL\n",
    "    x = re.sub(\"http\\w+\", '',x)\n",
    "    # Replace consecutive empty spaces with a single space character\n",
    "    x = re.sub(r\"\\s+\", \" \", x)\n",
    "    # Replace consecutive commas and periods with one comma and period character\n",
    "    x = re.sub(r\"\\.+\", \".\", x)\n",
    "    x = re.sub(r\"\\,+\", \",\", x)\n",
    "    # Remove empty characters at the beginning and end\n",
    "    x = x.strip()\n",
    "    return decontracted(x)"
   ]
  },
  {
   "cell_type": "code",
   "execution_count": 7,
   "id": "26a4973c",
   "metadata": {
    "execution": {
     "iopub.execute_input": "2024-05-04T02:29:26.313651Z",
     "iopub.status.busy": "2024-05-04T02:29:26.313264Z",
     "iopub.status.idle": "2024-05-04T02:29:31.683201Z",
     "shell.execute_reply": "2024-05-04T02:29:31.682070Z"
    },
    "papermill": {
     "duration": 5.393106,
     "end_time": "2024-05-04T02:29:31.685801",
     "exception": false,
     "start_time": "2024-05-04T02:29:26.292695",
     "status": "completed"
    },
    "tags": []
   },
   "outputs": [],
   "source": [
    "df_train['full_text'] = df_train['full_text'].apply(clean_text)\n",
    "df_test['full_text'] = df_test['full_text'].apply(clean_text)\n"
   ]
  },
  {
   "cell_type": "code",
   "execution_count": 8,
   "id": "ae254ba8",
   "metadata": {
    "execution": {
     "iopub.execute_input": "2024-05-04T02:29:31.784170Z",
     "iopub.status.busy": "2024-05-04T02:29:31.782992Z",
     "iopub.status.idle": "2024-05-04T02:29:31.790224Z",
     "shell.execute_reply": "2024-05-04T02:29:31.789501Z"
    },
    "papermill": {
     "duration": 0.08729,
     "end_time": "2024-05-04T02:29:31.792262",
     "exception": false,
     "start_time": "2024-05-04T02:29:31.704972",
     "status": "completed"
    },
    "tags": []
   },
   "outputs": [
    {
     "data": {
      "text/plain": [
       "'many people have car where they live. the thing they do not know is that when you use a car alot of thing can happen like you can get in accidet or the smoke that the car has is bad to breath on if someone is walk but in vauban,germany they dont have that proble because percent of vauban is families do not own cars,and percent sold a car to move there. street parkig ,driveways and home garages are forbidden on the outskirts of freiburd that near the french and swiss borders. you probaly will not see a car in vauban is streets because they are completely \"car free\" but if some that lives in vauban that owns a car ownership is allowed,but there are only two places that you can park a large garages at the edge of the development,where a car owner buys a space but it not cheap to buy one they sell the space for you car for $, along with a home. the vauban people completed this in ,they said that this an example of a growing trend in europe,the untile states and some where else are suburban life from auto use this is called \"smart planning\". the current efforts to drastically reduce greenhouse gas emissions from tailes the passengee cars are responsible for percent of greenhouse gas emissions in europe and up to percent in some car intensive in the united states. i honeslty think that good idea that they did that is vaudan because that makes cities denser and better for walking and in vauban there are , residents within a rectangular square mile. in the artical david gold berg said that \"all of our development since world war has been centered on the cars,and that will have to change\" and i think that was very true what david gold said because alot thing we need cars to do we can go anyway were with out cars beacuse some people are a very lazy to walk to place thats why they alot of people use car and i think that it was a good idea that that they did that in vauban so people can see how we really do not need car to go to place from place because we can walk from were we need to go or we can ride bycles with out the use of a car. it good that they are doing that if you thik about your help the earth in way and thats a very good thing to. in the united states ,the environmental protection agency is promoting what is called \"car reduced\"communtunties,and the legislators are starting to act,if cautiously. maany experts expect pubic transport serving suburbs to play a much larger role in a new six years federal transportation bill to approved this year. in previous bill, percent of appropriations have by law gone to highways and only percent to other transports. there many good reason why they should do this.'"
      ]
     },
     "execution_count": 8,
     "metadata": {},
     "output_type": "execute_result"
    }
   ],
   "source": [
    "df_train['full_text'][0]"
   ]
  },
  {
   "cell_type": "markdown",
   "id": "f86a6f3d",
   "metadata": {
    "papermill": {
     "duration": 0.019845,
     "end_time": "2024-05-04T02:29:31.831706",
     "exception": false,
     "start_time": "2024-05-04T02:29:31.811861",
     "status": "completed"
    },
    "tags": []
   },
   "source": [
    "# feature extraction "
   ]
  },
  {
   "cell_type": "markdown",
   "id": "5f5a0ae9",
   "metadata": {
    "papermill": {
     "duration": 0.019397,
     "end_time": "2024-05-04T02:29:31.870887",
     "exception": false,
     "start_time": "2024-05-04T02:29:31.851490",
     "status": "completed"
    },
    "tags": []
   },
   "source": [
    "create a word_count and text length column"
   ]
  },
  {
   "cell_type": "code",
   "execution_count": 9,
   "id": "a9b40671",
   "metadata": {
    "execution": {
     "iopub.execute_input": "2024-05-04T02:29:31.914668Z",
     "iopub.status.busy": "2024-05-04T02:29:31.913455Z",
     "iopub.status.idle": "2024-05-04T02:29:33.015490Z",
     "shell.execute_reply": "2024-05-04T02:29:33.014332Z"
    },
    "papermill": {
     "duration": 1.126708,
     "end_time": "2024-05-04T02:29:33.018032",
     "exception": false,
     "start_time": "2024-05-04T02:29:31.891324",
     "status": "completed"
    },
    "tags": []
   },
   "outputs": [],
   "source": [
    "df_train['word_count'] = df_train[\"full_text\"].str.split().str.len()\n",
    "df_test['word_count'] = df_test[\"full_text\"].str.split().str.len()"
   ]
  },
  {
   "cell_type": "code",
   "execution_count": 10,
   "id": "ce052f5a",
   "metadata": {
    "execution": {
     "iopub.execute_input": "2024-05-04T02:29:33.058629Z",
     "iopub.status.busy": "2024-05-04T02:29:33.058254Z",
     "iopub.status.idle": "2024-05-04T02:29:33.074282Z",
     "shell.execute_reply": "2024-05-04T02:29:33.073009Z"
    },
    "papermill": {
     "duration": 0.038813,
     "end_time": "2024-05-04T02:29:33.076404",
     "exception": false,
     "start_time": "2024-05-04T02:29:33.037591",
     "status": "completed"
    },
    "tags": []
   },
   "outputs": [],
   "source": [
    "df_train['length'] = df_train[\"full_text\"].str.len()\n",
    "df_test['length'] = df_test[\"full_text\"].str.len()"
   ]
  },
  {
   "cell_type": "code",
   "execution_count": 11,
   "id": "d87f5129",
   "metadata": {
    "execution": {
     "iopub.execute_input": "2024-05-04T02:29:33.116850Z",
     "iopub.status.busy": "2024-05-04T02:29:33.116454Z",
     "iopub.status.idle": "2024-05-04T02:29:33.254406Z",
     "shell.execute_reply": "2024-05-04T02:29:33.253317Z"
    },
    "papermill": {
     "duration": 0.160968,
     "end_time": "2024-05-04T02:29:33.256807",
     "exception": false,
     "start_time": "2024-05-04T02:29:33.095839",
     "status": "completed"
    },
    "tags": []
   },
   "outputs": [
    {
     "data": {
      "text/html": [
       "<div>\n",
       "<style scoped>\n",
       "    .dataframe tbody tr th:only-of-type {\n",
       "        vertical-align: middle;\n",
       "    }\n",
       "\n",
       "    .dataframe tbody tr th {\n",
       "        vertical-align: top;\n",
       "    }\n",
       "\n",
       "    .dataframe thead th {\n",
       "        text-align: right;\n",
       "    }\n",
       "</style>\n",
       "<table border=\"1\" class=\"dataframe\">\n",
       "  <thead>\n",
       "    <tr style=\"text-align: right;\">\n",
       "      <th></th>\n",
       "      <th>essay_id</th>\n",
       "      <th>full_text</th>\n",
       "      <th>score</th>\n",
       "      <th>word_count</th>\n",
       "      <th>length</th>\n",
       "    </tr>\n",
       "  </thead>\n",
       "  <tbody>\n",
       "    <tr>\n",
       "      <th>0</th>\n",
       "      <td>000d118</td>\n",
       "      <td>many people have car where they live. the thin...</td>\n",
       "      <td>3</td>\n",
       "      <td>496</td>\n",
       "      <td>2647</td>\n",
       "    </tr>\n",
       "    <tr>\n",
       "      <th>1</th>\n",
       "      <td>000fe60</td>\n",
       "      <td>i am a scientist at nasa that is discussing th...</td>\n",
       "      <td>3</td>\n",
       "      <td>336</td>\n",
       "      <td>1668</td>\n",
       "    </tr>\n",
       "    <tr>\n",
       "      <th>2</th>\n",
       "      <td>001ab80</td>\n",
       "      <td>people always wish they had the same technolog...</td>\n",
       "      <td>4</td>\n",
       "      <td>553</td>\n",
       "      <td>3068</td>\n",
       "    </tr>\n",
       "    <tr>\n",
       "      <th>3</th>\n",
       "      <td>001bdc0</td>\n",
       "      <td>we all heard about venus, the planet without a...</td>\n",
       "      <td>4</td>\n",
       "      <td>450</td>\n",
       "      <td>2679</td>\n",
       "    </tr>\n",
       "    <tr>\n",
       "      <th>4</th>\n",
       "      <td>002ba53</td>\n",
       "      <td>dear, state senator this is a letter to argue ...</td>\n",
       "      <td>3</td>\n",
       "      <td>377</td>\n",
       "      <td>2188</td>\n",
       "    </tr>\n",
       "  </tbody>\n",
       "</table>\n",
       "</div>"
      ],
      "text/plain": [
       "  essay_id                                          full_text  score  \\\n",
       "0  000d118  many people have car where they live. the thin...      3   \n",
       "1  000fe60  i am a scientist at nasa that is discussing th...      3   \n",
       "2  001ab80  people always wish they had the same technolog...      4   \n",
       "3  001bdc0  we all heard about venus, the planet without a...      4   \n",
       "4  002ba53  dear, state senator this is a letter to argue ...      3   \n",
       "\n",
       "   word_count  length  \n",
       "0         496    2647  \n",
       "1         336    1668  \n",
       "2         553    3068  \n",
       "3         450    2679  \n",
       "4         377    2188  "
      ]
     },
     "execution_count": 11,
     "metadata": {},
     "output_type": "execute_result"
    }
   ],
   "source": [
    "df_train.head()"
   ]
  },
  {
   "cell_type": "markdown",
   "id": "42d1ce60",
   "metadata": {
    "papermill": {
     "duration": 0.019259,
     "end_time": "2024-05-04T02:29:33.295720",
     "exception": false,
     "start_time": "2024-05-04T02:29:33.276461",
     "status": "completed"
    },
    "tags": []
   },
   "source": [
    "**readability scores:**\n",
    "\n",
    "Dale-Chall score - Word familiarity\n",
    "\n",
    "Flesch Reading Ease score - Sentence length and word syllables\n",
    "\n",
    "Flesch-Kincaid score - Sentence length and syllable count\n",
    "\n",
    "Gunning Fog score - Word complexity and sentence length\n",
    "\n",
    "SMOG score - Grammar, syntax, and word choice"
   ]
  },
  {
   "cell_type": "markdown",
   "id": "862a6ede",
   "metadata": {
    "papermill": {
     "duration": 0.019409,
     "end_time": "2024-05-04T02:29:33.334862",
     "exception": false,
     "start_time": "2024-05-04T02:29:33.315453",
     "status": "completed"
    },
    "tags": []
   },
   "source": [
    "first add a full stop to the end of each essay that does not have one or else Textatistic gives a division by zero error"
   ]
  },
  {
   "cell_type": "code",
   "execution_count": 12,
   "id": "7b93c9bb",
   "metadata": {
    "execution": {
     "iopub.execute_input": "2024-05-04T02:29:33.378131Z",
     "iopub.status.busy": "2024-05-04T02:29:33.377729Z",
     "iopub.status.idle": "2024-05-04T02:29:33.383000Z",
     "shell.execute_reply": "2024-05-04T02:29:33.381980Z"
    },
    "papermill": {
     "duration": 0.029457,
     "end_time": "2024-05-04T02:29:33.385157",
     "exception": false,
     "start_time": "2024-05-04T02:29:33.355700",
     "status": "completed"
    },
    "tags": []
   },
   "outputs": [],
   "source": [
    "def add_full_stop(text):\n",
    "    if not text.strip().endswith('.'):\n",
    "        text += '.'\n",
    "    return text"
   ]
  },
  {
   "cell_type": "code",
   "execution_count": 13,
   "id": "347fe999",
   "metadata": {
    "execution": {
     "iopub.execute_input": "2024-05-04T02:29:33.426437Z",
     "iopub.status.busy": "2024-05-04T02:29:33.426032Z",
     "iopub.status.idle": "2024-05-04T02:29:33.444217Z",
     "shell.execute_reply": "2024-05-04T02:29:33.443058Z"
    },
    "papermill": {
     "duration": 0.041636,
     "end_time": "2024-05-04T02:29:33.446686",
     "exception": false,
     "start_time": "2024-05-04T02:29:33.405050",
     "status": "completed"
    },
    "tags": []
   },
   "outputs": [],
   "source": [
    "df_train['full_text'] = df_train['full_text'].apply(add_full_stop)\n",
    "df_test['full_text'] = df_test['full_text'].apply(add_full_stop)"
   ]
  },
  {
   "cell_type": "markdown",
   "id": "ae306295",
   "metadata": {
    "papermill": {
     "duration": 0.0198,
     "end_time": "2024-05-04T02:29:33.486815",
     "exception": false,
     "start_time": "2024-05-04T02:29:33.467015",
     "status": "completed"
    },
    "tags": []
   },
   "source": [
    "get all the scores for the entire df at once rather than each individual score one at a time\n",
    "\n",
    "***Note: This may take a while to run, roughly 10 minutes when I ran it***"
   ]
  },
  {
   "cell_type": "code",
   "execution_count": 14,
   "id": "a8b46d98",
   "metadata": {
    "execution": {
     "iopub.execute_input": "2024-05-04T02:29:33.530363Z",
     "iopub.status.busy": "2024-05-04T02:29:33.529919Z",
     "iopub.status.idle": "2024-05-04T02:39:43.781403Z",
     "shell.execute_reply": "2024-05-04T02:39:43.780190Z"
    },
    "papermill": {
     "duration": 610.293789,
     "end_time": "2024-05-04T02:39:43.800495",
     "exception": false,
     "start_time": "2024-05-04T02:29:33.506706",
     "status": "completed"
    },
    "tags": []
   },
   "outputs": [
    {
     "data": {
      "text/plain": [
       "0        <textatistic.textatistic.Textatistic object at...\n",
       "1        <textatistic.textatistic.Textatistic object at...\n",
       "2        <textatistic.textatistic.Textatistic object at...\n",
       "3        <textatistic.textatistic.Textatistic object at...\n",
       "4        <textatistic.textatistic.Textatistic object at...\n",
       "                               ...                        \n",
       "17302    <textatistic.textatistic.Textatistic object at...\n",
       "17303    <textatistic.textatistic.Textatistic object at...\n",
       "17304    <textatistic.textatistic.Textatistic object at...\n",
       "17305    <textatistic.textatistic.Textatistic object at...\n",
       "17306    <textatistic.textatistic.Textatistic object at...\n",
       "Name: full_text, Length: 17307, dtype: object"
      ]
     },
     "execution_count": 14,
     "metadata": {},
     "output_type": "execute_result"
    }
   ],
   "source": [
    "scores = []\n",
    "\n",
    "scores = df_train['full_text'].apply(lambda text: Textatistic(text))\n",
    "scores"
   ]
  },
  {
   "cell_type": "markdown",
   "id": "1deba59d",
   "metadata": {
    "papermill": {
     "duration": 0.019568,
     "end_time": "2024-05-04T02:39:43.840212",
     "exception": false,
     "start_time": "2024-05-04T02:39:43.820644",
     "status": "completed"
    },
    "tags": []
   },
   "source": [
    "pull out all the scores"
   ]
  },
  {
   "cell_type": "code",
   "execution_count": 15,
   "id": "c942ac24",
   "metadata": {
    "execution": {
     "iopub.execute_input": "2024-05-04T02:39:43.882279Z",
     "iopub.status.busy": "2024-05-04T02:39:43.881491Z",
     "iopub.status.idle": "2024-05-04T02:39:43.906371Z",
     "shell.execute_reply": "2024-05-04T02:39:43.905356Z"
    },
    "papermill": {
     "duration": 0.048614,
     "end_time": "2024-05-04T02:39:43.908517",
     "exception": false,
     "start_time": "2024-05-04T02:39:43.859903",
     "status": "completed"
    },
    "tags": []
   },
   "outputs": [],
   "source": [
    "flesch_scores = []\n",
    "fleschkincaid_scores = []\n",
    "gunningfog_scores = []\n",
    "smog_scores = []\n",
    "dalechall_scores = []\n",
    "\n",
    "for score in scores:\n",
    "    flesch_scores.append(score.scores['flesch_score'])\n",
    "    fleschkincaid_scores.append(score.scores['fleschkincaid_score'])\n",
    "    gunningfog_scores.append(score.scores['gunningfog_score'])\n",
    "    smog_scores.append(score.scores['smog_score'])\n",
    "    dalechall_scores.append(score.scores['dalechall_score'])\n"
   ]
  },
  {
   "cell_type": "markdown",
   "id": "74a4bad7",
   "metadata": {
    "papermill": {
     "duration": 0.01965,
     "end_time": "2024-05-04T02:39:43.948186",
     "exception": false,
     "start_time": "2024-05-04T02:39:43.928536",
     "status": "completed"
    },
    "tags": []
   },
   "source": [
    "add them to the dataframe"
   ]
  },
  {
   "cell_type": "code",
   "execution_count": 16,
   "id": "d370cfb2",
   "metadata": {
    "execution": {
     "iopub.execute_input": "2024-05-04T02:39:43.990031Z",
     "iopub.status.busy": "2024-05-04T02:39:43.989641Z",
     "iopub.status.idle": "2024-05-04T02:39:44.007557Z",
     "shell.execute_reply": "2024-05-04T02:39:44.006629Z"
    },
    "papermill": {
     "duration": 0.04087,
     "end_time": "2024-05-04T02:39:44.009496",
     "exception": false,
     "start_time": "2024-05-04T02:39:43.968626",
     "status": "completed"
    },
    "tags": []
   },
   "outputs": [],
   "source": [
    "# df_train['flesch_score'] = [index for df_train.index]\n",
    "df_train['flesch_score'] = flesch_scores\n",
    "df_train['fleschkincaid_score'] = fleschkincaid_scores\n",
    "df_train['gunningfog_score'] = gunningfog_scores\n",
    "df_train['smog_score'] = smog_scores\n",
    "df_train['dalechall_score'] = dalechall_scores"
   ]
  },
  {
   "cell_type": "markdown",
   "id": "af44f2be",
   "metadata": {
    "papermill": {
     "duration": 0.020405,
     "end_time": "2024-05-04T02:39:44.049710",
     "exception": false,
     "start_time": "2024-05-04T02:39:44.029305",
     "status": "completed"
    },
    "tags": []
   },
   "source": [
    "do same for test df"
   ]
  },
  {
   "cell_type": "code",
   "execution_count": 17,
   "id": "0bd8b059",
   "metadata": {
    "execution": {
     "iopub.execute_input": "2024-05-04T02:39:44.091028Z",
     "iopub.status.busy": "2024-05-04T02:39:44.090602Z",
     "iopub.status.idle": "2024-05-04T02:39:44.229350Z",
     "shell.execute_reply": "2024-05-04T02:39:44.228205Z"
    },
    "papermill": {
     "duration": 0.162427,
     "end_time": "2024-05-04T02:39:44.231841",
     "exception": false,
     "start_time": "2024-05-04T02:39:44.069414",
     "status": "completed"
    },
    "tags": []
   },
   "outputs": [],
   "source": [
    "scores = []\n",
    "\n",
    "scores = df_test['full_text'].apply(lambda text: Textatistic(text))\n",
    "\n",
    "\n",
    "flesch_scores = []\n",
    "fleschkincaid_scores = []\n",
    "gunningfog_scores = []\n",
    "smog_scores = []\n",
    "dalechall_scores = []\n",
    "\n",
    "for score in scores:\n",
    "    flesch_scores.append(score.scores['flesch_score'])\n",
    "    fleschkincaid_scores.append(score.scores['fleschkincaid_score'])\n",
    "    gunningfog_scores.append(score.scores['gunningfog_score'])\n",
    "    smog_scores.append(score.scores['smog_score'])\n",
    "    dalechall_scores.append(score.scores['dalechall_score'])\n",
    "    \n",
    "df_test['flesch_score'] = flesch_scores\n",
    "df_test['fleschkincaid_score'] = fleschkincaid_scores\n",
    "df_test['gunningfog_score'] = gunningfog_scores\n",
    "df_test['smog_score'] = smog_scores\n",
    "df_test['dalechall_score'] = dalechall_scores"
   ]
  },
  {
   "cell_type": "code",
   "execution_count": 18,
   "id": "fa5f34d6",
   "metadata": {
    "execution": {
     "iopub.execute_input": "2024-05-04T02:39:44.273873Z",
     "iopub.status.busy": "2024-05-04T02:39:44.273480Z",
     "iopub.status.idle": "2024-05-04T02:39:44.289638Z",
     "shell.execute_reply": "2024-05-04T02:39:44.288622Z"
    },
    "papermill": {
     "duration": 0.040295,
     "end_time": "2024-05-04T02:39:44.292006",
     "exception": false,
     "start_time": "2024-05-04T02:39:44.251711",
     "status": "completed"
    },
    "tags": []
   },
   "outputs": [
    {
     "data": {
      "text/html": [
       "<div>\n",
       "<style scoped>\n",
       "    .dataframe tbody tr th:only-of-type {\n",
       "        vertical-align: middle;\n",
       "    }\n",
       "\n",
       "    .dataframe tbody tr th {\n",
       "        vertical-align: top;\n",
       "    }\n",
       "\n",
       "    .dataframe thead th {\n",
       "        text-align: right;\n",
       "    }\n",
       "</style>\n",
       "<table border=\"1\" class=\"dataframe\">\n",
       "  <thead>\n",
       "    <tr style=\"text-align: right;\">\n",
       "      <th></th>\n",
       "      <th>essay_id</th>\n",
       "      <th>full_text</th>\n",
       "      <th>score</th>\n",
       "      <th>word_count</th>\n",
       "      <th>length</th>\n",
       "      <th>flesch_score</th>\n",
       "      <th>fleschkincaid_score</th>\n",
       "      <th>gunningfog_score</th>\n",
       "      <th>smog_score</th>\n",
       "      <th>dalechall_score</th>\n",
       "    </tr>\n",
       "  </thead>\n",
       "  <tbody>\n",
       "    <tr>\n",
       "      <th>0</th>\n",
       "      <td>000d118</td>\n",
       "      <td>many people have car where they live. the thin...</td>\n",
       "      <td>3</td>\n",
       "      <td>496</td>\n",
       "      <td>2647</td>\n",
       "      <td>63.456903</td>\n",
       "      <td>13.848623</td>\n",
       "      <td>17.062348</td>\n",
       "      <td>10.727763</td>\n",
       "      <td>8.366057</td>\n",
       "    </tr>\n",
       "    <tr>\n",
       "      <th>1</th>\n",
       "      <td>000fe60</td>\n",
       "      <td>i am a scientist at nasa that is discussing th...</td>\n",
       "      <td>3</td>\n",
       "      <td>336</td>\n",
       "      <td>1668</td>\n",
       "      <td>90.887857</td>\n",
       "      <td>4.557143</td>\n",
       "      <td>7.233333</td>\n",
       "      <td>6.427356</td>\n",
       "      <td>6.591826</td>\n",
       "    </tr>\n",
       "    <tr>\n",
       "      <th>2</th>\n",
       "      <td>001ab80</td>\n",
       "      <td>people always wish they had the same technolog...</td>\n",
       "      <td>4</td>\n",
       "      <td>553</td>\n",
       "      <td>3068</td>\n",
       "      <td>71.165344</td>\n",
       "      <td>9.067735</td>\n",
       "      <td>12.338026</td>\n",
       "      <td>10.775791</td>\n",
       "      <td>7.232589</td>\n",
       "    </tr>\n",
       "    <tr>\n",
       "      <th>3</th>\n",
       "      <td>001bdc0</td>\n",
       "      <td>we all heard about venus, the planet without a...</td>\n",
       "      <td>4</td>\n",
       "      <td>450</td>\n",
       "      <td>2679</td>\n",
       "      <td>62.588389</td>\n",
       "      <td>9.817469</td>\n",
       "      <td>13.793928</td>\n",
       "      <td>12.704596</td>\n",
       "      <td>9.390415</td>\n",
       "    </tr>\n",
       "    <tr>\n",
       "      <th>4</th>\n",
       "      <td>002ba53</td>\n",
       "      <td>dear, state senator this is a letter to argue ...</td>\n",
       "      <td>3</td>\n",
       "      <td>377</td>\n",
       "      <td>2188</td>\n",
       "      <td>59.907500</td>\n",
       "      <td>10.741489</td>\n",
       "      <td>13.442553</td>\n",
       "      <td>11.933033</td>\n",
       "      <td>8.875584</td>\n",
       "    </tr>\n",
       "  </tbody>\n",
       "</table>\n",
       "</div>"
      ],
      "text/plain": [
       "  essay_id                                          full_text  score  \\\n",
       "0  000d118  many people have car where they live. the thin...      3   \n",
       "1  000fe60  i am a scientist at nasa that is discussing th...      3   \n",
       "2  001ab80  people always wish they had the same technolog...      4   \n",
       "3  001bdc0  we all heard about venus, the planet without a...      4   \n",
       "4  002ba53  dear, state senator this is a letter to argue ...      3   \n",
       "\n",
       "   word_count  length  flesch_score  fleschkincaid_score  gunningfog_score  \\\n",
       "0         496    2647     63.456903            13.848623         17.062348   \n",
       "1         336    1668     90.887857             4.557143          7.233333   \n",
       "2         553    3068     71.165344             9.067735         12.338026   \n",
       "3         450    2679     62.588389             9.817469         13.793928   \n",
       "4         377    2188     59.907500            10.741489         13.442553   \n",
       "\n",
       "   smog_score  dalechall_score  \n",
       "0   10.727763         8.366057  \n",
       "1    6.427356         6.591826  \n",
       "2   10.775791         7.232589  \n",
       "3   12.704596         9.390415  \n",
       "4   11.933033         8.875584  "
      ]
     },
     "execution_count": 18,
     "metadata": {},
     "output_type": "execute_result"
    }
   ],
   "source": [
    "df_train.head()"
   ]
  },
  {
   "cell_type": "code",
   "execution_count": 19,
   "id": "6bae3b5f",
   "metadata": {
    "execution": {
     "iopub.execute_input": "2024-05-04T02:39:44.334552Z",
     "iopub.status.busy": "2024-05-04T02:39:44.334195Z",
     "iopub.status.idle": "2024-05-04T02:39:44.348557Z",
     "shell.execute_reply": "2024-05-04T02:39:44.347433Z"
    },
    "papermill": {
     "duration": 0.037913,
     "end_time": "2024-05-04T02:39:44.350604",
     "exception": false,
     "start_time": "2024-05-04T02:39:44.312691",
     "status": "completed"
    },
    "tags": []
   },
   "outputs": [
    {
     "data": {
      "text/html": [
       "<div>\n",
       "<style scoped>\n",
       "    .dataframe tbody tr th:only-of-type {\n",
       "        vertical-align: middle;\n",
       "    }\n",
       "\n",
       "    .dataframe tbody tr th {\n",
       "        vertical-align: top;\n",
       "    }\n",
       "\n",
       "    .dataframe thead th {\n",
       "        text-align: right;\n",
       "    }\n",
       "</style>\n",
       "<table border=\"1\" class=\"dataframe\">\n",
       "  <thead>\n",
       "    <tr style=\"text-align: right;\">\n",
       "      <th></th>\n",
       "      <th>essay_id</th>\n",
       "      <th>full_text</th>\n",
       "      <th>word_count</th>\n",
       "      <th>length</th>\n",
       "      <th>flesch_score</th>\n",
       "      <th>fleschkincaid_score</th>\n",
       "      <th>gunningfog_score</th>\n",
       "      <th>smog_score</th>\n",
       "      <th>dalechall_score</th>\n",
       "    </tr>\n",
       "  </thead>\n",
       "  <tbody>\n",
       "    <tr>\n",
       "      <th>0</th>\n",
       "      <td>000d118</td>\n",
       "      <td>many people have car where they live. the thin...</td>\n",
       "      <td>496</td>\n",
       "      <td>2647</td>\n",
       "      <td>63.456903</td>\n",
       "      <td>13.848623</td>\n",
       "      <td>17.062348</td>\n",
       "      <td>10.727763</td>\n",
       "      <td>8.366057</td>\n",
       "    </tr>\n",
       "    <tr>\n",
       "      <th>1</th>\n",
       "      <td>000fe60</td>\n",
       "      <td>i am a scientist at nasa that is discussing th...</td>\n",
       "      <td>336</td>\n",
       "      <td>1668</td>\n",
       "      <td>90.887857</td>\n",
       "      <td>4.557143</td>\n",
       "      <td>7.233333</td>\n",
       "      <td>6.427356</td>\n",
       "      <td>6.591826</td>\n",
       "    </tr>\n",
       "    <tr>\n",
       "      <th>2</th>\n",
       "      <td>001ab80</td>\n",
       "      <td>people always wish they had the same technolog...</td>\n",
       "      <td>553</td>\n",
       "      <td>3068</td>\n",
       "      <td>71.165344</td>\n",
       "      <td>9.067735</td>\n",
       "      <td>12.338026</td>\n",
       "      <td>10.775791</td>\n",
       "      <td>7.232589</td>\n",
       "    </tr>\n",
       "  </tbody>\n",
       "</table>\n",
       "</div>"
      ],
      "text/plain": [
       "  essay_id                                          full_text  word_count  \\\n",
       "0  000d118  many people have car where they live. the thin...         496   \n",
       "1  000fe60  i am a scientist at nasa that is discussing th...         336   \n",
       "2  001ab80  people always wish they had the same technolog...         553   \n",
       "\n",
       "   length  flesch_score  fleschkincaid_score  gunningfog_score  smog_score  \\\n",
       "0    2647     63.456903            13.848623         17.062348   10.727763   \n",
       "1    1668     90.887857             4.557143          7.233333    6.427356   \n",
       "2    3068     71.165344             9.067735         12.338026   10.775791   \n",
       "\n",
       "   dalechall_score  \n",
       "0         8.366057  \n",
       "1         6.591826  \n",
       "2         7.232589  "
      ]
     },
     "execution_count": 19,
     "metadata": {},
     "output_type": "execute_result"
    }
   ],
   "source": [
    "df_test.head()"
   ]
  },
  {
   "cell_type": "markdown",
   "id": "b3a41c85",
   "metadata": {
    "papermill": {
     "duration": 0.020269,
     "end_time": "2024-05-04T02:39:44.390927",
     "exception": false,
     "start_time": "2024-05-04T02:39:44.370658",
     "status": "completed"
    },
    "tags": []
   },
   "source": [
    "this method trains and evaluates each pipeline \n",
    "returns the y_pred and quadratic weighted kappa score of the model"
   ]
  },
  {
   "cell_type": "code",
   "execution_count": 20,
   "id": "85a0ec22",
   "metadata": {
    "execution": {
     "iopub.execute_input": "2024-05-04T02:39:44.434388Z",
     "iopub.status.busy": "2024-05-04T02:39:44.433744Z",
     "iopub.status.idle": "2024-05-04T02:39:44.440363Z",
     "shell.execute_reply": "2024-05-04T02:39:44.439343Z"
    },
    "papermill": {
     "duration": 0.031047,
     "end_time": "2024-05-04T02:39:44.442661",
     "exception": false,
     "start_time": "2024-05-04T02:39:44.411614",
     "status": "completed"
    },
    "tags": []
   },
   "outputs": [],
   "source": [
    "def train_and_evaluate_pipeline(pipeline, X_train, y_train, X_test, y_test):\n",
    "    pipeline.fit(X_train, y_train)\n",
    "    y_pred = pipeline.predict(X_test)\n",
    "    \n",
    "    kappa = cohen_kappa_score(y_test, y_pred, weights='quadratic')\n",
    "    \n",
    "    print()\n",
    "    print('Classifier used: ', pipeline.named_steps['classifier'])\n",
    "    print('y_test: ', y_test.tolist()[0:10])\n",
    "    print('y_pred: ', y_pred.tolist()[0:10])\n",
    "    print('quadratic weighted kappa score: ', kappa)\n",
    "    \n",
    "    return pipeline, y_pred"
   ]
  },
  {
   "cell_type": "markdown",
   "id": "fb386a02",
   "metadata": {
    "papermill": {
     "duration": 0.019982,
     "end_time": "2024-05-04T02:39:44.483318",
     "exception": false,
     "start_time": "2024-05-04T02:39:44.463336",
     "status": "completed"
    },
    "tags": []
   },
   "source": [
    "method for performing cross_validation of pipelines and showing their average performances"
   ]
  },
  {
   "cell_type": "code",
   "execution_count": 21,
   "id": "67e42f67",
   "metadata": {
    "execution": {
     "iopub.execute_input": "2024-05-04T02:39:44.528294Z",
     "iopub.status.busy": "2024-05-04T02:39:44.527289Z",
     "iopub.status.idle": "2024-05-04T02:39:44.534440Z",
     "shell.execute_reply": "2024-05-04T02:39:44.533608Z"
    },
    "papermill": {
     "duration": 0.032106,
     "end_time": "2024-05-04T02:39:44.536546",
     "exception": false,
     "start_time": "2024-05-04T02:39:44.504440",
     "status": "completed"
    },
    "tags": []
   },
   "outputs": [],
   "source": [
    "#define quadratic weighted kappa as a custom scorer\n",
    "qwk_scorer = make_scorer(cohen_kappa_score, weights='quadratic')\n",
    "\n",
    "def pipeline_cross_validation(pipeline, X_train, y_train, qwk_scorer=qwk_scorer):\n",
    "    # Define cross-validation strategy and perform cross-validation\n",
    "    scoring = {'accuracy': 'accuracy', 'f1_weighted': 'f1_weighted', 'qwk': qwk_scorer}\n",
    "    cv_results = cross_validate(pipeline, X_train, y_train, cv=5, scoring=scoring)\n",
    "\n",
    "    # Print cross-validation results\n",
    "    print(\"Mean Accuracy:\", np.mean(cv_results['test_accuracy']))\n",
    "    print(\"Mean Weighted F1-score:\", np.mean(cv_results['test_f1_weighted']))\n",
    "    print(\"Mean Quadratic Weighted Kappa Score:\", np.mean(cv_results['test_qwk']))\n",
    "    \n",
    "#     return np.mean(cv_results['test_qwk']), np.mean(cv_results['test_accuracy']), np.mean(cv_results['test_f1_weighted'])\n",
    "    return cv_results"
   ]
  },
  {
   "cell_type": "markdown",
   "id": "9937035c",
   "metadata": {
    "papermill": {
     "duration": 0.021158,
     "end_time": "2024-05-04T02:39:44.578860",
     "exception": false,
     "start_time": "2024-05-04T02:39:44.557702",
     "status": "completed"
    },
    "tags": []
   },
   "source": [
    "method for printing wordcloud"
   ]
  },
  {
   "cell_type": "code",
   "execution_count": 22,
   "id": "f0bf8bff",
   "metadata": {
    "execution": {
     "iopub.execute_input": "2024-05-04T02:39:44.622494Z",
     "iopub.status.busy": "2024-05-04T02:39:44.622101Z",
     "iopub.status.idle": "2024-05-04T02:39:44.628083Z",
     "shell.execute_reply": "2024-05-04T02:39:44.626999Z"
    },
    "papermill": {
     "duration": 0.03047,
     "end_time": "2024-05-04T02:39:44.630067",
     "exception": false,
     "start_time": "2024-05-04T02:39:44.599597",
     "status": "completed"
    },
    "tags": []
   },
   "outputs": [],
   "source": [
    "def print_cloud(data):\n",
    "    text = \" \".join(word for word in data)\n",
    "    print (\"There are {} words in the combination\".format(len(text)))\n",
    "    stopwords_set = set(stopwords.words('english'))\n",
    "    wordcloud = WordCloud(stopwords=stopwords_set, background_color=\"white\").generate(text)\n",
    "    return wordcloud"
   ]
  },
  {
   "cell_type": "markdown",
   "id": "9e4fdf27",
   "metadata": {
    "papermill": {
     "duration": 0.019977,
     "end_time": "2024-05-04T02:39:44.670554",
     "exception": false,
     "start_time": "2024-05-04T02:39:44.650577",
     "status": "completed"
    },
    "tags": []
   },
   "source": [
    "show word cloud for full texts of essays"
   ]
  },
  {
   "cell_type": "code",
   "execution_count": 23,
   "id": "ffbd67a6",
   "metadata": {
    "execution": {
     "iopub.execute_input": "2024-05-04T02:39:44.712643Z",
     "iopub.status.busy": "2024-05-04T02:39:44.711970Z",
     "iopub.status.idle": "2024-05-04T02:40:03.182465Z",
     "shell.execute_reply": "2024-05-04T02:40:03.181227Z"
    },
    "papermill": {
     "duration": 18.498734,
     "end_time": "2024-05-04T02:40:03.189411",
     "exception": false,
     "start_time": "2024-05-04T02:39:44.690677",
     "status": "completed"
    },
    "tags": []
   },
   "outputs": [
    {
     "name": "stdout",
     "output_type": "stream",
     "text": [
      "There are 35364218 words in the combination\n"
     ]
    },
    {
     "data": {
      "image/png": "[encoded data removed]",
      "text/plain": [
       "<Figure size 640x480 with 1 Axes>"
      ]
     },
     "metadata": {},
     "output_type": "display_data"
    }
   ],
   "source": [
    "wordcloud = print_cloud(df_train['full_text'])\n",
    "fig = plt.figure(2)\n",
    "plt.imshow(wordcloud, interpolation='bilinear')\n",
    "plt.axis(\"off\")\n",
    "plt.show()"
   ]
  },
  {
   "cell_type": "markdown",
   "id": "1f5c8c5d",
   "metadata": {
    "papermill": {
     "duration": 0.022493,
     "end_time": "2024-05-04T02:40:03.243051",
     "exception": false,
     "start_time": "2024-05-04T02:40:03.220558",
     "status": "completed"
    },
    "tags": []
   },
   "source": [
    "distribution of classes"
   ]
  },
  {
   "cell_type": "code",
   "execution_count": 24,
   "id": "dda0a559",
   "metadata": {
    "execution": {
     "iopub.execute_input": "2024-05-04T02:40:03.290994Z",
     "iopub.status.busy": "2024-05-04T02:40:03.290599Z",
     "iopub.status.idle": "2024-05-04T02:40:03.593470Z",
     "shell.execute_reply": "2024-05-04T02:40:03.592285Z"
    },
    "papermill": {
     "duration": 0.32946,
     "end_time": "2024-05-04T02:40:03.595755",
     "exception": false,
     "start_time": "2024-05-04T02:40:03.266295",
     "status": "completed"
    },
    "tags": []
   },
   "outputs": [
    {
     "data": {
      "image/png": "[encoded data removed]",
      "text/plain": [
       "<Figure size 800x600 with 1 Axes>"
      ]
     },
     "metadata": {},
     "output_type": "display_data"
    }
   ],
   "source": [
    "plt.figure(figsize=(8, 6))\n",
    "plt.hist(df_train['score'], bins=30, color='blue', edgecolor='black')\n",
    "plt.title('Distribution of Scores')\n",
    "plt.xlabel('Score')\n",
    "plt.ylabel('Frequency')\n",
    "plt.grid(True)\n",
    "plt.show()"
   ]
  },
  {
   "cell_type": "markdown",
   "id": "926ddf90",
   "metadata": {
    "papermill": {
     "duration": 0.022625,
     "end_time": "2024-05-04T02:40:03.641691",
     "exception": false,
     "start_time": "2024-05-04T02:40:03.619066",
     "status": "completed"
    },
    "tags": []
   },
   "source": [
    "create the tfidf"
   ]
  },
  {
   "cell_type": "code",
   "execution_count": 25,
   "id": "ca0a5737",
   "metadata": {
    "execution": {
     "iopub.execute_input": "2024-05-04T02:40:03.690661Z",
     "iopub.status.busy": "2024-05-04T02:40:03.689426Z",
     "iopub.status.idle": "2024-05-04T02:40:03.694918Z",
     "shell.execute_reply": "2024-05-04T02:40:03.694138Z"
    },
    "papermill": {
     "duration": 0.031958,
     "end_time": "2024-05-04T02:40:03.696921",
     "exception": false,
     "start_time": "2024-05-04T02:40:03.664963",
     "status": "completed"
    },
    "tags": []
   },
   "outputs": [],
   "source": [
    "tfidf_vectorizer = TfidfVectorizer(stop_words='english', min_df=0.05, max_df=0.95,)"
   ]
  },
  {
   "cell_type": "markdown",
   "id": "5089c3dd",
   "metadata": {
    "papermill": {
     "duration": 0.022641,
     "end_time": "2024-05-04T02:40:03.742690",
     "exception": false,
     "start_time": "2024-05-04T02:40:03.720049",
     "status": "completed"
    },
    "tags": []
   },
   "source": [
    "create the multinomial logistic regression classifier"
   ]
  },
  {
   "cell_type": "code",
   "execution_count": 26,
   "id": "8b9f4526",
   "metadata": {
    "execution": {
     "iopub.execute_input": "2024-05-04T02:40:03.791134Z",
     "iopub.status.busy": "2024-05-04T02:40:03.790133Z",
     "iopub.status.idle": "2024-05-04T02:40:03.795625Z",
     "shell.execute_reply": "2024-05-04T02:40:03.794683Z"
    },
    "papermill": {
     "duration": 0.032069,
     "end_time": "2024-05-04T02:40:03.797851",
     "exception": false,
     "start_time": "2024-05-04T02:40:03.765782",
     "status": "completed"
    },
    "tags": []
   },
   "outputs": [],
   "source": [
    "logreg_clf = LogisticRegression(multi_class='multinomial', solver='lbfgs', max_iter=500)"
   ]
  },
  {
   "cell_type": "markdown",
   "id": "3cd58e04",
   "metadata": {
    "papermill": {
     "duration": 0.024913,
     "end_time": "2024-05-04T02:40:03.846749",
     "exception": false,
     "start_time": "2024-05-04T02:40:03.821836",
     "status": "completed"
    },
    "tags": []
   },
   "source": [
    "create preprocessor for pipelines"
   ]
  },
  {
   "cell_type": "code",
   "execution_count": 27,
   "id": "6b5266eb",
   "metadata": {
    "execution": {
     "iopub.execute_input": "2024-05-04T02:40:03.895693Z",
     "iopub.status.busy": "2024-05-04T02:40:03.895318Z",
     "iopub.status.idle": "2024-05-04T02:40:03.901583Z",
     "shell.execute_reply": "2024-05-04T02:40:03.900535Z"
    },
    "papermill": {
     "duration": 0.033208,
     "end_time": "2024-05-04T02:40:03.903789",
     "exception": false,
     "start_time": "2024-05-04T02:40:03.870581",
     "status": "completed"
    },
    "tags": []
   },
   "outputs": [],
   "source": [
    "tfidf_preprocessor = ColumnTransformer(\n",
    "    transformers=[\n",
    "        ('text', tfidf_vectorizer, 'full_text'),\n",
    "        ('word_count', StandardScaler(), ['word_count']),\n",
    "        ('length', StandardScaler(), ['length']),\n",
    "        ('flesch_score', StandardScaler(), ['flesch_score']),\n",
    "        ('fleschkincaid_score', StandardScaler(), ['fleschkincaid_score']),\n",
    "        ('gunningfog_score', StandardScaler(), ['gunningfog_score']),\n",
    "        ('smog_score', StandardScaler(), ['smog_score']),\n",
    "        ('dalechall_score', StandardScaler(), ['dalechall_score'])\n",
    "    ],\n",
    "    remainder='passthrough'\n",
    ")"
   ]
  },
  {
   "cell_type": "markdown",
   "id": "f999b5d9",
   "metadata": {
    "papermill": {
     "duration": 0.022802,
     "end_time": "2024-05-04T02:40:03.949710",
     "exception": false,
     "start_time": "2024-05-04T02:40:03.926908",
     "status": "completed"
    },
    "tags": []
   },
   "source": [
    "pipeline for logistic regression"
   ]
  },
  {
   "cell_type": "code",
   "execution_count": 28,
   "id": "b0507f46",
   "metadata": {
    "execution": {
     "iopub.execute_input": "2024-05-04T02:40:03.998195Z",
     "iopub.status.busy": "2024-05-04T02:40:03.997824Z",
     "iopub.status.idle": "2024-05-04T02:40:04.002439Z",
     "shell.execute_reply": "2024-05-04T02:40:04.001489Z"
    },
    "papermill": {
     "duration": 0.031349,
     "end_time": "2024-05-04T02:40:04.004634",
     "exception": false,
     "start_time": "2024-05-04T02:40:03.973285",
     "status": "completed"
    },
    "tags": []
   },
   "outputs": [],
   "source": [
    "logreg_pipeline = Pipeline(steps=[\n",
    "#     ('tfidf', tfidf_vectorizer),\n",
    "    ('preprocessor', tfidf_preprocessor),\n",
    "    ('classifier', logreg_clf)\n",
    "])"
   ]
  },
  {
   "cell_type": "markdown",
   "id": "57dd5d88",
   "metadata": {
    "papermill": {
     "duration": 0.023279,
     "end_time": "2024-05-04T02:40:04.051002",
     "exception": false,
     "start_time": "2024-05-04T02:40:04.027723",
     "status": "completed"
    },
    "tags": []
   },
   "source": [
    "# splitting X and y"
   ]
  },
  {
   "cell_type": "code",
   "execution_count": 29,
   "id": "dc6015ff",
   "metadata": {
    "execution": {
     "iopub.execute_input": "2024-05-04T02:40:04.099275Z",
     "iopub.status.busy": "2024-05-04T02:40:04.098881Z",
     "iopub.status.idle": "2024-05-04T02:40:04.124325Z",
     "shell.execute_reply": "2024-05-04T02:40:04.123152Z"
    },
    "papermill": {
     "duration": 0.052516,
     "end_time": "2024-05-04T02:40:04.127056",
     "exception": false,
     "start_time": "2024-05-04T02:40:04.074540",
     "status": "completed"
    },
    "tags": []
   },
   "outputs": [],
   "source": [
    "X = df_train[['full_text', 'word_count', 'length', 'flesch_score' , 'fleschkincaid_score', 'gunningfog_score', 'smog_score', 'dalechall_score']]\n",
    "y = df_train['score']\n",
    "sub_X = df_test[['full_text', 'word_count', 'length', 'flesch_score' , 'fleschkincaid_score', 'gunningfog_score', 'smog_score', 'dalechall_score']]\n",
    "sub_y = df_sub['score']\n",
    "\n",
    "X_train, X_test, y_train, y_test = train_test_split(X, y, train_size = 0.8)\n",
    "\n"
   ]
  },
  {
   "cell_type": "markdown",
   "id": "7de98f78",
   "metadata": {
    "papermill": {
     "duration": 0.023163,
     "end_time": "2024-05-04T02:40:04.174016",
     "exception": false,
     "start_time": "2024-05-04T02:40:04.150853",
     "status": "completed"
    },
    "tags": []
   },
   "source": [
    "# training and evaluating models "
   ]
  },
  {
   "cell_type": "code",
   "execution_count": 30,
   "id": "46e9ad4d",
   "metadata": {
    "execution": {
     "iopub.execute_input": "2024-05-04T02:40:04.223303Z",
     "iopub.status.busy": "2024-05-04T02:40:04.222870Z",
     "iopub.status.idle": "2024-05-04T02:40:12.732714Z",
     "shell.execute_reply": "2024-05-04T02:40:12.731585Z"
    },
    "papermill": {
     "duration": 8.537528,
     "end_time": "2024-05-04T02:40:12.735361",
     "exception": false,
     "start_time": "2024-05-04T02:40:04.197833",
     "status": "completed"
    },
    "tags": []
   },
   "outputs": [
    {
     "name": "stdout",
     "output_type": "stream",
     "text": [
      "\n",
      "Classifier used:  LogisticRegression(max_iter=500, multi_class='multinomial')\n",
      "y_test:  [3, 2, 3, 3, 3, 3, 1, 2, 3, 2]\n",
      "y_pred:  [3, 3, 3, 2, 3, 4, 2, 2, 3, 2]\n",
      "quadratic weighted kappa score:  0.7300148595732716\n"
     ]
    }
   ],
   "source": [
    "trained_logreg_pipeline, logreg_y_pred = train_and_evaluate_pipeline(logreg_pipeline, X_train, y_train, X_test, y_test)"
   ]
  },
  {
   "cell_type": "markdown",
   "id": "69a9bde0",
   "metadata": {
    "papermill": {
     "duration": 0.023404,
     "end_time": "2024-05-04T02:40:12.782519",
     "exception": false,
     "start_time": "2024-05-04T02:40:12.759115",
     "status": "completed"
    },
    "tags": []
   },
   "source": [
    "run cross validation to get average performance"
   ]
  },
  {
   "cell_type": "code",
   "execution_count": 31,
   "id": "e6ba3d84",
   "metadata": {
    "execution": {
     "iopub.execute_input": "2024-05-04T02:40:12.831197Z",
     "iopub.status.busy": "2024-05-04T02:40:12.830554Z",
     "iopub.status.idle": "2024-05-04T02:40:44.394976Z",
     "shell.execute_reply": "2024-05-04T02:40:44.393912Z"
    },
    "papermill": {
     "duration": 31.614514,
     "end_time": "2024-05-04T02:40:44.420415",
     "exception": false,
     "start_time": "2024-05-04T02:40:12.805901",
     "status": "completed"
    },
    "tags": []
   },
   "outputs": [
    {
     "name": "stdout",
     "output_type": "stream",
     "text": [
      "Mean Accuracy: 0.597327555074034\n",
      "Mean Weighted F1-score: 0.5872595328015017\n",
      "Mean Quadratic Weighted Kappa Score: 0.7273836012417305\n"
     ]
    }
   ],
   "source": [
    "logreg_cv_results = pipeline_cross_validation(logreg_pipeline, X_train, y_train)\n",
    "avg_logreg_qwk = np.mean(logreg_cv_results['test_qwk'])\n",
    "avg_logreg_acc = np.mean(logreg_cv_results['test_accuracy'])\n",
    "avg_logreg_f1 = np.mean(logreg_cv_results['test_f1_weighted'])"
   ]
  },
  {
   "cell_type": "code",
   "execution_count": 32,
   "id": "e7dc26a8",
   "metadata": {
    "execution": {
     "iopub.execute_input": "2024-05-04T02:40:44.469274Z",
     "iopub.status.busy": "2024-05-04T02:40:44.468480Z",
     "iopub.status.idle": "2024-05-04T02:40:44.488200Z",
     "shell.execute_reply": "2024-05-04T02:40:44.487083Z"
    },
    "papermill": {
     "duration": 0.047003,
     "end_time": "2024-05-04T02:40:44.490825",
     "exception": false,
     "start_time": "2024-05-04T02:40:44.443822",
     "status": "completed"
    },
    "tags": []
   },
   "outputs": [
    {
     "name": "stdout",
     "output_type": "stream",
     "text": [
      "              precision    recall  f1-score   support\n",
      "\n",
      "           1       0.63      0.27      0.38       255\n",
      "           2       0.61      0.67      0.64       922\n",
      "           3       0.57      0.65      0.61      1248\n",
      "           4       0.56      0.55      0.56       798\n",
      "           5       0.50      0.31      0.38       206\n",
      "           6       0.50      0.15      0.23        33\n",
      "\n",
      "    accuracy                           0.58      3462\n",
      "   macro avg       0.56      0.43      0.47      3462\n",
      "weighted avg       0.58      0.58      0.57      3462\n",
      "\n"
     ]
    }
   ],
   "source": [
    "print(classification_report(y_test, logreg_y_pred))"
   ]
  },
  {
   "cell_type": "code",
   "execution_count": 33,
   "id": "4131bfe2",
   "metadata": {
    "execution": {
     "iopub.execute_input": "2024-05-04T02:40:44.540694Z",
     "iopub.status.busy": "2024-05-04T02:40:44.539891Z",
     "iopub.status.idle": "2024-05-04T02:40:44.562587Z",
     "shell.execute_reply": "2024-05-04T02:40:44.561523Z"
    },
    "papermill": {
     "duration": 0.05035,
     "end_time": "2024-05-04T02:40:44.564734",
     "exception": false,
     "start_time": "2024-05-04T02:40:44.514384",
     "status": "completed"
    },
    "tags": []
   },
   "outputs": [
    {
     "name": "stdout",
     "output_type": "stream",
     "text": [
      "Model prediction on submission essays:  [1, 3, 4]\n",
      "Submission essays actual classes:  [3, 3, 4]\n"
     ]
    }
   ],
   "source": [
    "print(\"Model prediction on submission essays: \", trained_logreg_pipeline.predict(sub_X).tolist())\n",
    "print('Submission essays actual classes: ', sub_y.tolist())"
   ]
  },
  {
   "cell_type": "markdown",
   "id": "4f4fe2aa",
   "metadata": {
    "papermill": {
     "duration": 0.023425,
     "end_time": "2024-05-04T02:40:44.611859",
     "exception": false,
     "start_time": "2024-05-04T02:40:44.588434",
     "status": "completed"
    },
    "tags": []
   },
   "source": [
    "create a lightgbm model pipeline\n",
    "\n",
    "lgbm over xgboost for performance and scalability? maybe elaborate more"
   ]
  },
  {
   "cell_type": "code",
   "execution_count": 34,
   "id": "4953fff6",
   "metadata": {
    "execution": {
     "iopub.execute_input": "2024-05-04T02:40:44.660863Z",
     "iopub.status.busy": "2024-05-04T02:40:44.660490Z",
     "iopub.status.idle": "2024-05-04T02:40:44.665780Z",
     "shell.execute_reply": "2024-05-04T02:40:44.664625Z"
    },
    "papermill": {
     "duration": 0.032194,
     "end_time": "2024-05-04T02:40:44.667760",
     "exception": false,
     "start_time": "2024-05-04T02:40:44.635566",
     "status": "completed"
    },
    "tags": []
   },
   "outputs": [],
   "source": [
    "lgbm_clf = LGBMClassifier(objective='multiclass', num_class=6, metric='multi_logloss', num_leaves=31, learning_rate=0.1, feature_fraction=0.6)"
   ]
  },
  {
   "cell_type": "code",
   "execution_count": 35,
   "id": "e03c7ff5",
   "metadata": {
    "execution": {
     "iopub.execute_input": "2024-05-04T02:40:44.716917Z",
     "iopub.status.busy": "2024-05-04T02:40:44.716528Z",
     "iopub.status.idle": "2024-05-04T02:40:44.721331Z",
     "shell.execute_reply": "2024-05-04T02:40:44.720226Z"
    },
    "papermill": {
     "duration": 0.031766,
     "end_time": "2024-05-04T02:40:44.723251",
     "exception": false,
     "start_time": "2024-05-04T02:40:44.691485",
     "status": "completed"
    },
    "tags": []
   },
   "outputs": [],
   "source": [
    "lgbm_pipeline = Pipeline(steps=[\n",
    "#     ('tfidf', tfidf_vectorizer),   # TF-IDF Vectorizer\n",
    "    ('preprocessor', tfidf_preprocessor),\n",
    "    ('classifier', lgbm_clf) # LightGBM Classifier\n",
    "])"
   ]
  },
  {
   "cell_type": "markdown",
   "id": "cb7f8b0c",
   "metadata": {
    "papermill": {
     "duration": 0.023187,
     "end_time": "2024-05-04T02:40:44.769881",
     "exception": false,
     "start_time": "2024-05-04T02:40:44.746694",
     "status": "completed"
    },
    "tags": []
   },
   "source": [
    "use some GridSearchCV to find the best parameters"
   ]
  },
  {
   "cell_type": "code",
   "execution_count": 36,
   "id": "0540a710",
   "metadata": {
    "execution": {
     "iopub.execute_input": "2024-05-04T02:40:44.818490Z",
     "iopub.status.busy": "2024-05-04T02:40:44.818113Z",
     "iopub.status.idle": "2024-05-04T02:40:44.822915Z",
     "shell.execute_reply": "2024-05-04T02:40:44.821885Z"
    },
    "papermill": {
     "duration": 0.031467,
     "end_time": "2024-05-04T02:40:44.824992",
     "exception": false,
     "start_time": "2024-05-04T02:40:44.793525",
     "status": "completed"
    },
    "tags": []
   },
   "outputs": [],
   "source": [
    "# parameter grid used for the grid search:\n",
    "param_grid = {\n",
    "    'num_leaves': [31, 50, 100],\n",
    "    'learning_rate': [0.05, 0.1, 0.2],\n",
    "    'feature_fraction': [0.6, 0.8, 0.9]\n",
    "}"
   ]
  },
  {
   "cell_type": "code",
   "execution_count": 37,
   "id": "59b6fa62",
   "metadata": {
    "execution": {
     "iopub.execute_input": "2024-05-04T02:40:44.873867Z",
     "iopub.status.busy": "2024-05-04T02:40:44.873489Z",
     "iopub.status.idle": "2024-05-04T02:41:06.641236Z",
     "shell.execute_reply": "2024-05-04T02:41:06.640088Z"
    },
    "papermill": {
     "duration": 21.795339,
     "end_time": "2024-05-04T02:41:06.643792",
     "exception": false,
     "start_time": "2024-05-04T02:40:44.848453",
     "status": "completed"
    },
    "tags": []
   },
   "outputs": [
    {
     "name": "stdout",
     "output_type": "stream",
     "text": [
      "[LightGBM] [Warning] feature_fraction is set=0.6, colsample_bytree=1.0 will be ignored. Current value: feature_fraction=0.6\n",
      "[LightGBM] [Warning] feature_fraction is set=0.6, colsample_bytree=1.0 will be ignored. Current value: feature_fraction=0.6\n",
      "[LightGBM] [Info] Auto-choosing col-wise multi-threading, the overhead of testing was 0.054680 seconds.\n",
      "You can set `force_col_wise=true` to remove the overhead.\n",
      "[LightGBM] [Info] Total Bins 113341\n",
      "[LightGBM] [Info] Number of data points in the train set: 13845, number of used features: 447\n",
      "[LightGBM] [Info] Start training from score -2.630929\n",
      "[LightGBM] [Info] Start training from score -1.292660\n",
      "[LightGBM] [Info] Start training from score -1.012107\n",
      "[LightGBM] [Info] Start training from score -1.487530\n",
      "[LightGBM] [Info] Start training from score -2.897112\n",
      "[LightGBM] [Info] Start training from score -4.723495\n",
      "[LightGBM] [Warning] feature_fraction is set=0.6, colsample_bytree=1.0 will be ignored. Current value: feature_fraction=0.6\n",
      "\n",
      "Classifier used:  LGBMClassifier(feature_fraction=0.6, metric='multi_logloss', num_class=6,\n",
      "               objective='multiclass')\n",
      "y_test:  [3, 2, 3, 3, 3, 3, 1, 2, 3, 2]\n",
      "y_pred:  [4, 3, 3, 3, 4, 4, 2, 2, 3, 2]\n",
      "quadratic weighted kappa score:  0.7358876880613747\n"
     ]
    }
   ],
   "source": [
    "trained_lgbm_pipeline, lgbm_y_pred = train_and_evaluate_pipeline(lgbm_pipeline, X_train, y_train, X_test, y_test)"
   ]
  },
  {
   "cell_type": "code",
   "execution_count": 38,
   "id": "06507086",
   "metadata": {
    "execution": {
     "iopub.execute_input": "2024-05-04T02:41:06.695027Z",
     "iopub.status.busy": "2024-05-04T02:41:06.693799Z",
     "iopub.status.idle": "2024-05-04T02:43:10.134018Z",
     "shell.execute_reply": "2024-05-04T02:43:10.133161Z"
    },
    "papermill": {
     "duration": 123.469137,
     "end_time": "2024-05-04T02:43:10.137368",
     "exception": false,
     "start_time": "2024-05-04T02:41:06.668231",
     "status": "completed"
    },
    "tags": []
   },
   "outputs": [
    {
     "name": "stdout",
     "output_type": "stream",
     "text": [
      "[LightGBM] [Warning] feature_fraction is set=0.6, colsample_bytree=1.0 will be ignored. Current value: feature_fraction=0.6\n",
      "[LightGBM] [Warning] feature_fraction is set=0.6, colsample_bytree=1.0 will be ignored. Current value: feature_fraction=0.6\n",
      "[LightGBM] [Info] Auto-choosing col-wise multi-threading, the overhead of testing was 0.066988 seconds.\n",
      "You can set `force_col_wise=true` to remove the overhead.\n",
      "[LightGBM] [Info] Total Bins 108372\n",
      "[LightGBM] [Info] Number of data points in the train set: 11076, number of used features: 448\n",
      "[LightGBM] [Info] Start training from score -2.630427\n",
      "[LightGBM] [Info] Start training from score -1.292923\n",
      "[LightGBM] [Info] Start training from score -1.012007\n",
      "[LightGBM] [Info] Start training from score -1.487690\n",
      "[LightGBM] [Info] Start training from score -2.897439\n",
      "[LightGBM] [Info] Start training from score -4.717416\n",
      "[LightGBM] [Warning] No further splits with positive gain, best gain: -inf\n",
      "[LightGBM] [Warning] feature_fraction is set=0.6, colsample_bytree=1.0 will be ignored. Current value: feature_fraction=0.6\n",
      "[LightGBM] [Warning] feature_fraction is set=0.6, colsample_bytree=1.0 will be ignored. Current value: feature_fraction=0.6\n",
      "[LightGBM] [Warning] feature_fraction is set=0.6, colsample_bytree=1.0 will be ignored. Current value: feature_fraction=0.6\n",
      "[LightGBM] [Info] Auto-choosing col-wise multi-threading, the overhead of testing was 0.068192 seconds.\n",
      "You can set `force_col_wise=true` to remove the overhead.\n",
      "[LightGBM] [Info] Total Bins 107693\n",
      "[LightGBM] [Info] Number of data points in the train set: 11076, number of used features: 446\n",
      "[LightGBM] [Info] Start training from score -2.630427\n",
      "[LightGBM] [Info] Start training from score -1.292594\n",
      "[LightGBM] [Info] Start training from score -1.012256\n",
      "[LightGBM] [Info] Start training from score -1.487690\n",
      "[LightGBM] [Info] Start training from score -2.897439\n",
      "[LightGBM] [Info] Start training from score -4.717416\n",
      "[LightGBM] [Warning] feature_fraction is set=0.6, colsample_bytree=1.0 will be ignored. Current value: feature_fraction=0.6\n",
      "[LightGBM] [Warning] feature_fraction is set=0.6, colsample_bytree=1.0 will be ignored. Current value: feature_fraction=0.6\n",
      "[LightGBM] [Warning] feature_fraction is set=0.6, colsample_bytree=1.0 will be ignored. Current value: feature_fraction=0.6\n",
      "[LightGBM] [Info] Auto-choosing col-wise multi-threading, the overhead of testing was 0.066684 seconds.\n",
      "You can set `force_col_wise=true` to remove the overhead.\n",
      "[LightGBM] [Info] Total Bins 108167\n",
      "[LightGBM] [Info] Number of data points in the train set: 11076, number of used features: 448\n",
      "[LightGBM] [Info] Start training from score -2.630427\n",
      "[LightGBM] [Info] Start training from score -1.292594\n",
      "[LightGBM] [Info] Start training from score -1.012256\n",
      "[LightGBM] [Info] Start training from score -1.487690\n",
      "[LightGBM] [Info] Start training from score -2.895804\n",
      "[LightGBM] [Info] Start training from score -4.727568\n",
      "[LightGBM] [Warning] No further splits with positive gain, best gain: -inf\n",
      "[LightGBM] [Warning] feature_fraction is set=0.6, colsample_bytree=1.0 will be ignored. Current value: feature_fraction=0.6\n",
      "[LightGBM] [Warning] feature_fraction is set=0.6, colsample_bytree=1.0 will be ignored. Current value: feature_fraction=0.6\n",
      "[LightGBM] [Warning] feature_fraction is set=0.6, colsample_bytree=1.0 will be ignored. Current value: feature_fraction=0.6\n",
      "[LightGBM] [Info] Auto-choosing col-wise multi-threading, the overhead of testing was 0.065736 seconds.\n",
      "You can set `force_col_wise=true` to remove the overhead.\n",
      "[LightGBM] [Info] Total Bins 108005\n",
      "[LightGBM] [Info] Number of data points in the train set: 11076, number of used features: 447\n",
      "[LightGBM] [Info] Start training from score -2.631681\n",
      "[LightGBM] [Info] Start training from score -1.292594\n",
      "[LightGBM] [Info] Start training from score -1.012007\n",
      "[LightGBM] [Info] Start training from score -1.487291\n",
      "[LightGBM] [Info] Start training from score -2.897439\n",
      "[LightGBM] [Info] Start training from score -4.727568\n",
      "[LightGBM] [Warning] No further splits with positive gain, best gain: -inf\n",
      "[LightGBM] [Warning] feature_fraction is set=0.6, colsample_bytree=1.0 will be ignored. Current value: feature_fraction=0.6\n",
      "[LightGBM] [Warning] feature_fraction is set=0.6, colsample_bytree=1.0 will be ignored. Current value: feature_fraction=0.6\n",
      "[LightGBM] [Warning] feature_fraction is set=0.6, colsample_bytree=1.0 will be ignored. Current value: feature_fraction=0.6\n",
      "[LightGBM] [Info] Auto-choosing col-wise multi-threading, the overhead of testing was 0.065832 seconds.\n",
      "You can set `force_col_wise=true` to remove the overhead.\n",
      "[LightGBM] [Info] Total Bins 108368\n",
      "[LightGBM] [Info] Number of data points in the train set: 11076, number of used features: 449\n",
      "[LightGBM] [Info] Start training from score -2.631681\n",
      "[LightGBM] [Info] Start training from score -1.292594\n",
      "[LightGBM] [Info] Start training from score -1.012007\n",
      "[LightGBM] [Info] Start training from score -1.487291\n",
      "[LightGBM] [Info] Start training from score -2.897439\n",
      "[LightGBM] [Info] Start training from score -4.727568\n",
      "[LightGBM] [Warning] feature_fraction is set=0.6, colsample_bytree=1.0 will be ignored. Current value: feature_fraction=0.6\n",
      "Mean Accuracy: 0.6085229324665944\n",
      "Mean Weighted F1-score: 0.6020250717429773\n",
      "Mean Quadratic Weighted Kappa Score: 0.7361131528093999\n"
     ]
    }
   ],
   "source": [
    "lgbm_cv_results = pipeline_cross_validation(lgbm_pipeline, X_train, y_train)\n",
    "avg_lgbm_qwk = np.mean(lgbm_cv_results['test_qwk'])\n",
    "avg_lgbm_acc = np.mean(lgbm_cv_results['test_accuracy'])\n",
    "avg_lgbm_f1 = np.mean(lgbm_cv_results['test_f1_weighted'])"
   ]
  },
  {
   "cell_type": "code",
   "execution_count": 39,
   "id": "6415c0e9",
   "metadata": {
    "execution": {
     "iopub.execute_input": "2024-05-04T02:43:10.193499Z",
     "iopub.status.busy": "2024-05-04T02:43:10.193146Z",
     "iopub.status.idle": "2024-05-04T02:43:10.215088Z",
     "shell.execute_reply": "2024-05-04T02:43:10.213808Z"
    },
    "papermill": {
     "duration": 0.051224,
     "end_time": "2024-05-04T02:43:10.217671",
     "exception": false,
     "start_time": "2024-05-04T02:43:10.166447",
     "status": "completed"
    },
    "tags": []
   },
   "outputs": [
    {
     "name": "stdout",
     "output_type": "stream",
     "text": [
      "              precision    recall  f1-score   support\n",
      "\n",
      "           1       0.66      0.34      0.45       255\n",
      "           2       0.66      0.61      0.63       922\n",
      "           3       0.57      0.64      0.60      1248\n",
      "           4       0.56      0.62      0.59       798\n",
      "           5       0.51      0.40      0.45       206\n",
      "           6       0.56      0.30      0.39        33\n",
      "\n",
      "    accuracy                           0.59      3462\n",
      "   macro avg       0.59      0.49      0.52      3462\n",
      "weighted avg       0.59      0.59      0.58      3462\n",
      "\n"
     ]
    }
   ],
   "source": [
    "print(classification_report(y_test, lgbm_y_pred))"
   ]
  },
  {
   "cell_type": "code",
   "execution_count": 40,
   "id": "8f4524b6",
   "metadata": {
    "execution": {
     "iopub.execute_input": "2024-05-04T02:43:10.270437Z",
     "iopub.status.busy": "2024-05-04T02:43:10.270072Z",
     "iopub.status.idle": "2024-05-04T02:43:10.297808Z",
     "shell.execute_reply": "2024-05-04T02:43:10.296447Z"
    },
    "papermill": {
     "duration": 0.05648,
     "end_time": "2024-05-04T02:43:10.300250",
     "exception": false,
     "start_time": "2024-05-04T02:43:10.243770",
     "status": "completed"
    },
    "tags": []
   },
   "outputs": [
    {
     "name": "stdout",
     "output_type": "stream",
     "text": [
      "[LightGBM] [Warning] feature_fraction is set=0.6, colsample_bytree=1.0 will be ignored. Current value: feature_fraction=0.6\n",
      "Model prediction on submission essays:  [3, 3, 4]\n",
      "Submission essays actual classes:  [3, 3, 4]\n"
     ]
    }
   ],
   "source": [
    "print(\"Model prediction on submission essays: \", trained_lgbm_pipeline.predict(sub_X).tolist())\n",
    "print('Submission essays actual classes: ', sub_y.tolist())"
   ]
  },
  {
   "cell_type": "markdown",
   "id": "da321bc9",
   "metadata": {
    "papermill": {
     "duration": 0.025717,
     "end_time": "2024-05-04T02:43:10.357520",
     "exception": false,
     "start_time": "2024-05-04T02:43:10.331803",
     "status": "completed"
    },
    "tags": []
   },
   "source": [
    "ordinal logistic regression classsifier"
   ]
  },
  {
   "cell_type": "code",
   "execution_count": 41,
   "id": "eb5c405e",
   "metadata": {
    "execution": {
     "iopub.execute_input": "2024-05-04T02:43:10.410925Z",
     "iopub.status.busy": "2024-05-04T02:43:10.410541Z",
     "iopub.status.idle": "2024-05-04T02:43:10.415251Z",
     "shell.execute_reply": "2024-05-04T02:43:10.414289Z"
    },
    "papermill": {
     "duration": 0.034199,
     "end_time": "2024-05-04T02:43:10.417434",
     "exception": false,
     "start_time": "2024-05-04T02:43:10.383235",
     "status": "completed"
    },
    "tags": []
   },
   "outputs": [],
   "source": [
    "ordreg_clf = OrdinalRidge()"
   ]
  },
  {
   "cell_type": "code",
   "execution_count": 42,
   "id": "0521131a",
   "metadata": {
    "execution": {
     "iopub.execute_input": "2024-05-04T02:43:10.470875Z",
     "iopub.status.busy": "2024-05-04T02:43:10.470494Z",
     "iopub.status.idle": "2024-05-04T02:43:10.475576Z",
     "shell.execute_reply": "2024-05-04T02:43:10.474525Z"
    },
    "papermill": {
     "duration": 0.034123,
     "end_time": "2024-05-04T02:43:10.477642",
     "exception": false,
     "start_time": "2024-05-04T02:43:10.443519",
     "status": "completed"
    },
    "tags": []
   },
   "outputs": [],
   "source": [
    "ordreg_pipeline = Pipeline(steps=[\n",
    "    ('preprocessor', tfidf_preprocessor),\n",
    "    ('classifier', ordreg_clf) # ordinal regression Classifier\n",
    "])"
   ]
  },
  {
   "cell_type": "code",
   "execution_count": 43,
   "id": "ffd125a2",
   "metadata": {
    "execution": {
     "iopub.execute_input": "2024-05-04T02:43:10.530855Z",
     "iopub.status.busy": "2024-05-04T02:43:10.530464Z",
     "iopub.status.idle": "2024-05-04T02:43:14.935518Z",
     "shell.execute_reply": "2024-05-04T02:43:14.934466Z"
    },
    "papermill": {
     "duration": 4.434327,
     "end_time": "2024-05-04T02:43:14.937872",
     "exception": false,
     "start_time": "2024-05-04T02:43:10.503545",
     "status": "completed"
    },
    "tags": []
   },
   "outputs": [
    {
     "name": "stdout",
     "output_type": "stream",
     "text": [
      "\n",
      "Classifier used:  OrdinalRidge()\n",
      "y_test:  [3, 2, 3, 3, 3, 3, 1, 2, 3, 2]\n",
      "y_pred:  [3.0, 3.0, 3.0, 2.0, 3.0, 4.0, 2.0, 3.0, 3.0, 2.0]\n",
      "quadratic weighted kappa score:  0.7330735936828482\n"
     ]
    }
   ],
   "source": [
    "trained_ordreg_pipeline, ordreg_y_pred = train_and_evaluate_pipeline(ordreg_pipeline, X_train, y_train, X_test, y_test)"
   ]
  },
  {
   "cell_type": "code",
   "execution_count": 44,
   "id": "182e702a",
   "metadata": {
    "execution": {
     "iopub.execute_input": "2024-05-04T02:43:14.990822Z",
     "iopub.status.busy": "2024-05-04T02:43:14.990467Z",
     "iopub.status.idle": "2024-05-04T02:43:15.016015Z",
     "shell.execute_reply": "2024-05-04T02:43:15.014012Z"
    },
    "papermill": {
     "duration": 0.055252,
     "end_time": "2024-05-04T02:43:15.018574",
     "exception": false,
     "start_time": "2024-05-04T02:43:14.963322",
     "status": "completed"
    },
    "tags": []
   },
   "outputs": [
    {
     "name": "stdout",
     "output_type": "stream",
     "text": [
      "              precision    recall  f1-score   support\n",
      "\n",
      "         0.0       0.00      0.00      0.00         0\n",
      "         1.0       0.65      0.22      0.33       255\n",
      "         2.0       0.60      0.64      0.62       922\n",
      "         3.0       0.56      0.71      0.62      1248\n",
      "         4.0       0.59      0.48      0.53       798\n",
      "         5.0       0.47      0.31      0.37       206\n",
      "         6.0       0.30      0.27      0.29        33\n",
      "\n",
      "    accuracy                           0.57      3462\n",
      "   macro avg       0.45      0.38      0.39      3462\n",
      "weighted avg       0.58      0.57      0.56      3462\n",
      "\n"
     ]
    },
    {
     "name": "stderr",
     "output_type": "stream",
     "text": [
      "/opt/conda/lib/python3.10/site-packages/sklearn/metrics/_classification.py:1344: UndefinedMetricWarning: Recall and F-score are ill-defined and being set to 0.0 in labels with no true samples. Use `zero_division` parameter to control this behavior.\n",
      "  _warn_prf(average, modifier, msg_start, len(result))\n",
      "/opt/conda/lib/python3.10/site-packages/sklearn/metrics/_classification.py:1344: UndefinedMetricWarning: Recall and F-score are ill-defined and being set to 0.0 in labels with no true samples. Use `zero_division` parameter to control this behavior.\n",
      "  _warn_prf(average, modifier, msg_start, len(result))\n",
      "/opt/conda/lib/python3.10/site-packages/sklearn/metrics/_classification.py:1344: UndefinedMetricWarning: Recall and F-score are ill-defined and being set to 0.0 in labels with no true samples. Use `zero_division` parameter to control this behavior.\n",
      "  _warn_prf(average, modifier, msg_start, len(result))\n"
     ]
    }
   ],
   "source": [
    "print(classification_report(y_test, ordreg_y_pred))"
   ]
  },
  {
   "cell_type": "code",
   "execution_count": 45,
   "id": "200fb2ed",
   "metadata": {
    "execution": {
     "iopub.execute_input": "2024-05-04T02:43:15.071786Z",
     "iopub.status.busy": "2024-05-04T02:43:15.071412Z",
     "iopub.status.idle": "2024-05-04T02:43:15.093835Z",
     "shell.execute_reply": "2024-05-04T02:43:15.092700Z"
    },
    "papermill": {
     "duration": 0.05187,
     "end_time": "2024-05-04T02:43:15.096019",
     "exception": false,
     "start_time": "2024-05-04T02:43:15.044149",
     "status": "completed"
    },
    "tags": []
   },
   "outputs": [
    {
     "name": "stdout",
     "output_type": "stream",
     "text": [
      "Model prediction on submission essays:  [2.0, 3.0, 4.0]\n",
      "Submission essays actual classes:  [3, 3, 4]\n"
     ]
    }
   ],
   "source": [
    "print(\"Model prediction on submission essays: \", trained_ordreg_pipeline.predict(sub_X).tolist())\n",
    "print('Submission essays actual classes: ', sub_y.tolist())"
   ]
  },
  {
   "cell_type": "code",
   "execution_count": 46,
   "id": "66543d8a",
   "metadata": {
    "execution": {
     "iopub.execute_input": "2024-05-04T02:43:15.150371Z",
     "iopub.status.busy": "2024-05-04T02:43:15.149690Z",
     "iopub.status.idle": "2024-05-04T02:43:32.905980Z",
     "shell.execute_reply": "2024-05-04T02:43:32.904823Z"
    },
    "papermill": {
     "duration": 17.785769,
     "end_time": "2024-05-04T02:43:32.908187",
     "exception": false,
     "start_time": "2024-05-04T02:43:15.122418",
     "status": "completed"
    },
    "tags": []
   },
   "outputs": [
    {
     "name": "stdout",
     "output_type": "stream",
     "text": [
      "Mean Accuracy: 0.5901047309498015\n",
      "Mean Weighted F1-score: 0.5789203363713478\n",
      "Mean Quadratic Weighted Kappa Score: 0.7416075415676262\n"
     ]
    }
   ],
   "source": [
    "ordreg_cv_results = pipeline_cross_validation(ordreg_pipeline, X_train, y_train)\n",
    "avg_ordreg_qwk = np.mean(ordreg_cv_results['test_qwk'])\n",
    "avg_ordreg_acc = np.mean(ordreg_cv_results['test_accuracy'])\n",
    "avg_ordreg_f1 = np.mean(ordreg_cv_results['test_f1_weighted'])"
   ]
  },
  {
   "cell_type": "markdown",
   "id": "25bc77f5",
   "metadata": {
    "papermill": {
     "duration": 0.025526,
     "end_time": "2024-05-04T02:43:32.959494",
     "exception": false,
     "start_time": "2024-05-04T02:43:32.933968",
     "status": "completed"
    },
    "tags": []
   },
   "source": [
    "Random Forest Classifier "
   ]
  },
  {
   "cell_type": "code",
   "execution_count": 47,
   "id": "07aee30d",
   "metadata": {
    "execution": {
     "iopub.execute_input": "2024-05-04T02:43:33.012711Z",
     "iopub.status.busy": "2024-05-04T02:43:33.012267Z",
     "iopub.status.idle": "2024-05-04T02:43:33.017154Z",
     "shell.execute_reply": "2024-05-04T02:43:33.016033Z"
    },
    "papermill": {
     "duration": 0.033995,
     "end_time": "2024-05-04T02:43:33.019276",
     "exception": false,
     "start_time": "2024-05-04T02:43:32.985281",
     "status": "completed"
    },
    "tags": []
   },
   "outputs": [],
   "source": [
    "rf_clf = RandomForestClassifier()"
   ]
  },
  {
   "cell_type": "code",
   "execution_count": 48,
   "id": "739449c1",
   "metadata": {
    "execution": {
     "iopub.execute_input": "2024-05-04T02:43:33.073158Z",
     "iopub.status.busy": "2024-05-04T02:43:33.072737Z",
     "iopub.status.idle": "2024-05-04T02:43:33.077570Z",
     "shell.execute_reply": "2024-05-04T02:43:33.076510Z"
    },
    "papermill": {
     "duration": 0.034463,
     "end_time": "2024-05-04T02:43:33.079738",
     "exception": false,
     "start_time": "2024-05-04T02:43:33.045275",
     "status": "completed"
    },
    "tags": []
   },
   "outputs": [],
   "source": [
    "rf_pipeline = Pipeline(steps=[\n",
    "    ('preprocessor', tfidf_preprocessor),\n",
    "    ('classifier', rf_clf) # randomforest Classifier\n",
    "])"
   ]
  },
  {
   "cell_type": "code",
   "execution_count": 49,
   "id": "60194a02",
   "metadata": {
    "execution": {
     "iopub.execute_input": "2024-05-04T02:43:33.133493Z",
     "iopub.status.busy": "2024-05-04T02:43:33.133108Z",
     "iopub.status.idle": "2024-05-04T02:44:15.050053Z",
     "shell.execute_reply": "2024-05-04T02:44:15.048996Z"
    },
    "papermill": {
     "duration": 41.972054,
     "end_time": "2024-05-04T02:44:15.077963",
     "exception": false,
     "start_time": "2024-05-04T02:43:33.105909",
     "status": "completed"
    },
    "tags": []
   },
   "outputs": [
    {
     "name": "stdout",
     "output_type": "stream",
     "text": [
      "\n",
      "Classifier used:  RandomForestClassifier()\n",
      "y_test:  [3, 2, 3, 3, 3, 3, 1, 2, 3, 2]\n",
      "y_pred:  [3, 4, 3, 3, 4, 4, 3, 2, 3, 2]\n",
      "quadratic weighted kappa score:  0.6638379724248054\n"
     ]
    }
   ],
   "source": [
    "trained_rf_pipeline, rf_y_pred = train_and_evaluate_pipeline(rf_pipeline, X_train, y_train, X_test, y_test)"
   ]
  },
  {
   "cell_type": "code",
   "execution_count": 50,
   "id": "03829bf9",
   "metadata": {
    "execution": {
     "iopub.execute_input": "2024-05-04T02:44:15.130606Z",
     "iopub.status.busy": "2024-05-04T02:44:15.130211Z",
     "iopub.status.idle": "2024-05-04T02:46:46.866784Z",
     "shell.execute_reply": "2024-05-04T02:46:46.860093Z"
    },
    "papermill": {
     "duration": 151.781559,
     "end_time": "2024-05-04T02:46:46.885020",
     "exception": false,
     "start_time": "2024-05-04T02:44:15.103461",
     "status": "completed"
    },
    "tags": []
   },
   "outputs": [
    {
     "name": "stdout",
     "output_type": "stream",
     "text": [
      "Mean Accuracy: 0.586710003611412\n",
      "Mean Weighted F1-score: 0.5573243692096754\n",
      "Mean Quadratic Weighted Kappa Score: 0.6798454865098437\n"
     ]
    }
   ],
   "source": [
    "rf_cv_results = pipeline_cross_validation(rf_pipeline, X_train, y_train)\n",
    "avg_rf_qwk = np.mean(rf_cv_results['test_qwk'])\n",
    "avg_rf_acc = np.mean(rf_cv_results['test_accuracy'])\n",
    "avg_rf_f1 = np.mean(rf_cv_results['test_f1_weighted'])"
   ]
  },
  {
   "cell_type": "code",
   "execution_count": 51,
   "id": "f4de48a0",
   "metadata": {
    "execution": {
     "iopub.execute_input": "2024-05-04T02:46:46.940305Z",
     "iopub.status.busy": "2024-05-04T02:46:46.939884Z",
     "iopub.status.idle": "2024-05-04T02:46:46.959773Z",
     "shell.execute_reply": "2024-05-04T02:46:46.958503Z"
    },
    "papermill": {
     "duration": 0.049548,
     "end_time": "2024-05-04T02:46:46.962087",
     "exception": false,
     "start_time": "2024-05-04T02:46:46.912539",
     "status": "completed"
    },
    "tags": []
   },
   "outputs": [
    {
     "name": "stdout",
     "output_type": "stream",
     "text": [
      "              precision    recall  f1-score   support\n",
      "\n",
      "           1       0.71      0.10      0.17       255\n",
      "           2       0.63      0.62      0.62       922\n",
      "           3       0.54      0.68      0.61      1248\n",
      "           4       0.53      0.60      0.56       798\n",
      "           5       0.42      0.07      0.12       206\n",
      "           6       0.00      0.00      0.00        33\n",
      "\n",
      "    accuracy                           0.56      3462\n",
      "   macro avg       0.47      0.35      0.35      3462\n",
      "weighted avg       0.56      0.56      0.53      3462\n",
      "\n"
     ]
    },
    {
     "name": "stderr",
     "output_type": "stream",
     "text": [
      "/opt/conda/lib/python3.10/site-packages/sklearn/metrics/_classification.py:1344: UndefinedMetricWarning: Precision and F-score are ill-defined and being set to 0.0 in labels with no predicted samples. Use `zero_division` parameter to control this behavior.\n",
      "  _warn_prf(average, modifier, msg_start, len(result))\n",
      "/opt/conda/lib/python3.10/site-packages/sklearn/metrics/_classification.py:1344: UndefinedMetricWarning: Precision and F-score are ill-defined and being set to 0.0 in labels with no predicted samples. Use `zero_division` parameter to control this behavior.\n",
      "  _warn_prf(average, modifier, msg_start, len(result))\n",
      "/opt/conda/lib/python3.10/site-packages/sklearn/metrics/_classification.py:1344: UndefinedMetricWarning: Precision and F-score are ill-defined and being set to 0.0 in labels with no predicted samples. Use `zero_division` parameter to control this behavior.\n",
      "  _warn_prf(average, modifier, msg_start, len(result))\n"
     ]
    }
   ],
   "source": [
    "print(classification_report(y_test, rf_y_pred))"
   ]
  },
  {
   "cell_type": "code",
   "execution_count": 52,
   "id": "a551cfff",
   "metadata": {
    "execution": {
     "iopub.execute_input": "2024-05-04T02:46:47.017392Z",
     "iopub.status.busy": "2024-05-04T02:46:47.016991Z",
     "iopub.status.idle": "2024-05-04T02:46:47.051799Z",
     "shell.execute_reply": "2024-05-04T02:46:47.050647Z"
    },
    "papermill": {
     "duration": 0.065625,
     "end_time": "2024-05-04T02:46:47.054389",
     "exception": false,
     "start_time": "2024-05-04T02:46:46.988764",
     "status": "completed"
    },
    "tags": []
   },
   "outputs": [
    {
     "name": "stdout",
     "output_type": "stream",
     "text": [
      "Model prediction on submission essays:  [3, 3, 4]\n",
      "Submission essays actual classes:  [3, 3, 4]\n"
     ]
    }
   ],
   "source": [
    "print(\"Model prediction on submission essays: \", trained_rf_pipeline.predict(sub_X).tolist())\n",
    "print('Submission essays actual classes: ', sub_y.tolist())"
   ]
  },
  {
   "cell_type": "markdown",
   "id": "d8345413",
   "metadata": {
    "papermill": {
     "duration": 0.025692,
     "end_time": "2024-05-04T02:46:47.106269",
     "exception": false,
     "start_time": "2024-05-04T02:46:47.080577",
     "status": "completed"
    },
    "tags": []
   },
   "source": [
    "MLP Classifier model and pipeline"
   ]
  },
  {
   "cell_type": "code",
   "execution_count": 53,
   "id": "9bcc5a98",
   "metadata": {
    "execution": {
     "iopub.execute_input": "2024-05-04T02:46:47.160600Z",
     "iopub.status.busy": "2024-05-04T02:46:47.160213Z",
     "iopub.status.idle": "2024-05-04T02:46:47.165438Z",
     "shell.execute_reply": "2024-05-04T02:46:47.164255Z"
    },
    "papermill": {
     "duration": 0.034838,
     "end_time": "2024-05-04T02:46:47.167589",
     "exception": false,
     "start_time": "2024-05-04T02:46:47.132751",
     "status": "completed"
    },
    "tags": []
   },
   "outputs": [],
   "source": [
    "mlp_clf = MLPClassifier(hidden_layer_sizes=(150,100, 50), activation='relu', learning_rate='adaptive', max_iter=500)"
   ]
  },
  {
   "cell_type": "code",
   "execution_count": 54,
   "id": "a7e4128b",
   "metadata": {
    "execution": {
     "iopub.execute_input": "2024-05-04T02:46:47.221204Z",
     "iopub.status.busy": "2024-05-04T02:46:47.220798Z",
     "iopub.status.idle": "2024-05-04T02:46:47.225873Z",
     "shell.execute_reply": "2024-05-04T02:46:47.224836Z"
    },
    "papermill": {
     "duration": 0.034083,
     "end_time": "2024-05-04T02:46:47.227914",
     "exception": false,
     "start_time": "2024-05-04T02:46:47.193831",
     "status": "completed"
    },
    "tags": []
   },
   "outputs": [],
   "source": [
    "mlp_pipeline = Pipeline(steps=[\n",
    "    ('preprocessor', tfidf_preprocessor),\n",
    "    ('classifier', mlp_clf)\n",
    "])"
   ]
  },
  {
   "cell_type": "code",
   "execution_count": 55,
   "id": "a5da9bb7",
   "metadata": {
    "execution": {
     "iopub.execute_input": "2024-05-04T02:46:47.281907Z",
     "iopub.status.busy": "2024-05-04T02:46:47.281530Z",
     "iopub.status.idle": "2024-05-04T02:47:46.077505Z",
     "shell.execute_reply": "2024-05-04T02:47:46.076365Z"
    },
    "papermill": {
     "duration": 58.870643,
     "end_time": "2024-05-04T02:47:46.124763",
     "exception": false,
     "start_time": "2024-05-04T02:46:47.254120",
     "status": "completed"
    },
    "tags": []
   },
   "outputs": [
    {
     "name": "stdout",
     "output_type": "stream",
     "text": [
      "\n",
      "Classifier used:  MLPClassifier(hidden_layer_sizes=(150, 100, 50), learning_rate='adaptive',\n",
      "              max_iter=500)\n",
      "y_test:  [3, 2, 3, 3, 3, 3, 1, 2, 3, 2]\n",
      "y_pred:  [3, 3, 4, 1, 4, 3, 2, 2, 3, 2]\n",
      "quadratic weighted kappa score:  0.7112599070474246\n"
     ]
    }
   ],
   "source": [
    "trained_mlp_pipeline, mlp_y_pred = train_and_evaluate_pipeline(mlp_pipeline, X_train, y_train, X_test, y_test)"
   ]
  },
  {
   "cell_type": "code",
   "execution_count": 56,
   "id": "b6c1fb91",
   "metadata": {
    "execution": {
     "iopub.execute_input": "2024-05-04T02:47:46.203253Z",
     "iopub.status.busy": "2024-05-04T02:47:46.202847Z",
     "iopub.status.idle": "2024-05-04T02:52:02.492188Z",
     "shell.execute_reply": "2024-05-04T02:52:02.491034Z"
    },
    "papermill": {
     "duration": 256.372187,
     "end_time": "2024-05-04T02:52:02.540886",
     "exception": false,
     "start_time": "2024-05-04T02:47:46.168699",
     "status": "completed"
    },
    "tags": []
   },
   "outputs": [
    {
     "name": "stdout",
     "output_type": "stream",
     "text": [
      "Mean Accuracy: 0.5569519682195738\n",
      "Mean Weighted F1-score: 0.5560055201674288\n",
      "Mean Quadratic Weighted Kappa Score: 0.7219227416528602\n"
     ]
    }
   ],
   "source": [
    "mlp_cv_results = pipeline_cross_validation(mlp_pipeline, X_train, y_train)"
   ]
  },
  {
   "cell_type": "code",
   "execution_count": 57,
   "id": "5836f2b2",
   "metadata": {
    "execution": {
     "iopub.execute_input": "2024-05-04T02:52:02.616100Z",
     "iopub.status.busy": "2024-05-04T02:52:02.615724Z",
     "iopub.status.idle": "2024-05-04T02:52:02.620449Z",
     "shell.execute_reply": "2024-05-04T02:52:02.619516Z"
    },
    "papermill": {
     "duration": 0.035403,
     "end_time": "2024-05-04T02:52:02.622265",
     "exception": false,
     "start_time": "2024-05-04T02:52:02.586862",
     "status": "completed"
    },
    "tags": []
   },
   "outputs": [],
   "source": [
    "avg_mlp_qwk = np.mean(mlp_cv_results['test_qwk'])\n",
    "avg_mlp_acc = np.mean(mlp_cv_results['test_accuracy'])\n",
    "avg_mlp_f1 = np.mean(mlp_cv_results['test_f1_weighted'])"
   ]
  },
  {
   "cell_type": "code",
   "execution_count": 58,
   "id": "d96ea517",
   "metadata": {
    "execution": {
     "iopub.execute_input": "2024-05-04T02:52:02.677339Z",
     "iopub.status.busy": "2024-05-04T02:52:02.676572Z",
     "iopub.status.idle": "2024-05-04T02:52:02.699870Z",
     "shell.execute_reply": "2024-05-04T02:52:02.699045Z"
    },
    "papermill": {
     "duration": 0.053245,
     "end_time": "2024-05-04T02:52:02.701957",
     "exception": false,
     "start_time": "2024-05-04T02:52:02.648712",
     "status": "completed"
    },
    "tags": []
   },
   "outputs": [
    {
     "name": "stdout",
     "output_type": "stream",
     "text": [
      "Model prediction on submission essays:  [3, 3, 4]\n",
      "Submission essays actual classes:  [3, 3, 4]\n"
     ]
    }
   ],
   "source": [
    "print(\"Model prediction on submission essays: \", trained_mlp_pipeline.predict(sub_X).tolist())\n",
    "print('Submission essays actual classes: ', sub_y.tolist())"
   ]
  },
  {
   "cell_type": "markdown",
   "id": "ac09937d",
   "metadata": {
    "papermill": {
     "duration": 0.028464,
     "end_time": "2024-05-04T02:52:02.757170",
     "exception": false,
     "start_time": "2024-05-04T02:52:02.728706",
     "status": "completed"
    },
    "tags": []
   },
   "source": [
    "# visualizations of performances"
   ]
  },
  {
   "cell_type": "code",
   "execution_count": 59,
   "id": "4ec908b3",
   "metadata": {
    "execution": {
     "iopub.execute_input": "2024-05-04T02:52:02.812024Z",
     "iopub.status.busy": "2024-05-04T02:52:02.811294Z",
     "iopub.status.idle": "2024-05-04T02:52:03.178298Z",
     "shell.execute_reply": "2024-05-04T02:52:03.177386Z"
    },
    "papermill": {
     "duration": 0.397093,
     "end_time": "2024-05-04T02:52:03.180367",
     "exception": false,
     "start_time": "2024-05-04T02:52:02.783274",
     "status": "completed"
    },
    "tags": []
   },
   "outputs": [
    {
     "data": {
      "image/png": "[encoded data removed]",
      "text/plain": [
       "<Figure size 1200x800 with 1 Axes>"
      ]
     },
     "metadata": {},
     "output_type": "display_data"
    }
   ],
   "source": [
    "qwk_scores = [avg_logreg_qwk, avg_lgbm_qwk, avg_ordreg_qwk, avg_rf_qwk, avg_mlp_qwk]\n",
    "acc_scores = [avg_logreg_acc, avg_lgbm_acc, avg_ordreg_acc, avg_rf_acc, avg_mlp_acc]\n",
    "f1_scores = [avg_logreg_f1, avg_lgbm_f1, avg_ordreg_f1, avg_rf_f1, avg_mlp_f1]\n",
    "model_names = ['logreg', 'lgbm', 'ordinalreg', 'randomforest', 'mlp']\n",
    "\n",
    "plt.figure(figsize=(12, 8))\n",
    "\n",
    "bar_width = 0.2\n",
    "\n",
    "plt.bar([x for x in range(len(model_names))], qwk_scores, width=0.2, label='qwk')\n",
    "plt.bar([x + bar_width for x in range(len(model_names))], acc_scores, width=0.2, label='acc')\n",
    "plt.bar([x + bar_width + bar_width for x in range(len(model_names))], f1_scores, width=0.2, label='f1')\n",
    "\n",
    "\n",
    "\n",
    "# Adding labels, title, and legend\n",
    "plt.xlabel('Models')\n",
    "plt.ylabel('Scores')\n",
    "plt.title('Performance Comparison of Different Models')\n",
    "plt.ylim(0.5, 0.8) # this zoomes in the scale to make it easier to see\n",
    "plt.xticks([x for x in range(len(model_names))], model_names)\n",
    "plt.yticks([round(0.55 + 0.025 * i, 3) for i in range(11)]) # this makes the y axis show a better range of values\n",
    "\n",
    "#  Annotate each bar with its value\n",
    "for i, score in enumerate(qwk_scores):\n",
    "    plt.text(i, score + 0.01, f'{score:.3f}', ha='center', va='bottom', color='black', fontsize=8)\n",
    "for i, score in enumerate(acc_scores):\n",
    "    plt.text(i + bar_width, score + 0.01, f'{score:.3f}', ha='center', va='bottom', color='black', fontsize=8)\n",
    "for i, score in enumerate(f1_scores):\n",
    "    plt.text(i + 2 * bar_width, score + 0.01, f'{score:.3f}', ha='center', va='bottom', color='black', fontsize=8)\n",
    "\n",
    "plt.legend()\n",
    "\n",
    "# Show plot\n",
    "plt.show()"
   ]
  },
  {
   "cell_type": "markdown",
   "id": "e26767f3",
   "metadata": {
    "papermill": {
     "duration": 0.026957,
     "end_time": "2024-05-04T02:52:03.234819",
     "exception": false,
     "start_time": "2024-05-04T02:52:03.207862",
     "status": "completed"
    },
    "tags": []
   },
   "source": [
    "heatmap"
   ]
  },
  {
   "cell_type": "code",
   "execution_count": 60,
   "id": "760a4c25",
   "metadata": {
    "execution": {
     "iopub.execute_input": "2024-05-04T02:52:03.291370Z",
     "iopub.status.busy": "2024-05-04T02:52:03.290652Z",
     "iopub.status.idle": "2024-05-04T02:52:03.690822Z",
     "shell.execute_reply": "2024-05-04T02:52:03.690005Z"
    },
    "papermill": {
     "duration": 0.430872,
     "end_time": "2024-05-04T02:52:03.693104",
     "exception": false,
     "start_time": "2024-05-04T02:52:03.262232",
     "status": "completed"
    },
    "tags": []
   },
   "outputs": [
    {
     "data": {
      "image/png": "[encoded data removed]",
      "text/plain": [
       "<Figure size 800x600 with 2 Axes>"
      ]
     },
     "metadata": {},
     "output_type": "display_data"
    }
   ],
   "source": [
    "cm = confusion_matrix(y_test,lgbm_y_pred)\n",
    "# Plot confusion matrix\n",
    "plt.figure(figsize=(8, 6))\n",
    "sns.heatmap(cm, annot=True, fmt=\"d\", cmap=\"Blues\", \n",
    "            xticklabels=[f\"Class {i}\" for i in range(1,7)], \n",
    "            yticklabels=[f\"Class {i}\" for i in range(1,7)])\n",
    "plt.xlabel(\"Predicted\")\n",
    "plt.ylabel(\"Actual\")\n",
    "plt.title(\"Confusion Matrix for LGBM model\")\n",
    "plt.show()"
   ]
  },
  {
   "cell_type": "code",
   "execution_count": 61,
   "id": "370a541d",
   "metadata": {
    "execution": {
     "iopub.execute_input": "2024-05-04T02:52:03.753751Z",
     "iopub.status.busy": "2024-05-04T02:52:03.753366Z",
     "iopub.status.idle": "2024-05-04T02:52:04.181552Z",
     "shell.execute_reply": "2024-05-04T02:52:04.180611Z"
    },
    "papermill": {
     "duration": 0.462093,
     "end_time": "2024-05-04T02:52:04.183744",
     "exception": false,
     "start_time": "2024-05-04T02:52:03.721651",
     "status": "completed"
    },
    "tags": []
   },
   "outputs": [
    {
     "data": {
      "image/png": "[encoded data removed]",
      "text/plain": [
       "<Figure size 800x600 with 2 Axes>"
      ]
     },
     "metadata": {},
     "output_type": "display_data"
    }
   ],
   "source": [
    "cm = confusion_matrix(y_test,ordreg_y_pred)\n",
    "# Plot confusion matrix\n",
    "plt.figure(figsize=(8, 6))\n",
    "sns.heatmap(cm, annot=True, fmt=\"d\", cmap=\"Blues\", \n",
    "            xticklabels=[f\"Class {i}\" for i in range(1,7)], \n",
    "            yticklabels=[f\"Class {i}\" for i in range(1,7)])\n",
    "plt.xlabel(\"Predicted\")\n",
    "plt.ylabel(\"Actual\")\n",
    "plt.title(\"Confusion Matrix for Ordreg model\")\n",
    "plt.show()"
   ]
  },
  {
   "cell_type": "markdown",
   "id": "23531ae0",
   "metadata": {
    "papermill": {
     "duration": 0.028154,
     "end_time": "2024-05-04T02:52:04.240924",
     "exception": false,
     "start_time": "2024-05-04T02:52:04.212770",
     "status": "completed"
    },
    "tags": []
   },
   "source": [
    "# save the submission as a csv"
   ]
  },
  {
   "cell_type": "code",
   "execution_count": 62,
   "id": "c16da3c4",
   "metadata": {
    "execution": {
     "iopub.execute_input": "2024-05-04T02:52:04.299623Z",
     "iopub.status.busy": "2024-05-04T02:52:04.299231Z",
     "iopub.status.idle": "2024-05-04T02:52:04.332059Z",
     "shell.execute_reply": "2024-05-04T02:52:04.331198Z"
    },
    "papermill": {
     "duration": 0.065013,
     "end_time": "2024-05-04T02:52:04.334330",
     "exception": false,
     "start_time": "2024-05-04T02:52:04.269317",
     "status": "completed"
    },
    "tags": []
   },
   "outputs": [
    {
     "name": "stdout",
     "output_type": "stream",
     "text": [
      "[LightGBM] [Warning] feature_fraction is set=0.6, colsample_bytree=1.0 will be ignored. Current value: feature_fraction=0.6\n"
     ]
    },
    {
     "data": {
      "text/html": [
       "<div>\n",
       "<style scoped>\n",
       "    .dataframe tbody tr th:only-of-type {\n",
       "        vertical-align: middle;\n",
       "    }\n",
       "\n",
       "    .dataframe tbody tr th {\n",
       "        vertical-align: top;\n",
       "    }\n",
       "\n",
       "    .dataframe thead th {\n",
       "        text-align: right;\n",
       "    }\n",
       "</style>\n",
       "<table border=\"1\" class=\"dataframe\">\n",
       "  <thead>\n",
       "    <tr style=\"text-align: right;\">\n",
       "      <th></th>\n",
       "      <th>essay_id</th>\n",
       "      <th>score</th>\n",
       "    </tr>\n",
       "  </thead>\n",
       "  <tbody>\n",
       "    <tr>\n",
       "      <th>0</th>\n",
       "      <td>000d118</td>\n",
       "      <td>3</td>\n",
       "    </tr>\n",
       "    <tr>\n",
       "      <th>1</th>\n",
       "      <td>000fe60</td>\n",
       "      <td>3</td>\n",
       "    </tr>\n",
       "    <tr>\n",
       "      <th>2</th>\n",
       "      <td>001ab80</td>\n",
       "      <td>4</td>\n",
       "    </tr>\n",
       "  </tbody>\n",
       "</table>\n",
       "</div>"
      ],
      "text/plain": [
       "  essay_id  score\n",
       "0  000d118      3\n",
       "1  000fe60      3\n",
       "2  001ab80      4"
      ]
     },
     "execution_count": 62,
     "metadata": {},
     "output_type": "execute_result"
    }
   ],
   "source": [
    "df_sub['score'] = trained_lgbm_pipeline.predict(sub_X).tolist()\n",
    "df_sub"
   ]
  },
  {
   "cell_type": "code",
   "execution_count": 63,
   "id": "b0e592f4",
   "metadata": {
    "execution": {
     "iopub.execute_input": "2024-05-04T02:52:04.394239Z",
     "iopub.status.busy": "2024-05-04T02:52:04.393814Z",
     "iopub.status.idle": "2024-05-04T02:52:04.402114Z",
     "shell.execute_reply": "2024-05-04T02:52:04.401001Z"
    },
    "papermill": {
     "duration": 0.040982,
     "end_time": "2024-05-04T02:52:04.404641",
     "exception": false,
     "start_time": "2024-05-04T02:52:04.363659",
     "status": "completed"
    },
    "tags": []
   },
   "outputs": [],
   "source": [
    "df_sub.to_csv('submission.csv', index=None)"
   ]
  },
  {
   "cell_type": "code",
   "execution_count": null,
   "id": "1dc515e6",
   "metadata": {
    "papermill": {
     "duration": 0.028455,
     "end_time": "2024-05-04T02:52:04.462705",
     "exception": false,
     "start_time": "2024-05-04T02:52:04.434250",
     "status": "completed"
    },
    "tags": []
   },
   "outputs": [],
   "source": []
  }
 ],
 "metadata": {
  "kaggle": {
   "accelerator": "none",
   "dataSources": [
    {
     "databundleVersionId": 8059942,
     "sourceId": 71485,
     "sourceType": "competition"
    }
   ],
   "dockerImageVersionId": 30698,
   "isGpuEnabled": false,
   "isInternetEnabled": true,
   "language": "python",
   "sourceType": "notebook"
  },
  "kernelspec": {
   "display_name": "Python 3",
   "language": "python",
   "name": "python3"
  },
  "language_info": {
   "codemirror_mode": {
    "name": "ipython",
    "version": 3
   },
   "file_extension": ".py",
   "mimetype": "text/x-python",
   "name": "python",
   "nbconvert_exporter": "python",
   "pygments_lexer": "ipython3",
   "version": "3.10.13"
  },
  "papermill": {
   "default_parameters": {},
   "duration": 1417.029597,
   "end_time": "2024-05-04T02:52:05.719470",
   "environment_variables": {},
   "exception": null,
   "input_path": "__notebook__.ipynb",
   "output_path": "__notebook__.ipynb",
   "parameters": {},
   "start_time": "2024-05-04T02:28:28.689873",
   "version": "2.5.0"
  }
 },
 "nbformat": 4,
 "nbformat_minor": 5
}
