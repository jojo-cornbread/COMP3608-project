{
 "cells": [
  {
   "cell_type": "code",
   "execution_count": 1,
   "id": "25d21fbd",
   "metadata": {
    "_cell_guid": "b1076dfc-b9ad-4769-8c92-a6c4dae69d19",
    "_uuid": "8f2839f25d086af736a60e9eeb907d3b93b6e0e5",
    "execution": {
     "iopub.execute_input": "2024-04-30T08:33:32.146956Z",
     "iopub.status.busy": "2024-04-30T08:33:32.146509Z",
     "iopub.status.idle": "2024-04-30T08:33:33.015487Z",
     "shell.execute_reply": "2024-04-30T08:33:33.014187Z"
    },
    "papermill": {
     "duration": 0.890148,
     "end_time": "2024-04-30T08:33:33.018432",
     "exception": false,
     "start_time": "2024-04-30T08:33:32.128284",
     "status": "completed"
    },
    "tags": []
   },
   "outputs": [
    {
     "name": "stdout",
     "output_type": "stream",
     "text": [
      "/kaggle/input/learning-agency-lab-automated-essay-scoring-2/sample_submission.csv\n",
      "/kaggle/input/learning-agency-lab-automated-essay-scoring-2/train.csv\n",
      "/kaggle/input/learning-agency-lab-automated-essay-scoring-2/test.csv\n"
     ]
    }
   ],
   "source": [
    "# This Python 3 environment comes with many helpful analytics libraries installed\n",
    "# It is defined by the kaggle/python Docker image: https://github.com/kaggle/docker-python\n",
    "# For example, here's several helpful packages to load\n",
    "\n",
    "import numpy as np # linear algebra\n",
    "import pandas as pd # data processing, CSV file I/O (e.g. pd.read_csv)\n",
    "\n",
    "# Input data files are available in the read-only \"../input/\" directory\n",
    "# For example, running this (by clicking run or pressing Shift+Enter) will list all files under the input directory\n",
    "\n",
    "import os\n",
    "for dirname, _, filenames in os.walk('/kaggle/input'):\n",
    "    for filename in filenames:\n",
    "        print(os.path.join(dirname, filename))\n",
    "\n",
    "# You can write up to 20GB to the current directory (/kaggle/working/) that gets preserved as output when you create a version using \"Save & Run All\" \n",
    "# You can also write temporary files to /kaggle/temp/, but they won't be saved outside of the current session"
   ]
  },
  {
   "cell_type": "markdown",
   "id": "e081a11b",
   "metadata": {
    "papermill": {
     "duration": 0.01665,
     "end_time": "2024-04-30T08:33:33.051009",
     "exception": false,
     "start_time": "2024-04-30T08:33:33.034359",
     "status": "completed"
    },
    "tags": []
   },
   "source": [
    "import other libraries"
   ]
  },
  {
   "cell_type": "code",
   "execution_count": 2,
   "id": "3523cb47",
   "metadata": {
    "execution": {
     "iopub.execute_input": "2024-04-30T08:33:33.084367Z",
     "iopub.status.busy": "2024-04-30T08:33:33.083802Z",
     "iopub.status.idle": "2024-04-30T08:33:49.821751Z",
     "shell.execute_reply": "2024-04-30T08:33:49.820278Z"
    },
    "papermill": {
     "duration": 16.757457,
     "end_time": "2024-04-30T08:33:49.824385",
     "exception": false,
     "start_time": "2024-04-30T08:33:33.066928",
     "status": "completed"
    },
    "tags": []
   },
   "outputs": [
    {
     "name": "stdout",
     "output_type": "stream",
     "text": [
      "Collecting mord\r\n",
      "  Downloading mord-0.7.tar.gz (8.6 kB)\r\n",
      "  Preparing metadata (setup.py) ... \u001b[?25l-\b \bdone\r\n",
      "\u001b[?25hBuilding wheels for collected packages: mord\r\n",
      "  Building wheel for mord (setup.py) ... \u001b[?25l-\b \bdone\r\n",
      "\u001b[?25h  Created wheel for mord: filename=mord-0.7-py3-none-any.whl size=9886 sha256=462970b4e5f924d6078616af276e4429be68ead1b65e1543a359d78816ce0aa6\r\n",
      "  Stored in directory: /root/.cache/pip/wheels/77/00/19/3cea86fbfc737ec4acb515cd94497dcc33f943fa157548b96c\r\n",
      "Successfully built mord\r\n",
      "Installing collected packages: mord\r\n",
      "Successfully installed mord-0.7\r\n"
     ]
    }
   ],
   "source": [
    "!pip install mord"
   ]
  },
  {
   "cell_type": "code",
   "execution_count": 3,
   "id": "878ad604",
   "metadata": {
    "execution": {
     "iopub.execute_input": "2024-04-30T08:33:49.859049Z",
     "iopub.status.busy": "2024-04-30T08:33:49.858231Z",
     "iopub.status.idle": "2024-04-30T08:34:04.271145Z",
     "shell.execute_reply": "2024-04-30T08:34:04.270187Z"
    },
    "papermill": {
     "duration": 14.43278,
     "end_time": "2024-04-30T08:34:04.273269",
     "exception": false,
     "start_time": "2024-04-30T08:33:49.840489",
     "status": "completed"
    },
    "tags": []
   },
   "outputs": [
    {
     "name": "stdout",
     "output_type": "stream",
     "text": [
      "[nltk_data] Downloading package stopwords to /usr/share/nltk_data...\n",
      "[nltk_data]   Package stopwords is already up-to-date!\n"
     ]
    }
   ],
   "source": [
    "from sklearn.feature_extraction.text import TfidfVectorizer, CountVectorizer\n",
    "from sklearn.linear_model import LogisticRegression\n",
    "import xgboost as xgb\n",
    "from sklearn.ensemble import RandomForestClassifier\n",
    "from lightgbm import LGBMClassifier\n",
    "from sklearn.metrics import cohen_kappa_score, make_scorer, classification_report, accuracy_score, confusion_matrix\n",
    "import re\n",
    "from sklearn.pipeline import Pipeline\n",
    "# from sklearn.pipeline import FeatureUnion\n",
    "from sklearn.compose import ColumnTransformer\n",
    "from sklearn.model_selection import GridSearchCV, train_test_split, cross_validate\n",
    "from sklearn.preprocessing import StandardScaler, FunctionTransformer\n",
    "\n",
    "from gensim.models import Word2Vec\n",
    "from mord import OrdinalRidge\n",
    "import seaborn as sns\n",
    "import matplotlib.pyplot as plt\n",
    "\n",
    "from sklearn.neural_network import MLPClassifier\n",
    "\n",
    "import nltk\n",
    "nltk.download('stopwords')\n",
    "from nltk.corpus import stopwords\n",
    "from wordcloud import WordCloud, STOPWORDS\n",
    "\n",
    "# import statsmodels.api as sm\n",
    "# from statsmodels.miscmodels.ordinal_model import OrderedModel"
   ]
  },
  {
   "cell_type": "markdown",
   "id": "700ff5ca",
   "metadata": {
    "papermill": {
     "duration": 0.015998,
     "end_time": "2024-04-30T08:34:04.306291",
     "exception": false,
     "start_time": "2024-04-30T08:34:04.290293",
     "status": "completed"
    },
    "tags": []
   },
   "source": [
    "Read in the dataset"
   ]
  },
  {
   "cell_type": "code",
   "execution_count": 4,
   "id": "bd753637",
   "metadata": {
    "execution": {
     "iopub.execute_input": "2024-04-30T08:34:04.342252Z",
     "iopub.status.busy": "2024-04-30T08:34:04.341036Z",
     "iopub.status.idle": "2024-04-30T08:34:05.147320Z",
     "shell.execute_reply": "2024-04-30T08:34:05.146198Z"
    },
    "papermill": {
     "duration": 0.827152,
     "end_time": "2024-04-30T08:34:05.150182",
     "exception": false,
     "start_time": "2024-04-30T08:34:04.323030",
     "status": "completed"
    },
    "tags": []
   },
   "outputs": [],
   "source": [
    "df_train = pd.read_csv('/kaggle/input/learning-agency-lab-automated-essay-scoring-2/train.csv')\n",
    "df_test = pd.read_csv('/kaggle/input/learning-agency-lab-automated-essay-scoring-2/test.csv')\n",
    "df_sub = pd.read_csv('/kaggle/input/learning-agency-lab-automated-essay-scoring-2/sample_submission.csv')"
   ]
  },
  {
   "cell_type": "markdown",
   "id": "62d8fa98",
   "metadata": {
    "papermill": {
     "duration": 0.016251,
     "end_time": "2024-04-30T08:34:05.183294",
     "exception": false,
     "start_time": "2024-04-30T08:34:05.167043",
     "status": "completed"
    },
    "tags": []
   },
   "source": [
    "Data cleaning"
   ]
  },
  {
   "cell_type": "code",
   "execution_count": 5,
   "id": "339325a2",
   "metadata": {
    "execution": {
     "iopub.execute_input": "2024-04-30T08:34:05.217801Z",
     "iopub.status.busy": "2024-04-30T08:34:05.217397Z",
     "iopub.status.idle": "2024-04-30T08:34:05.228231Z",
     "shell.execute_reply": "2024-04-30T08:34:05.226941Z"
    },
    "papermill": {
     "duration": 0.03118,
     "end_time": "2024-04-30T08:34:05.230734",
     "exception": false,
     "start_time": "2024-04-30T08:34:05.199554",
     "status": "completed"
    },
    "tags": []
   },
   "outputs": [],
   "source": [
    "def removeHTML(x):\n",
    "    html=re.compile(r'<.*?>')\n",
    "    return html.sub(r'',x)\n",
    "\n",
    "def decontracted(phrase):\n",
    "    # specific\n",
    "    phrase = re.sub(r\"won\\'t\", \"will not\", phrase)\n",
    "    phrase = re.sub(r\"can\\'t\", \"can not\", phrase)\n",
    "\n",
    "    # general\n",
    "    phrase = re.sub(r\"n\\'t\", \" not\", phrase)\n",
    "    phrase = re.sub(r\"\\'re\", \" are\", phrase)\n",
    "    phrase = re.sub(r\"\\'s\", \" is\", phrase)\n",
    "    phrase = re.sub(r\"\\'d\", \" would\", phrase)\n",
    "    phrase = re.sub(r\"\\'ll\", \" will\", phrase)\n",
    "    phrase = re.sub(r\"\\'t\", \" not\", phrase)\n",
    "    phrase = re.sub(r\"\\'ve\", \" have\", phrase)\n",
    "    phrase = re.sub(r\"\\'m\", \" am\", phrase)\n",
    "    phrase = re.sub(r\"\\xa0\",\" \",phrase)\n",
    "    return phrase.strip()\n",
    "\n",
    "def clean_text(x):\n",
    "    # Convert words to lowercase\n",
    "    x = x.lower()\n",
    "    # Remove HTML\n",
    "    x = removeHTML(x)\n",
    "    # Delete strings starting with @\n",
    "    x = re.sub(\"@\\w+\", '',x)\n",
    "    # Delete Numbers\n",
    "    x = re.sub(\"'\\d+\", '',x)\n",
    "    x = re.sub(\"\\d+\", '',x)\n",
    "    # Delete URL\n",
    "    x = re.sub(\"http\\w+\", '',x)\n",
    "    # Replace consecutive empty spaces with a single space character\n",
    "    x = re.sub(r\"\\s+\", \" \", x)\n",
    "    # Replace consecutive commas and periods with one comma and period character\n",
    "    x = re.sub(r\"\\.+\", \".\", x)\n",
    "    x = re.sub(r\"\\,+\", \",\", x)\n",
    "    # Remove empty characters at the beginning and end\n",
    "    x = x.strip()\n",
    "    return decontracted(x)"
   ]
  },
  {
   "cell_type": "code",
   "execution_count": 6,
   "id": "5153ab8b",
   "metadata": {
    "execution": {
     "iopub.execute_input": "2024-04-30T08:34:05.265741Z",
     "iopub.status.busy": "2024-04-30T08:34:05.265265Z",
     "iopub.status.idle": "2024-04-30T08:34:10.610259Z",
     "shell.execute_reply": "2024-04-30T08:34:10.609150Z"
    },
    "papermill": {
     "duration": 5.365311,
     "end_time": "2024-04-30T08:34:10.612953",
     "exception": false,
     "start_time": "2024-04-30T08:34:05.247642",
     "status": "completed"
    },
    "tags": []
   },
   "outputs": [],
   "source": [
    "df_train['full_text'] = df_train['full_text'].apply(clean_text)\n",
    "df_test['full_text'] = df_test['full_text'].apply(clean_text)\n"
   ]
  },
  {
   "cell_type": "code",
   "execution_count": 7,
   "id": "8a6c71d2",
   "metadata": {
    "execution": {
     "iopub.execute_input": "2024-04-30T08:34:10.647223Z",
     "iopub.status.busy": "2024-04-30T08:34:10.646830Z",
     "iopub.status.idle": "2024-04-30T08:34:10.655024Z",
     "shell.execute_reply": "2024-04-30T08:34:10.653923Z"
    },
    "papermill": {
     "duration": 0.02866,
     "end_time": "2024-04-30T08:34:10.657948",
     "exception": false,
     "start_time": "2024-04-30T08:34:10.629288",
     "status": "completed"
    },
    "tags": []
   },
   "outputs": [
    {
     "data": {
      "text/plain": [
       "'many people have car where they live. the thing they do not know is that when you use a car alot of thing can happen like you can get in accidet or the smoke that the car has is bad to breath on if someone is walk but in vauban,germany they dont have that proble because percent of vauban is families do not own cars,and percent sold a car to move there. street parkig ,driveways and home garages are forbidden on the outskirts of freiburd that near the french and swiss borders. you probaly will not see a car in vauban is streets because they are completely \"car free\" but if some that lives in vauban that owns a car ownership is allowed,but there are only two places that you can park a large garages at the edge of the development,where a car owner buys a space but it not cheap to buy one they sell the space for you car for $, along with a home. the vauban people completed this in ,they said that this an example of a growing trend in europe,the untile states and some where else are suburban life from auto use this is called \"smart planning\". the current efforts to drastically reduce greenhouse gas emissions from tailes the passengee cars are responsible for percent of greenhouse gas emissions in europe and up to percent in some car intensive in the united states. i honeslty think that good idea that they did that is vaudan because that makes cities denser and better for walking and in vauban there are , residents within a rectangular square mile. in the artical david gold berg said that \"all of our development since world war has been centered on the cars,and that will have to change\" and i think that was very true what david gold said because alot thing we need cars to do we can go anyway were with out cars beacuse some people are a very lazy to walk to place thats why they alot of people use car and i think that it was a good idea that that they did that in vauban so people can see how we really do not need car to go to place from place because we can walk from were we need to go or we can ride bycles with out the use of a car. it good that they are doing that if you thik about your help the earth in way and thats a very good thing to. in the united states ,the environmental protection agency is promoting what is called \"car reduced\"communtunties,and the legislators are starting to act,if cautiously. maany experts expect pubic transport serving suburbs to play a much larger role in a new six years federal transportation bill to approved this year. in previous bill, percent of appropriations have by law gone to highways and only percent to other transports. there many good reason why they should do this.'"
      ]
     },
     "execution_count": 7,
     "metadata": {},
     "output_type": "execute_result"
    }
   ],
   "source": [
    "df_train['full_text'][0]"
   ]
  },
  {
   "cell_type": "markdown",
   "id": "ceabae0e",
   "metadata": {
    "papermill": {
     "duration": 0.016723,
     "end_time": "2024-04-30T08:34:10.691751",
     "exception": false,
     "start_time": "2024-04-30T08:34:10.675028",
     "status": "completed"
    },
    "tags": []
   },
   "source": [
    "feature extraction - maybe add in more features like bag of words/ keywords?"
   ]
  },
  {
   "cell_type": "markdown",
   "id": "3b4bc319",
   "metadata": {
    "papermill": {
     "duration": 0.016784,
     "end_time": "2024-04-30T08:34:10.726447",
     "exception": false,
     "start_time": "2024-04-30T08:34:10.709663",
     "status": "completed"
    },
    "tags": []
   },
   "source": [
    "create a word_count and text length column"
   ]
  },
  {
   "cell_type": "code",
   "execution_count": 8,
   "id": "bcd35025",
   "metadata": {
    "execution": {
     "iopub.execute_input": "2024-04-30T08:34:10.761890Z",
     "iopub.status.busy": "2024-04-30T08:34:10.761511Z",
     "iopub.status.idle": "2024-04-30T08:34:11.884312Z",
     "shell.execute_reply": "2024-04-30T08:34:11.883153Z"
    },
    "papermill": {
     "duration": 1.143433,
     "end_time": "2024-04-30T08:34:11.886850",
     "exception": false,
     "start_time": "2024-04-30T08:34:10.743417",
     "status": "completed"
    },
    "tags": []
   },
   "outputs": [],
   "source": [
    "df_train['word_count'] = df_train[\"full_text\"].str.split().str.len()\n",
    "df_test['word_count'] = df_test[\"full_text\"].str.split().str.len()"
   ]
  },
  {
   "cell_type": "code",
   "execution_count": 9,
   "id": "2de1faaa",
   "metadata": {
    "execution": {
     "iopub.execute_input": "2024-04-30T08:34:11.921681Z",
     "iopub.status.busy": "2024-04-30T08:34:11.921278Z",
     "iopub.status.idle": "2024-04-30T08:34:11.937323Z",
     "shell.execute_reply": "2024-04-30T08:34:11.936183Z"
    },
    "papermill": {
     "duration": 0.036277,
     "end_time": "2024-04-30T08:34:11.939569",
     "exception": false,
     "start_time": "2024-04-30T08:34:11.903292",
     "status": "completed"
    },
    "tags": []
   },
   "outputs": [],
   "source": [
    "df_train['length'] = df_train[\"full_text\"].str.len()\n",
    "df_test['length'] = df_test[\"full_text\"].str.len()"
   ]
  },
  {
   "cell_type": "code",
   "execution_count": 10,
   "id": "5386c83a",
   "metadata": {
    "execution": {
     "iopub.execute_input": "2024-04-30T08:34:11.974425Z",
     "iopub.status.busy": "2024-04-30T08:34:11.974023Z",
     "iopub.status.idle": "2024-04-30T08:34:12.113276Z",
     "shell.execute_reply": "2024-04-30T08:34:12.112201Z"
    },
    "papermill": {
     "duration": 0.159202,
     "end_time": "2024-04-30T08:34:12.115612",
     "exception": false,
     "start_time": "2024-04-30T08:34:11.956410",
     "status": "completed"
    },
    "tags": []
   },
   "outputs": [
    {
     "data": {
      "text/html": [
       "<div>\n",
       "<style scoped>\n",
       "    .dataframe tbody tr th:only-of-type {\n",
       "        vertical-align: middle;\n",
       "    }\n",
       "\n",
       "    .dataframe tbody tr th {\n",
       "        vertical-align: top;\n",
       "    }\n",
       "\n",
       "    .dataframe thead th {\n",
       "        text-align: right;\n",
       "    }\n",
       "</style>\n",
       "<table border=\"1\" class=\"dataframe\">\n",
       "  <thead>\n",
       "    <tr style=\"text-align: right;\">\n",
       "      <th></th>\n",
       "      <th>essay_id</th>\n",
       "      <th>full_text</th>\n",
       "      <th>score</th>\n",
       "      <th>word_count</th>\n",
       "      <th>length</th>\n",
       "    </tr>\n",
       "  </thead>\n",
       "  <tbody>\n",
       "    <tr>\n",
       "      <th>0</th>\n",
       "      <td>000d118</td>\n",
       "      <td>many people have car where they live. the thin...</td>\n",
       "      <td>3</td>\n",
       "      <td>496</td>\n",
       "      <td>2647</td>\n",
       "    </tr>\n",
       "    <tr>\n",
       "      <th>1</th>\n",
       "      <td>000fe60</td>\n",
       "      <td>i am a scientist at nasa that is discussing th...</td>\n",
       "      <td>3</td>\n",
       "      <td>336</td>\n",
       "      <td>1668</td>\n",
       "    </tr>\n",
       "    <tr>\n",
       "      <th>2</th>\n",
       "      <td>001ab80</td>\n",
       "      <td>people always wish they had the same technolog...</td>\n",
       "      <td>4</td>\n",
       "      <td>553</td>\n",
       "      <td>3068</td>\n",
       "    </tr>\n",
       "    <tr>\n",
       "      <th>3</th>\n",
       "      <td>001bdc0</td>\n",
       "      <td>we all heard about venus, the planet without a...</td>\n",
       "      <td>4</td>\n",
       "      <td>450</td>\n",
       "      <td>2679</td>\n",
       "    </tr>\n",
       "    <tr>\n",
       "      <th>4</th>\n",
       "      <td>002ba53</td>\n",
       "      <td>dear, state senator this is a letter to argue ...</td>\n",
       "      <td>3</td>\n",
       "      <td>377</td>\n",
       "      <td>2188</td>\n",
       "    </tr>\n",
       "  </tbody>\n",
       "</table>\n",
       "</div>"
      ],
      "text/plain": [
       "  essay_id                                          full_text  score  \\\n",
       "0  000d118  many people have car where they live. the thin...      3   \n",
       "1  000fe60  i am a scientist at nasa that is discussing th...      3   \n",
       "2  001ab80  people always wish they had the same technolog...      4   \n",
       "3  001bdc0  we all heard about venus, the planet without a...      4   \n",
       "4  002ba53  dear, state senator this is a letter to argue ...      3   \n",
       "\n",
       "   word_count  length  \n",
       "0         496    2647  \n",
       "1         336    1668  \n",
       "2         553    3068  \n",
       "3         450    2679  \n",
       "4         377    2188  "
      ]
     },
     "execution_count": 10,
     "metadata": {},
     "output_type": "execute_result"
    }
   ],
   "source": [
    "df_train.head()"
   ]
  },
  {
   "cell_type": "markdown",
   "id": "44e33aa8",
   "metadata": {
    "papermill": {
     "duration": 0.016823,
     "end_time": "2024-04-30T08:34:12.148941",
     "exception": false,
     "start_time": "2024-04-30T08:34:12.132118",
     "status": "completed"
    },
    "tags": []
   },
   "source": [
    "attempt at creating vector embeddings:"
   ]
  },
  {
   "cell_type": "code",
   "execution_count": 11,
   "id": "3e07e712",
   "metadata": {
    "execution": {
     "iopub.execute_input": "2024-04-30T08:34:12.183681Z",
     "iopub.status.busy": "2024-04-30T08:34:12.183274Z",
     "iopub.status.idle": "2024-04-30T08:34:58.443752Z",
     "shell.execute_reply": "2024-04-30T08:34:58.442699Z"
    },
    "papermill": {
     "duration": 46.281027,
     "end_time": "2024-04-30T08:34:58.446423",
     "exception": false,
     "start_time": "2024-04-30T08:34:12.165396",
     "status": "completed"
    },
    "tags": []
   },
   "outputs": [],
   "source": [
    "word2vec_model = Word2Vec(df_train['full_text'], \n",
    "                          vector_size=100,\n",
    "                          min_count=1,\n",
    "                          window=5, \n",
    "                          )"
   ]
  },
  {
   "cell_type": "code",
   "execution_count": 12,
   "id": "81a0019f",
   "metadata": {
    "execution": {
     "iopub.execute_input": "2024-04-30T08:34:58.544507Z",
     "iopub.status.busy": "2024-04-30T08:34:58.544073Z",
     "iopub.status.idle": "2024-04-30T08:34:58.549941Z",
     "shell.execute_reply": "2024-04-30T08:34:58.548821Z"
    },
    "papermill": {
     "duration": 0.088416,
     "end_time": "2024-04-30T08:34:58.551935",
     "exception": false,
     "start_time": "2024-04-30T08:34:58.463519",
     "status": "completed"
    },
    "tags": []
   },
   "outputs": [],
   "source": [
    "def vectorize_text(text, word2vec_model):\n",
    "    text_vector = np.zeros(100)  # Initialize a vector of zeros (100-dimensional)\n",
    "    for word in text.split():  # Split text into words\n",
    "        if word in word2vec_model.wv:  # Check if word is in the vocabulary\n",
    "            text_vector += word2vec_model.wv[word]  # Add word vector to the text vector\n",
    "    return text_vector"
   ]
  },
  {
   "cell_type": "code",
   "execution_count": 13,
   "id": "64862ce5",
   "metadata": {
    "execution": {
     "iopub.execute_input": "2024-04-30T08:34:58.587731Z",
     "iopub.status.busy": "2024-04-30T08:34:58.586721Z",
     "iopub.status.idle": "2024-04-30T08:35:05.169884Z",
     "shell.execute_reply": "2024-04-30T08:35:05.168701Z"
    },
    "papermill": {
     "duration": 6.604006,
     "end_time": "2024-04-30T08:35:05.172659",
     "exception": false,
     "start_time": "2024-04-30T08:34:58.568653",
     "status": "completed"
    },
    "tags": []
   },
   "outputs": [],
   "source": [
    "# Apply the vectorize_text function to each text entry in train_df['full_text']\n",
    "df_train['text_vector'] = df_train['full_text'].apply(lambda x: vectorize_text(x, word2vec_model))\n",
    "df_test['text_vector'] = df_test['full_text'].apply(lambda x: vectorize_text(x, word2vec_model))\n"
   ]
  },
  {
   "cell_type": "code",
   "execution_count": 14,
   "id": "868bfc0b",
   "metadata": {
    "execution": {
     "iopub.execute_input": "2024-04-30T08:35:05.208123Z",
     "iopub.status.busy": "2024-04-30T08:35:05.207680Z",
     "iopub.status.idle": "2024-04-30T08:35:05.226517Z",
     "shell.execute_reply": "2024-04-30T08:35:05.225677Z"
    },
    "papermill": {
     "duration": 0.039041,
     "end_time": "2024-04-30T08:35:05.228717",
     "exception": false,
     "start_time": "2024-04-30T08:35:05.189676",
     "status": "completed"
    },
    "tags": []
   },
   "outputs": [
    {
     "data": {
      "text/html": [
       "<div>\n",
       "<style scoped>\n",
       "    .dataframe tbody tr th:only-of-type {\n",
       "        vertical-align: middle;\n",
       "    }\n",
       "\n",
       "    .dataframe tbody tr th {\n",
       "        vertical-align: top;\n",
       "    }\n",
       "\n",
       "    .dataframe thead th {\n",
       "        text-align: right;\n",
       "    }\n",
       "</style>\n",
       "<table border=\"1\" class=\"dataframe\">\n",
       "  <thead>\n",
       "    <tr style=\"text-align: right;\">\n",
       "      <th></th>\n",
       "      <th>essay_id</th>\n",
       "      <th>full_text</th>\n",
       "      <th>score</th>\n",
       "      <th>word_count</th>\n",
       "      <th>length</th>\n",
       "      <th>text_vector</th>\n",
       "    </tr>\n",
       "  </thead>\n",
       "  <tbody>\n",
       "    <tr>\n",
       "      <th>0</th>\n",
       "      <td>000d118</td>\n",
       "      <td>many people have car where they live. the thin...</td>\n",
       "      <td>3</td>\n",
       "      <td>496</td>\n",
       "      <td>2647</td>\n",
       "      <td>[2.801115781068802, 5.065545415505767, -6.8037...</td>\n",
       "    </tr>\n",
       "    <tr>\n",
       "      <th>1</th>\n",
       "      <td>000fe60</td>\n",
       "      <td>i am a scientist at nasa that is discussing th...</td>\n",
       "      <td>3</td>\n",
       "      <td>336</td>\n",
       "      <td>1668</td>\n",
       "      <td>[1.549383521080017, 4.427499245852232, -7.5442...</td>\n",
       "    </tr>\n",
       "    <tr>\n",
       "      <th>2</th>\n",
       "      <td>001ab80</td>\n",
       "      <td>people always wish they had the same technolog...</td>\n",
       "      <td>4</td>\n",
       "      <td>553</td>\n",
       "      <td>3068</td>\n",
       "      <td>[2.65594045817852, 2.9395769238471985, -4.1838...</td>\n",
       "    </tr>\n",
       "    <tr>\n",
       "      <th>3</th>\n",
       "      <td>001bdc0</td>\n",
       "      <td>we all heard about venus, the planet without a...</td>\n",
       "      <td>4</td>\n",
       "      <td>450</td>\n",
       "      <td>2679</td>\n",
       "      <td>[3.981909215450287, 5.240687817335129, -4.9689...</td>\n",
       "    </tr>\n",
       "    <tr>\n",
       "      <th>4</th>\n",
       "      <td>002ba53</td>\n",
       "      <td>dear, state senator this is a letter to argue ...</td>\n",
       "      <td>3</td>\n",
       "      <td>377</td>\n",
       "      <td>2188</td>\n",
       "      <td>[1.9554996713995934, 3.9430476184934378, -7.30...</td>\n",
       "    </tr>\n",
       "  </tbody>\n",
       "</table>\n",
       "</div>"
      ],
      "text/plain": [
       "  essay_id                                          full_text  score  \\\n",
       "0  000d118  many people have car where they live. the thin...      3   \n",
       "1  000fe60  i am a scientist at nasa that is discussing th...      3   \n",
       "2  001ab80  people always wish they had the same technolog...      4   \n",
       "3  001bdc0  we all heard about venus, the planet without a...      4   \n",
       "4  002ba53  dear, state senator this is a letter to argue ...      3   \n",
       "\n",
       "   word_count  length                                        text_vector  \n",
       "0         496    2647  [2.801115781068802, 5.065545415505767, -6.8037...  \n",
       "1         336    1668  [1.549383521080017, 4.427499245852232, -7.5442...  \n",
       "2         553    3068  [2.65594045817852, 2.9395769238471985, -4.1838...  \n",
       "3         450    2679  [3.981909215450287, 5.240687817335129, -4.9689...  \n",
       "4         377    2188  [1.9554996713995934, 3.9430476184934378, -7.30...  "
      ]
     },
     "execution_count": 14,
     "metadata": {},
     "output_type": "execute_result"
    }
   ],
   "source": [
    "df_train.head()"
   ]
  },
  {
   "cell_type": "code",
   "execution_count": 15,
   "id": "130c4da8",
   "metadata": {
    "execution": {
     "iopub.execute_input": "2024-04-30T08:35:05.264831Z",
     "iopub.status.busy": "2024-04-30T08:35:05.263861Z",
     "iopub.status.idle": "2024-04-30T08:35:05.268478Z",
     "shell.execute_reply": "2024-04-30T08:35:05.267628Z"
    },
    "papermill": {
     "duration": 0.024843,
     "end_time": "2024-04-30T08:35:05.270570",
     "exception": false,
     "start_time": "2024-04-30T08:35:05.245727",
     "status": "completed"
    },
    "tags": []
   },
   "outputs": [],
   "source": [
    "# X_train = df_train['full_text']\n",
    "# y_train = df_train['score']\n",
    "# X_test = df_test['full_text']\n",
    "# y_test = df_sub['score']"
   ]
  },
  {
   "cell_type": "markdown",
   "id": "87984c40",
   "metadata": {
    "papermill": {
     "duration": 0.01651,
     "end_time": "2024-04-30T08:35:05.304520",
     "exception": false,
     "start_time": "2024-04-30T08:35:05.288010",
     "status": "completed"
    },
    "tags": []
   },
   "source": [
    "this method trains and evaluates each pipeline \n",
    "returns the y_pred and quadratic weighted kappa score of the model"
   ]
  },
  {
   "cell_type": "code",
   "execution_count": 16,
   "id": "784a9d10",
   "metadata": {
    "execution": {
     "iopub.execute_input": "2024-04-30T08:35:05.339626Z",
     "iopub.status.busy": "2024-04-30T08:35:05.339233Z",
     "iopub.status.idle": "2024-04-30T08:35:05.345564Z",
     "shell.execute_reply": "2024-04-30T08:35:05.344438Z"
    },
    "papermill": {
     "duration": 0.026418,
     "end_time": "2024-04-30T08:35:05.347565",
     "exception": false,
     "start_time": "2024-04-30T08:35:05.321147",
     "status": "completed"
    },
    "tags": []
   },
   "outputs": [],
   "source": [
    "def train_and_evaluate_pipeline(pipeline, X_train, y_train, X_test, y_test):\n",
    "    pipeline.fit(X_train, y_train)\n",
    "    y_pred = pipeline.predict(X_test)\n",
    "    \n",
    "    kappa = cohen_kappa_score(y_test, y_pred, weights='quadratic')\n",
    "    \n",
    "    print()\n",
    "    print('Classifier used: ', pipeline.named_steps['classifier'])\n",
    "    print('y_test: ', y_test.tolist()[0:10])\n",
    "    print('y_pred: ', y_pred.tolist()[0:10])\n",
    "    print('quadratic weighted kappa score: ', kappa)\n",
    "    \n",
    "    return pipeline, y_pred"
   ]
  },
  {
   "cell_type": "markdown",
   "id": "1756f4e3",
   "metadata": {
    "papermill": {
     "duration": 0.016365,
     "end_time": "2024-04-30T08:35:05.380873",
     "exception": false,
     "start_time": "2024-04-30T08:35:05.364508",
     "status": "completed"
    },
    "tags": []
   },
   "source": [
    "method for performing cross_validation of pipelines and showing their average performances"
   ]
  },
  {
   "cell_type": "code",
   "execution_count": 17,
   "id": "a495f08f",
   "metadata": {
    "execution": {
     "iopub.execute_input": "2024-04-30T08:35:05.416645Z",
     "iopub.status.busy": "2024-04-30T08:35:05.416257Z",
     "iopub.status.idle": "2024-04-30T08:35:05.422566Z",
     "shell.execute_reply": "2024-04-30T08:35:05.421528Z"
    },
    "papermill": {
     "duration": 0.02665,
     "end_time": "2024-04-30T08:35:05.424691",
     "exception": false,
     "start_time": "2024-04-30T08:35:05.398041",
     "status": "completed"
    },
    "tags": []
   },
   "outputs": [],
   "source": [
    "#define quadratic weighted kappa as a custom scorer\n",
    "qwk_scorer = make_scorer(cohen_kappa_score, weights='quadratic')\n",
    "\n",
    "def pipeline_cross_validation(pipeline, X_train, y_train, qwk_scorer=qwk_scorer):\n",
    "    # Define cross-validation strategy and perform cross-validation\n",
    "    scoring = {'accuracy': 'accuracy', 'f1_weighted': 'f1_weighted', 'qwk': qwk_scorer}\n",
    "    cv_results = cross_validate(pipeline, X_train, y_train, cv=5, scoring=scoring)\n",
    "\n",
    "    # Print cross-validation results\n",
    "    print(\"Mean Accuracy:\", np.mean(cv_results['test_accuracy']))\n",
    "    print(\"Mean Weighted F1-score:\", np.mean(cv_results['test_f1_weighted']))\n",
    "    print(\"Mean Quadratic Weighted Kappa Score:\", np.mean(cv_results['test_qwk']))\n",
    "    \n",
    "#     return np.mean(cv_results['test_qwk']), np.mean(cv_results['test_accuracy']), np.mean(cv_results['test_f1_weighted'])\n",
    "    return cv_results"
   ]
  },
  {
   "cell_type": "markdown",
   "id": "76e7745f",
   "metadata": {
    "papermill": {
     "duration": 0.016424,
     "end_time": "2024-04-30T08:35:05.458205",
     "exception": false,
     "start_time": "2024-04-30T08:35:05.441781",
     "status": "completed"
    },
    "tags": []
   },
   "source": [
    "method for printing wordcloud"
   ]
  },
  {
   "cell_type": "code",
   "execution_count": 18,
   "id": "b0470252",
   "metadata": {
    "execution": {
     "iopub.execute_input": "2024-04-30T08:35:05.494334Z",
     "iopub.status.busy": "2024-04-30T08:35:05.493658Z",
     "iopub.status.idle": "2024-04-30T08:35:05.498685Z",
     "shell.execute_reply": "2024-04-30T08:35:05.497939Z"
    },
    "papermill": {
     "duration": 0.025394,
     "end_time": "2024-04-30T08:35:05.500585",
     "exception": false,
     "start_time": "2024-04-30T08:35:05.475191",
     "status": "completed"
    },
    "tags": []
   },
   "outputs": [],
   "source": [
    "def print_cloud(data):\n",
    "    text = \" \".join(word for word in data)\n",
    "    print (\"There are {} words in the combination\".format(len(text)))\n",
    "    stopwords_set = set(stopwords.words('english'))\n",
    "    wordcloud = WordCloud(stopwords=stopwords_set, background_color=\"white\").generate(text)\n",
    "    return wordcloud"
   ]
  },
  {
   "cell_type": "markdown",
   "id": "d518a64c",
   "metadata": {
    "papermill": {
     "duration": 0.016637,
     "end_time": "2024-04-30T08:35:05.533874",
     "exception": false,
     "start_time": "2024-04-30T08:35:05.517237",
     "status": "completed"
    },
    "tags": []
   },
   "source": [
    "show word cloud for full texts of essays"
   ]
  },
  {
   "cell_type": "code",
   "execution_count": 19,
   "id": "25d72a04",
   "metadata": {
    "execution": {
     "iopub.execute_input": "2024-04-30T08:35:05.569149Z",
     "iopub.status.busy": "2024-04-30T08:35:05.568745Z",
     "iopub.status.idle": "2024-04-30T08:35:24.013034Z",
     "shell.execute_reply": "2024-04-30T08:35:24.011726Z"
    },
    "papermill": {
     "duration": 18.468984,
     "end_time": "2024-04-30T08:35:24.019735",
     "exception": false,
     "start_time": "2024-04-30T08:35:05.550751",
     "status": "completed"
    },
    "tags": []
   },
   "outputs": [
    {
     "name": "stdout",
     "output_type": "stream",
     "text": [
      "There are 35362071 words in the combination\n"
     ]
    },
    {
     "data": {
      "image/png": "[encoded data removed]",
      "text/plain": [
       "<Figure size 640x480 with 1 Axes>"
      ]
     },
     "metadata": {},
     "output_type": "display_data"
    }
   ],
   "source": [
    "wordcloud = print_cloud(df_train['full_text'])\n",
    "fig = plt.figure(2)\n",
    "plt.imshow(wordcloud, interpolation='bilinear')\n",
    "plt.axis(\"off\")\n",
    "plt.show()"
   ]
  },
  {
   "cell_type": "markdown",
   "id": "7559c2e5",
   "metadata": {
    "papermill": {
     "duration": 0.01937,
     "end_time": "2024-04-30T08:35:24.065580",
     "exception": false,
     "start_time": "2024-04-30T08:35:24.046210",
     "status": "completed"
    },
    "tags": []
   },
   "source": [
    "create the tfidf"
   ]
  },
  {
   "cell_type": "code",
   "execution_count": 20,
   "id": "0feac57f",
   "metadata": {
    "execution": {
     "iopub.execute_input": "2024-04-30T08:35:24.106062Z",
     "iopub.status.busy": "2024-04-30T08:35:24.105657Z",
     "iopub.status.idle": "2024-04-30T08:35:24.110565Z",
     "shell.execute_reply": "2024-04-30T08:35:24.109502Z"
    },
    "papermill": {
     "duration": 0.027733,
     "end_time": "2024-04-30T08:35:24.112702",
     "exception": false,
     "start_time": "2024-04-30T08:35:24.084969",
     "status": "completed"
    },
    "tags": []
   },
   "outputs": [],
   "source": [
    "tfidf_vectorizer = TfidfVectorizer(stop_words='english', min_df=0.05, max_df=0.95,)\n",
    "# tfidf = tfidf_vectorizer.fit_transform(X_train)\n"
   ]
  },
  {
   "cell_type": "markdown",
   "id": "b64331ba",
   "metadata": {
    "papermill": {
     "duration": 0.019084,
     "end_time": "2024-04-30T08:35:24.151452",
     "exception": false,
     "start_time": "2024-04-30T08:35:24.132368",
     "status": "completed"
    },
    "tags": []
   },
   "source": [
    "create the multinomial logistic regression classifier"
   ]
  },
  {
   "cell_type": "code",
   "execution_count": 21,
   "id": "e8257037",
   "metadata": {
    "execution": {
     "iopub.execute_input": "2024-04-30T08:35:24.192949Z",
     "iopub.status.busy": "2024-04-30T08:35:24.192234Z",
     "iopub.status.idle": "2024-04-30T08:35:24.196458Z",
     "shell.execute_reply": "2024-04-30T08:35:24.195646Z"
    },
    "papermill": {
     "duration": 0.027887,
     "end_time": "2024-04-30T08:35:24.198968",
     "exception": false,
     "start_time": "2024-04-30T08:35:24.171081",
     "status": "completed"
    },
    "tags": []
   },
   "outputs": [],
   "source": [
    "logreg_clf = LogisticRegression(multi_class='multinomial', solver='lbfgs', max_iter=500)"
   ]
  },
  {
   "cell_type": "markdown",
   "id": "b1f204f2",
   "metadata": {
    "papermill": {
     "duration": 0.019278,
     "end_time": "2024-04-30T08:35:24.237931",
     "exception": false,
     "start_time": "2024-04-30T08:35:24.218653",
     "status": "completed"
    },
    "tags": []
   },
   "source": [
    "create a pipeline for logistic regression classifier"
   ]
  },
  {
   "cell_type": "code",
   "execution_count": 22,
   "id": "721e707a",
   "metadata": {
    "execution": {
     "iopub.execute_input": "2024-04-30T08:35:24.279511Z",
     "iopub.status.busy": "2024-04-30T08:35:24.278805Z",
     "iopub.status.idle": "2024-04-30T08:35:24.283388Z",
     "shell.execute_reply": "2024-04-30T08:35:24.282296Z"
    },
    "papermill": {
     "duration": 0.02777,
     "end_time": "2024-04-30T08:35:24.285633",
     "exception": false,
     "start_time": "2024-04-30T08:35:24.257863",
     "status": "completed"
    },
    "tags": []
   },
   "outputs": [],
   "source": [
    "# Define a transformer to extract 'text_vector' from DataFrame\n",
    "def get_text_vector(df):\n",
    "    return np.vstack(df['text_vector'])"
   ]
  },
  {
   "cell_type": "code",
   "execution_count": 23,
   "id": "85e6dfe4",
   "metadata": {
    "execution": {
     "iopub.execute_input": "2024-04-30T08:35:24.327287Z",
     "iopub.status.busy": "2024-04-30T08:35:24.326576Z",
     "iopub.status.idle": "2024-04-30T08:35:24.332661Z",
     "shell.execute_reply": "2024-04-30T08:35:24.331527Z"
    },
    "papermill": {
     "duration": 0.029875,
     "end_time": "2024-04-30T08:35:24.335090",
     "exception": false,
     "start_time": "2024-04-30T08:35:24.305215",
     "status": "completed"
    },
    "tags": []
   },
   "outputs": [],
   "source": [
    "tfidf_preprocessor = ColumnTransformer(\n",
    "    transformers=[\n",
    "        ('text', tfidf_vectorizer, 'full_text'),\n",
    "        ('word_count', StandardScaler(), ['word_count']),\n",
    "        ('length', StandardScaler(), ['length'])\n",
    "    ],\n",
    "    remainder='passthrough'\n",
    ")\n",
    "\n",
    "w2v_preprocessor = ColumnTransformer(\n",
    "    transformers=[\n",
    "#         ('text', tfidf_vectorizer, 'full_text'),\n",
    "        ('text_vector', FunctionTransformer(get_text_vector, validate=False), ['text_vector']),\n",
    "        ('word_count', StandardScaler(), ['word_count']),\n",
    "        ('length', StandardScaler(), ['length'])\n",
    "    ],\n",
    "    remainder='passthrough'\n",
    ")"
   ]
  },
  {
   "cell_type": "code",
   "execution_count": 24,
   "id": "105af782",
   "metadata": {
    "execution": {
     "iopub.execute_input": "2024-04-30T08:35:24.376207Z",
     "iopub.status.busy": "2024-04-30T08:35:24.375789Z",
     "iopub.status.idle": "2024-04-30T08:35:24.381791Z",
     "shell.execute_reply": "2024-04-30T08:35:24.380534Z"
    },
    "papermill": {
     "duration": 0.029653,
     "end_time": "2024-04-30T08:35:24.384468",
     "exception": false,
     "start_time": "2024-04-30T08:35:24.354815",
     "status": "completed"
    },
    "tags": []
   },
   "outputs": [],
   "source": [
    "logreg_pipeline = Pipeline(steps=[\n",
    "#     ('tfidf', tfidf_vectorizer),\n",
    "    ('preprocessor', tfidf_preprocessor),\n",
    "    ('classifier', logreg_clf)\n",
    "])\n",
    "\n",
    "w2v_logreg_pipeline = Pipeline(steps=[\n",
    "    ('preprocessor', w2v_preprocessor),\n",
    "    ('classifier', logreg_clf)\n",
    "])"
   ]
  },
  {
   "cell_type": "markdown",
   "id": "08cb4209",
   "metadata": {
    "papermill": {
     "duration": 0.02069,
     "end_time": "2024-04-30T08:35:24.424483",
     "exception": false,
     "start_time": "2024-04-30T08:35:24.403793",
     "status": "completed"
    },
    "tags": []
   },
   "source": [
    "fit and make a prediction"
   ]
  },
  {
   "cell_type": "code",
   "execution_count": 25,
   "id": "a91bb83c",
   "metadata": {
    "execution": {
     "iopub.execute_input": "2024-04-30T08:35:24.465640Z",
     "iopub.status.busy": "2024-04-30T08:35:24.465151Z",
     "iopub.status.idle": "2024-04-30T08:35:24.470257Z",
     "shell.execute_reply": "2024-04-30T08:35:24.468874Z"
    },
    "papermill": {
     "duration": 0.028456,
     "end_time": "2024-04-30T08:35:24.472688",
     "exception": false,
     "start_time": "2024-04-30T08:35:24.444232",
     "status": "completed"
    },
    "tags": []
   },
   "outputs": [],
   "source": [
    "# df_sub['essay_id'].tolist()\n",
    "# df_train.loc[(df_train['essay_id'] == '000d118') | (df_train['essay_id'] =='000fe60') | (df_train['essay_id'] =='001ab80')]\n",
    "# sub_df_data = df_train.loc[(df_train['essay_id'] == '000d118') | (df_train['essay_id'] =='000fe60') | (df_train['essay_id'] =='001ab80')]\n",
    "# X_test3 = tfidf_vectorizer.transform(df_test['full_text'])"
   ]
  },
  {
   "cell_type": "code",
   "execution_count": 26,
   "id": "0cb04be0",
   "metadata": {
    "execution": {
     "iopub.execute_input": "2024-04-30T08:35:24.514038Z",
     "iopub.status.busy": "2024-04-30T08:35:24.513654Z",
     "iopub.status.idle": "2024-04-30T08:35:24.540647Z",
     "shell.execute_reply": "2024-04-30T08:35:24.539260Z"
    },
    "papermill": {
     "duration": 0.051039,
     "end_time": "2024-04-30T08:35:24.543503",
     "exception": false,
     "start_time": "2024-04-30T08:35:24.492464",
     "status": "completed"
    },
    "tags": []
   },
   "outputs": [],
   "source": [
    "X = df_train[['full_text', 'word_count', 'length']]\n",
    "# X = df_train['full_text']\n",
    "y = df_train['score']\n",
    "sub_X = df_test[['full_text', 'word_count', 'length']]\n",
    "sub_y = df_sub['score']\n",
    "\n",
    "X_train, X_test, y_train, y_test = train_test_split(X, y, train_size = 0.8)\n",
    "\n",
    "X2 = df_train[['word_count', 'length', 'text_vector']]\n",
    "sub_X2 = df_test[['word_count', 'length', 'text_vector']]\n",
    "\n",
    "# X2 = np.array(df_train['text_vector'].tolist())\n",
    "# sub_X2 = np.array(df_test['text_vector'].tolist())\n",
    "\n",
    "X_train2, X_test2, y_train2, y_test2 = train_test_split(X2, y, train_size = 0.8)\n",
    "\n",
    "\n",
    "# trained_logreg_pipeline, logreg_y_pred = train_and_evaluate_pipeline(logreg_pipeline, X_train, y_train, X_test, y_test)"
   ]
  },
  {
   "cell_type": "code",
   "execution_count": 27,
   "id": "73253c04",
   "metadata": {
    "execution": {
     "iopub.execute_input": "2024-04-30T08:35:24.585632Z",
     "iopub.status.busy": "2024-04-30T08:35:24.585177Z",
     "iopub.status.idle": "2024-04-30T08:35:31.967611Z",
     "shell.execute_reply": "2024-04-30T08:35:31.966595Z"
    },
    "papermill": {
     "duration": 7.40573,
     "end_time": "2024-04-30T08:35:31.970016",
     "exception": false,
     "start_time": "2024-04-30T08:35:24.564286",
     "status": "completed"
    },
    "tags": []
   },
   "outputs": [
    {
     "name": "stdout",
     "output_type": "stream",
     "text": [
      "\n",
      "Classifier used:  LogisticRegression(max_iter=500, multi_class='multinomial')\n",
      "y_test:  [4, 2, 4, 2, 3, 4, 3, 3, 3, 1]\n",
      "y_pred:  [4, 2, 4, 2, 3, 4, 3, 4, 4, 4]\n",
      "quadratic weighted kappa score:  0.7362076167485437\n"
     ]
    }
   ],
   "source": [
    "trained_logreg_pipeline, logreg_y_pred = train_and_evaluate_pipeline(logreg_pipeline, X_train, y_train, X_test, y_test)"
   ]
  },
  {
   "cell_type": "markdown",
   "id": "d63e1c8b",
   "metadata": {
    "papermill": {
     "duration": 0.019958,
     "end_time": "2024-04-30T08:35:32.009959",
     "exception": false,
     "start_time": "2024-04-30T08:35:31.990001",
     "status": "completed"
    },
    "tags": []
   },
   "source": [
    "run cross validation to get average performance"
   ]
  },
  {
   "cell_type": "code",
   "execution_count": 28,
   "id": "2f101764",
   "metadata": {
    "execution": {
     "iopub.execute_input": "2024-04-30T08:35:32.052172Z",
     "iopub.status.busy": "2024-04-30T08:35:32.051769Z",
     "iopub.status.idle": "2024-04-30T08:36:00.354084Z",
     "shell.execute_reply": "2024-04-30T08:36:00.353243Z"
    },
    "papermill": {
     "duration": 28.326617,
     "end_time": "2024-04-30T08:36:00.356319",
     "exception": false,
     "start_time": "2024-04-30T08:35:32.029702",
     "status": "completed"
    },
    "tags": []
   },
   "outputs": [
    {
     "name": "stdout",
     "output_type": "stream",
     "text": [
      "Mean Accuracy: 0.5888046226074396\n",
      "Mean Weighted F1-score: 0.5780841704312983\n",
      "Mean Quadratic Weighted Kappa Score: 0.7173891035934895\n"
     ]
    }
   ],
   "source": [
    "logreg_cv_results = pipeline_cross_validation(logreg_pipeline, X_train, y_train)\n",
    "avg_logreg_qwk = np.mean(logreg_cv_results['test_qwk'])\n",
    "avg_logreg_acc = np.mean(logreg_cv_results['test_accuracy'])\n",
    "avg_logreg_f1 = np.mean(logreg_cv_results['test_f1_weighted'])"
   ]
  },
  {
   "cell_type": "markdown",
   "id": "13d55aae",
   "metadata": {
    "papermill": {
     "duration": 0.019351,
     "end_time": "2024-04-30T08:36:00.395485",
     "exception": false,
     "start_time": "2024-04-30T08:36:00.376134",
     "status": "completed"
    },
    "tags": []
   },
   "source": [
    "commented off just to make the notebook save and rerun properly, need to use a different clf if plan to keep"
   ]
  },
  {
   "cell_type": "code",
   "execution_count": 29,
   "id": "10d94aeb",
   "metadata": {
    "execution": {
     "iopub.execute_input": "2024-04-30T08:36:00.436464Z",
     "iopub.status.busy": "2024-04-30T08:36:00.435770Z",
     "iopub.status.idle": "2024-04-30T08:36:00.439810Z",
     "shell.execute_reply": "2024-04-30T08:36:00.439015Z"
    },
    "papermill": {
     "duration": 0.02744,
     "end_time": "2024-04-30T08:36:00.442245",
     "exception": false,
     "start_time": "2024-04-30T08:36:00.414805",
     "status": "completed"
    },
    "tags": []
   },
   "outputs": [],
   "source": [
    "# trained_logreg_pipeline2, logreg_y_pred2 = train_and_evaluate_pipeline(w2v_logreg_pipeline, X_train2, y_train2, X_test2, y_test2)"
   ]
  },
  {
   "cell_type": "code",
   "execution_count": 30,
   "id": "06973b58",
   "metadata": {
    "execution": {
     "iopub.execute_input": "2024-04-30T08:36:00.485552Z",
     "iopub.status.busy": "2024-04-30T08:36:00.484880Z",
     "iopub.status.idle": "2024-04-30T08:36:00.504432Z",
     "shell.execute_reply": "2024-04-30T08:36:00.502693Z"
    },
    "papermill": {
     "duration": 0.044274,
     "end_time": "2024-04-30T08:36:00.507046",
     "exception": false,
     "start_time": "2024-04-30T08:36:00.462772",
     "status": "completed"
    },
    "tags": []
   },
   "outputs": [
    {
     "name": "stdout",
     "output_type": "stream",
     "text": [
      "              precision    recall  f1-score   support\n",
      "\n",
      "           1       0.66      0.24      0.35       279\n",
      "           2       0.62      0.70      0.66       918\n",
      "           3       0.58      0.69      0.63      1232\n",
      "           4       0.59      0.55      0.57       790\n",
      "           5       0.48      0.29      0.36       199\n",
      "           6       0.62      0.18      0.28        44\n",
      "\n",
      "    accuracy                           0.60      3462\n",
      "   macro avg       0.59      0.44      0.48      3462\n",
      "weighted avg       0.60      0.60      0.58      3462\n",
      "\n"
     ]
    }
   ],
   "source": [
    "print(classification_report(y_test, logreg_y_pred))"
   ]
  },
  {
   "cell_type": "code",
   "execution_count": 31,
   "id": "2e3e6945",
   "metadata": {
    "execution": {
     "iopub.execute_input": "2024-04-30T08:36:00.548788Z",
     "iopub.status.busy": "2024-04-30T08:36:00.548393Z",
     "iopub.status.idle": "2024-04-30T08:36:00.564214Z",
     "shell.execute_reply": "2024-04-30T08:36:00.562412Z"
    },
    "papermill": {
     "duration": 0.039958,
     "end_time": "2024-04-30T08:36:00.566836",
     "exception": false,
     "start_time": "2024-04-30T08:36:00.526878",
     "status": "completed"
    },
    "tags": []
   },
   "outputs": [
    {
     "name": "stdout",
     "output_type": "stream",
     "text": [
      "Model prediction on submission essays:  [3, 3, 4]\n",
      "Submission essays actual classes:  [3, 3, 4]\n"
     ]
    }
   ],
   "source": [
    "print(\"Model prediction on submission essays: \", trained_logreg_pipeline.predict(sub_X).tolist())\n",
    "print('Submission essays actual classes: ', sub_y.tolist())"
   ]
  },
  {
   "cell_type": "markdown",
   "id": "d41103d8",
   "metadata": {
    "papermill": {
     "duration": 0.019336,
     "end_time": "2024-04-30T08:36:00.606946",
     "exception": false,
     "start_time": "2024-04-30T08:36:00.587610",
     "status": "completed"
    },
    "tags": []
   },
   "source": [
    "create a lightgbm model pipeline\n",
    "\n",
    "lgbm over xgboost for performance and scalability? maybe elaborate more"
   ]
  },
  {
   "cell_type": "code",
   "execution_count": 32,
   "id": "2a62f350",
   "metadata": {
    "execution": {
     "iopub.execute_input": "2024-04-30T08:36:00.648278Z",
     "iopub.status.busy": "2024-04-30T08:36:00.647877Z",
     "iopub.status.idle": "2024-04-30T08:36:00.653493Z",
     "shell.execute_reply": "2024-04-30T08:36:00.652182Z"
    },
    "papermill": {
     "duration": 0.028969,
     "end_time": "2024-04-30T08:36:00.655784",
     "exception": false,
     "start_time": "2024-04-30T08:36:00.626815",
     "status": "completed"
    },
    "tags": []
   },
   "outputs": [],
   "source": [
    "lgbm_clf = LGBMClassifier(objective='multiclass', num_class=6, metric='multi_logloss', num_leaves=31, learning_rate=0.1, feature_fraction=0.6)"
   ]
  },
  {
   "cell_type": "code",
   "execution_count": 33,
   "id": "1ce8bebc",
   "metadata": {
    "execution": {
     "iopub.execute_input": "2024-04-30T08:36:00.698439Z",
     "iopub.status.busy": "2024-04-30T08:36:00.697685Z",
     "iopub.status.idle": "2024-04-30T08:36:00.702235Z",
     "shell.execute_reply": "2024-04-30T08:36:00.701418Z"
    },
    "papermill": {
     "duration": 0.028382,
     "end_time": "2024-04-30T08:36:00.704606",
     "exception": false,
     "start_time": "2024-04-30T08:36:00.676224",
     "status": "completed"
    },
    "tags": []
   },
   "outputs": [],
   "source": [
    "lgbm_pipeline = Pipeline(steps=[\n",
    "#     ('tfidf', tfidf_vectorizer),   # TF-IDF Vectorizer\n",
    "    ('preprocessor', tfidf_preprocessor),\n",
    "    ('classifier', lgbm_clf) # LightGBM Classifier\n",
    "])"
   ]
  },
  {
   "cell_type": "markdown",
   "id": "8af02600",
   "metadata": {
    "papermill": {
     "duration": 0.0194,
     "end_time": "2024-04-30T08:36:00.744205",
     "exception": false,
     "start_time": "2024-04-30T08:36:00.724805",
     "status": "completed"
    },
    "tags": []
   },
   "source": [
    "use some GridSearchCV to find the best parameters"
   ]
  },
  {
   "cell_type": "code",
   "execution_count": 34,
   "id": "17fc068f",
   "metadata": {
    "execution": {
     "iopub.execute_input": "2024-04-30T08:36:00.786574Z",
     "iopub.status.busy": "2024-04-30T08:36:00.785909Z",
     "iopub.status.idle": "2024-04-30T08:36:00.790963Z",
     "shell.execute_reply": "2024-04-30T08:36:00.789539Z"
    },
    "papermill": {
     "duration": 0.029632,
     "end_time": "2024-04-30T08:36:00.793573",
     "exception": false,
     "start_time": "2024-04-30T08:36:00.763941",
     "status": "completed"
    },
    "tags": []
   },
   "outputs": [],
   "source": [
    "# parameter grid used for the grid search:\n",
    "param_grid = {\n",
    "    'num_leaves': [31, 50, 100],\n",
    "    'learning_rate': [0.05, 0.1, 0.2],\n",
    "    'feature_fraction': [0.6, 0.8, 0.9]\n",
    "}"
   ]
  },
  {
   "cell_type": "code",
   "execution_count": 35,
   "id": "9ebf37fb",
   "metadata": {
    "execution": {
     "iopub.execute_input": "2024-04-30T08:36:00.835008Z",
     "iopub.status.busy": "2024-04-30T08:36:00.834347Z",
     "iopub.status.idle": "2024-04-30T08:36:00.839087Z",
     "shell.execute_reply": "2024-04-30T08:36:00.838319Z"
    },
    "papermill": {
     "duration": 0.027825,
     "end_time": "2024-04-30T08:36:00.841215",
     "exception": false,
     "start_time": "2024-04-30T08:36:00.813390",
     "status": "completed"
    },
    "tags": []
   },
   "outputs": [],
   "source": [
    "# # create and fit the gridsearch\n",
    "# grid_search = GridSearchCV(estimator=lgbm_clf, param_grid=param_grid, cv=3, scoring=qwk_scorer)\n",
    "# grid_search.fit(tfidf_vectorizer.fit_transform(X_train), y_train)\n",
    "\n",
    "# # Print the best parameters and best score\n",
    "# print(\"Best Parameters: \", grid_search.best_params_)\n",
    "# print(\"Best Score (quadratic weighted kappa score): \", grid_search.best_score_)"
   ]
  },
  {
   "cell_type": "code",
   "execution_count": 36,
   "id": "2547c5fc",
   "metadata": {
    "execution": {
     "iopub.execute_input": "2024-04-30T08:36:00.882339Z",
     "iopub.status.busy": "2024-04-30T08:36:00.881687Z",
     "iopub.status.idle": "2024-04-30T08:36:23.851081Z",
     "shell.execute_reply": "2024-04-30T08:36:23.849343Z"
    },
    "papermill": {
     "duration": 22.992619,
     "end_time": "2024-04-30T08:36:23.853416",
     "exception": false,
     "start_time": "2024-04-30T08:36:00.860797",
     "status": "completed"
    },
    "tags": []
   },
   "outputs": [
    {
     "name": "stdout",
     "output_type": "stream",
     "text": [
      "[LightGBM] [Warning] feature_fraction is set=0.6, colsample_bytree=1.0 will be ignored. Current value: feature_fraction=0.6\n",
      "[LightGBM] [Warning] feature_fraction is set=0.6, colsample_bytree=1.0 will be ignored. Current value: feature_fraction=0.6\n",
      "[LightGBM] [Info] Auto-choosing col-wise multi-threading, the overhead of testing was 0.053665 seconds.\n",
      "You can set `force_col_wise=true` to remove the overhead.\n",
      "[LightGBM] [Info] Total Bins 112291\n",
      "[LightGBM] [Info] Number of data points in the train set: 13845, number of used features: 443\n",
      "[LightGBM] [Info] Start training from score -2.655295\n",
      "[LightGBM] [Info] Start training from score -1.291608\n",
      "[LightGBM] [Info] Start training from score -1.008932\n",
      "[LightGBM] [Info] Start training from score -1.484976\n",
      "[LightGBM] [Info] Start training from score -2.887991\n",
      "[LightGBM] [Info] Start training from score -4.817181\n",
      "[LightGBM] [Warning] feature_fraction is set=0.6, colsample_bytree=1.0 will be ignored. Current value: feature_fraction=0.6\n",
      "\n",
      "Classifier used:  LGBMClassifier(feature_fraction=0.6, metric='multi_logloss', num_class=6,\n",
      "               objective='multiclass')\n",
      "y_test:  [4, 2, 4, 2, 3, 4, 3, 3, 3, 1]\n",
      "y_pred:  [4, 2, 4, 2, 3, 5, 3, 4, 4, 3]\n",
      "quadratic weighted kappa score:  0.7393198125016118\n"
     ]
    }
   ],
   "source": [
    "trained_lgbm_pipeline, lgbm_y_pred = train_and_evaluate_pipeline(lgbm_pipeline, X_train, y_train, X_test, y_test)"
   ]
  },
  {
   "cell_type": "code",
   "execution_count": 37,
   "id": "41cf0c11",
   "metadata": {
    "execution": {
     "iopub.execute_input": "2024-04-30T08:36:23.895899Z",
     "iopub.status.busy": "2024-04-30T08:36:23.895497Z",
     "iopub.status.idle": "2024-04-30T08:38:27.170661Z",
     "shell.execute_reply": "2024-04-30T08:38:27.169403Z"
    },
    "papermill": {
     "duration": 123.298895,
     "end_time": "2024-04-30T08:38:27.173178",
     "exception": false,
     "start_time": "2024-04-30T08:36:23.874283",
     "status": "completed"
    },
    "tags": []
   },
   "outputs": [
    {
     "name": "stdout",
     "output_type": "stream",
     "text": [
      "[LightGBM] [Warning] feature_fraction is set=0.6, colsample_bytree=1.0 will be ignored. Current value: feature_fraction=0.6\n",
      "[LightGBM] [Warning] feature_fraction is set=0.6, colsample_bytree=1.0 will be ignored. Current value: feature_fraction=0.6\n",
      "[LightGBM] [Info] Auto-choosing row-wise multi-threading, the overhead of testing was 0.062392 seconds.\n",
      "You can set `force_row_wise=true` to remove the overhead.\n",
      "And if memory is not enough, you can set `force_col_wise=true`.\n",
      "[LightGBM] [Info] Total Bins 106710\n",
      "[LightGBM] [Info] Number of data points in the train set: 11076, number of used features: 442\n",
      "[LightGBM] [Info] Start training from score -2.654525\n",
      "[LightGBM] [Info] Start training from score -1.291608\n",
      "[LightGBM] [Info] Start training from score -1.009031\n",
      "[LightGBM] [Info] Start training from score -1.484896\n",
      "[LightGBM] [Info] Start training from score -2.889289\n",
      "[LightGBM] [Info] Start training from score -4.812726\n",
      "[LightGBM] [Warning] No further splits with positive gain, best gain: -inf\n",
      "[LightGBM] [Warning] feature_fraction is set=0.6, colsample_bytree=1.0 will be ignored. Current value: feature_fraction=0.6\n",
      "[LightGBM] [Warning] feature_fraction is set=0.6, colsample_bytree=1.0 will be ignored. Current value: feature_fraction=0.6\n",
      "[LightGBM] [Warning] feature_fraction is set=0.6, colsample_bytree=1.0 will be ignored. Current value: feature_fraction=0.6\n",
      "[LightGBM] [Info] Auto-choosing col-wise multi-threading, the overhead of testing was 0.064282 seconds.\n",
      "You can set `force_col_wise=true` to remove the overhead.\n",
      "[LightGBM] [Info] Total Bins 106314\n",
      "[LightGBM] [Info] Number of data points in the train set: 11076, number of used features: 440\n",
      "[LightGBM] [Info] Start training from score -2.655809\n",
      "[LightGBM] [Info] Start training from score -1.291608\n",
      "[LightGBM] [Info] Start training from score -1.009031\n",
      "[LightGBM] [Info] Start training from score -1.484896\n",
      "[LightGBM] [Info] Start training from score -2.887667\n",
      "[LightGBM] [Info] Start training from score -4.812726\n",
      "[LightGBM] [Warning] No further splits with positive gain, best gain: -inf\n",
      "[LightGBM] [Warning] feature_fraction is set=0.6, colsample_bytree=1.0 will be ignored. Current value: feature_fraction=0.6\n",
      "[LightGBM] [Warning] feature_fraction is set=0.6, colsample_bytree=1.0 will be ignored. Current value: feature_fraction=0.6\n",
      "[LightGBM] [Warning] feature_fraction is set=0.6, colsample_bytree=1.0 will be ignored. Current value: feature_fraction=0.6\n",
      "[LightGBM] [Info] Auto-choosing col-wise multi-threading, the overhead of testing was 0.089238 seconds.\n",
      "You can set `force_col_wise=true` to remove the overhead.\n",
      "[LightGBM] [Info] Total Bins 107545\n",
      "[LightGBM] [Info] Number of data points in the train set: 11076, number of used features: 446\n",
      "[LightGBM] [Info] Start training from score -2.655809\n",
      "[LightGBM] [Info] Start training from score -1.291608\n",
      "[LightGBM] [Info] Start training from score -1.008783\n",
      "[LightGBM] [Info] Start training from score -1.485295\n",
      "[LightGBM] [Info] Start training from score -2.887667\n",
      "[LightGBM] [Info] Start training from score -4.812726\n",
      "[LightGBM] [Warning] No further splits with positive gain, best gain: -inf\n",
      "[LightGBM] [Warning] feature_fraction is set=0.6, colsample_bytree=1.0 will be ignored. Current value: feature_fraction=0.6\n",
      "[LightGBM] [Warning] feature_fraction is set=0.6, colsample_bytree=1.0 will be ignored. Current value: feature_fraction=0.6\n",
      "[LightGBM] [Warning] feature_fraction is set=0.6, colsample_bytree=1.0 will be ignored. Current value: feature_fraction=0.6\n",
      "[LightGBM] [Info] Auto-choosing col-wise multi-threading, the overhead of testing was 0.066946 seconds.\n",
      "You can set `force_col_wise=true` to remove the overhead.\n",
      "[LightGBM] [Info] Total Bins 107218\n",
      "[LightGBM] [Info] Number of data points in the train set: 11076, number of used features: 444\n",
      "[LightGBM] [Info] Start training from score -2.655809\n",
      "[LightGBM] [Info] Start training from score -1.291608\n",
      "[LightGBM] [Info] Start training from score -1.008783\n",
      "[LightGBM] [Info] Start training from score -1.484896\n",
      "[LightGBM] [Info] Start training from score -2.887667\n",
      "[LightGBM] [Info] Start training from score -4.823900\n",
      "[LightGBM] [Warning] No further splits with positive gain, best gain: -inf\n",
      "[LightGBM] [Warning] feature_fraction is set=0.6, colsample_bytree=1.0 will be ignored. Current value: feature_fraction=0.6\n",
      "[LightGBM] [Warning] feature_fraction is set=0.6, colsample_bytree=1.0 will be ignored. Current value: feature_fraction=0.6\n",
      "[LightGBM] [Warning] feature_fraction is set=0.6, colsample_bytree=1.0 will be ignored. Current value: feature_fraction=0.6\n",
      "[LightGBM] [Info] Auto-choosing row-wise multi-threading, the overhead of testing was 0.061245 seconds.\n",
      "You can set `force_row_wise=true` to remove the overhead.\n",
      "And if memory is not enough, you can set `force_col_wise=true`.\n",
      "[LightGBM] [Info] Total Bins 106950\n",
      "[LightGBM] [Info] Number of data points in the train set: 11076, number of used features: 443\n",
      "[LightGBM] [Info] Start training from score -2.654525\n",
      "[LightGBM] [Info] Start training from score -1.291608\n",
      "[LightGBM] [Info] Start training from score -1.009031\n",
      "[LightGBM] [Info] Start training from score -1.484896\n",
      "[LightGBM] [Info] Start training from score -2.887667\n",
      "[LightGBM] [Info] Start training from score -4.823900\n",
      "[LightGBM] [Warning] feature_fraction is set=0.6, colsample_bytree=1.0 will be ignored. Current value: feature_fraction=0.6\n",
      "Mean Accuracy: 0.6026002166847237\n",
      "Mean Weighted F1-score: 0.5956601569964964\n",
      "Mean Quadratic Weighted Kappa Score: 0.7304641263300857\n"
     ]
    }
   ],
   "source": [
    "lgbm_cv_results = pipeline_cross_validation(lgbm_pipeline, X_train, y_train)\n",
    "avg_lgbm_qwk = np.mean(lgbm_cv_results['test_qwk'])\n",
    "avg_lgbm_acc = np.mean(lgbm_cv_results['test_accuracy'])\n",
    "avg_lgbm_f1 = np.mean(lgbm_cv_results['test_f1_weighted'])"
   ]
  },
  {
   "cell_type": "code",
   "execution_count": 38,
   "id": "c39d8371",
   "metadata": {
    "execution": {
     "iopub.execute_input": "2024-04-30T08:38:27.217852Z",
     "iopub.status.busy": "2024-04-30T08:38:27.217442Z",
     "iopub.status.idle": "2024-04-30T08:38:27.237184Z",
     "shell.execute_reply": "2024-04-30T08:38:27.236145Z"
    },
    "papermill": {
     "duration": 0.044134,
     "end_time": "2024-04-30T08:38:27.239288",
     "exception": false,
     "start_time": "2024-04-30T08:38:27.195154",
     "status": "completed"
    },
    "tags": []
   },
   "outputs": [
    {
     "name": "stdout",
     "output_type": "stream",
     "text": [
      "              precision    recall  f1-score   support\n",
      "\n",
      "           1       0.66      0.27      0.39       279\n",
      "           2       0.65      0.65      0.65       918\n",
      "           3       0.59      0.68      0.63      1232\n",
      "           4       0.56      0.60      0.58       790\n",
      "           5       0.47      0.37      0.41       199\n",
      "           6       0.54      0.16      0.25        44\n",
      "\n",
      "    accuracy                           0.60      3462\n",
      "   macro avg       0.58      0.45      0.48      3462\n",
      "weighted avg       0.60      0.60      0.59      3462\n",
      "\n"
     ]
    }
   ],
   "source": [
    "print(classification_report(y_test, lgbm_y_pred))"
   ]
  },
  {
   "cell_type": "code",
   "execution_count": 39,
   "id": "f464144f",
   "metadata": {
    "execution": {
     "iopub.execute_input": "2024-04-30T08:38:27.284027Z",
     "iopub.status.busy": "2024-04-30T08:38:27.283633Z",
     "iopub.status.idle": "2024-04-30T08:38:27.300926Z",
     "shell.execute_reply": "2024-04-30T08:38:27.299581Z"
    },
    "papermill": {
     "duration": 0.042211,
     "end_time": "2024-04-30T08:38:27.303122",
     "exception": false,
     "start_time": "2024-04-30T08:38:27.260911",
     "status": "completed"
    },
    "tags": []
   },
   "outputs": [
    {
     "name": "stdout",
     "output_type": "stream",
     "text": [
      "[LightGBM] [Warning] feature_fraction is set=0.6, colsample_bytree=1.0 will be ignored. Current value: feature_fraction=0.6\n",
      "Model prediction on submission essays:  [3, 3, 4]\n",
      "Submission essays actual classes:  [3, 3, 4]\n"
     ]
    }
   ],
   "source": [
    "# trained_lgbm_pipeline.predict(df_test[['full_text', 'word_count', 'length']]).tolist()\n",
    "print(\"Model prediction on submission essays: \", trained_lgbm_pipeline.predict(sub_X).tolist())\n",
    "print('Submission essays actual classes: ', sub_y.tolist())"
   ]
  },
  {
   "cell_type": "markdown",
   "id": "1e321879",
   "metadata": {
    "papermill": {
     "duration": 0.020733,
     "end_time": "2024-04-30T08:38:27.344904",
     "exception": false,
     "start_time": "2024-04-30T08:38:27.324171",
     "status": "completed"
    },
    "tags": []
   },
   "source": [
    "ordinal logistic regression classsifier"
   ]
  },
  {
   "cell_type": "code",
   "execution_count": 40,
   "id": "1d8fc09b",
   "metadata": {
    "execution": {
     "iopub.execute_input": "2024-04-30T08:38:27.388870Z",
     "iopub.status.busy": "2024-04-30T08:38:27.388493Z",
     "iopub.status.idle": "2024-04-30T08:38:27.393402Z",
     "shell.execute_reply": "2024-04-30T08:38:27.392391Z"
    },
    "papermill": {
     "duration": 0.029444,
     "end_time": "2024-04-30T08:38:27.395495",
     "exception": false,
     "start_time": "2024-04-30T08:38:27.366051",
     "status": "completed"
    },
    "tags": []
   },
   "outputs": [],
   "source": [
    "ordreg_clf = OrdinalRidge()"
   ]
  },
  {
   "cell_type": "code",
   "execution_count": 41,
   "id": "6889ccc4",
   "metadata": {
    "execution": {
     "iopub.execute_input": "2024-04-30T08:38:27.439511Z",
     "iopub.status.busy": "2024-04-30T08:38:27.439111Z",
     "iopub.status.idle": "2024-04-30T08:38:27.443614Z",
     "shell.execute_reply": "2024-04-30T08:38:27.442624Z"
    },
    "papermill": {
     "duration": 0.029311,
     "end_time": "2024-04-30T08:38:27.445859",
     "exception": false,
     "start_time": "2024-04-30T08:38:27.416548",
     "status": "completed"
    },
    "tags": []
   },
   "outputs": [],
   "source": [
    "ordreg_pipeline = Pipeline(steps=[\n",
    "    ('preprocessor', tfidf_preprocessor),\n",
    "    ('classifier', ordreg_clf) # ordinal regression Classifier\n",
    "])"
   ]
  },
  {
   "cell_type": "code",
   "execution_count": 42,
   "id": "2f440964",
   "metadata": {
    "execution": {
     "iopub.execute_input": "2024-04-30T08:38:27.490686Z",
     "iopub.status.busy": "2024-04-30T08:38:27.490245Z",
     "iopub.status.idle": "2024-04-30T08:38:31.740031Z",
     "shell.execute_reply": "2024-04-30T08:38:31.738371Z"
    },
    "papermill": {
     "duration": 4.275742,
     "end_time": "2024-04-30T08:38:31.742892",
     "exception": false,
     "start_time": "2024-04-30T08:38:27.467150",
     "status": "completed"
    },
    "tags": []
   },
   "outputs": [
    {
     "name": "stdout",
     "output_type": "stream",
     "text": [
      "\n",
      "Classifier used:  OrdinalRidge()\n",
      "y_test:  [4, 2, 4, 2, 3, 4, 3, 3, 3, 1]\n",
      "y_pred:  [4.0, 2.0, 3.0, 2.0, 3.0, 4.0, 3.0, 3.0, 4.0, 3.0]\n",
      "quadratic weighted kappa score:  0.7478259080099344\n"
     ]
    }
   ],
   "source": [
    "trained_ordreg_pipeline, ordreg_y_pred = train_and_evaluate_pipeline(ordreg_pipeline, X_train, y_train, X_test, y_test)"
   ]
  },
  {
   "cell_type": "code",
   "execution_count": 43,
   "id": "89c33579",
   "metadata": {
    "execution": {
     "iopub.execute_input": "2024-04-30T08:38:31.788621Z",
     "iopub.status.busy": "2024-04-30T08:38:31.787951Z",
     "iopub.status.idle": "2024-04-30T08:38:31.809694Z",
     "shell.execute_reply": "2024-04-30T08:38:31.808662Z"
    },
    "papermill": {
     "duration": 0.047187,
     "end_time": "2024-04-30T08:38:31.812041",
     "exception": false,
     "start_time": "2024-04-30T08:38:31.764854",
     "status": "completed"
    },
    "tags": []
   },
   "outputs": [
    {
     "name": "stdout",
     "output_type": "stream",
     "text": [
      "              precision    recall  f1-score   support\n",
      "\n",
      "           1       0.72      0.21      0.32       279\n",
      "           2       0.59      0.64      0.61       918\n",
      "           3       0.56      0.72      0.63      1232\n",
      "           4       0.61      0.50      0.55       790\n",
      "           5       0.47      0.31      0.38       199\n",
      "           6       0.44      0.27      0.34        44\n",
      "\n",
      "    accuracy                           0.58      3462\n",
      "   macro avg       0.57      0.44      0.47      3462\n",
      "weighted avg       0.58      0.58      0.56      3462\n",
      "\n"
     ]
    }
   ],
   "source": [
    "print(classification_report(y_test, ordreg_y_pred))"
   ]
  },
  {
   "cell_type": "code",
   "execution_count": 44,
   "id": "45b081e2",
   "metadata": {
    "execution": {
     "iopub.execute_input": "2024-04-30T08:38:31.857666Z",
     "iopub.status.busy": "2024-04-30T08:38:31.856986Z",
     "iopub.status.idle": "2024-04-30T08:38:31.869684Z",
     "shell.execute_reply": "2024-04-30T08:38:31.868878Z"
    },
    "papermill": {
     "duration": 0.038605,
     "end_time": "2024-04-30T08:38:31.872110",
     "exception": false,
     "start_time": "2024-04-30T08:38:31.833505",
     "status": "completed"
    },
    "tags": []
   },
   "outputs": [
    {
     "name": "stdout",
     "output_type": "stream",
     "text": [
      "Model prediction on submission essays:  [2.0, 3.0, 4.0]\n",
      "Submission essays actual classes:  [3, 3, 4]\n"
     ]
    }
   ],
   "source": [
    "print(\"Model prediction on submission essays: \", trained_ordreg_pipeline.predict(sub_X).tolist())\n",
    "print('Submission essays actual classes: ', sub_y.tolist())"
   ]
  },
  {
   "cell_type": "code",
   "execution_count": 45,
   "id": "11aa34ce",
   "metadata": {
    "execution": {
     "iopub.execute_input": "2024-04-30T08:38:31.918179Z",
     "iopub.status.busy": "2024-04-30T08:38:31.917460Z",
     "iopub.status.idle": "2024-04-30T08:38:49.107732Z",
     "shell.execute_reply": "2024-04-30T08:38:49.106300Z"
    },
    "papermill": {
     "duration": 17.215485,
     "end_time": "2024-04-30T08:38:49.110084",
     "exception": false,
     "start_time": "2024-04-30T08:38:31.894599",
     "status": "completed"
    },
    "tags": []
   },
   "outputs": [
    {
     "name": "stdout",
     "output_type": "stream",
     "text": [
      "Mean Accuracy: 0.5838931022029614\n",
      "Mean Weighted F1-score: 0.572113211644748\n",
      "Mean Quadratic Weighted Kappa Score: 0.7328504495324164\n"
     ]
    }
   ],
   "source": [
    "ordreg_cv_results = pipeline_cross_validation(ordreg_pipeline, X_train, y_train)\n",
    "avg_ordreg_qwk = np.mean(ordreg_cv_results['test_qwk'])\n",
    "avg_ordreg_acc = np.mean(ordreg_cv_results['test_accuracy'])\n",
    "avg_ordreg_f1 = np.mean(ordreg_cv_results['test_f1_weighted'])"
   ]
  },
  {
   "cell_type": "markdown",
   "id": "c1a52f83",
   "metadata": {
    "papermill": {
     "duration": 0.021335,
     "end_time": "2024-04-30T08:38:49.153121",
     "exception": false,
     "start_time": "2024-04-30T08:38:49.131786",
     "status": "completed"
    },
    "tags": []
   },
   "source": [
    "Random Forest Classifier "
   ]
  },
  {
   "cell_type": "code",
   "execution_count": 46,
   "id": "b7dc7109",
   "metadata": {
    "execution": {
     "iopub.execute_input": "2024-04-30T08:38:49.197525Z",
     "iopub.status.busy": "2024-04-30T08:38:49.196886Z",
     "iopub.status.idle": "2024-04-30T08:38:49.203024Z",
     "shell.execute_reply": "2024-04-30T08:38:49.202068Z"
    },
    "papermill": {
     "duration": 0.030658,
     "end_time": "2024-04-30T08:38:49.205054",
     "exception": false,
     "start_time": "2024-04-30T08:38:49.174396",
     "status": "completed"
    },
    "tags": []
   },
   "outputs": [],
   "source": [
    "rf_clf = RandomForestClassifier()"
   ]
  },
  {
   "cell_type": "code",
   "execution_count": 47,
   "id": "4018ef6a",
   "metadata": {
    "execution": {
     "iopub.execute_input": "2024-04-30T08:38:49.250161Z",
     "iopub.status.busy": "2024-04-30T08:38:49.249456Z",
     "iopub.status.idle": "2024-04-30T08:38:49.253689Z",
     "shell.execute_reply": "2024-04-30T08:38:49.252932Z"
    },
    "papermill": {
     "duration": 0.028762,
     "end_time": "2024-04-30T08:38:49.255570",
     "exception": false,
     "start_time": "2024-04-30T08:38:49.226808",
     "status": "completed"
    },
    "tags": []
   },
   "outputs": [],
   "source": [
    "rf_pipeline = Pipeline(steps=[\n",
    "    ('preprocessor', tfidf_preprocessor),\n",
    "    ('classifier', rf_clf) # randomforest Classifier\n",
    "])"
   ]
  },
  {
   "cell_type": "code",
   "execution_count": 48,
   "id": "87d66755",
   "metadata": {
    "execution": {
     "iopub.execute_input": "2024-04-30T08:38:49.302461Z",
     "iopub.status.busy": "2024-04-30T08:38:49.301738Z",
     "iopub.status.idle": "2024-04-30T08:39:30.199107Z",
     "shell.execute_reply": "2024-04-30T08:39:30.198067Z"
    },
    "papermill": {
     "duration": 40.944223,
     "end_time": "2024-04-30T08:39:30.222170",
     "exception": false,
     "start_time": "2024-04-30T08:38:49.277947",
     "status": "completed"
    },
    "tags": []
   },
   "outputs": [
    {
     "name": "stdout",
     "output_type": "stream",
     "text": [
      "\n",
      "Classifier used:  RandomForestClassifier()\n",
      "y_test:  [4, 2, 4, 2, 3, 4, 3, 3, 3, 1]\n",
      "y_pred:  [4, 2, 4, 2, 3, 4, 3, 4, 4, 3]\n",
      "quadratic weighted kappa score:  0.6738194534826476\n"
     ]
    }
   ],
   "source": [
    "trained_rf_pipeline, rf_y_pred = train_and_evaluate_pipeline(rf_pipeline, X_train, y_train, X_test, y_test)"
   ]
  },
  {
   "cell_type": "code",
   "execution_count": 49,
   "id": "8b651710",
   "metadata": {
    "execution": {
     "iopub.execute_input": "2024-04-30T08:39:30.270702Z",
     "iopub.status.busy": "2024-04-30T08:39:30.269928Z",
     "iopub.status.idle": "2024-04-30T08:41:59.259716Z",
     "shell.execute_reply": "2024-04-30T08:41:59.258677Z"
    },
    "papermill": {
     "duration": 149.039337,
     "end_time": "2024-04-30T08:41:59.284409",
     "exception": false,
     "start_time": "2024-04-30T08:39:30.245072",
     "status": "completed"
    },
    "tags": []
   },
   "outputs": [
    {
     "name": "stdout",
     "output_type": "stream",
     "text": [
      "Mean Accuracy: 0.5808595160707837\n",
      "Mean Weighted F1-score: 0.5525834069550836\n",
      "Mean Quadratic Weighted Kappa Score: 0.6683047665144548\n"
     ]
    }
   ],
   "source": [
    "rf_cv_results = pipeline_cross_validation(rf_pipeline, X_train, y_train)\n",
    "avg_rf_qwk = np.mean(rf_cv_results['test_qwk'])\n",
    "avg_rf_acc = np.mean(rf_cv_results['test_accuracy'])\n",
    "avg_rf_f1 = np.mean(rf_cv_results['test_f1_weighted'])"
   ]
  },
  {
   "cell_type": "code",
   "execution_count": 50,
   "id": "08629ff8",
   "metadata": {
    "execution": {
     "iopub.execute_input": "2024-04-30T08:41:59.332404Z",
     "iopub.status.busy": "2024-04-30T08:41:59.331720Z",
     "iopub.status.idle": "2024-04-30T08:41:59.355688Z",
     "shell.execute_reply": "2024-04-30T08:41:59.354256Z"
    },
    "papermill": {
     "duration": 0.050646,
     "end_time": "2024-04-30T08:41:59.358248",
     "exception": false,
     "start_time": "2024-04-30T08:41:59.307602",
     "status": "completed"
    },
    "tags": []
   },
   "outputs": [
    {
     "name": "stdout",
     "output_type": "stream",
     "text": [
      "              precision    recall  f1-score   support\n",
      "\n",
      "           1       0.78      0.09      0.16       279\n",
      "           2       0.65      0.65      0.65       918\n",
      "           3       0.57      0.70      0.63      1232\n",
      "           4       0.52      0.62      0.57       790\n",
      "           5       0.44      0.06      0.11       199\n",
      "           6       0.00      0.00      0.00        44\n",
      "\n",
      "    accuracy                           0.58      3462\n",
      "   macro avg       0.49      0.35      0.35      3462\n",
      "weighted avg       0.58      0.58      0.54      3462\n",
      "\n"
     ]
    },
    {
     "name": "stderr",
     "output_type": "stream",
     "text": [
      "/opt/conda/lib/python3.10/site-packages/sklearn/metrics/_classification.py:1344: UndefinedMetricWarning: Precision and F-score are ill-defined and being set to 0.0 in labels with no predicted samples. Use `zero_division` parameter to control this behavior.\n",
      "  _warn_prf(average, modifier, msg_start, len(result))\n",
      "/opt/conda/lib/python3.10/site-packages/sklearn/metrics/_classification.py:1344: UndefinedMetricWarning: Precision and F-score are ill-defined and being set to 0.0 in labels with no predicted samples. Use `zero_division` parameter to control this behavior.\n",
      "  _warn_prf(average, modifier, msg_start, len(result))\n",
      "/opt/conda/lib/python3.10/site-packages/sklearn/metrics/_classification.py:1344: UndefinedMetricWarning: Precision and F-score are ill-defined and being set to 0.0 in labels with no predicted samples. Use `zero_division` parameter to control this behavior.\n",
      "  _warn_prf(average, modifier, msg_start, len(result))\n"
     ]
    }
   ],
   "source": [
    "print(classification_report(y_test, rf_y_pred))"
   ]
  },
  {
   "cell_type": "code",
   "execution_count": 51,
   "id": "86ed509f",
   "metadata": {
    "execution": {
     "iopub.execute_input": "2024-04-30T08:41:59.407719Z",
     "iopub.status.busy": "2024-04-30T08:41:59.407299Z",
     "iopub.status.idle": "2024-04-30T08:41:59.427411Z",
     "shell.execute_reply": "2024-04-30T08:41:59.426340Z"
    },
    "papermill": {
     "duration": 0.049065,
     "end_time": "2024-04-30T08:41:59.429794",
     "exception": false,
     "start_time": "2024-04-30T08:41:59.380729",
     "status": "completed"
    },
    "tags": []
   },
   "outputs": [
    {
     "name": "stdout",
     "output_type": "stream",
     "text": [
      "Model prediction on submission essays:  [3, 3, 4]\n",
      "Submission essays actual classes:  [3, 3, 4]\n"
     ]
    }
   ],
   "source": [
    "print(\"Model prediction on submission essays: \", trained_rf_pipeline.predict(sub_X).tolist())\n",
    "print('Submission essays actual classes: ', sub_y.tolist())"
   ]
  },
  {
   "cell_type": "markdown",
   "id": "b4670feb",
   "metadata": {
    "papermill": {
     "duration": 0.022835,
     "end_time": "2024-04-30T08:41:59.476763",
     "exception": false,
     "start_time": "2024-04-30T08:41:59.453928",
     "status": "completed"
    },
    "tags": []
   },
   "source": [
    "MLP Classifier model and pipeline"
   ]
  },
  {
   "cell_type": "code",
   "execution_count": 52,
   "id": "1c0af297",
   "metadata": {
    "execution": {
     "iopub.execute_input": "2024-04-30T08:41:59.531946Z",
     "iopub.status.busy": "2024-04-30T08:41:59.530931Z",
     "iopub.status.idle": "2024-04-30T08:41:59.537072Z",
     "shell.execute_reply": "2024-04-30T08:41:59.535978Z"
    },
    "papermill": {
     "duration": 0.03355,
     "end_time": "2024-04-30T08:41:59.539692",
     "exception": false,
     "start_time": "2024-04-30T08:41:59.506142",
     "status": "completed"
    },
    "tags": []
   },
   "outputs": [],
   "source": [
    "mlp_clf = MLPClassifier(hidden_layer_sizes=(150,100, 50), activation='relu', learning_rate='adaptive', max_iter=500)"
   ]
  },
  {
   "cell_type": "code",
   "execution_count": 53,
   "id": "4ff3afd7",
   "metadata": {
    "execution": {
     "iopub.execute_input": "2024-04-30T08:41:59.588317Z",
     "iopub.status.busy": "2024-04-30T08:41:59.587365Z",
     "iopub.status.idle": "2024-04-30T08:41:59.593290Z",
     "shell.execute_reply": "2024-04-30T08:41:59.592176Z"
    },
    "papermill": {
     "duration": 0.033219,
     "end_time": "2024-04-30T08:41:59.596028",
     "exception": false,
     "start_time": "2024-04-30T08:41:59.562809",
     "status": "completed"
    },
    "tags": []
   },
   "outputs": [],
   "source": [
    "mlp_pipeline = Pipeline(steps=[\n",
    "    ('preprocessor', tfidf_preprocessor),\n",
    "    ('classifier', mlp_clf)\n",
    "])"
   ]
  },
  {
   "cell_type": "code",
   "execution_count": 54,
   "id": "5888ae5b",
   "metadata": {
    "execution": {
     "iopub.execute_input": "2024-04-30T08:41:59.650120Z",
     "iopub.status.busy": "2024-04-30T08:41:59.649194Z",
     "iopub.status.idle": "2024-04-30T08:42:56.873098Z",
     "shell.execute_reply": "2024-04-30T08:42:56.871928Z"
    },
    "papermill": {
     "duration": 57.293096,
     "end_time": "2024-04-30T08:42:56.912199",
     "exception": false,
     "start_time": "2024-04-30T08:41:59.619103",
     "status": "completed"
    },
    "tags": []
   },
   "outputs": [
    {
     "name": "stdout",
     "output_type": "stream",
     "text": [
      "\n",
      "Classifier used:  MLPClassifier(hidden_layer_sizes=(150, 100, 50), learning_rate='adaptive',\n",
      "              max_iter=500)\n",
      "y_test:  [4, 2, 4, 2, 3, 4, 3, 3, 3, 1]\n",
      "y_pred:  [4, 2, 4, 2, 3, 5, 4, 4, 4, 1]\n",
      "quadratic weighted kappa score:  0.7234332859594546\n"
     ]
    }
   ],
   "source": [
    "trained_mlp_pipeline, mlp_y_pred = train_and_evaluate_pipeline(mlp_pipeline, X_train, y_train, X_test, y_test)"
   ]
  },
  {
   "cell_type": "code",
   "execution_count": 55,
   "id": "5bde5e11",
   "metadata": {
    "execution": {
     "iopub.execute_input": "2024-04-30T08:42:56.985345Z",
     "iopub.status.busy": "2024-04-30T08:42:56.984957Z",
     "iopub.status.idle": "2024-04-30T08:47:07.277518Z",
     "shell.execute_reply": "2024-04-30T08:47:07.276186Z"
    },
    "papermill": {
     "duration": 250.372242,
     "end_time": "2024-04-30T08:47:07.320664",
     "exception": false,
     "start_time": "2024-04-30T08:42:56.948422",
     "status": "completed"
    },
    "tags": []
   },
   "outputs": [
    {
     "name": "stdout",
     "output_type": "stream",
     "text": [
      "Mean Accuracy: 0.5460455037919827\n",
      "Mean Weighted F1-score: 0.5451323223737484\n",
      "Mean Quadratic Weighted Kappa Score: 0.7085531828122821\n"
     ]
    }
   ],
   "source": [
    "mlp_cv_results = pipeline_cross_validation(mlp_pipeline, X_train, y_train)"
   ]
  },
  {
   "cell_type": "code",
   "execution_count": 56,
   "id": "6bc1a237",
   "metadata": {
    "execution": {
     "iopub.execute_input": "2024-04-30T08:47:07.389161Z",
     "iopub.status.busy": "2024-04-30T08:47:07.388755Z",
     "iopub.status.idle": "2024-04-30T08:47:07.394201Z",
     "shell.execute_reply": "2024-04-30T08:47:07.393025Z"
    },
    "papermill": {
     "duration": 0.037384,
     "end_time": "2024-04-30T08:47:07.396472",
     "exception": false,
     "start_time": "2024-04-30T08:47:07.359088",
     "status": "completed"
    },
    "tags": []
   },
   "outputs": [],
   "source": [
    "avg_mlp_qwk = np.mean(mlp_cv_results['test_qwk'])\n",
    "avg_mlp_acc = np.mean(mlp_cv_results['test_accuracy'])\n",
    "avg_mlp_f1 = np.mean(mlp_cv_results['test_f1_weighted'])"
   ]
  },
  {
   "cell_type": "code",
   "execution_count": 57,
   "id": "7b3cf055",
   "metadata": {
    "execution": {
     "iopub.execute_input": "2024-04-30T08:47:07.442295Z",
     "iopub.status.busy": "2024-04-30T08:47:07.441931Z",
     "iopub.status.idle": "2024-04-30T08:47:07.457033Z",
     "shell.execute_reply": "2024-04-30T08:47:07.455686Z"
    },
    "papermill": {
     "duration": 0.04078,
     "end_time": "2024-04-30T08:47:07.459450",
     "exception": false,
     "start_time": "2024-04-30T08:47:07.418670",
     "status": "completed"
    },
    "tags": []
   },
   "outputs": [
    {
     "name": "stdout",
     "output_type": "stream",
     "text": [
      "Model prediction on submission essays:  [3, 3, 4]\n",
      "Submission essays actual classes:  [3, 3, 4]\n"
     ]
    }
   ],
   "source": [
    "print(\"Model prediction on submission essays: \", trained_mlp_pipeline.predict(sub_X).tolist())\n",
    "print('Submission essays actual classes: ', sub_y.tolist())"
   ]
  },
  {
   "cell_type": "markdown",
   "id": "2c419773",
   "metadata": {
    "papermill": {
     "duration": 0.021851,
     "end_time": "2024-04-30T08:47:07.503942",
     "exception": false,
     "start_time": "2024-04-30T08:47:07.482091",
     "status": "completed"
    },
    "tags": []
   },
   "source": [
    "visualizations of performances"
   ]
  },
  {
   "cell_type": "code",
   "execution_count": 58,
   "id": "7d7649f0",
   "metadata": {
    "execution": {
     "iopub.execute_input": "2024-04-30T08:47:07.550449Z",
     "iopub.status.busy": "2024-04-30T08:47:07.550039Z",
     "iopub.status.idle": "2024-04-30T08:47:07.945521Z",
     "shell.execute_reply": "2024-04-30T08:47:07.944383Z"
    },
    "papermill": {
     "duration": 0.421673,
     "end_time": "2024-04-30T08:47:07.947819",
     "exception": false,
     "start_time": "2024-04-30T08:47:07.526146",
     "status": "completed"
    },
    "tags": []
   },
   "outputs": [
    {
     "data": {
      "image/png": "[encoded data removed]",
      "text/plain": [
       "<Figure size 1200x800 with 1 Axes>"
      ]
     },
     "metadata": {},
     "output_type": "display_data"
    }
   ],
   "source": [
    "qwk_scores = [avg_logreg_qwk, avg_lgbm_qwk, avg_ordreg_qwk, avg_rf_qwk, avg_mlp_qwk]\n",
    "acc_scores = [avg_logreg_acc, avg_lgbm_acc, avg_ordreg_acc, avg_rf_acc, avg_mlp_acc]\n",
    "f1_scores = [avg_logreg_f1, avg_lgbm_f1, avg_ordreg_f1, avg_rf_f1, avg_mlp_f1]\n",
    "model_names = ['logreg', 'lgbm', 'ordinalreg', 'randomforest', 'mlp']\n",
    "\n",
    "plt.figure(figsize=(12, 8))\n",
    "\n",
    "bar_width = 0.2\n",
    "\n",
    "plt.bar([x for x in range(len(model_names))], qwk_scores, width=0.2, label='qwk')\n",
    "plt.bar([x + bar_width for x in range(len(model_names))], acc_scores, width=0.2, label='acc')\n",
    "plt.bar([x + bar_width + bar_width for x in range(len(model_names))], f1_scores, width=0.2, label='f1')\n",
    "\n",
    "\n",
    "\n",
    "# Adding labels, title, and legend\n",
    "plt.xlabel('Models')\n",
    "plt.ylabel('Scores')\n",
    "plt.title('Performance Comparison of Different Models')\n",
    "plt.ylim(0.5, 0.8) # this zoomes in the scale to make it easier to see\n",
    "plt.xticks([x for x in range(len(model_names))], model_names)\n",
    "plt.yticks([round(0.55 + 0.025 * i, 3) for i in range(11)]) # this makes the y axis show a better range of values\n",
    "\n",
    "#  Annotate each bar with its value\n",
    "for i, score in enumerate(qwk_scores):\n",
    "    plt.text(i, score + 0.01, f'{score:.3f}', ha='center', va='bottom', color='black', fontsize=8)\n",
    "for i, score in enumerate(acc_scores):\n",
    "    plt.text(i + bar_width, score + 0.01, f'{score:.3f}', ha='center', va='bottom', color='black', fontsize=8)\n",
    "for i, score in enumerate(f1_scores):\n",
    "    plt.text(i + 2 * bar_width, score + 0.01, f'{score:.3f}', ha='center', va='bottom', color='black', fontsize=8)\n",
    "\n",
    "plt.legend()\n",
    "\n",
    "# Show plot\n",
    "plt.show()"
   ]
  },
  {
   "cell_type": "markdown",
   "id": "be0503d4",
   "metadata": {
    "papermill": {
     "duration": 0.022571,
     "end_time": "2024-04-30T08:47:07.994003",
     "exception": false,
     "start_time": "2024-04-30T08:47:07.971432",
     "status": "completed"
    },
    "tags": []
   },
   "source": [
    "# ***Things to do:***\n",
    "\n",
    "- put explanations and more markup in notebook\n",
    "\n",
    "- more EDA, some diagrams and graphs on the dataset \n",
    "\n",
    "    ideas: - compare the cross validation qwk scores, group by scores and show word lengths etc\n",
    "\n",
    "- try word2vec for vector embeddings and compare with tfidf - make w2v more accurate somehow\n",
    "\n",
    "- find more models - potential: xgboostclassifier, ordinal logistic regression (sm), SGDClassifier? ,\n",
    "\n",
    "- overall increase the performance of the models they arent predicting the test dataset 100% correctly\n",
    "\n"
   ]
  },
  {
   "cell_type": "raw",
   "id": "85669bd7",
   "metadata": {
    "papermill": {
     "duration": 0.022722,
     "end_time": "2024-04-30T08:47:08.039850",
     "exception": false,
     "start_time": "2024-04-30T08:47:08.017128",
     "status": "completed"
    },
    "tags": []
   },
   "source": []
  }
 ],
 "metadata": {
  "kaggle": {
   "accelerator": "none",
   "dataSources": [
    {
     "databundleVersionId": 8059942,
     "sourceId": 71485,
     "sourceType": "competition"
    }
   ],
   "dockerImageVersionId": 30698,
   "isGpuEnabled": false,
   "isInternetEnabled": true,
   "language": "python",
   "sourceType": "notebook"
  },
  "kernelspec": {
   "display_name": "Python 3",
   "language": "python",
   "name": "python3"
  },
  "language_info": {
   "codemirror_mode": {
    "name": "ipython",
    "version": 3
   },
   "file_extension": ".py",
   "mimetype": "text/x-python",
   "name": "python",
   "nbconvert_exporter": "python",
   "pygments_lexer": "ipython3",
   "version": "3.10.13"
  },
  "papermill": {
   "default_parameters": {},
   "duration": 820.279399,
   "end_time": "2024-04-30T08:47:09.288780",
   "environment_variables": {},
   "exception": null,
   "input_path": "__notebook__.ipynb",
   "output_path": "__notebook__.ipynb",
   "parameters": {},
   "start_time": "2024-04-30T08:33:29.009381",
   "version": "2.5.0"
  }
 },
 "nbformat": 4,
 "nbformat_minor": 5
}
