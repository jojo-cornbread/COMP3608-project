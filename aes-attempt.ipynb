{
 "cells": [
  {
   "cell_type": "code",
   "execution_count": 1,
   "id": "fa9fa7ee",
   "metadata": {
    "_cell_guid": "b1076dfc-b9ad-4769-8c92-a6c4dae69d19",
    "_uuid": "8f2839f25d086af736a60e9eeb907d3b93b6e0e5",
    "execution": {
     "iopub.execute_input": "2024-04-30T02:52:37.262791Z",
     "iopub.status.busy": "2024-04-30T02:52:37.261786Z",
     "iopub.status.idle": "2024-04-30T02:52:38.191235Z",
     "shell.execute_reply": "2024-04-30T02:52:38.189706Z"
    },
    "papermill": {
     "duration": 0.953915,
     "end_time": "2024-04-30T02:52:38.193958",
     "exception": false,
     "start_time": "2024-04-30T02:52:37.240043",
     "status": "completed"
    },
    "tags": []
   },
   "outputs": [
    {
     "name": "stdout",
     "output_type": "stream",
     "text": [
      "/kaggle/input/learning-agency-lab-automated-essay-scoring-2/sample_submission.csv\n",
      "/kaggle/input/learning-agency-lab-automated-essay-scoring-2/train.csv\n",
      "/kaggle/input/learning-agency-lab-automated-essay-scoring-2/test.csv\n"
     ]
    }
   ],
   "source": [
    "# This Python 3 environment comes with many helpful analytics libraries installed\n",
    "# It is defined by the kaggle/python Docker image: https://github.com/kaggle/docker-python\n",
    "# For example, here's several helpful packages to load\n",
    "\n",
    "import numpy as np # linear algebra\n",
    "import pandas as pd # data processing, CSV file I/O (e.g. pd.read_csv)\n",
    "\n",
    "# Input data files are available in the read-only \"../input/\" directory\n",
    "# For example, running this (by clicking run or pressing Shift+Enter) will list all files under the input directory\n",
    "\n",
    "import os\n",
    "for dirname, _, filenames in os.walk('/kaggle/input'):\n",
    "    for filename in filenames:\n",
    "        print(os.path.join(dirname, filename))\n",
    "\n",
    "# You can write up to 20GB to the current directory (/kaggle/working/) that gets preserved as output when you create a version using \"Save & Run All\" \n",
    "# You can also write temporary files to /kaggle/temp/, but they won't be saved outside of the current session"
   ]
  },
  {
   "cell_type": "markdown",
   "id": "5ffb426d",
   "metadata": {
    "papermill": {
     "duration": 0.0196,
     "end_time": "2024-04-30T02:52:38.233160",
     "exception": false,
     "start_time": "2024-04-30T02:52:38.213560",
     "status": "completed"
    },
    "tags": []
   },
   "source": [
    "import other libraries"
   ]
  },
  {
   "cell_type": "code",
   "execution_count": 2,
   "id": "f4339394",
   "metadata": {
    "execution": {
     "iopub.execute_input": "2024-04-30T02:52:38.277387Z",
     "iopub.status.busy": "2024-04-30T02:52:38.276840Z",
     "iopub.status.idle": "2024-04-30T02:52:57.610928Z",
     "shell.execute_reply": "2024-04-30T02:52:57.609507Z"
    },
    "papermill": {
     "duration": 19.359682,
     "end_time": "2024-04-30T02:52:57.613825",
     "exception": false,
     "start_time": "2024-04-30T02:52:38.254143",
     "status": "completed"
    },
    "tags": []
   },
   "outputs": [
    {
     "name": "stdout",
     "output_type": "stream",
     "text": [
      "Collecting mord\r\n",
      "  Downloading mord-0.7.tar.gz (8.6 kB)\r\n",
      "  Preparing metadata (setup.py) ... \u001b[?25l-\b \bdone\r\n",
      "\u001b[?25hBuilding wheels for collected packages: mord\r\n",
      "  Building wheel for mord (setup.py) ... \u001b[?25l-\b \bdone\r\n",
      "\u001b[?25h  Created wheel for mord: filename=mord-0.7-py3-none-any.whl size=9886 sha256=b03cd541c3170f9d958029ab526891278e66e5d94875072e81c74372c2005a40\r\n",
      "  Stored in directory: /root/.cache/pip/wheels/77/00/19/3cea86fbfc737ec4acb515cd94497dcc33f943fa157548b96c\r\n",
      "Successfully built mord\r\n",
      "Installing collected packages: mord\r\n",
      "Successfully installed mord-0.7\r\n"
     ]
    }
   ],
   "source": [
    "!pip install mord"
   ]
  },
  {
   "cell_type": "code",
   "execution_count": 3,
   "id": "4358db80",
   "metadata": {
    "execution": {
     "iopub.execute_input": "2024-04-30T02:52:57.656840Z",
     "iopub.status.busy": "2024-04-30T02:52:57.656336Z",
     "iopub.status.idle": "2024-04-30T02:53:17.372844Z",
     "shell.execute_reply": "2024-04-30T02:53:17.371718Z"
    },
    "papermill": {
     "duration": 19.741149,
     "end_time": "2024-04-30T02:53:17.375589",
     "exception": false,
     "start_time": "2024-04-30T02:52:57.634440",
     "status": "completed"
    },
    "tags": []
   },
   "outputs": [],
   "source": [
    "from sklearn.feature_extraction.text import TfidfVectorizer, CountVectorizer\n",
    "from sklearn.linear_model import LogisticRegression, LogisticRegressionCV\n",
    "import xgboost as xgb\n",
    "from sklearn.ensemble import RandomForestClassifier\n",
    "from lightgbm import LGBMClassifier\n",
    "from sklearn.metrics import cohen_kappa_score, make_scorer, classification_report, accuracy_score, confusion_matrix\n",
    "import re\n",
    "from sklearn.pipeline import Pipeline\n",
    "# from sklearn.pipeline import FeatureUnion\n",
    "from sklearn.compose import ColumnTransformer\n",
    "from sklearn.model_selection import GridSearchCV, train_test_split, cross_validate\n",
    "from sklearn.preprocessing import StandardScaler, FunctionTransformer\n",
    "\n",
    "from gensim.models import Word2Vec\n",
    "from mord import OrdinalRidge\n",
    "import seaborn as sns\n",
    "# import statsmodels.api as sm\n",
    "# from statsmodels.miscmodels.ordinal_model import OrderedModel"
   ]
  },
  {
   "cell_type": "markdown",
   "id": "cac7fa90",
   "metadata": {
    "papermill": {
     "duration": 0.019654,
     "end_time": "2024-04-30T02:53:17.415399",
     "exception": false,
     "start_time": "2024-04-30T02:53:17.395745",
     "status": "completed"
    },
    "tags": []
   },
   "source": [
    "Read in the dataset"
   ]
  },
  {
   "cell_type": "code",
   "execution_count": 4,
   "id": "abd8408e",
   "metadata": {
    "execution": {
     "iopub.execute_input": "2024-04-30T02:53:17.459606Z",
     "iopub.status.busy": "2024-04-30T02:53:17.458943Z",
     "iopub.status.idle": "2024-04-30T02:53:18.309992Z",
     "shell.execute_reply": "2024-04-30T02:53:18.308569Z"
    },
    "papermill": {
     "duration": 0.876039,
     "end_time": "2024-04-30T02:53:18.312827",
     "exception": false,
     "start_time": "2024-04-30T02:53:17.436788",
     "status": "completed"
    },
    "tags": []
   },
   "outputs": [],
   "source": [
    "df_train = pd.read_csv('/kaggle/input/learning-agency-lab-automated-essay-scoring-2/train.csv')\n",
    "df_test = pd.read_csv('/kaggle/input/learning-agency-lab-automated-essay-scoring-2/test.csv')\n",
    "df_sub = pd.read_csv('/kaggle/input/learning-agency-lab-automated-essay-scoring-2/sample_submission.csv')"
   ]
  },
  {
   "cell_type": "markdown",
   "id": "98a08ac5",
   "metadata": {
    "papermill": {
     "duration": 0.020232,
     "end_time": "2024-04-30T02:53:18.353864",
     "exception": false,
     "start_time": "2024-04-30T02:53:18.333632",
     "status": "completed"
    },
    "tags": []
   },
   "source": [
    "Data cleaning"
   ]
  },
  {
   "cell_type": "code",
   "execution_count": 5,
   "id": "38a7da21",
   "metadata": {
    "execution": {
     "iopub.execute_input": "2024-04-30T02:53:18.395815Z",
     "iopub.status.busy": "2024-04-30T02:53:18.395412Z",
     "iopub.status.idle": "2024-04-30T02:53:18.408672Z",
     "shell.execute_reply": "2024-04-30T02:53:18.407477Z"
    },
    "papermill": {
     "duration": 0.037084,
     "end_time": "2024-04-30T02:53:18.411070",
     "exception": false,
     "start_time": "2024-04-30T02:53:18.373986",
     "status": "completed"
    },
    "tags": []
   },
   "outputs": [],
   "source": [
    "def removeHTML(x):\n",
    "    html=re.compile(r'<.*?>')\n",
    "    return html.sub(r'',x)\n",
    "\n",
    "def decontracted(phrase):\n",
    "    # specific\n",
    "    phrase = re.sub(r\"won\\'t\", \"will not\", phrase)\n",
    "    phrase = re.sub(r\"can\\'t\", \"can not\", phrase)\n",
    "\n",
    "    # general\n",
    "    phrase = re.sub(r\"n\\'t\", \" not\", phrase)\n",
    "    phrase = re.sub(r\"\\'re\", \" are\", phrase)\n",
    "    phrase = re.sub(r\"\\'s\", \" is\", phrase)\n",
    "    phrase = re.sub(r\"\\'d\", \" would\", phrase)\n",
    "    phrase = re.sub(r\"\\'ll\", \" will\", phrase)\n",
    "    phrase = re.sub(r\"\\'t\", \" not\", phrase)\n",
    "    phrase = re.sub(r\"\\'ve\", \" have\", phrase)\n",
    "    phrase = re.sub(r\"\\'m\", \" am\", phrase)\n",
    "    phrase = re.sub(r\"\\xa0\",\" \",phrase)\n",
    "    return phrase.strip()\n",
    "\n",
    "def clean_text(x):\n",
    "    # Convert words to lowercase\n",
    "    x = x.lower()\n",
    "    # Remove HTML\n",
    "    x = removeHTML(x)\n",
    "    # Delete strings starting with @\n",
    "    x = re.sub(\"@\\w+\", '',x)\n",
    "    # Delete Numbers\n",
    "    x = re.sub(\"'\\d+\", '',x)\n",
    "    x = re.sub(\"\\d+\", '',x)\n",
    "    # Delete URL\n",
    "    x = re.sub(\"http\\w+\", '',x)\n",
    "    # Replace consecutive empty spaces with a single space character\n",
    "    x = re.sub(r\"\\s+\", \" \", x)\n",
    "    # Replace consecutive commas and periods with one comma and period character\n",
    "    x = re.sub(r\"\\.+\", \".\", x)\n",
    "    x = re.sub(r\"\\,+\", \",\", x)\n",
    "    # Remove empty characters at the beginning and end\n",
    "    x = x.strip()\n",
    "    return decontracted(x)"
   ]
  },
  {
   "cell_type": "code",
   "execution_count": 6,
   "id": "460886bf",
   "metadata": {
    "execution": {
     "iopub.execute_input": "2024-04-30T02:53:18.454249Z",
     "iopub.status.busy": "2024-04-30T02:53:18.453861Z",
     "iopub.status.idle": "2024-04-30T02:53:25.607710Z",
     "shell.execute_reply": "2024-04-30T02:53:25.606527Z"
    },
    "papermill": {
     "duration": 7.178032,
     "end_time": "2024-04-30T02:53:25.610662",
     "exception": false,
     "start_time": "2024-04-30T02:53:18.432630",
     "status": "completed"
    },
    "tags": []
   },
   "outputs": [],
   "source": [
    "df_train['full_text'] = df_train['full_text'].apply(clean_text)\n",
    "df_test['full_text'] = df_test['full_text'].apply(clean_text)\n"
   ]
  },
  {
   "cell_type": "code",
   "execution_count": 7,
   "id": "f9cff4ee",
   "metadata": {
    "execution": {
     "iopub.execute_input": "2024-04-30T02:53:25.653341Z",
     "iopub.status.busy": "2024-04-30T02:53:25.652683Z",
     "iopub.status.idle": "2024-04-30T02:53:25.661033Z",
     "shell.execute_reply": "2024-04-30T02:53:25.659937Z"
    },
    "papermill": {
     "duration": 0.032738,
     "end_time": "2024-04-30T02:53:25.663635",
     "exception": false,
     "start_time": "2024-04-30T02:53:25.630897",
     "status": "completed"
    },
    "tags": []
   },
   "outputs": [
    {
     "data": {
      "text/plain": [
       "'many people have car where they live. the thing they do not know is that when you use a car alot of thing can happen like you can get in accidet or the smoke that the car has is bad to breath on if someone is walk but in vauban,germany they dont have that proble because percent of vauban is families do not own cars,and percent sold a car to move there. street parkig ,driveways and home garages are forbidden on the outskirts of freiburd that near the french and swiss borders. you probaly will not see a car in vauban is streets because they are completely \"car free\" but if some that lives in vauban that owns a car ownership is allowed,but there are only two places that you can park a large garages at the edge of the development,where a car owner buys a space but it not cheap to buy one they sell the space for you car for $, along with a home. the vauban people completed this in ,they said that this an example of a growing trend in europe,the untile states and some where else are suburban life from auto use this is called \"smart planning\". the current efforts to drastically reduce greenhouse gas emissions from tailes the passengee cars are responsible for percent of greenhouse gas emissions in europe and up to percent in some car intensive in the united states. i honeslty think that good idea that they did that is vaudan because that makes cities denser and better for walking and in vauban there are , residents within a rectangular square mile. in the artical david gold berg said that \"all of our development since world war has been centered on the cars,and that will have to change\" and i think that was very true what david gold said because alot thing we need cars to do we can go anyway were with out cars beacuse some people are a very lazy to walk to place thats why they alot of people use car and i think that it was a good idea that that they did that in vauban so people can see how we really do not need car to go to place from place because we can walk from were we need to go or we can ride bycles with out the use of a car. it good that they are doing that if you thik about your help the earth in way and thats a very good thing to. in the united states ,the environmental protection agency is promoting what is called \"car reduced\"communtunties,and the legislators are starting to act,if cautiously. maany experts expect pubic transport serving suburbs to play a much larger role in a new six years federal transportation bill to approved this year. in previous bill, percent of appropriations have by law gone to highways and only percent to other transports. there many good reason why they should do this.'"
      ]
     },
     "execution_count": 7,
     "metadata": {},
     "output_type": "execute_result"
    }
   ],
   "source": [
    "df_train['full_text'][0]"
   ]
  },
  {
   "cell_type": "markdown",
   "id": "1fa01c9d",
   "metadata": {
    "papermill": {
     "duration": 0.019964,
     "end_time": "2024-04-30T02:53:25.703898",
     "exception": false,
     "start_time": "2024-04-30T02:53:25.683934",
     "status": "completed"
    },
    "tags": []
   },
   "source": [
    "feature extraction - maybe add in more features like bag of words/ keywords?"
   ]
  },
  {
   "cell_type": "markdown",
   "id": "c2adc6d4",
   "metadata": {
    "papermill": {
     "duration": 0.020071,
     "end_time": "2024-04-30T02:53:25.744235",
     "exception": false,
     "start_time": "2024-04-30T02:53:25.724164",
     "status": "completed"
    },
    "tags": []
   },
   "source": [
    "create a word_count and text length column"
   ]
  },
  {
   "cell_type": "code",
   "execution_count": 8,
   "id": "66031d61",
   "metadata": {
    "execution": {
     "iopub.execute_input": "2024-04-30T02:53:25.787599Z",
     "iopub.status.busy": "2024-04-30T02:53:25.787158Z",
     "iopub.status.idle": "2024-04-30T02:53:26.766999Z",
     "shell.execute_reply": "2024-04-30T02:53:26.765775Z"
    },
    "papermill": {
     "duration": 1.004768,
     "end_time": "2024-04-30T02:53:26.769895",
     "exception": false,
     "start_time": "2024-04-30T02:53:25.765127",
     "status": "completed"
    },
    "tags": []
   },
   "outputs": [],
   "source": [
    "df_train['word_count'] = df_train[\"full_text\"].str.split().str.len()\n",
    "df_test['word_count'] = df_test[\"full_text\"].str.split().str.len()"
   ]
  },
  {
   "cell_type": "code",
   "execution_count": 9,
   "id": "5b9bbcb6",
   "metadata": {
    "execution": {
     "iopub.execute_input": "2024-04-30T02:53:26.813033Z",
     "iopub.status.busy": "2024-04-30T02:53:26.812387Z",
     "iopub.status.idle": "2024-04-30T02:53:26.834440Z",
     "shell.execute_reply": "2024-04-30T02:53:26.832938Z"
    },
    "papermill": {
     "duration": 0.046958,
     "end_time": "2024-04-30T02:53:26.837248",
     "exception": false,
     "start_time": "2024-04-30T02:53:26.790290",
     "status": "completed"
    },
    "tags": []
   },
   "outputs": [],
   "source": [
    "df_train['length'] = df_train[\"full_text\"].str.len()\n",
    "df_test['length'] = df_test[\"full_text\"].str.len()"
   ]
  },
  {
   "cell_type": "code",
   "execution_count": 10,
   "id": "93837116",
   "metadata": {
    "execution": {
     "iopub.execute_input": "2024-04-30T02:53:26.882135Z",
     "iopub.status.busy": "2024-04-30T02:53:26.881035Z",
     "iopub.status.idle": "2024-04-30T02:53:26.897953Z",
     "shell.execute_reply": "2024-04-30T02:53:26.896948Z"
    },
    "papermill": {
     "duration": 0.042376,
     "end_time": "2024-04-30T02:53:26.900507",
     "exception": false,
     "start_time": "2024-04-30T02:53:26.858131",
     "status": "completed"
    },
    "tags": []
   },
   "outputs": [
    {
     "data": {
      "text/html": [
       "<div>\n",
       "<style scoped>\n",
       "    .dataframe tbody tr th:only-of-type {\n",
       "        vertical-align: middle;\n",
       "    }\n",
       "\n",
       "    .dataframe tbody tr th {\n",
       "        vertical-align: top;\n",
       "    }\n",
       "\n",
       "    .dataframe thead th {\n",
       "        text-align: right;\n",
       "    }\n",
       "</style>\n",
       "<table border=\"1\" class=\"dataframe\">\n",
       "  <thead>\n",
       "    <tr style=\"text-align: right;\">\n",
       "      <th></th>\n",
       "      <th>essay_id</th>\n",
       "      <th>full_text</th>\n",
       "      <th>score</th>\n",
       "      <th>word_count</th>\n",
       "      <th>length</th>\n",
       "    </tr>\n",
       "  </thead>\n",
       "  <tbody>\n",
       "    <tr>\n",
       "      <th>0</th>\n",
       "      <td>000d118</td>\n",
       "      <td>many people have car where they live. the thin...</td>\n",
       "      <td>3</td>\n",
       "      <td>496</td>\n",
       "      <td>2647</td>\n",
       "    </tr>\n",
       "    <tr>\n",
       "      <th>1</th>\n",
       "      <td>000fe60</td>\n",
       "      <td>i am a scientist at nasa that is discussing th...</td>\n",
       "      <td>3</td>\n",
       "      <td>336</td>\n",
       "      <td>1668</td>\n",
       "    </tr>\n",
       "    <tr>\n",
       "      <th>2</th>\n",
       "      <td>001ab80</td>\n",
       "      <td>people always wish they had the same technolog...</td>\n",
       "      <td>4</td>\n",
       "      <td>553</td>\n",
       "      <td>3068</td>\n",
       "    </tr>\n",
       "    <tr>\n",
       "      <th>3</th>\n",
       "      <td>001bdc0</td>\n",
       "      <td>we all heard about venus, the planet without a...</td>\n",
       "      <td>4</td>\n",
       "      <td>450</td>\n",
       "      <td>2679</td>\n",
       "    </tr>\n",
       "    <tr>\n",
       "      <th>4</th>\n",
       "      <td>002ba53</td>\n",
       "      <td>dear, state senator this is a letter to argue ...</td>\n",
       "      <td>3</td>\n",
       "      <td>377</td>\n",
       "      <td>2188</td>\n",
       "    </tr>\n",
       "  </tbody>\n",
       "</table>\n",
       "</div>"
      ],
      "text/plain": [
       "  essay_id                                          full_text  score  \\\n",
       "0  000d118  many people have car where they live. the thin...      3   \n",
       "1  000fe60  i am a scientist at nasa that is discussing th...      3   \n",
       "2  001ab80  people always wish they had the same technolog...      4   \n",
       "3  001bdc0  we all heard about venus, the planet without a...      4   \n",
       "4  002ba53  dear, state senator this is a letter to argue ...      3   \n",
       "\n",
       "   word_count  length  \n",
       "0         496    2647  \n",
       "1         336    1668  \n",
       "2         553    3068  \n",
       "3         450    2679  \n",
       "4         377    2188  "
      ]
     },
     "execution_count": 10,
     "metadata": {},
     "output_type": "execute_result"
    }
   ],
   "source": [
    "df_train.head()"
   ]
  },
  {
   "cell_type": "markdown",
   "id": "8fe4997a",
   "metadata": {
    "papermill": {
     "duration": 0.021039,
     "end_time": "2024-04-30T02:53:26.943188",
     "exception": false,
     "start_time": "2024-04-30T02:53:26.922149",
     "status": "completed"
    },
    "tags": []
   },
   "source": [
    "attempt at creating vector embeddings:"
   ]
  },
  {
   "cell_type": "code",
   "execution_count": 11,
   "id": "ba77037e",
   "metadata": {
    "execution": {
     "iopub.execute_input": "2024-04-30T02:53:26.987518Z",
     "iopub.status.busy": "2024-04-30T02:53:26.986772Z",
     "iopub.status.idle": "2024-04-30T02:54:33.791299Z",
     "shell.execute_reply": "2024-04-30T02:54:33.789942Z"
    },
    "papermill": {
     "duration": 66.830303,
     "end_time": "2024-04-30T02:54:33.794442",
     "exception": false,
     "start_time": "2024-04-30T02:53:26.964139",
     "status": "completed"
    },
    "tags": []
   },
   "outputs": [],
   "source": [
    "word2vec_model = Word2Vec(df_train['full_text'], \n",
    "                          vector_size=100,\n",
    "                          min_count=1,\n",
    "                          window=5, \n",
    "                          )"
   ]
  },
  {
   "cell_type": "code",
   "execution_count": 12,
   "id": "86a3813c",
   "metadata": {
    "execution": {
     "iopub.execute_input": "2024-04-30T02:54:33.839932Z",
     "iopub.status.busy": "2024-04-30T02:54:33.839499Z",
     "iopub.status.idle": "2024-04-30T02:54:33.846355Z",
     "shell.execute_reply": "2024-04-30T02:54:33.845131Z"
    },
    "papermill": {
     "duration": 0.032227,
     "end_time": "2024-04-30T02:54:33.848789",
     "exception": false,
     "start_time": "2024-04-30T02:54:33.816562",
     "status": "completed"
    },
    "tags": []
   },
   "outputs": [],
   "source": [
    "def vectorize_text(text, word2vec_model):\n",
    "    text_vector = np.zeros(100)  # Initialize a vector of zeros (100-dimensional)\n",
    "    for word in text.split():  # Split text into words\n",
    "        if word in word2vec_model.wv:  # Check if word is in the vocabulary\n",
    "            text_vector += word2vec_model.wv[word]  # Add word vector to the text vector\n",
    "    return text_vector"
   ]
  },
  {
   "cell_type": "code",
   "execution_count": 13,
   "id": "bae6a914",
   "metadata": {
    "execution": {
     "iopub.execute_input": "2024-04-30T02:54:33.892291Z",
     "iopub.status.busy": "2024-04-30T02:54:33.891926Z",
     "iopub.status.idle": "2024-04-30T02:54:43.495256Z",
     "shell.execute_reply": "2024-04-30T02:54:43.494145Z"
    },
    "papermill": {
     "duration": 9.628389,
     "end_time": "2024-04-30T02:54:43.498057",
     "exception": false,
     "start_time": "2024-04-30T02:54:33.869668",
     "status": "completed"
    },
    "tags": []
   },
   "outputs": [],
   "source": [
    "# Apply the vectorize_text function to each text entry in train_df['full_text']\n",
    "df_train['text_vector'] = df_train['full_text'].apply(lambda x: vectorize_text(x, word2vec_model))\n",
    "df_test['text_vector'] = df_test['full_text'].apply(lambda x: vectorize_text(x, word2vec_model))\n"
   ]
  },
  {
   "cell_type": "code",
   "execution_count": 14,
   "id": "78621b80",
   "metadata": {
    "execution": {
     "iopub.execute_input": "2024-04-30T02:54:43.541450Z",
     "iopub.status.busy": "2024-04-30T02:54:43.540981Z",
     "iopub.status.idle": "2024-04-30T02:54:43.562719Z",
     "shell.execute_reply": "2024-04-30T02:54:43.561582Z"
    },
    "papermill": {
     "duration": 0.046654,
     "end_time": "2024-04-30T02:54:43.565219",
     "exception": false,
     "start_time": "2024-04-30T02:54:43.518565",
     "status": "completed"
    },
    "tags": []
   },
   "outputs": [
    {
     "data": {
      "text/html": [
       "<div>\n",
       "<style scoped>\n",
       "    .dataframe tbody tr th:only-of-type {\n",
       "        vertical-align: middle;\n",
       "    }\n",
       "\n",
       "    .dataframe tbody tr th {\n",
       "        vertical-align: top;\n",
       "    }\n",
       "\n",
       "    .dataframe thead th {\n",
       "        text-align: right;\n",
       "    }\n",
       "</style>\n",
       "<table border=\"1\" class=\"dataframe\">\n",
       "  <thead>\n",
       "    <tr style=\"text-align: right;\">\n",
       "      <th></th>\n",
       "      <th>essay_id</th>\n",
       "      <th>full_text</th>\n",
       "      <th>score</th>\n",
       "      <th>word_count</th>\n",
       "      <th>length</th>\n",
       "      <th>text_vector</th>\n",
       "    </tr>\n",
       "  </thead>\n",
       "  <tbody>\n",
       "    <tr>\n",
       "      <th>0</th>\n",
       "      <td>000d118</td>\n",
       "      <td>many people have car where they live. the thin...</td>\n",
       "      <td>3</td>\n",
       "      <td>496</td>\n",
       "      <td>2647</td>\n",
       "      <td>[-3.4887126088142395, -2.754158705472946, -3.5...</td>\n",
       "    </tr>\n",
       "    <tr>\n",
       "      <th>1</th>\n",
       "      <td>000fe60</td>\n",
       "      <td>i am a scientist at nasa that is discussing th...</td>\n",
       "      <td>3</td>\n",
       "      <td>336</td>\n",
       "      <td>1668</td>\n",
       "      <td>[-2.581797420978546, -3.308091878890991, -3.38...</td>\n",
       "    </tr>\n",
       "    <tr>\n",
       "      <th>2</th>\n",
       "      <td>001ab80</td>\n",
       "      <td>people always wish they had the same technolog...</td>\n",
       "      <td>4</td>\n",
       "      <td>553</td>\n",
       "      <td>3068</td>\n",
       "      <td>[-2.4763074666261673, -2.1251330375671387, -2....</td>\n",
       "    </tr>\n",
       "    <tr>\n",
       "      <th>3</th>\n",
       "      <td>001bdc0</td>\n",
       "      <td>we all heard about venus, the planet without a...</td>\n",
       "      <td>4</td>\n",
       "      <td>450</td>\n",
       "      <td>2679</td>\n",
       "      <td>[-4.147961877286434, -0.5384019613265991, -1.9...</td>\n",
       "    </tr>\n",
       "    <tr>\n",
       "      <th>4</th>\n",
       "      <td>002ba53</td>\n",
       "      <td>dear, state senator this is a letter to argue ...</td>\n",
       "      <td>3</td>\n",
       "      <td>377</td>\n",
       "      <td>2188</td>\n",
       "      <td>[-3.148106172680855, -4.939776241779327, -5.34...</td>\n",
       "    </tr>\n",
       "  </tbody>\n",
       "</table>\n",
       "</div>"
      ],
      "text/plain": [
       "  essay_id                                          full_text  score  \\\n",
       "0  000d118  many people have car where they live. the thin...      3   \n",
       "1  000fe60  i am a scientist at nasa that is discussing th...      3   \n",
       "2  001ab80  people always wish they had the same technolog...      4   \n",
       "3  001bdc0  we all heard about venus, the planet without a...      4   \n",
       "4  002ba53  dear, state senator this is a letter to argue ...      3   \n",
       "\n",
       "   word_count  length                                        text_vector  \n",
       "0         496    2647  [-3.4887126088142395, -2.754158705472946, -3.5...  \n",
       "1         336    1668  [-2.581797420978546, -3.308091878890991, -3.38...  \n",
       "2         553    3068  [-2.4763074666261673, -2.1251330375671387, -2....  \n",
       "3         450    2679  [-4.147961877286434, -0.5384019613265991, -1.9...  \n",
       "4         377    2188  [-3.148106172680855, -4.939776241779327, -5.34...  "
      ]
     },
     "execution_count": 14,
     "metadata": {},
     "output_type": "execute_result"
    }
   ],
   "source": [
    "df_train.head()"
   ]
  },
  {
   "cell_type": "code",
   "execution_count": 15,
   "id": "a8ac8e5b",
   "metadata": {
    "execution": {
     "iopub.execute_input": "2024-04-30T02:54:43.673061Z",
     "iopub.status.busy": "2024-04-30T02:54:43.672648Z",
     "iopub.status.idle": "2024-04-30T02:54:43.677049Z",
     "shell.execute_reply": "2024-04-30T02:54:43.676167Z"
    },
    "papermill": {
     "duration": 0.029129,
     "end_time": "2024-04-30T02:54:43.679160",
     "exception": false,
     "start_time": "2024-04-30T02:54:43.650031",
     "status": "completed"
    },
    "tags": []
   },
   "outputs": [],
   "source": [
    "# X_train = df_train['full_text']\n",
    "# y_train = df_train['score']\n",
    "# X_test = df_test['full_text']\n",
    "# y_test = df_sub['score']"
   ]
  },
  {
   "cell_type": "markdown",
   "id": "92134956",
   "metadata": {
    "papermill": {
     "duration": 0.020374,
     "end_time": "2024-04-30T02:54:43.720536",
     "exception": false,
     "start_time": "2024-04-30T02:54:43.700162",
     "status": "completed"
    },
    "tags": []
   },
   "source": [
    "this method trains and evaluates each pipeline \n",
    "returns the y_pred and quadratic weighted kappa score of the model"
   ]
  },
  {
   "cell_type": "code",
   "execution_count": 16,
   "id": "f18e5bbc",
   "metadata": {
    "execution": {
     "iopub.execute_input": "2024-04-30T02:54:43.765109Z",
     "iopub.status.busy": "2024-04-30T02:54:43.764232Z",
     "iopub.status.idle": "2024-04-30T02:54:43.771881Z",
     "shell.execute_reply": "2024-04-30T02:54:43.770737Z"
    },
    "papermill": {
     "duration": 0.032847,
     "end_time": "2024-04-30T02:54:43.774205",
     "exception": false,
     "start_time": "2024-04-30T02:54:43.741358",
     "status": "completed"
    },
    "tags": []
   },
   "outputs": [],
   "source": [
    "def train_and_evaluate_pipeline(pipeline, X_train, y_train, X_test, y_test):\n",
    "    pipeline.fit(X_train, y_train)\n",
    "    y_pred = pipeline.predict(X_test)\n",
    "    \n",
    "    kappa = cohen_kappa_score(y_test, y_pred, weights='quadratic')\n",
    "    \n",
    "    print()\n",
    "    print('Classifier used: ', pipeline.named_steps['classifier'])\n",
    "    print('y_test: ', y_test.tolist()[0:10])\n",
    "    print('y_pred: ', y_pred.tolist()[0:10])\n",
    "    print('quadratic weighted kappa score: ', kappa)\n",
    "    \n",
    "    return pipeline, y_pred"
   ]
  },
  {
   "cell_type": "markdown",
   "id": "d6df10f1",
   "metadata": {
    "papermill": {
     "duration": 0.020846,
     "end_time": "2024-04-30T02:54:43.815965",
     "exception": false,
     "start_time": "2024-04-30T02:54:43.795119",
     "status": "completed"
    },
    "tags": []
   },
   "source": [
    "method for performing cross_validation of pipelines and showing their average performances"
   ]
  },
  {
   "cell_type": "code",
   "execution_count": 17,
   "id": "64763312",
   "metadata": {
    "execution": {
     "iopub.execute_input": "2024-04-30T02:54:43.859668Z",
     "iopub.status.busy": "2024-04-30T02:54:43.859234Z",
     "iopub.status.idle": "2024-04-30T02:54:43.867115Z",
     "shell.execute_reply": "2024-04-30T02:54:43.865849Z"
    },
    "papermill": {
     "duration": 0.032649,
     "end_time": "2024-04-30T02:54:43.869477",
     "exception": false,
     "start_time": "2024-04-30T02:54:43.836828",
     "status": "completed"
    },
    "tags": []
   },
   "outputs": [],
   "source": [
    "#define quadratic weighted kappa as a custom scorer\n",
    "qwk_scorer = make_scorer(cohen_kappa_score, weights='quadratic')\n",
    "\n",
    "def pipeline_cross_validation(pipeline, X_train, y_train, qwk_scorer=qwk_scorer):\n",
    "    # Define cross-validation strategy and perform cross-validation\n",
    "    scoring = {'accuracy': 'accuracy', 'f1_weighted': 'f1_weighted', 'qwk': qwk_scorer}\n",
    "    cv_results = cross_validate(pipeline, X_train, y_train, cv=5, scoring=scoring)\n",
    "\n",
    "    # Print cross-validation results\n",
    "    print(\"Mean Accuracy:\", np.mean(cv_results['test_accuracy']))\n",
    "    print(\"Mean Weighted F1-score:\", np.mean(cv_results['test_f1_weighted']))\n",
    "    print(\"Mean Quadratic Weighted Kappa Score:\", np.mean(cv_results['test_qwk']))"
   ]
  },
  {
   "cell_type": "markdown",
   "id": "fbb121e8",
   "metadata": {
    "papermill": {
     "duration": 0.020412,
     "end_time": "2024-04-30T02:54:43.910829",
     "exception": false,
     "start_time": "2024-04-30T02:54:43.890417",
     "status": "completed"
    },
    "tags": []
   },
   "source": [
    "create the tfidf"
   ]
  },
  {
   "cell_type": "code",
   "execution_count": 18,
   "id": "5a92b4fb",
   "metadata": {
    "execution": {
     "iopub.execute_input": "2024-04-30T02:54:43.954145Z",
     "iopub.status.busy": "2024-04-30T02:54:43.953724Z",
     "iopub.status.idle": "2024-04-30T02:54:43.958959Z",
     "shell.execute_reply": "2024-04-30T02:54:43.957762Z"
    },
    "papermill": {
     "duration": 0.029886,
     "end_time": "2024-04-30T02:54:43.961471",
     "exception": false,
     "start_time": "2024-04-30T02:54:43.931585",
     "status": "completed"
    },
    "tags": []
   },
   "outputs": [],
   "source": [
    "tfidf_vectorizer = TfidfVectorizer(stop_words='english', min_df=0.05, max_df=0.95,)\n",
    "# tfidf = tfidf_vectorizer.fit_transform(X_train)\n"
   ]
  },
  {
   "cell_type": "markdown",
   "id": "57e66821",
   "metadata": {
    "papermill": {
     "duration": 0.020559,
     "end_time": "2024-04-30T02:54:44.002895",
     "exception": false,
     "start_time": "2024-04-30T02:54:43.982336",
     "status": "completed"
    },
    "tags": []
   },
   "source": [
    "create the multinomial logistic regression classifier"
   ]
  },
  {
   "cell_type": "code",
   "execution_count": 19,
   "id": "275e1f33",
   "metadata": {
    "execution": {
     "iopub.execute_input": "2024-04-30T02:54:44.047239Z",
     "iopub.status.busy": "2024-04-30T02:54:44.046818Z",
     "iopub.status.idle": "2024-04-30T02:54:44.052414Z",
     "shell.execute_reply": "2024-04-30T02:54:44.051169Z"
    },
    "papermill": {
     "duration": 0.030292,
     "end_time": "2024-04-30T02:54:44.055046",
     "exception": false,
     "start_time": "2024-04-30T02:54:44.024754",
     "status": "completed"
    },
    "tags": []
   },
   "outputs": [],
   "source": [
    "logreg_clf = LogisticRegression(multi_class='multinomial', solver='lbfgs', max_iter=500)"
   ]
  },
  {
   "cell_type": "markdown",
   "id": "9d3c5d11",
   "metadata": {
    "papermill": {
     "duration": 0.022115,
     "end_time": "2024-04-30T02:54:44.098547",
     "exception": false,
     "start_time": "2024-04-30T02:54:44.076432",
     "status": "completed"
    },
    "tags": []
   },
   "source": [
    "create a pipeline for logistic regression classifier"
   ]
  },
  {
   "cell_type": "code",
   "execution_count": 20,
   "id": "7ea3b838",
   "metadata": {
    "execution": {
     "iopub.execute_input": "2024-04-30T02:54:44.143087Z",
     "iopub.status.busy": "2024-04-30T02:54:44.142274Z",
     "iopub.status.idle": "2024-04-30T02:54:44.147682Z",
     "shell.execute_reply": "2024-04-30T02:54:44.146742Z"
    },
    "papermill": {
     "duration": 0.031004,
     "end_time": "2024-04-30T02:54:44.150434",
     "exception": false,
     "start_time": "2024-04-30T02:54:44.119430",
     "status": "completed"
    },
    "tags": []
   },
   "outputs": [],
   "source": [
    "# Define a transformer to extract 'text_vector' from DataFrame\n",
    "def get_text_vector(df):\n",
    "    return np.vstack(df['text_vector'])"
   ]
  },
  {
   "cell_type": "code",
   "execution_count": 21,
   "id": "8fa1ea9c",
   "metadata": {
    "execution": {
     "iopub.execute_input": "2024-04-30T02:54:44.194068Z",
     "iopub.status.busy": "2024-04-30T02:54:44.193663Z",
     "iopub.status.idle": "2024-04-30T02:54:44.200928Z",
     "shell.execute_reply": "2024-04-30T02:54:44.199857Z"
    },
    "papermill": {
     "duration": 0.032002,
     "end_time": "2024-04-30T02:54:44.203224",
     "exception": false,
     "start_time": "2024-04-30T02:54:44.171222",
     "status": "completed"
    },
    "tags": []
   },
   "outputs": [],
   "source": [
    "tfidf_preprocessor = ColumnTransformer(\n",
    "    transformers=[\n",
    "        ('text', tfidf_vectorizer, 'full_text'),\n",
    "        ('word_count', StandardScaler(), ['word_count']),\n",
    "        ('length', StandardScaler(), ['length'])\n",
    "    ],\n",
    "    remainder='passthrough'\n",
    ")\n",
    "\n",
    "w2v_preprocessor = ColumnTransformer(\n",
    "    transformers=[\n",
    "#         ('text', tfidf_vectorizer, 'full_text'),\n",
    "        ('text_vector', FunctionTransformer(get_text_vector, validate=False), ['text_vector']),\n",
    "        ('word_count', StandardScaler(), ['word_count']),\n",
    "        ('length', StandardScaler(), ['length'])\n",
    "    ],\n",
    "    remainder='passthrough'\n",
    ")"
   ]
  },
  {
   "cell_type": "code",
   "execution_count": 22,
   "id": "9c485a93",
   "metadata": {
    "execution": {
     "iopub.execute_input": "2024-04-30T02:54:44.247736Z",
     "iopub.status.busy": "2024-04-30T02:54:44.247358Z",
     "iopub.status.idle": "2024-04-30T02:54:44.252991Z",
     "shell.execute_reply": "2024-04-30T02:54:44.251804Z"
    },
    "papermill": {
     "duration": 0.031452,
     "end_time": "2024-04-30T02:54:44.255835",
     "exception": false,
     "start_time": "2024-04-30T02:54:44.224383",
     "status": "completed"
    },
    "tags": []
   },
   "outputs": [],
   "source": [
    "logreg_pipeline = Pipeline(steps=[\n",
    "#     ('tfidf', tfidf_vectorizer),\n",
    "    ('preprocessor', tfidf_preprocessor),\n",
    "    ('classifier', logreg_clf)\n",
    "])\n",
    "\n",
    "w2v_logreg_pipeline = Pipeline(steps=[\n",
    "    ('preprocessor', w2v_preprocessor),\n",
    "    ('classifier', logreg_clf)\n",
    "])"
   ]
  },
  {
   "cell_type": "markdown",
   "id": "cee57cd7",
   "metadata": {
    "papermill": {
     "duration": 0.020906,
     "end_time": "2024-04-30T02:54:44.299397",
     "exception": false,
     "start_time": "2024-04-30T02:54:44.278491",
     "status": "completed"
    },
    "tags": []
   },
   "source": [
    "fit and make a prediction"
   ]
  },
  {
   "cell_type": "code",
   "execution_count": 23,
   "id": "f35fc6a3",
   "metadata": {
    "execution": {
     "iopub.execute_input": "2024-04-30T02:54:44.344182Z",
     "iopub.status.busy": "2024-04-30T02:54:44.343054Z",
     "iopub.status.idle": "2024-04-30T02:54:44.348284Z",
     "shell.execute_reply": "2024-04-30T02:54:44.347428Z"
    },
    "papermill": {
     "duration": 0.030539,
     "end_time": "2024-04-30T02:54:44.350732",
     "exception": false,
     "start_time": "2024-04-30T02:54:44.320193",
     "status": "completed"
    },
    "tags": []
   },
   "outputs": [],
   "source": [
    "# df_sub['essay_id'].tolist()\n",
    "# df_train.loc[(df_train['essay_id'] == '000d118') | (df_train['essay_id'] =='000fe60') | (df_train['essay_id'] =='001ab80')]\n",
    "# sub_df_data = df_train.loc[(df_train['essay_id'] == '000d118') | (df_train['essay_id'] =='000fe60') | (df_train['essay_id'] =='001ab80')]\n",
    "# X_test3 = tfidf_vectorizer.transform(df_test['full_text'])"
   ]
  },
  {
   "cell_type": "code",
   "execution_count": 24,
   "id": "12d132a7",
   "metadata": {
    "execution": {
     "iopub.execute_input": "2024-04-30T02:54:44.396879Z",
     "iopub.status.busy": "2024-04-30T02:54:44.395930Z",
     "iopub.status.idle": "2024-04-30T02:54:44.423756Z",
     "shell.execute_reply": "2024-04-30T02:54:44.422492Z"
    },
    "papermill": {
     "duration": 0.053763,
     "end_time": "2024-04-30T02:54:44.426756",
     "exception": false,
     "start_time": "2024-04-30T02:54:44.372993",
     "status": "completed"
    },
    "tags": []
   },
   "outputs": [],
   "source": [
    "X = df_train[['full_text', 'word_count', 'length']]\n",
    "# X = df_train['full_text']\n",
    "y = df_train['score']\n",
    "sub_X = df_test[['full_text', 'word_count', 'length']]\n",
    "sub_y = df_sub['score']\n",
    "\n",
    "X_train, X_test, y_train, y_test = train_test_split(X, y, train_size = 0.8)\n",
    "\n",
    "X2 = df_train[['word_count', 'length', 'text_vector']]\n",
    "sub_X2 = df_test[['word_count', 'length', 'text_vector']]\n",
    "\n",
    "# X2 = np.array(df_train['text_vector'].tolist())\n",
    "# sub_X2 = np.array(df_test['text_vector'].tolist())\n",
    "\n",
    "X_train2, X_test2, y_train2, y_test2 = train_test_split(X2, y, train_size = 0.8)\n",
    "\n",
    "\n",
    "# trained_logreg_pipeline, logreg_y_pred = train_and_evaluate_pipeline(logreg_pipeline, X_train, y_train, X_test, y_test)"
   ]
  },
  {
   "cell_type": "code",
   "execution_count": 25,
   "id": "efb78845",
   "metadata": {
    "execution": {
     "iopub.execute_input": "2024-04-30T02:54:44.472180Z",
     "iopub.status.busy": "2024-04-30T02:54:44.471181Z",
     "iopub.status.idle": "2024-04-30T02:54:53.686546Z",
     "shell.execute_reply": "2024-04-30T02:54:53.685405Z"
    },
    "papermill": {
     "duration": 9.241066,
     "end_time": "2024-04-30T02:54:53.689109",
     "exception": false,
     "start_time": "2024-04-30T02:54:44.448043",
     "status": "completed"
    },
    "tags": []
   },
   "outputs": [
    {
     "name": "stdout",
     "output_type": "stream",
     "text": [
      "\n",
      "Classifier used:  LogisticRegression(max_iter=500, multi_class='multinomial')\n",
      "y_test:  [1, 2, 2, 5, 3, 1, 1, 4, 3, 5]\n",
      "y_pred:  [1, 2, 2, 5, 3, 1, 1, 5, 3, 5]\n",
      "quadratic weighted kappa score:  0.7243650148457756\n"
     ]
    }
   ],
   "source": [
    "trained_logreg_pipeline, logreg_y_pred = train_and_evaluate_pipeline(logreg_pipeline, X_train, y_train, X_test, y_test)"
   ]
  },
  {
   "cell_type": "markdown",
   "id": "7ef2d21f",
   "metadata": {
    "papermill": {
     "duration": 0.020519,
     "end_time": "2024-04-30T02:54:53.730439",
     "exception": false,
     "start_time": "2024-04-30T02:54:53.709920",
     "status": "completed"
    },
    "tags": []
   },
   "source": [
    "commented off just to make the notebook save and rerun properly, need to use a different clf if plan to keep"
   ]
  },
  {
   "cell_type": "code",
   "execution_count": 26,
   "id": "25dbc975",
   "metadata": {
    "execution": {
     "iopub.execute_input": "2024-04-30T02:54:53.774567Z",
     "iopub.status.busy": "2024-04-30T02:54:53.773418Z",
     "iopub.status.idle": "2024-04-30T02:54:53.778339Z",
     "shell.execute_reply": "2024-04-30T02:54:53.777366Z"
    },
    "papermill": {
     "duration": 0.029586,
     "end_time": "2024-04-30T02:54:53.780877",
     "exception": false,
     "start_time": "2024-04-30T02:54:53.751291",
     "status": "completed"
    },
    "tags": []
   },
   "outputs": [],
   "source": [
    "# trained_logreg_pipeline2, logreg_y_pred2 = train_and_evaluate_pipeline(w2v_logreg_pipeline, X_train2, y_train2, X_test2, y_test2)"
   ]
  },
  {
   "cell_type": "code",
   "execution_count": 27,
   "id": "42c630a8",
   "metadata": {
    "execution": {
     "iopub.execute_input": "2024-04-30T02:54:53.826784Z",
     "iopub.status.busy": "2024-04-30T02:54:53.826394Z",
     "iopub.status.idle": "2024-04-30T02:55:30.275031Z",
     "shell.execute_reply": "2024-04-30T02:55:30.273763Z"
    },
    "papermill": {
     "duration": 36.494765,
     "end_time": "2024-04-30T02:55:30.298659",
     "exception": false,
     "start_time": "2024-04-30T02:54:53.803894",
     "status": "completed"
    },
    "tags": []
   },
   "outputs": [
    {
     "name": "stdout",
     "output_type": "stream",
     "text": [
      "Mean Accuracy: 0.590032502708559\n",
      "Mean Weighted F1-score: 0.5781088364571707\n",
      "Mean Quadratic Weighted Kappa Score: 0.7187159791702111\n"
     ]
    }
   ],
   "source": [
    "pipeline_cross_validation(logreg_pipeline, X_train, y_train)"
   ]
  },
  {
   "cell_type": "code",
   "execution_count": 28,
   "id": "1d1b7612",
   "metadata": {
    "execution": {
     "iopub.execute_input": "2024-04-30T02:55:30.344350Z",
     "iopub.status.busy": "2024-04-30T02:55:30.343944Z",
     "iopub.status.idle": "2024-04-30T02:55:30.363861Z",
     "shell.execute_reply": "2024-04-30T02:55:30.362286Z"
    },
    "papermill": {
     "duration": 0.04572,
     "end_time": "2024-04-30T02:55:30.366235",
     "exception": false,
     "start_time": "2024-04-30T02:55:30.320515",
     "status": "completed"
    },
    "tags": []
   },
   "outputs": [
    {
     "name": "stdout",
     "output_type": "stream",
     "text": [
      "              precision    recall  f1-score   support\n",
      "\n",
      "           1       0.69      0.28      0.40       275\n",
      "           2       0.61      0.69      0.65       936\n",
      "           3       0.58      0.66      0.62      1261\n",
      "           4       0.56      0.53      0.55       747\n",
      "           5       0.49      0.30      0.37       206\n",
      "           6       0.43      0.16      0.24        37\n",
      "\n",
      "    accuracy                           0.58      3462\n",
      "   macro avg       0.56      0.44      0.47      3462\n",
      "weighted avg       0.59      0.58      0.57      3462\n",
      "\n"
     ]
    }
   ],
   "source": [
    "print(classification_report(y_test, logreg_y_pred))"
   ]
  },
  {
   "cell_type": "code",
   "execution_count": 29,
   "id": "8b4f4c10",
   "metadata": {
    "execution": {
     "iopub.execute_input": "2024-04-30T02:55:30.411509Z",
     "iopub.status.busy": "2024-04-30T02:55:30.410792Z",
     "iopub.status.idle": "2024-04-30T02:55:30.425619Z",
     "shell.execute_reply": "2024-04-30T02:55:30.424295Z"
    },
    "papermill": {
     "duration": 0.041057,
     "end_time": "2024-04-30T02:55:30.428390",
     "exception": false,
     "start_time": "2024-04-30T02:55:30.387333",
     "status": "completed"
    },
    "tags": []
   },
   "outputs": [
    {
     "name": "stdout",
     "output_type": "stream",
     "text": [
      "Model prediction on submission essays:  [3, 3, 4]\n",
      "Submission essays actual classes:  [3, 3, 4]\n"
     ]
    }
   ],
   "source": [
    "print(\"Model prediction on submission essays: \", trained_logreg_pipeline.predict(sub_X).tolist())\n",
    "print('Submission essays actual classes: ', sub_y.tolist())"
   ]
  },
  {
   "cell_type": "code",
   "execution_count": 30,
   "id": "25e8ffe0",
   "metadata": {
    "execution": {
     "iopub.execute_input": "2024-04-30T02:55:30.474523Z",
     "iopub.status.busy": "2024-04-30T02:55:30.474065Z",
     "iopub.status.idle": "2024-04-30T02:55:30.479388Z",
     "shell.execute_reply": "2024-04-30T02:55:30.478147Z"
    },
    "papermill": {
     "duration": 0.031597,
     "end_time": "2024-04-30T02:55:30.482119",
     "exception": false,
     "start_time": "2024-04-30T02:55:30.450522",
     "status": "completed"
    },
    "tags": []
   },
   "outputs": [],
   "source": [
    "# logregcv_clf = LogisticRegressionCV(multi_class='multinomial', cv=5, solver='lbfgs', max_iter=1000, refit=True, scoring=qwk_scorer)"
   ]
  },
  {
   "cell_type": "markdown",
   "id": "c87f2bac",
   "metadata": {
    "papermill": {
     "duration": 0.021151,
     "end_time": "2024-04-30T02:55:30.524654",
     "exception": false,
     "start_time": "2024-04-30T02:55:30.503503",
     "status": "completed"
    },
    "tags": []
   },
   "source": [
    "create a lightgbm model pipeline\n",
    "\n",
    "lgbm over xgboost for performance and scalability? maybe elaborate more"
   ]
  },
  {
   "cell_type": "code",
   "execution_count": 31,
   "id": "fb9dcbf3",
   "metadata": {
    "execution": {
     "iopub.execute_input": "2024-04-30T02:55:30.569502Z",
     "iopub.status.busy": "2024-04-30T02:55:30.568619Z",
     "iopub.status.idle": "2024-04-30T02:55:30.574506Z",
     "shell.execute_reply": "2024-04-30T02:55:30.573410Z"
    },
    "papermill": {
     "duration": 0.030977,
     "end_time": "2024-04-30T02:55:30.576840",
     "exception": false,
     "start_time": "2024-04-30T02:55:30.545863",
     "status": "completed"
    },
    "tags": []
   },
   "outputs": [],
   "source": [
    "lgbm_clf = LGBMClassifier(objective='multiclass', num_class=6, metric='multi_logloss', num_leaves=31, learning_rate=0.1, feature_fraction=0.6)"
   ]
  },
  {
   "cell_type": "code",
   "execution_count": 32,
   "id": "6fa48c96",
   "metadata": {
    "execution": {
     "iopub.execute_input": "2024-04-30T02:55:30.623114Z",
     "iopub.status.busy": "2024-04-30T02:55:30.622679Z",
     "iopub.status.idle": "2024-04-30T02:55:30.628129Z",
     "shell.execute_reply": "2024-04-30T02:55:30.626820Z"
    },
    "papermill": {
     "duration": 0.031158,
     "end_time": "2024-04-30T02:55:30.630754",
     "exception": false,
     "start_time": "2024-04-30T02:55:30.599596",
     "status": "completed"
    },
    "tags": []
   },
   "outputs": [],
   "source": [
    "lgbm_pipeline = Pipeline(steps=[\n",
    "#     ('tfidf', tfidf_vectorizer),   # TF-IDF Vectorizer\n",
    "    ('preprocessor', tfidf_preprocessor),\n",
    "    ('classifier', lgbm_clf) # LightGBM Classifier\n",
    "])"
   ]
  },
  {
   "cell_type": "markdown",
   "id": "159e5bce",
   "metadata": {
    "papermill": {
     "duration": 0.021653,
     "end_time": "2024-04-30T02:55:30.673933",
     "exception": false,
     "start_time": "2024-04-30T02:55:30.652280",
     "status": "completed"
    },
    "tags": []
   },
   "source": [
    "use some GridSearchCV to find the best parameters"
   ]
  },
  {
   "cell_type": "code",
   "execution_count": 33,
   "id": "b7a95189",
   "metadata": {
    "execution": {
     "iopub.execute_input": "2024-04-30T02:55:30.721409Z",
     "iopub.status.busy": "2024-04-30T02:55:30.720986Z",
     "iopub.status.idle": "2024-04-30T02:55:30.727031Z",
     "shell.execute_reply": "2024-04-30T02:55:30.725707Z"
    },
    "papermill": {
     "duration": 0.032454,
     "end_time": "2024-04-30T02:55:30.729286",
     "exception": false,
     "start_time": "2024-04-30T02:55:30.696832",
     "status": "completed"
    },
    "tags": []
   },
   "outputs": [],
   "source": [
    "# parameter grid used for the grid search:\n",
    "param_grid = {\n",
    "    'num_leaves': [31, 50, 100],\n",
    "    'learning_rate': [0.05, 0.1, 0.2],\n",
    "    'feature_fraction': [0.6, 0.8, 0.9]\n",
    "}"
   ]
  },
  {
   "cell_type": "code",
   "execution_count": 34,
   "id": "b7d00a56",
   "metadata": {
    "execution": {
     "iopub.execute_input": "2024-04-30T02:55:30.775358Z",
     "iopub.status.busy": "2024-04-30T02:55:30.774376Z",
     "iopub.status.idle": "2024-04-30T02:55:30.779602Z",
     "shell.execute_reply": "2024-04-30T02:55:30.778532Z"
    },
    "papermill": {
     "duration": 0.031416,
     "end_time": "2024-04-30T02:55:30.782545",
     "exception": false,
     "start_time": "2024-04-30T02:55:30.751129",
     "status": "completed"
    },
    "tags": []
   },
   "outputs": [],
   "source": [
    "# # create and fit the gridsearch\n",
    "# grid_search = GridSearchCV(estimator=lgbm_clf, param_grid=param_grid, cv=3, scoring=qwk_scorer)\n",
    "# grid_search.fit(tfidf_vectorizer.fit_transform(X_train), y_train)\n",
    "\n",
    "# # Print the best parameters and best score\n",
    "# print(\"Best Parameters: \", grid_search.best_params_)\n",
    "# print(\"Best Score (quadratic weighted kappa score): \", grid_search.best_score_)"
   ]
  },
  {
   "cell_type": "code",
   "execution_count": 35,
   "id": "889094fe",
   "metadata": {
    "execution": {
     "iopub.execute_input": "2024-04-30T02:55:30.828463Z",
     "iopub.status.busy": "2024-04-30T02:55:30.828032Z",
     "iopub.status.idle": "2024-04-30T02:55:55.112120Z",
     "shell.execute_reply": "2024-04-30T02:55:55.110986Z"
    },
    "papermill": {
     "duration": 24.310606,
     "end_time": "2024-04-30T02:55:55.115735",
     "exception": false,
     "start_time": "2024-04-30T02:55:30.805129",
     "status": "completed"
    },
    "tags": []
   },
   "outputs": [
    {
     "name": "stdout",
     "output_type": "stream",
     "text": [
      "[LightGBM] [Warning] feature_fraction is set=0.6, colsample_bytree=1.0 will be ignored. Current value: feature_fraction=0.6\n",
      "[LightGBM] [Warning] feature_fraction is set=0.6, colsample_bytree=1.0 will be ignored. Current value: feature_fraction=0.6\n",
      "[LightGBM] [Info] Auto-choosing row-wise multi-threading, the overhead of testing was 0.058023 seconds.\n",
      "You can set `force_row_wise=true` to remove the overhead.\n",
      "And if memory is not enough, you can set `force_col_wise=true`.\n",
      "[LightGBM] [Info] Total Bins 113291\n",
      "[LightGBM] [Info] Number of data points in the train set: 13845, number of used features: 447\n",
      "[LightGBM] [Info] Start training from score -2.651193\n",
      "[LightGBM] [Info] Start training from score -1.296350\n",
      "[LightGBM] [Info] Start training from score -1.014693\n",
      "[LightGBM] [Info] Start training from score -1.471357\n",
      "[LightGBM] [Info] Start training from score -2.897112\n",
      "[LightGBM] [Info] Start training from score -4.756556\n",
      "[LightGBM] [Warning] feature_fraction is set=0.6, colsample_bytree=1.0 will be ignored. Current value: feature_fraction=0.6\n",
      "\n",
      "Classifier used:  LGBMClassifier(feature_fraction=0.6, metric='multi_logloss', num_class=6,\n",
      "               objective='multiclass')\n",
      "y_test:  [1, 2, 2, 5, 3, 1, 1, 4, 3, 5]\n",
      "y_pred:  [1, 2, 2, 4, 4, 1, 1, 5, 3, 5]\n",
      "quadratic weighted kappa score:  0.7258413645788915\n"
     ]
    }
   ],
   "source": [
    "trained_lgbm_pipeline, lgbm_y_pred = train_and_evaluate_pipeline(lgbm_pipeline, X_train, y_train, X_test, y_test)"
   ]
  },
  {
   "cell_type": "markdown",
   "id": "819e6445",
   "metadata": {
    "papermill": {
     "duration": 0.022655,
     "end_time": "2024-04-30T02:55:55.160619",
     "exception": false,
     "start_time": "2024-04-30T02:55:55.137964",
     "status": "completed"
    },
    "tags": []
   },
   "source": [
    "commented off just to make the notebook run faster for now"
   ]
  },
  {
   "cell_type": "code",
   "execution_count": 36,
   "id": "32478155",
   "metadata": {
    "execution": {
     "iopub.execute_input": "2024-04-30T02:55:55.207411Z",
     "iopub.status.busy": "2024-04-30T02:55:55.206654Z",
     "iopub.status.idle": "2024-04-30T02:55:55.210706Z",
     "shell.execute_reply": "2024-04-30T02:55:55.209882Z"
    },
    "papermill": {
     "duration": 0.03034,
     "end_time": "2024-04-30T02:55:55.213164",
     "exception": false,
     "start_time": "2024-04-30T02:55:55.182824",
     "status": "completed"
    },
    "tags": []
   },
   "outputs": [],
   "source": [
    "# pipeline_cross_validation(lgbm_pipeline, X_train, y_train)"
   ]
  },
  {
   "cell_type": "code",
   "execution_count": 37,
   "id": "b58b9f7a",
   "metadata": {
    "execution": {
     "iopub.execute_input": "2024-04-30T02:55:55.259404Z",
     "iopub.status.busy": "2024-04-30T02:55:55.258655Z",
     "iopub.status.idle": "2024-04-30T02:55:55.278462Z",
     "shell.execute_reply": "2024-04-30T02:55:55.277423Z"
    },
    "papermill": {
     "duration": 0.045622,
     "end_time": "2024-04-30T02:55:55.281057",
     "exception": false,
     "start_time": "2024-04-30T02:55:55.235435",
     "status": "completed"
    },
    "tags": []
   },
   "outputs": [
    {
     "name": "stdout",
     "output_type": "stream",
     "text": [
      "              precision    recall  f1-score   support\n",
      "\n",
      "           1       0.72      0.32      0.44       275\n",
      "           2       0.63      0.64      0.64       936\n",
      "           3       0.59      0.64      0.61      1261\n",
      "           4       0.54      0.61      0.57       747\n",
      "           5       0.50      0.38      0.43       206\n",
      "           6       0.30      0.16      0.21        37\n",
      "\n",
      "    accuracy                           0.59      3462\n",
      "   macro avg       0.55      0.46      0.48      3462\n",
      "weighted avg       0.59      0.59      0.58      3462\n",
      "\n"
     ]
    }
   ],
   "source": [
    "print(classification_report(y_test, lgbm_y_pred))"
   ]
  },
  {
   "cell_type": "code",
   "execution_count": 38,
   "id": "6aaf2584",
   "metadata": {
    "execution": {
     "iopub.execute_input": "2024-04-30T02:55:55.327389Z",
     "iopub.status.busy": "2024-04-30T02:55:55.326695Z",
     "iopub.status.idle": "2024-04-30T02:55:55.342673Z",
     "shell.execute_reply": "2024-04-30T02:55:55.341775Z"
    },
    "papermill": {
     "duration": 0.042025,
     "end_time": "2024-04-30T02:55:55.345067",
     "exception": false,
     "start_time": "2024-04-30T02:55:55.303042",
     "status": "completed"
    },
    "tags": []
   },
   "outputs": [
    {
     "name": "stdout",
     "output_type": "stream",
     "text": [
      "[LightGBM] [Warning] feature_fraction is set=0.6, colsample_bytree=1.0 will be ignored. Current value: feature_fraction=0.6\n",
      "Model prediction on submission essays:  [3, 3, 4]\n",
      "Submission essays actual classes:  [3, 3, 4]\n"
     ]
    }
   ],
   "source": [
    "# trained_lgbm_pipeline.predict(df_test[['full_text', 'word_count', 'length']]).tolist()\n",
    "print(\"Model prediction on submission essays: \", trained_lgbm_pipeline.predict(sub_X).tolist())\n",
    "print('Submission essays actual classes: ', sub_y.tolist())"
   ]
  },
  {
   "cell_type": "markdown",
   "id": "dcc8852c",
   "metadata": {
    "papermill": {
     "duration": 0.021519,
     "end_time": "2024-04-30T02:55:55.388464",
     "exception": false,
     "start_time": "2024-04-30T02:55:55.366945",
     "status": "completed"
    },
    "tags": []
   },
   "source": [
    "LogisticRegressionCV classifier model and pipeline"
   ]
  },
  {
   "cell_type": "code",
   "execution_count": 39,
   "id": "3894314a",
   "metadata": {
    "execution": {
     "iopub.execute_input": "2024-04-30T02:55:55.436021Z",
     "iopub.status.busy": "2024-04-30T02:55:55.435353Z",
     "iopub.status.idle": "2024-04-30T02:55:55.439633Z",
     "shell.execute_reply": "2024-04-30T02:55:55.438792Z"
    },
    "papermill": {
     "duration": 0.03228,
     "end_time": "2024-04-30T02:55:55.442648",
     "exception": false,
     "start_time": "2024-04-30T02:55:55.410368",
     "status": "completed"
    },
    "tags": []
   },
   "outputs": [],
   "source": [
    "# logregcv_clf = LogisticRegressionCV(multi_class='multinomial', cv=3, solver='lbfgs', max_iter=1000, refit=True, scoring=qwk_scorer)\n",
    "\n",
    "# logregcv_pipeline = Pipeline(steps=[\n",
    "# #     ('tfidf', tfidf_vectorizer),\n",
    "#     ('preprocessor', preprocessor),\n",
    "#     ('classifier', logregcv_clf)\n",
    "# ])\n",
    "\n",
    "# logregcv_y_pred = train_and_evaluate_pipeline(logregcv_pipeline, X_train, y_train, X_test, y_test)"
   ]
  },
  {
   "cell_type": "markdown",
   "id": "41d16463",
   "metadata": {
    "papermill": {
     "duration": 0.022015,
     "end_time": "2024-04-30T02:55:55.486713",
     "exception": false,
     "start_time": "2024-04-30T02:55:55.464698",
     "status": "completed"
    },
    "tags": []
   },
   "source": [
    "ordinal logistic regression classsifier"
   ]
  },
  {
   "cell_type": "code",
   "execution_count": 40,
   "id": "47c3ecfb",
   "metadata": {
    "execution": {
     "iopub.execute_input": "2024-04-30T02:55:55.533297Z",
     "iopub.status.busy": "2024-04-30T02:55:55.532590Z",
     "iopub.status.idle": "2024-04-30T02:55:55.536746Z",
     "shell.execute_reply": "2024-04-30T02:55:55.535872Z"
    },
    "papermill": {
     "duration": 0.030529,
     "end_time": "2024-04-30T02:55:55.539161",
     "exception": false,
     "start_time": "2024-04-30T02:55:55.508632",
     "status": "completed"
    },
    "tags": []
   },
   "outputs": [],
   "source": [
    "# train_input = df_train[['word_count', 'length', 'text_vector']]\n",
    "# np.asarray(train_input['text_vector'])\n",
    "# train_input['text_vector'] = np.asarray(train_input['text_vector'])\n",
    "# train_input"
   ]
  },
  {
   "cell_type": "code",
   "execution_count": 41,
   "id": "7e9b1356",
   "metadata": {
    "execution": {
     "iopub.execute_input": "2024-04-30T02:55:55.585563Z",
     "iopub.status.busy": "2024-04-30T02:55:55.585157Z",
     "iopub.status.idle": "2024-04-30T02:55:55.601201Z",
     "shell.execute_reply": "2024-04-30T02:55:55.600369Z"
    },
    "papermill": {
     "duration": 0.041969,
     "end_time": "2024-04-30T02:55:55.603519",
     "exception": false,
     "start_time": "2024-04-30T02:55:55.561550",
     "status": "completed"
    },
    "tags": []
   },
   "outputs": [
    {
     "data": {
      "text/plain": [
       "0        [-3.4887126088142395, -2.754158705472946, -3.5...\n",
       "1        [-2.581797420978546, -3.308091878890991, -3.38...\n",
       "2        [-2.4763074666261673, -2.1251330375671387, -2....\n",
       "3        [-4.147961877286434, -0.5384019613265991, -1.9...\n",
       "4        [-3.148106172680855, -4.939776241779327, -5.34...\n",
       "                               ...                        \n",
       "17302    [-1.5619572401046753, 0.4407832622528076, 0.85...\n",
       "17303    [-3.4951523542404175, -1.427449882030487, -2.8...\n",
       "17304    [-0.505339190363884, -0.6157466173171997, -0.6...\n",
       "17305    [-1.2312163412570953, -0.16599619388580322, -0...\n",
       "17306    [-0.7304580509662628, -0.8089405298233032, -0....\n",
       "Name: text_vector, Length: 17307, dtype: object"
      ]
     },
     "execution_count": 41,
     "metadata": {},
     "output_type": "execute_result"
    }
   ],
   "source": [
    "(df_train['text_vector'])"
   ]
  },
  {
   "cell_type": "code",
   "execution_count": 42,
   "id": "3e80b882",
   "metadata": {
    "execution": {
     "iopub.execute_input": "2024-04-30T02:55:55.650970Z",
     "iopub.status.busy": "2024-04-30T02:55:55.650276Z",
     "iopub.status.idle": "2024-04-30T02:55:55.654490Z",
     "shell.execute_reply": "2024-04-30T02:55:55.653596Z"
    },
    "papermill": {
     "duration": 0.030913,
     "end_time": "2024-04-30T02:55:55.656834",
     "exception": false,
     "start_time": "2024-04-30T02:55:55.625921",
     "status": "completed"
    },
    "tags": []
   },
   "outputs": [],
   "source": [
    "ordreg_clf = OrdinalRidge()"
   ]
  },
  {
   "cell_type": "code",
   "execution_count": 43,
   "id": "29e8d8e2",
   "metadata": {
    "execution": {
     "iopub.execute_input": "2024-04-30T02:55:55.703570Z",
     "iopub.status.busy": "2024-04-30T02:55:55.702870Z",
     "iopub.status.idle": "2024-04-30T02:55:55.707686Z",
     "shell.execute_reply": "2024-04-30T02:55:55.706685Z"
    },
    "papermill": {
     "duration": 0.031251,
     "end_time": "2024-04-30T02:55:55.710479",
     "exception": false,
     "start_time": "2024-04-30T02:55:55.679228",
     "status": "completed"
    },
    "tags": []
   },
   "outputs": [],
   "source": [
    "ordreg_pipeline = Pipeline(steps=[\n",
    "    ('preprocessor', tfidf_preprocessor),\n",
    "    ('classifier', ordreg_clf) # LightGBM Classifier\n",
    "])"
   ]
  },
  {
   "cell_type": "code",
   "execution_count": 44,
   "id": "c3133110",
   "metadata": {
    "execution": {
     "iopub.execute_input": "2024-04-30T02:55:55.758098Z",
     "iopub.status.busy": "2024-04-30T02:55:55.757679Z",
     "iopub.status.idle": "2024-04-30T02:56:02.368934Z",
     "shell.execute_reply": "2024-04-30T02:56:02.367544Z"
    },
    "papermill": {
     "duration": 6.638642,
     "end_time": "2024-04-30T02:56:02.372475",
     "exception": false,
     "start_time": "2024-04-30T02:55:55.733833",
     "status": "completed"
    },
    "tags": []
   },
   "outputs": [
    {
     "name": "stdout",
     "output_type": "stream",
     "text": [
      "\n",
      "Classifier used:  OrdinalRidge()\n",
      "y_test:  [1, 2, 2, 5, 3, 1, 1, 4, 3, 5]\n",
      "y_pred:  [1.0, 2.0, 2.0, 5.0, 3.0, 1.0, 1.0, 4.0, 3.0, 6.0]\n",
      "quadratic weighted kappa score:  0.7409992902892064\n"
     ]
    }
   ],
   "source": [
    "trained_ordreg_pipeline, ordreg_y_pred = train_and_evaluate_pipeline(ordreg_pipeline, X_train, y_train, X_test, y_test)"
   ]
  },
  {
   "cell_type": "code",
   "execution_count": 45,
   "id": "5cb7b2cd",
   "metadata": {
    "execution": {
     "iopub.execute_input": "2024-04-30T02:56:02.419776Z",
     "iopub.status.busy": "2024-04-30T02:56:02.418913Z",
     "iopub.status.idle": "2024-04-30T02:56:02.441230Z",
     "shell.execute_reply": "2024-04-30T02:56:02.439756Z"
    },
    "papermill": {
     "duration": 0.04951,
     "end_time": "2024-04-30T02:56:02.443915",
     "exception": false,
     "start_time": "2024-04-30T02:56:02.394405",
     "status": "completed"
    },
    "tags": []
   },
   "outputs": [
    {
     "name": "stdout",
     "output_type": "stream",
     "text": [
      "              precision    recall  f1-score   support\n",
      "\n",
      "           1       0.77      0.25      0.38       275\n",
      "           2       0.59      0.67      0.63       936\n",
      "           3       0.57      0.69      0.62      1261\n",
      "           4       0.59      0.48      0.53       747\n",
      "           5       0.54      0.36      0.43       206\n",
      "           6       0.38      0.30      0.33        37\n",
      "\n",
      "    accuracy                           0.58      3462\n",
      "   macro avg       0.57      0.46      0.49      3462\n",
      "weighted avg       0.59      0.58      0.57      3462\n",
      "\n"
     ]
    }
   ],
   "source": [
    "print(classification_report(y_test, ordreg_y_pred))"
   ]
  },
  {
   "cell_type": "code",
   "execution_count": 46,
   "id": "f44e9081",
   "metadata": {
    "execution": {
     "iopub.execute_input": "2024-04-30T02:56:02.491516Z",
     "iopub.status.busy": "2024-04-30T02:56:02.491090Z",
     "iopub.status.idle": "2024-04-30T02:56:02.506531Z",
     "shell.execute_reply": "2024-04-30T02:56:02.505127Z"
    },
    "papermill": {
     "duration": 0.042069,
     "end_time": "2024-04-30T02:56:02.509010",
     "exception": false,
     "start_time": "2024-04-30T02:56:02.466941",
     "status": "completed"
    },
    "tags": []
   },
   "outputs": [
    {
     "name": "stdout",
     "output_type": "stream",
     "text": [
      "Model prediction on submission essays:  [2.0, 3.0, 4.0]\n",
      "Submission essays actual classes:  [3, 3, 4]\n"
     ]
    }
   ],
   "source": [
    "print(\"Model prediction on submission essays: \", trained_ordreg_pipeline.predict(sub_X).tolist())\n",
    "print('Submission essays actual classes: ', sub_y.tolist())"
   ]
  },
  {
   "cell_type": "code",
   "execution_count": 47,
   "id": "e723e9d4",
   "metadata": {
    "execution": {
     "iopub.execute_input": "2024-04-30T02:56:02.557835Z",
     "iopub.status.busy": "2024-04-30T02:56:02.557034Z",
     "iopub.status.idle": "2024-04-30T02:56:29.133779Z",
     "shell.execute_reply": "2024-04-30T02:56:29.132474Z"
    },
    "papermill": {
     "duration": 26.604779,
     "end_time": "2024-04-30T02:56:29.136424",
     "exception": false,
     "start_time": "2024-04-30T02:56:02.531645",
     "status": "completed"
    },
    "tags": []
   },
   "outputs": [
    {
     "name": "stdout",
     "output_type": "stream",
     "text": [
      "Mean Accuracy: 0.5865655471289275\n",
      "Mean Weighted F1-score: 0.574206898372638\n",
      "Mean Quadratic Weighted Kappa Score: 0.7348215630192853\n"
     ]
    }
   ],
   "source": [
    "pipeline_cross_validation(ordreg_pipeline, X_train, y_train)"
   ]
  },
  {
   "cell_type": "code",
   "execution_count": 48,
   "id": "9771972c",
   "metadata": {
    "execution": {
     "iopub.execute_input": "2024-04-30T02:56:29.184421Z",
     "iopub.status.busy": "2024-04-30T02:56:29.183998Z",
     "iopub.status.idle": "2024-04-30T02:56:29.191878Z",
     "shell.execute_reply": "2024-04-30T02:56:29.187910Z"
    },
    "papermill": {
     "duration": 0.035344,
     "end_time": "2024-04-30T02:56:29.195101",
     "exception": false,
     "start_time": "2024-04-30T02:56:29.159757",
     "status": "completed"
    },
    "tags": []
   },
   "outputs": [],
   "source": [
    "# # ordinal_clf = sm.OrdinalModel(y_train, tfidf_vectorizer.transform(X_train['full_text']))\n",
    "\n",
    "# ordered_model = OrderedModel(y_train,\n",
    "#                        tfidf_vectorizer.fit_transform(X_train['full_text']).toarray(),\n",
    "#                         distr='probit')\n",
    "\n",
    "# ordered_res = ordered_model.fit()\n",
    "# ordered_res.summary()"
   ]
  },
  {
   "cell_type": "code",
   "execution_count": 49,
   "id": "9340aa18",
   "metadata": {
    "execution": {
     "iopub.execute_input": "2024-04-30T02:56:29.242043Z",
     "iopub.status.busy": "2024-04-30T02:56:29.241641Z",
     "iopub.status.idle": "2024-04-30T02:56:29.246248Z",
     "shell.execute_reply": "2024-04-30T02:56:29.244869Z"
    },
    "papermill": {
     "duration": 0.031213,
     "end_time": "2024-04-30T02:56:29.248815",
     "exception": false,
     "start_time": "2024-04-30T02:56:29.217602",
     "status": "completed"
    },
    "tags": []
   },
   "outputs": [],
   "source": [
    "# predicted_probs = ordered_results.predict(tfidf_vectorizer.fit_transform(X_test['full_text']).toarray())\n",
    "# predicted_probs"
   ]
  },
  {
   "cell_type": "markdown",
   "id": "88f70cd9",
   "metadata": {
    "papermill": {
     "duration": 0.02235,
     "end_time": "2024-04-30T02:56:29.293452",
     "exception": false,
     "start_time": "2024-04-30T02:56:29.271102",
     "status": "completed"
    },
    "tags": []
   },
   "source": [
    "# ***Things to do:***\n",
    "\n",
    "- put explanations and more markup in notebook\n",
    "\n",
    "- more EDA, some diagrams and graphs on the dataset \n",
    "\n",
    "    ideas: - compare the cross validation qwk scores, group by scores and show word lengths etc\n",
    "\n",
    "- try word2vec for vector embeddings and compare with tfidf - make w2v more accurate somehow\n",
    "\n",
    "- find more models - potential: xgboostclassifier, ordinal logistic regression (sm), SGDClassifier? ,\n",
    "\n",
    "- overall increase the performance of the models they arent predicting the test dataset 100% correctly\n",
    "\n"
   ]
  },
  {
   "cell_type": "raw",
   "id": "39769377",
   "metadata": {
    "papermill": {
     "duration": 0.022479,
     "end_time": "2024-04-30T02:56:29.338457",
     "exception": false,
     "start_time": "2024-04-30T02:56:29.315978",
     "status": "completed"
    },
    "tags": []
   },
   "source": []
  }
 ],
 "metadata": {
  "kaggle": {
   "accelerator": "none",
   "dataSources": [
    {
     "databundleVersionId": 8059942,
     "sourceId": 71485,
     "sourceType": "competition"
    }
   ],
   "dockerImageVersionId": 30698,
   "isGpuEnabled": false,
   "isInternetEnabled": true,
   "language": "python",
   "sourceType": "notebook"
  },
  "kernelspec": {
   "display_name": "Python 3",
   "language": "python",
   "name": "python3"
  },
  "language_info": {
   "codemirror_mode": {
    "name": "ipython",
    "version": 3
   },
   "file_extension": ".py",
   "mimetype": "text/x-python",
   "name": "python",
   "nbconvert_exporter": "python",
   "pygments_lexer": "ipython3",
   "version": "3.10.13"
  },
  "papermill": {
   "default_parameters": {},
   "duration": 236.338544,
   "end_time": "2024-04-30T02:56:30.485160",
   "environment_variables": {},
   "exception": null,
   "input_path": "__notebook__.ipynb",
   "output_path": "__notebook__.ipynb",
   "parameters": {},
   "start_time": "2024-04-30T02:52:34.146616",
   "version": "2.5.0"
  }
 },
 "nbformat": 4,
 "nbformat_minor": 5
}
