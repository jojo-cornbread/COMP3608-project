{
 "cells": [
  {
   "cell_type": "code",
   "execution_count": 1,
   "id": "855aa0c6",
   "metadata": {
    "_cell_guid": "b1076dfc-b9ad-4769-8c92-a6c4dae69d19",
    "_uuid": "8f2839f25d086af736a60e9eeb907d3b93b6e0e5",
    "execution": {
     "iopub.execute_input": "2024-04-30T06:21:22.523889Z",
     "iopub.status.busy": "2024-04-30T06:21:22.523363Z",
     "iopub.status.idle": "2024-04-30T06:21:23.538279Z",
     "shell.execute_reply": "2024-04-30T06:21:23.536815Z"
    },
    "papermill": {
     "duration": 1.036555,
     "end_time": "2024-04-30T06:21:23.542712",
     "exception": false,
     "start_time": "2024-04-30T06:21:22.506157",
     "status": "completed"
    },
    "tags": []
   },
   "outputs": [
    {
     "name": "stdout",
     "output_type": "stream",
     "text": [
      "/kaggle/input/learning-agency-lab-automated-essay-scoring-2/sample_submission.csv\n",
      "/kaggle/input/learning-agency-lab-automated-essay-scoring-2/train.csv\n",
      "/kaggle/input/learning-agency-lab-automated-essay-scoring-2/test.csv\n"
     ]
    }
   ],
   "source": [
    "# This Python 3 environment comes with many helpful analytics libraries installed\n",
    "# It is defined by the kaggle/python Docker image: https://github.com/kaggle/docker-python\n",
    "# For example, here's several helpful packages to load\n",
    "\n",
    "import numpy as np # linear algebra\n",
    "import pandas as pd # data processing, CSV file I/O (e.g. pd.read_csv)\n",
    "\n",
    "# Input data files are available in the read-only \"../input/\" directory\n",
    "# For example, running this (by clicking run or pressing Shift+Enter) will list all files under the input directory\n",
    "\n",
    "import os\n",
    "for dirname, _, filenames in os.walk('/kaggle/input'):\n",
    "    for filename in filenames:\n",
    "        print(os.path.join(dirname, filename))\n",
    "\n",
    "# You can write up to 20GB to the current directory (/kaggle/working/) that gets preserved as output when you create a version using \"Save & Run All\" \n",
    "# You can also write temporary files to /kaggle/temp/, but they won't be saved outside of the current session"
   ]
  },
  {
   "cell_type": "markdown",
   "id": "a17d308c",
   "metadata": {
    "papermill": {
     "duration": 0.013123,
     "end_time": "2024-04-30T06:21:23.571964",
     "exception": false,
     "start_time": "2024-04-30T06:21:23.558841",
     "status": "completed"
    },
    "tags": []
   },
   "source": [
    "import other libraries"
   ]
  },
  {
   "cell_type": "code",
   "execution_count": 2,
   "id": "a5466748",
   "metadata": {
    "execution": {
     "iopub.execute_input": "2024-04-30T06:21:23.600999Z",
     "iopub.status.busy": "2024-04-30T06:21:23.600180Z",
     "iopub.status.idle": "2024-04-30T06:21:41.006658Z",
     "shell.execute_reply": "2024-04-30T06:21:41.005395Z"
    },
    "papermill": {
     "duration": 17.424996,
     "end_time": "2024-04-30T06:21:41.009469",
     "exception": false,
     "start_time": "2024-04-30T06:21:23.584473",
     "status": "completed"
    },
    "tags": []
   },
   "outputs": [],
   "source": [
    "from sklearn.feature_extraction.text import TfidfVectorizer, CountVectorizer\n",
    "from sklearn.linear_model import LogisticRegression, LogisticRegressionCV\n",
    "import xgboost as xgb\n",
    "from sklearn.ensemble import RandomForestClassifier\n",
    "from lightgbm import LGBMClassifier\n",
    "from sklearn.metrics import cohen_kappa_score, make_scorer, classification_report, accuracy_score\n",
    "import re\n",
    "from sklearn.pipeline import Pipeline\n",
    "# from sklearn.pipeline import FeatureUnion\n",
    "from sklearn.compose import ColumnTransformer\n",
    "from sklearn.model_selection import GridSearchCV, train_test_split, cross_validate\n",
    "from sklearn.preprocessing import StandardScaler, FunctionTransformer\n",
    "\n",
    "from gensim.models import Word2Vec"
   ]
  },
  {
   "cell_type": "markdown",
   "id": "69fc7a5a",
   "metadata": {
    "papermill": {
     "duration": 0.011395,
     "end_time": "2024-04-30T06:21:41.032842",
     "exception": false,
     "start_time": "2024-04-30T06:21:41.021447",
     "status": "completed"
    },
    "tags": []
   },
   "source": [
    "Read in the dataset"
   ]
  },
  {
   "cell_type": "code",
   "execution_count": 3,
   "id": "2b18d510",
   "metadata": {
    "execution": {
     "iopub.execute_input": "2024-04-30T06:21:41.061136Z",
     "iopub.status.busy": "2024-04-30T06:21:41.060442Z",
     "iopub.status.idle": "2024-04-30T06:21:42.023667Z",
     "shell.execute_reply": "2024-04-30T06:21:42.022457Z"
    },
    "papermill": {
     "duration": 0.980604,
     "end_time": "2024-04-30T06:21:42.026449",
     "exception": false,
     "start_time": "2024-04-30T06:21:41.045845",
     "status": "completed"
    },
    "tags": []
   },
   "outputs": [],
   "source": [
    "df_train = pd.read_csv('/kaggle/input/learning-agency-lab-automated-essay-scoring-2/train.csv')\n",
    "df_test = pd.read_csv('/kaggle/input/learning-agency-lab-automated-essay-scoring-2/test.csv')\n",
    "df_sub = pd.read_csv('/kaggle/input/learning-agency-lab-automated-essay-scoring-2/sample_submission.csv')"
   ]
  },
  {
   "cell_type": "markdown",
   "id": "05a5e08c",
   "metadata": {
    "papermill": {
     "duration": 0.012197,
     "end_time": "2024-04-30T06:21:42.051467",
     "exception": false,
     "start_time": "2024-04-30T06:21:42.039270",
     "status": "completed"
    },
    "tags": []
   },
   "source": [
    "Data cleaning"
   ]
  },
  {
   "cell_type": "code",
   "execution_count": 4,
   "id": "e2bd6592",
   "metadata": {
    "execution": {
     "iopub.execute_input": "2024-04-30T06:21:42.079934Z",
     "iopub.status.busy": "2024-04-30T06:21:42.079448Z",
     "iopub.status.idle": "2024-04-30T06:21:42.093657Z",
     "shell.execute_reply": "2024-04-30T06:21:42.092278Z"
    },
    "papermill": {
     "duration": 0.030904,
     "end_time": "2024-04-30T06:21:42.096272",
     "exception": false,
     "start_time": "2024-04-30T06:21:42.065368",
     "status": "completed"
    },
    "tags": []
   },
   "outputs": [],
   "source": [
    "def removeHTML(x):\n",
    "    html=re.compile(r'<.*?>')\n",
    "    return html.sub(r'',x)\n",
    "\n",
    "def decontracted(phrase):\n",
    "    # specific\n",
    "    phrase = re.sub(r\"won\\'t\", \"will not\", phrase)\n",
    "    phrase = re.sub(r\"can\\'t\", \"can not\", phrase)\n",
    "\n",
    "    # general\n",
    "    phrase = re.sub(r\"n\\'t\", \" not\", phrase)\n",
    "    phrase = re.sub(r\"\\'re\", \" are\", phrase)\n",
    "    phrase = re.sub(r\"\\'s\", \" is\", phrase)\n",
    "    phrase = re.sub(r\"\\'d\", \" would\", phrase)\n",
    "    phrase = re.sub(r\"\\'ll\", \" will\", phrase)\n",
    "    phrase = re.sub(r\"\\'t\", \" not\", phrase)\n",
    "    phrase = re.sub(r\"\\'ve\", \" have\", phrase)\n",
    "    phrase = re.sub(r\"\\'m\", \" am\", phrase)\n",
    "    phrase = re.sub(r\"\\xa0\",\" \",phrase)\n",
    "    return phrase.strip()\n",
    "\n",
    "def clean_text(x):\n",
    "    # Convert words to lowercase\n",
    "    x = x.lower()\n",
    "    # Remove HTML\n",
    "    x = removeHTML(x)\n",
    "    # Delete strings starting with @\n",
    "    x = re.sub(\"@\\w+\", '',x)\n",
    "    # Delete Numbers\n",
    "    x = re.sub(\"'\\d+\", '',x)\n",
    "    x = re.sub(\"\\d+\", '',x)\n",
    "    # Delete URL\n",
    "    x = re.sub(\"http\\w+\", '',x)\n",
    "    # Replace consecutive empty spaces with a single space character\n",
    "    x = re.sub(r\"\\s+\", \" \", x)\n",
    "    # Replace consecutive commas and periods with one comma and period character\n",
    "    x = re.sub(r\"\\.+\", \".\", x)\n",
    "    x = re.sub(r\"\\,+\", \",\", x)\n",
    "    # Remove empty characters at the beginning and end\n",
    "    x = x.strip()\n",
    "    return decontracted(x)"
   ]
  },
  {
   "cell_type": "code",
   "execution_count": 5,
   "id": "5ed6636a",
   "metadata": {
    "execution": {
     "iopub.execute_input": "2024-04-30T06:21:42.122802Z",
     "iopub.status.busy": "2024-04-30T06:21:42.121715Z",
     "iopub.status.idle": "2024-04-30T06:21:47.482837Z",
     "shell.execute_reply": "2024-04-30T06:21:47.481429Z"
    },
    "papermill": {
     "duration": 5.379163,
     "end_time": "2024-04-30T06:21:47.487341",
     "exception": false,
     "start_time": "2024-04-30T06:21:42.108178",
     "status": "completed"
    },
    "tags": []
   },
   "outputs": [],
   "source": [
    "df_train['full_text'] = df_train['full_text'].apply(clean_text)\n",
    "df_test['full_text'] = df_test['full_text'].apply(clean_text)\n"
   ]
  },
  {
   "cell_type": "code",
   "execution_count": 6,
   "id": "c3ce8e53",
   "metadata": {
    "execution": {
     "iopub.execute_input": "2024-04-30T06:21:47.512840Z",
     "iopub.status.busy": "2024-04-30T06:21:47.512438Z",
     "iopub.status.idle": "2024-04-30T06:21:47.520995Z",
     "shell.execute_reply": "2024-04-30T06:21:47.519834Z"
    },
    "papermill": {
     "duration": 0.02422,
     "end_time": "2024-04-30T06:21:47.523405",
     "exception": false,
     "start_time": "2024-04-30T06:21:47.499185",
     "status": "completed"
    },
    "tags": []
   },
   "outputs": [
    {
     "data": {
      "text/plain": [
       "'many people have car where they live. the thing they do not know is that when you use a car alot of thing can happen like you can get in accidet or the smoke that the car has is bad to breath on if someone is walk but in vauban,germany they dont have that proble because percent of vauban is families do not own cars,and percent sold a car to move there. street parkig ,driveways and home garages are forbidden on the outskirts of freiburd that near the french and swiss borders. you probaly will not see a car in vauban is streets because they are completely \"car free\" but if some that lives in vauban that owns a car ownership is allowed,but there are only two places that you can park a large garages at the edge of the development,where a car owner buys a space but it not cheap to buy one they sell the space for you car for $, along with a home. the vauban people completed this in ,they said that this an example of a growing trend in europe,the untile states and some where else are suburban life from auto use this is called \"smart planning\". the current efforts to drastically reduce greenhouse gas emissions from tailes the passengee cars are responsible for percent of greenhouse gas emissions in europe and up to percent in some car intensive in the united states. i honeslty think that good idea that they did that is vaudan because that makes cities denser and better for walking and in vauban there are , residents within a rectangular square mile. in the artical david gold berg said that \"all of our development since world war has been centered on the cars,and that will have to change\" and i think that was very true what david gold said because alot thing we need cars to do we can go anyway were with out cars beacuse some people are a very lazy to walk to place thats why they alot of people use car and i think that it was a good idea that that they did that in vauban so people can see how we really do not need car to go to place from place because we can walk from were we need to go or we can ride bycles with out the use of a car. it good that they are doing that if you thik about your help the earth in way and thats a very good thing to. in the united states ,the environmental protection agency is promoting what is called \"car reduced\"communtunties,and the legislators are starting to act,if cautiously. maany experts expect pubic transport serving suburbs to play a much larger role in a new six years federal transportation bill to approved this year. in previous bill, percent of appropriations have by law gone to highways and only percent to other transports. there many good reason why they should do this.'"
      ]
     },
     "execution_count": 6,
     "metadata": {},
     "output_type": "execute_result"
    }
   ],
   "source": [
    "df_train['full_text'][0]"
   ]
  },
  {
   "cell_type": "markdown",
   "id": "493aae21",
   "metadata": {
    "papermill": {
     "duration": 0.012578,
     "end_time": "2024-04-30T06:21:47.548127",
     "exception": false,
     "start_time": "2024-04-30T06:21:47.535549",
     "status": "completed"
    },
    "tags": []
   },
   "source": [
    "feature extraction - maybe add in more features like bag of words/ keywords?"
   ]
  },
  {
   "cell_type": "markdown",
   "id": "5d1d9dd6",
   "metadata": {
    "papermill": {
     "duration": 0.011974,
     "end_time": "2024-04-30T06:21:47.572449",
     "exception": false,
     "start_time": "2024-04-30T06:21:47.560475",
     "status": "completed"
    },
    "tags": []
   },
   "source": [
    "create a word_count and text length column"
   ]
  },
  {
   "cell_type": "code",
   "execution_count": 7,
   "id": "d043c592",
   "metadata": {
    "execution": {
     "iopub.execute_input": "2024-04-30T06:21:47.598799Z",
     "iopub.status.busy": "2024-04-30T06:21:47.598381Z",
     "iopub.status.idle": "2024-04-30T06:21:48.554494Z",
     "shell.execute_reply": "2024-04-30T06:21:48.553020Z"
    },
    "papermill": {
     "duration": 0.972185,
     "end_time": "2024-04-30T06:21:48.557247",
     "exception": false,
     "start_time": "2024-04-30T06:21:47.585062",
     "status": "completed"
    },
    "tags": []
   },
   "outputs": [],
   "source": [
    "df_train['word_count'] = df_train[\"full_text\"].str.split().str.len()\n",
    "df_test['word_count'] = df_test[\"full_text\"].str.split().str.len()"
   ]
  },
  {
   "cell_type": "code",
   "execution_count": 8,
   "id": "f0cfecde",
   "metadata": {
    "execution": {
     "iopub.execute_input": "2024-04-30T06:21:48.583829Z",
     "iopub.status.busy": "2024-04-30T06:21:48.583459Z",
     "iopub.status.idle": "2024-04-30T06:21:48.599634Z",
     "shell.execute_reply": "2024-04-30T06:21:48.598452Z"
    },
    "papermill": {
     "duration": 0.032065,
     "end_time": "2024-04-30T06:21:48.602091",
     "exception": false,
     "start_time": "2024-04-30T06:21:48.570026",
     "status": "completed"
    },
    "tags": []
   },
   "outputs": [],
   "source": [
    "df_train['length'] = df_train[\"full_text\"].str.len()\n",
    "df_test['length'] = df_test[\"full_text\"].str.len()"
   ]
  },
  {
   "cell_type": "code",
   "execution_count": 9,
   "id": "88d01649",
   "metadata": {
    "execution": {
     "iopub.execute_input": "2024-04-30T06:21:48.627779Z",
     "iopub.status.busy": "2024-04-30T06:21:48.627348Z",
     "iopub.status.idle": "2024-04-30T06:21:48.769799Z",
     "shell.execute_reply": "2024-04-30T06:21:48.768221Z"
    },
    "papermill": {
     "duration": 0.158287,
     "end_time": "2024-04-30T06:21:48.772425",
     "exception": false,
     "start_time": "2024-04-30T06:21:48.614138",
     "status": "completed"
    },
    "tags": []
   },
   "outputs": [
    {
     "data": {
      "text/html": [
       "<div>\n",
       "<style scoped>\n",
       "    .dataframe tbody tr th:only-of-type {\n",
       "        vertical-align: middle;\n",
       "    }\n",
       "\n",
       "    .dataframe tbody tr th {\n",
       "        vertical-align: top;\n",
       "    }\n",
       "\n",
       "    .dataframe thead th {\n",
       "        text-align: right;\n",
       "    }\n",
       "</style>\n",
       "<table border=\"1\" class=\"dataframe\">\n",
       "  <thead>\n",
       "    <tr style=\"text-align: right;\">\n",
       "      <th></th>\n",
       "      <th>essay_id</th>\n",
       "      <th>full_text</th>\n",
       "      <th>score</th>\n",
       "      <th>word_count</th>\n",
       "      <th>length</th>\n",
       "    </tr>\n",
       "  </thead>\n",
       "  <tbody>\n",
       "    <tr>\n",
       "      <th>0</th>\n",
       "      <td>000d118</td>\n",
       "      <td>many people have car where they live. the thin...</td>\n",
       "      <td>3</td>\n",
       "      <td>496</td>\n",
       "      <td>2647</td>\n",
       "    </tr>\n",
       "    <tr>\n",
       "      <th>1</th>\n",
       "      <td>000fe60</td>\n",
       "      <td>i am a scientist at nasa that is discussing th...</td>\n",
       "      <td>3</td>\n",
       "      <td>336</td>\n",
       "      <td>1668</td>\n",
       "    </tr>\n",
       "    <tr>\n",
       "      <th>2</th>\n",
       "      <td>001ab80</td>\n",
       "      <td>people always wish they had the same technolog...</td>\n",
       "      <td>4</td>\n",
       "      <td>553</td>\n",
       "      <td>3068</td>\n",
       "    </tr>\n",
       "    <tr>\n",
       "      <th>3</th>\n",
       "      <td>001bdc0</td>\n",
       "      <td>we all heard about venus, the planet without a...</td>\n",
       "      <td>4</td>\n",
       "      <td>450</td>\n",
       "      <td>2679</td>\n",
       "    </tr>\n",
       "    <tr>\n",
       "      <th>4</th>\n",
       "      <td>002ba53</td>\n",
       "      <td>dear, state senator this is a letter to argue ...</td>\n",
       "      <td>3</td>\n",
       "      <td>377</td>\n",
       "      <td>2188</td>\n",
       "    </tr>\n",
       "  </tbody>\n",
       "</table>\n",
       "</div>"
      ],
      "text/plain": [
       "  essay_id                                          full_text  score  \\\n",
       "0  000d118  many people have car where they live. the thin...      3   \n",
       "1  000fe60  i am a scientist at nasa that is discussing th...      3   \n",
       "2  001ab80  people always wish they had the same technolog...      4   \n",
       "3  001bdc0  we all heard about venus, the planet without a...      4   \n",
       "4  002ba53  dear, state senator this is a letter to argue ...      3   \n",
       "\n",
       "   word_count  length  \n",
       "0         496    2647  \n",
       "1         336    1668  \n",
       "2         553    3068  \n",
       "3         450    2679  \n",
       "4         377    2188  "
      ]
     },
     "execution_count": 9,
     "metadata": {},
     "output_type": "execute_result"
    }
   ],
   "source": [
    "df_train.head()"
   ]
  },
  {
   "cell_type": "markdown",
   "id": "76fee877",
   "metadata": {
    "papermill": {
     "duration": 0.013482,
     "end_time": "2024-04-30T06:21:48.798644",
     "exception": false,
     "start_time": "2024-04-30T06:21:48.785162",
     "status": "completed"
    },
    "tags": []
   },
   "source": [
    "attempt at creating vector embeddings:"
   ]
  },
  {
   "cell_type": "code",
   "execution_count": 10,
   "id": "93c5e114",
   "metadata": {
    "execution": {
     "iopub.execute_input": "2024-04-30T06:21:48.827746Z",
     "iopub.status.busy": "2024-04-30T06:21:48.827085Z",
     "iopub.status.idle": "2024-04-30T06:22:37.157645Z",
     "shell.execute_reply": "2024-04-30T06:22:37.156458Z"
    },
    "papermill": {
     "duration": 48.348947,
     "end_time": "2024-04-30T06:22:37.160364",
     "exception": false,
     "start_time": "2024-04-30T06:21:48.811417",
     "status": "completed"
    },
    "tags": []
   },
   "outputs": [],
   "source": [
    "word2vec_model = Word2Vec(df_train['full_text'], \n",
    "                          vector_size=100,\n",
    "                          min_count=1,\n",
    "                          window=5, \n",
    "                          )"
   ]
  },
  {
   "cell_type": "code",
   "execution_count": 11,
   "id": "b286ba74",
   "metadata": {
    "execution": {
     "iopub.execute_input": "2024-04-30T06:22:37.190337Z",
     "iopub.status.busy": "2024-04-30T06:22:37.188965Z",
     "iopub.status.idle": "2024-04-30T06:22:37.196130Z",
     "shell.execute_reply": "2024-04-30T06:22:37.194527Z"
    },
    "papermill": {
     "duration": 0.025262,
     "end_time": "2024-04-30T06:22:37.198835",
     "exception": false,
     "start_time": "2024-04-30T06:22:37.173573",
     "status": "completed"
    },
    "tags": []
   },
   "outputs": [],
   "source": [
    "def vectorize_text(text, word2vec_model):\n",
    "    text_vector = np.zeros(100)  # Initialize a vector of zeros (100-dimensional)\n",
    "    for word in text.split():  # Split text into words\n",
    "        if word in word2vec_model.wv:  # Check if word is in the vocabulary\n",
    "            text_vector += word2vec_model.wv[word]  # Add word vector to the text vector\n",
    "    return text_vector"
   ]
  },
  {
   "cell_type": "code",
   "execution_count": 12,
   "id": "166e4bc4",
   "metadata": {
    "execution": {
     "iopub.execute_input": "2024-04-30T06:22:37.227747Z",
     "iopub.status.busy": "2024-04-30T06:22:37.227355Z",
     "iopub.status.idle": "2024-04-30T06:22:43.986589Z",
     "shell.execute_reply": "2024-04-30T06:22:43.985588Z"
    },
    "papermill": {
     "duration": 6.776736,
     "end_time": "2024-04-30T06:22:43.989117",
     "exception": false,
     "start_time": "2024-04-30T06:22:37.212381",
     "status": "completed"
    },
    "tags": []
   },
   "outputs": [],
   "source": [
    "# Apply the vectorize_text function to each text entry in train_df['full_text']\n",
    "df_train['text_vector'] = df_train['full_text'].apply(lambda x: vectorize_text(x, word2vec_model))\n",
    "df_test['text_vector'] = df_test['full_text'].apply(lambda x: vectorize_text(x, word2vec_model))\n"
   ]
  },
  {
   "cell_type": "code",
   "execution_count": 13,
   "id": "451e34cb",
   "metadata": {
    "execution": {
     "iopub.execute_input": "2024-04-30T06:22:44.015835Z",
     "iopub.status.busy": "2024-04-30T06:22:44.014798Z",
     "iopub.status.idle": "2024-04-30T06:22:44.033704Z",
     "shell.execute_reply": "2024-04-30T06:22:44.032702Z"
    },
    "papermill": {
     "duration": 0.03498,
     "end_time": "2024-04-30T06:22:44.036340",
     "exception": false,
     "start_time": "2024-04-30T06:22:44.001360",
     "status": "completed"
    },
    "tags": []
   },
   "outputs": [
    {
     "data": {
      "text/html": [
       "<div>\n",
       "<style scoped>\n",
       "    .dataframe tbody tr th:only-of-type {\n",
       "        vertical-align: middle;\n",
       "    }\n",
       "\n",
       "    .dataframe tbody tr th {\n",
       "        vertical-align: top;\n",
       "    }\n",
       "\n",
       "    .dataframe thead th {\n",
       "        text-align: right;\n",
       "    }\n",
       "</style>\n",
       "<table border=\"1\" class=\"dataframe\">\n",
       "  <thead>\n",
       "    <tr style=\"text-align: right;\">\n",
       "      <th></th>\n",
       "      <th>essay_id</th>\n",
       "      <th>full_text</th>\n",
       "      <th>score</th>\n",
       "      <th>word_count</th>\n",
       "      <th>length</th>\n",
       "      <th>text_vector</th>\n",
       "    </tr>\n",
       "  </thead>\n",
       "  <tbody>\n",
       "    <tr>\n",
       "      <th>0</th>\n",
       "      <td>000d118</td>\n",
       "      <td>many people have car where they live. the thin...</td>\n",
       "      <td>3</td>\n",
       "      <td>496</td>\n",
       "      <td>2647</td>\n",
       "      <td>[6.838810499757528, 2.933244973421097, -4.6943...</td>\n",
       "    </tr>\n",
       "    <tr>\n",
       "      <th>1</th>\n",
       "      <td>000fe60</td>\n",
       "      <td>i am a scientist at nasa that is discussing th...</td>\n",
       "      <td>3</td>\n",
       "      <td>336</td>\n",
       "      <td>1668</td>\n",
       "      <td>[6.628935791552067, 3.9097928404808044, -5.050...</td>\n",
       "    </tr>\n",
       "    <tr>\n",
       "      <th>2</th>\n",
       "      <td>001ab80</td>\n",
       "      <td>people always wish they had the same technolog...</td>\n",
       "      <td>4</td>\n",
       "      <td>553</td>\n",
       "      <td>3068</td>\n",
       "      <td>[4.731695920228958, 2.1381875425577164, -2.097...</td>\n",
       "    </tr>\n",
       "    <tr>\n",
       "      <th>3</th>\n",
       "      <td>001bdc0</td>\n",
       "      <td>we all heard about venus, the planet without a...</td>\n",
       "      <td>4</td>\n",
       "      <td>450</td>\n",
       "      <td>2679</td>\n",
       "      <td>[2.8242264688014984, -2.7931941598653793, -0.8...</td>\n",
       "    </tr>\n",
       "    <tr>\n",
       "      <th>4</th>\n",
       "      <td>002ba53</td>\n",
       "      <td>dear, state senator this is a letter to argue ...</td>\n",
       "      <td>3</td>\n",
       "      <td>377</td>\n",
       "      <td>2188</td>\n",
       "      <td>[6.4642696268856525, 2.4372002631425858, -2.69...</td>\n",
       "    </tr>\n",
       "  </tbody>\n",
       "</table>\n",
       "</div>"
      ],
      "text/plain": [
       "  essay_id                                          full_text  score  \\\n",
       "0  000d118  many people have car where they live. the thin...      3   \n",
       "1  000fe60  i am a scientist at nasa that is discussing th...      3   \n",
       "2  001ab80  people always wish they had the same technolog...      4   \n",
       "3  001bdc0  we all heard about venus, the planet without a...      4   \n",
       "4  002ba53  dear, state senator this is a letter to argue ...      3   \n",
       "\n",
       "   word_count  length                                        text_vector  \n",
       "0         496    2647  [6.838810499757528, 2.933244973421097, -4.6943...  \n",
       "1         336    1668  [6.628935791552067, 3.9097928404808044, -5.050...  \n",
       "2         553    3068  [4.731695920228958, 2.1381875425577164, -2.097...  \n",
       "3         450    2679  [2.8242264688014984, -2.7931941598653793, -0.8...  \n",
       "4         377    2188  [6.4642696268856525, 2.4372002631425858, -2.69...  "
      ]
     },
     "execution_count": 13,
     "metadata": {},
     "output_type": "execute_result"
    }
   ],
   "source": [
    "df_train.head()"
   ]
  },
  {
   "cell_type": "code",
   "execution_count": 14,
   "id": "f25b187f",
   "metadata": {
    "execution": {
     "iopub.execute_input": "2024-04-30T06:22:44.066905Z",
     "iopub.status.busy": "2024-04-30T06:22:44.066244Z",
     "iopub.status.idle": "2024-04-30T06:22:44.070256Z",
     "shell.execute_reply": "2024-04-30T06:22:44.069375Z"
    },
    "papermill": {
     "duration": 0.021167,
     "end_time": "2024-04-30T06:22:44.072619",
     "exception": false,
     "start_time": "2024-04-30T06:22:44.051452",
     "status": "completed"
    },
    "tags": []
   },
   "outputs": [],
   "source": [
    "# X_train = df_train['full_text']\n",
    "# y_train = df_train['score']\n",
    "# X_test = df_test['full_text']\n",
    "# y_test = df_sub['score']"
   ]
  },
  {
   "cell_type": "markdown",
   "id": "d3737c51",
   "metadata": {
    "papermill": {
     "duration": 0.013029,
     "end_time": "2024-04-30T06:22:44.098437",
     "exception": false,
     "start_time": "2024-04-30T06:22:44.085408",
     "status": "completed"
    },
    "tags": []
   },
   "source": [
    "this method trains and evaluates each pipeline \n",
    "returns the y_pred and quadratic weighted kappa score of the model"
   ]
  },
  {
   "cell_type": "code",
   "execution_count": 15,
   "id": "cc62f9b7",
   "metadata": {
    "execution": {
     "iopub.execute_input": "2024-04-30T06:22:44.190198Z",
     "iopub.status.busy": "2024-04-30T06:22:44.189495Z",
     "iopub.status.idle": "2024-04-30T06:22:44.197173Z",
     "shell.execute_reply": "2024-04-30T06:22:44.195993Z"
    },
    "papermill": {
     "duration": 0.025414,
     "end_time": "2024-04-30T06:22:44.199608",
     "exception": false,
     "start_time": "2024-04-30T06:22:44.174194",
     "status": "completed"
    },
    "tags": []
   },
   "outputs": [],
   "source": [
    "def train_and_evaluate_pipeline(pipeline, X_train, y_train, X_test, y_test):\n",
    "    pipeline.fit(X_train, y_train)\n",
    "    y_pred = pipeline.predict(X_test)\n",
    "    \n",
    "    kappa = cohen_kappa_score(y_test, y_pred, weights='quadratic')\n",
    "    \n",
    "    print()\n",
    "    print('Classifier used: ', pipeline.named_steps['classifier'])\n",
    "    print('y_test: ', y_test.tolist()[0:10])\n",
    "    print('y_pred: ', y_pred.tolist()[0:10])\n",
    "    print('quadratic weighted kappa score: ', kappa)\n",
    "    \n",
    "    return pipeline, y_pred"
   ]
  },
  {
   "cell_type": "markdown",
   "id": "37368ad1",
   "metadata": {
    "papermill": {
     "duration": 0.012173,
     "end_time": "2024-04-30T06:22:44.225463",
     "exception": false,
     "start_time": "2024-04-30T06:22:44.213290",
     "status": "completed"
    },
    "tags": []
   },
   "source": [
    "method for performing cross_validation of pipelines and showing their average performances"
   ]
  },
  {
   "cell_type": "code",
   "execution_count": 16,
   "id": "4dec9ff8",
   "metadata": {
    "execution": {
     "iopub.execute_input": "2024-04-30T06:22:44.253605Z",
     "iopub.status.busy": "2024-04-30T06:22:44.252877Z",
     "iopub.status.idle": "2024-04-30T06:22:44.259655Z",
     "shell.execute_reply": "2024-04-30T06:22:44.258264Z"
    },
    "papermill": {
     "duration": 0.024553,
     "end_time": "2024-04-30T06:22:44.262508",
     "exception": false,
     "start_time": "2024-04-30T06:22:44.237955",
     "status": "completed"
    },
    "tags": []
   },
   "outputs": [],
   "source": [
    "#define quadratic weighted kappa as a custom scorer\n",
    "qwk_scorer = make_scorer(cohen_kappa_score, weights='quadratic')\n",
    "\n",
    "def pipeline_cross_validation(pipeline, X_train, y_train, qwk_scorer=qwk_scorer):\n",
    "    # Define cross-validation strategy and perform cross-validation\n",
    "    scoring = {'accuracy': 'accuracy', 'f1_weighted': 'f1_weighted', 'qwk': qwk_scorer}\n",
    "    cv_results = cross_validate(pipeline, X_train, y_train, cv=5, scoring=scoring)\n",
    "\n",
    "    # Print cross-validation results\n",
    "    print(\"Mean Accuracy:\", np.mean(cv_results['test_accuracy']))\n",
    "    print(\"Mean Weighted F1-score:\", np.mean(cv_results['test_f1_weighted']))\n",
    "    print(\"Mean Quadratic Weighted Kappa Score:\", np.mean(cv_results['test_qwk']))"
   ]
  },
  {
   "cell_type": "markdown",
   "id": "f4933aa5",
   "metadata": {
    "papermill": {
     "duration": 0.012104,
     "end_time": "2024-04-30T06:22:44.287212",
     "exception": false,
     "start_time": "2024-04-30T06:22:44.275108",
     "status": "completed"
    },
    "tags": []
   },
   "source": [
    "create the tfidf"
   ]
  },
  {
   "cell_type": "code",
   "execution_count": 17,
   "id": "5645669f",
   "metadata": {
    "execution": {
     "iopub.execute_input": "2024-04-30T06:22:44.315968Z",
     "iopub.status.busy": "2024-04-30T06:22:44.315342Z",
     "iopub.status.idle": "2024-04-30T06:22:44.319743Z",
     "shell.execute_reply": "2024-04-30T06:22:44.318570Z"
    },
    "papermill": {
     "duration": 0.021426,
     "end_time": "2024-04-30T06:22:44.322353",
     "exception": false,
     "start_time": "2024-04-30T06:22:44.300927",
     "status": "completed"
    },
    "tags": []
   },
   "outputs": [],
   "source": [
    "tfidf_vectorizer = TfidfVectorizer(stop_words='english', min_df=0.05, max_df=0.95,)\n",
    "# tfidf = tfidf_vectorizer.fit_transform(X_train)\n"
   ]
  },
  {
   "cell_type": "markdown",
   "id": "a6cb5148",
   "metadata": {
    "papermill": {
     "duration": 0.012651,
     "end_time": "2024-04-30T06:22:44.347458",
     "exception": false,
     "start_time": "2024-04-30T06:22:44.334807",
     "status": "completed"
    },
    "tags": []
   },
   "source": [
    "create the multinomial logistic regression classifier"
   ]
  },
  {
   "cell_type": "code",
   "execution_count": 18,
   "id": "dc8cd707",
   "metadata": {
    "execution": {
     "iopub.execute_input": "2024-04-30T06:22:44.374296Z",
     "iopub.status.busy": "2024-04-30T06:22:44.373917Z",
     "iopub.status.idle": "2024-04-30T06:22:44.378970Z",
     "shell.execute_reply": "2024-04-30T06:22:44.377827Z"
    },
    "papermill": {
     "duration": 0.021484,
     "end_time": "2024-04-30T06:22:44.381454",
     "exception": false,
     "start_time": "2024-04-30T06:22:44.359970",
     "status": "completed"
    },
    "tags": []
   },
   "outputs": [],
   "source": [
    "logreg_clf = LogisticRegression(multi_class='multinomial', solver='lbfgs', max_iter=500)"
   ]
  },
  {
   "cell_type": "markdown",
   "id": "9f9b029d",
   "metadata": {
    "papermill": {
     "duration": 0.012297,
     "end_time": "2024-04-30T06:22:44.406188",
     "exception": false,
     "start_time": "2024-04-30T06:22:44.393891",
     "status": "completed"
    },
    "tags": []
   },
   "source": [
    "create a pipeline for logistic regression classifier"
   ]
  },
  {
   "cell_type": "code",
   "execution_count": 19,
   "id": "c8c8417e",
   "metadata": {
    "execution": {
     "iopub.execute_input": "2024-04-30T06:22:44.433509Z",
     "iopub.status.busy": "2024-04-30T06:22:44.433097Z",
     "iopub.status.idle": "2024-04-30T06:22:44.438307Z",
     "shell.execute_reply": "2024-04-30T06:22:44.437073Z"
    },
    "papermill": {
     "duration": 0.02108,
     "end_time": "2024-04-30T06:22:44.440407",
     "exception": false,
     "start_time": "2024-04-30T06:22:44.419327",
     "status": "completed"
    },
    "tags": []
   },
   "outputs": [],
   "source": [
    "# Define a transformer to extract 'text_vector' from DataFrame\n",
    "def get_text_vector(df):\n",
    "    return np.vstack(df['text_vector'])"
   ]
  },
  {
   "cell_type": "code",
   "execution_count": 20,
   "id": "4957f643",
   "metadata": {
    "execution": {
     "iopub.execute_input": "2024-04-30T06:22:44.467303Z",
     "iopub.status.busy": "2024-04-30T06:22:44.466895Z",
     "iopub.status.idle": "2024-04-30T06:22:44.473726Z",
     "shell.execute_reply": "2024-04-30T06:22:44.472461Z"
    },
    "papermill": {
     "duration": 0.023265,
     "end_time": "2024-04-30T06:22:44.476073",
     "exception": false,
     "start_time": "2024-04-30T06:22:44.452808",
     "status": "completed"
    },
    "tags": []
   },
   "outputs": [],
   "source": [
    "tfidf_preprocessor = ColumnTransformer(\n",
    "    transformers=[\n",
    "        ('text', tfidf_vectorizer, 'full_text'),\n",
    "        ('word_count', StandardScaler(), ['word_count']),\n",
    "        ('length', StandardScaler(), ['length'])\n",
    "    ],\n",
    "    remainder='passthrough'\n",
    ")\n",
    "\n",
    "w2v_preprocessor = ColumnTransformer(\n",
    "    transformers=[\n",
    "#         ('text', tfidf_vectorizer, 'full_text'),\n",
    "        ('text_vector', FunctionTransformer(get_text_vector, validate=False), ['text_vector']),\n",
    "        ('word_count', StandardScaler(), ['word_count']),\n",
    "        ('length', StandardScaler(), ['length'])\n",
    "    ],\n",
    "    remainder='passthrough'\n",
    ")"
   ]
  },
  {
   "cell_type": "code",
   "execution_count": 21,
   "id": "eb9dcaa5",
   "metadata": {
    "execution": {
     "iopub.execute_input": "2024-04-30T06:22:44.502886Z",
     "iopub.status.busy": "2024-04-30T06:22:44.502035Z",
     "iopub.status.idle": "2024-04-30T06:22:44.507538Z",
     "shell.execute_reply": "2024-04-30T06:22:44.506669Z"
    },
    "papermill": {
     "duration": 0.021429,
     "end_time": "2024-04-30T06:22:44.509875",
     "exception": false,
     "start_time": "2024-04-30T06:22:44.488446",
     "status": "completed"
    },
    "tags": []
   },
   "outputs": [],
   "source": [
    "logreg_pipeline = Pipeline(steps=[\n",
    "#     ('tfidf', tfidf_vectorizer),\n",
    "    ('preprocessor', tfidf_preprocessor),\n",
    "    ('classifier', logreg_clf)\n",
    "])\n",
    "\n",
    "w2v_logreg_pipeline = Pipeline(steps=[\n",
    "    ('preprocessor', w2v_preprocessor),\n",
    "    ('classifier', logreg_clf)\n",
    "])"
   ]
  },
  {
   "cell_type": "markdown",
   "id": "fbb872b6",
   "metadata": {
    "papermill": {
     "duration": 0.013097,
     "end_time": "2024-04-30T06:22:44.537029",
     "exception": false,
     "start_time": "2024-04-30T06:22:44.523932",
     "status": "completed"
    },
    "tags": []
   },
   "source": [
    "fit and make a prediction"
   ]
  },
  {
   "cell_type": "code",
   "execution_count": 22,
   "id": "d657943f",
   "metadata": {
    "execution": {
     "iopub.execute_input": "2024-04-30T06:22:44.566209Z",
     "iopub.status.busy": "2024-04-30T06:22:44.564991Z",
     "iopub.status.idle": "2024-04-30T06:22:44.569997Z",
     "shell.execute_reply": "2024-04-30T06:22:44.569025Z"
    },
    "papermill": {
     "duration": 0.021796,
     "end_time": "2024-04-30T06:22:44.572325",
     "exception": false,
     "start_time": "2024-04-30T06:22:44.550529",
     "status": "completed"
    },
    "tags": []
   },
   "outputs": [],
   "source": [
    "# df_sub['essay_id'].tolist()\n",
    "# df_train.loc[(df_train['essay_id'] == '000d118') | (df_train['essay_id'] =='000fe60') | (df_train['essay_id'] =='001ab80')]\n",
    "# sub_df_data = df_train.loc[(df_train['essay_id'] == '000d118') | (df_train['essay_id'] =='000fe60') | (df_train['essay_id'] =='001ab80')]\n",
    "# X_test3 = tfidf_vectorizer.transform(df_test['full_text'])"
   ]
  },
  {
   "cell_type": "code",
   "execution_count": 23,
   "id": "57a4b523",
   "metadata": {
    "execution": {
     "iopub.execute_input": "2024-04-30T06:22:44.600262Z",
     "iopub.status.busy": "2024-04-30T06:22:44.599564Z",
     "iopub.status.idle": "2024-04-30T06:22:44.627409Z",
     "shell.execute_reply": "2024-04-30T06:22:44.626229Z"
    },
    "papermill": {
     "duration": 0.045157,
     "end_time": "2024-04-30T06:22:44.630107",
     "exception": false,
     "start_time": "2024-04-30T06:22:44.584950",
     "status": "completed"
    },
    "tags": []
   },
   "outputs": [],
   "source": [
    "X = df_train[['full_text', 'word_count', 'length']]\n",
    "# X = df_train['full_text']\n",
    "y = df_train['score']\n",
    "sub_X = df_test[['full_text', 'word_count', 'length']]\n",
    "sub_y = df_sub['score']\n",
    "\n",
    "X_train, X_test, y_train, y_test = train_test_split(X, y, train_size = 0.8)\n",
    "\n",
    "X2 = df_train[['word_count', 'length', 'text_vector']]\n",
    "sub_X2 = df_test[['word_count', 'length', 'text_vector']]\n",
    "\n",
    "# X2 = np.array(df_train['text_vector'].tolist())\n",
    "# sub_X2 = np.array(df_test['text_vector'].tolist())\n",
    "\n",
    "X_train2, X_test2, y_train2, y_test2 = train_test_split(X2, y, train_size = 0.8)\n",
    "\n",
    "\n",
    "# trained_logreg_pipeline, logreg_y_pred = train_and_evaluate_pipeline(logreg_pipeline, X_train, y_train, X_test, y_test)"
   ]
  },
  {
   "cell_type": "code",
   "execution_count": 24,
   "id": "06101ba9",
   "metadata": {
    "execution": {
     "iopub.execute_input": "2024-04-30T06:22:44.658161Z",
     "iopub.status.busy": "2024-04-30T06:22:44.657745Z",
     "iopub.status.idle": "2024-04-30T06:22:51.906569Z",
     "shell.execute_reply": "2024-04-30T06:22:51.905258Z"
    },
    "papermill": {
     "duration": 7.265809,
     "end_time": "2024-04-30T06:22:51.909007",
     "exception": false,
     "start_time": "2024-04-30T06:22:44.643198",
     "status": "completed"
    },
    "tags": []
   },
   "outputs": [
    {
     "name": "stdout",
     "output_type": "stream",
     "text": [
      "\n",
      "Classifier used:  LogisticRegression(max_iter=500, multi_class='multinomial')\n",
      "y_test:  [5, 2, 3, 3, 3, 3, 5, 4, 4, 2]\n",
      "y_pred:  [5, 2, 3, 4, 3, 3, 5, 5, 4, 2]\n",
      "quadratic weighted kappa score:  0.7189540248123489\n"
     ]
    }
   ],
   "source": [
    "trained_logreg_pipeline, logreg_y_pred = train_and_evaluate_pipeline(logreg_pipeline, X_train, y_train, X_test, y_test)"
   ]
  },
  {
   "cell_type": "code",
   "execution_count": null,
   "id": "991c35dd",
   "metadata": {
    "papermill": {
     "duration": 0.012833,
     "end_time": "2024-04-30T06:22:51.934494",
     "exception": false,
     "start_time": "2024-04-30T06:22:51.921661",
     "status": "completed"
    },
    "tags": []
   },
   "outputs": [],
   "source": []
  },
  {
   "cell_type": "markdown",
   "id": "8f69785c",
   "metadata": {
    "papermill": {
     "duration": 0.013023,
     "end_time": "2024-04-30T06:22:51.959966",
     "exception": false,
     "start_time": "2024-04-30T06:22:51.946943",
     "status": "completed"
    },
    "tags": []
   },
   "source": [
    "commented off just to make the notebook save and rerun properly, need to use a different clf if plan to keep"
   ]
  },
  {
   "cell_type": "code",
   "execution_count": 25,
   "id": "35b5d388",
   "metadata": {
    "execution": {
     "iopub.execute_input": "2024-04-30T06:22:51.988365Z",
     "iopub.status.busy": "2024-04-30T06:22:51.987945Z",
     "iopub.status.idle": "2024-04-30T06:22:51.993224Z",
     "shell.execute_reply": "2024-04-30T06:22:51.991897Z"
    },
    "papermill": {
     "duration": 0.021617,
     "end_time": "2024-04-30T06:22:51.995638",
     "exception": false,
     "start_time": "2024-04-30T06:22:51.974021",
     "status": "completed"
    },
    "tags": []
   },
   "outputs": [],
   "source": [
    "# trained_logreg_pipeline2, logreg_y_pred2 = train_and_evaluate_pipeline(w2v_logreg_pipeline, X_train2, y_train2, X_test2, y_test2)"
   ]
  },
  {
   "cell_type": "code",
   "execution_count": 26,
   "id": "139c3b9f",
   "metadata": {
    "execution": {
     "iopub.execute_input": "2024-04-30T06:22:52.023680Z",
     "iopub.status.busy": "2024-04-30T06:22:52.023216Z",
     "iopub.status.idle": "2024-04-30T06:23:20.874344Z",
     "shell.execute_reply": "2024-04-30T06:23:20.872849Z"
    },
    "papermill": {
     "duration": 28.868226,
     "end_time": "2024-04-30T06:23:20.877025",
     "exception": false,
     "start_time": "2024-04-30T06:22:52.008799",
     "status": "completed"
    },
    "tags": []
   },
   "outputs": [
    {
     "name": "stdout",
     "output_type": "stream",
     "text": [
      "Mean Accuracy: 0.5929216323582521\n",
      "Mean Weighted F1-score: 0.5814666415672671\n",
      "Mean Quadratic Weighted Kappa Score: 0.7212400639824893\n"
     ]
    }
   ],
   "source": [
    "pipeline_cross_validation(logreg_pipeline, X_train, y_train)"
   ]
  },
  {
   "cell_type": "code",
   "execution_count": 27,
   "id": "9d8d8347",
   "metadata": {
    "execution": {
     "iopub.execute_input": "2024-04-30T06:23:20.906274Z",
     "iopub.status.busy": "2024-04-30T06:23:20.904836Z",
     "iopub.status.idle": "2024-04-30T06:23:20.925160Z",
     "shell.execute_reply": "2024-04-30T06:23:20.923406Z"
    },
    "papermill": {
     "duration": 0.037411,
     "end_time": "2024-04-30T06:23:20.928051",
     "exception": false,
     "start_time": "2024-04-30T06:23:20.890640",
     "status": "completed"
    },
    "tags": []
   },
   "outputs": [
    {
     "name": "stdout",
     "output_type": "stream",
     "text": [
      "              precision    recall  f1-score   support\n",
      "\n",
      "           1       0.66      0.28      0.40       251\n",
      "           2       0.62      0.69      0.65       945\n",
      "           3       0.58      0.64      0.61      1240\n",
      "           4       0.54      0.56      0.55       768\n",
      "           5       0.44      0.25      0.32       216\n",
      "           6       0.75      0.07      0.13        42\n",
      "\n",
      "    accuracy                           0.58      3462\n",
      "   macro avg       0.60      0.42      0.44      3462\n",
      "weighted avg       0.58      0.58      0.57      3462\n",
      "\n"
     ]
    }
   ],
   "source": [
    "print(classification_report(y_test, logreg_y_pred))"
   ]
  },
  {
   "cell_type": "code",
   "execution_count": 28,
   "id": "92a4f57a",
   "metadata": {
    "execution": {
     "iopub.execute_input": "2024-04-30T06:23:20.956023Z",
     "iopub.status.busy": "2024-04-30T06:23:20.955589Z",
     "iopub.status.idle": "2024-04-30T06:23:20.970062Z",
     "shell.execute_reply": "2024-04-30T06:23:20.968724Z"
    },
    "papermill": {
     "duration": 0.03126,
     "end_time": "2024-04-30T06:23:20.972489",
     "exception": false,
     "start_time": "2024-04-30T06:23:20.941229",
     "status": "completed"
    },
    "tags": []
   },
   "outputs": [
    {
     "name": "stdout",
     "output_type": "stream",
     "text": [
      "Model prediction on submission essays:  [3, 3, 4]\n",
      "Submission essays actual classes:  [3, 3, 4]\n"
     ]
    }
   ],
   "source": [
    "print(\"Model prediction on submission essays: \", trained_logreg_pipeline.predict(sub_X).tolist())\n",
    "print('Submission essays actual classes: ', sub_y.tolist())"
   ]
  },
  {
   "cell_type": "code",
   "execution_count": 29,
   "id": "7a8b7d25",
   "metadata": {
    "execution": {
     "iopub.execute_input": "2024-04-30T06:23:21.000867Z",
     "iopub.status.busy": "2024-04-30T06:23:21.000083Z",
     "iopub.status.idle": "2024-04-30T06:23:21.004645Z",
     "shell.execute_reply": "2024-04-30T06:23:21.003607Z"
    },
    "papermill": {
     "duration": 0.021507,
     "end_time": "2024-04-30T06:23:21.007078",
     "exception": false,
     "start_time": "2024-04-30T06:23:20.985571",
     "status": "completed"
    },
    "tags": []
   },
   "outputs": [],
   "source": [
    "# logregcv_clf = LogisticRegressionCV(multi_class='multinomial', cv=5, solver='lbfgs', max_iter=1000, refit=True, scoring=qwk_scorer)"
   ]
  },
  {
   "cell_type": "markdown",
   "id": "a63a8173",
   "metadata": {
    "papermill": {
     "duration": 0.012547,
     "end_time": "2024-04-30T06:23:21.032495",
     "exception": false,
     "start_time": "2024-04-30T06:23:21.019948",
     "status": "completed"
    },
    "tags": []
   },
   "source": [
    "create a lightgbm model pipeline\n",
    "\n",
    "lgbm over xgboost for performance and scalability? maybe elaborate more"
   ]
  },
  {
   "cell_type": "code",
   "execution_count": 30,
   "id": "4eb7d3da",
   "metadata": {
    "execution": {
     "iopub.execute_input": "2024-04-30T06:23:21.061601Z",
     "iopub.status.busy": "2024-04-30T06:23:21.060568Z",
     "iopub.status.idle": "2024-04-30T06:23:21.065834Z",
     "shell.execute_reply": "2024-04-30T06:23:21.064949Z"
    },
    "papermill": {
     "duration": 0.022711,
     "end_time": "2024-04-30T06:23:21.068252",
     "exception": false,
     "start_time": "2024-04-30T06:23:21.045541",
     "status": "completed"
    },
    "tags": []
   },
   "outputs": [],
   "source": [
    "lgbm_clf = LGBMClassifier(objective='multiclass', num_class=6, metric='multi_logloss', num_leaves=31, learning_rate=0.1, feature_fraction=0.6)"
   ]
  },
  {
   "cell_type": "code",
   "execution_count": 31,
   "id": "e665191e",
   "metadata": {
    "execution": {
     "iopub.execute_input": "2024-04-30T06:23:21.098114Z",
     "iopub.status.busy": "2024-04-30T06:23:21.097674Z",
     "iopub.status.idle": "2024-04-30T06:23:21.102663Z",
     "shell.execute_reply": "2024-04-30T06:23:21.101417Z"
    },
    "papermill": {
     "duration": 0.022615,
     "end_time": "2024-04-30T06:23:21.105289",
     "exception": false,
     "start_time": "2024-04-30T06:23:21.082674",
     "status": "completed"
    },
    "tags": []
   },
   "outputs": [],
   "source": [
    "lgbm_pipeline = Pipeline(steps=[\n",
    "#     ('tfidf', tfidf_vectorizer),   # TF-IDF Vectorizer\n",
    "    ('preprocessor', tfidf_preprocessor),\n",
    "    ('classifier', lgbm_clf) # LightGBM Classifier\n",
    "])"
   ]
  },
  {
   "cell_type": "markdown",
   "id": "d47fef69",
   "metadata": {
    "papermill": {
     "duration": 0.012627,
     "end_time": "2024-04-30T06:23:21.131457",
     "exception": false,
     "start_time": "2024-04-30T06:23:21.118830",
     "status": "completed"
    },
    "tags": []
   },
   "source": [
    "use some GridSearchCV to find the best parameters"
   ]
  },
  {
   "cell_type": "code",
   "execution_count": 32,
   "id": "90c317ca",
   "metadata": {
    "execution": {
     "iopub.execute_input": "2024-04-30T06:23:21.160901Z",
     "iopub.status.busy": "2024-04-30T06:23:21.160467Z",
     "iopub.status.idle": "2024-04-30T06:23:21.167260Z",
     "shell.execute_reply": "2024-04-30T06:23:21.165803Z"
    },
    "papermill": {
     "duration": 0.025248,
     "end_time": "2024-04-30T06:23:21.170107",
     "exception": false,
     "start_time": "2024-04-30T06:23:21.144859",
     "status": "completed"
    },
    "tags": []
   },
   "outputs": [],
   "source": [
    "# parameter grid used for the grid search:\n",
    "param_grid = {\n",
    "    'num_leaves': [31, 50, 100],\n",
    "    'learning_rate': [0.05, 0.1, 0.2],\n",
    "    'feature_fraction': [0.6, 0.8, 0.9]\n",
    "}"
   ]
  },
  {
   "cell_type": "code",
   "execution_count": 33,
   "id": "aae09c0d",
   "metadata": {
    "execution": {
     "iopub.execute_input": "2024-04-30T06:23:21.199973Z",
     "iopub.status.busy": "2024-04-30T06:23:21.199562Z",
     "iopub.status.idle": "2024-04-30T06:23:21.204802Z",
     "shell.execute_reply": "2024-04-30T06:23:21.203555Z"
    },
    "papermill": {
     "duration": 0.024793,
     "end_time": "2024-04-30T06:23:21.208834",
     "exception": false,
     "start_time": "2024-04-30T06:23:21.184041",
     "status": "completed"
    },
    "tags": []
   },
   "outputs": [],
   "source": [
    "# # create and fit the gridsearch\n",
    "# grid_search = GridSearchCV(estimator=lgbm_clf, param_grid=param_grid, cv=3, scoring=qwk_scorer)\n",
    "# grid_search.fit(tfidf_vectorizer.fit_transform(X_train), y_train)\n",
    "\n",
    "# # Print the best parameters and best score\n",
    "# print(\"Best Parameters: \", grid_search.best_params_)\n",
    "# print(\"Best Score (quadratic weighted kappa score): \", grid_search.best_score_)"
   ]
  },
  {
   "cell_type": "code",
   "execution_count": 34,
   "id": "55c60222",
   "metadata": {
    "execution": {
     "iopub.execute_input": "2024-04-30T06:23:21.236709Z",
     "iopub.status.busy": "2024-04-30T06:23:21.236303Z",
     "iopub.status.idle": "2024-04-30T06:23:45.928685Z",
     "shell.execute_reply": "2024-04-30T06:23:45.927270Z"
    },
    "papermill": {
     "duration": 24.709416,
     "end_time": "2024-04-30T06:23:45.931366",
     "exception": false,
     "start_time": "2024-04-30T06:23:21.221950",
     "status": "completed"
    },
    "tags": []
   },
   "outputs": [
    {
     "name": "stdout",
     "output_type": "stream",
     "text": [
      "[LightGBM] [Warning] feature_fraction is set=0.6, colsample_bytree=1.0 will be ignored. Current value: feature_fraction=0.6\n",
      "[LightGBM] [Warning] feature_fraction is set=0.6, colsample_bytree=1.0 will be ignored. Current value: feature_fraction=0.6\n",
      "[LightGBM] [Info] Auto-choosing row-wise multi-threading, the overhead of testing was 0.058315 seconds.\n",
      "You can set `force_row_wise=true` to remove the overhead.\n",
      "And if memory is not enough, you can set `force_col_wise=true`.\n",
      "[LightGBM] [Info] Total Bins 111582\n",
      "[LightGBM] [Info] Number of data points in the train set: 13845, number of used features: 440\n",
      "[LightGBM] [Info] Start training from score -2.626925\n",
      "[LightGBM] [Info] Start training from score -1.298729\n",
      "[LightGBM] [Info] Start training from score -1.010518\n",
      "[LightGBM] [Info] Start training from score -1.477985\n",
      "[LightGBM] [Info] Start training from score -2.910287\n",
      "[LightGBM] [Info] Start training from score -4.799481\n",
      "[LightGBM] [Warning] No further splits with positive gain, best gain: -inf\n",
      "[LightGBM] [Warning] feature_fraction is set=0.6, colsample_bytree=1.0 will be ignored. Current value: feature_fraction=0.6\n",
      "\n",
      "Classifier used:  LGBMClassifier(feature_fraction=0.6, metric='multi_logloss', num_class=6,\n",
      "               objective='multiclass')\n",
      "y_test:  [5, 2, 3, 3, 3, 3, 5, 4, 4, 2]\n",
      "y_pred:  [5, 2, 3, 4, 3, 3, 5, 5, 4, 2]\n",
      "quadratic weighted kappa score:  0.73748548977805\n"
     ]
    }
   ],
   "source": [
    "trained_lgbm_pipeline, lgbm_y_pred = train_and_evaluate_pipeline(lgbm_pipeline, X_train, y_train, X_test, y_test)"
   ]
  },
  {
   "cell_type": "markdown",
   "id": "59b85159",
   "metadata": {
    "papermill": {
     "duration": 0.012807,
     "end_time": "2024-04-30T06:23:45.957488",
     "exception": false,
     "start_time": "2024-04-30T06:23:45.944681",
     "status": "completed"
    },
    "tags": []
   },
   "source": [
    "commented off just to make the notebook run faster for now"
   ]
  },
  {
   "cell_type": "code",
   "execution_count": 35,
   "id": "427019e5",
   "metadata": {
    "execution": {
     "iopub.execute_input": "2024-04-30T06:23:45.987534Z",
     "iopub.status.busy": "2024-04-30T06:23:45.987085Z",
     "iopub.status.idle": "2024-04-30T06:23:45.992887Z",
     "shell.execute_reply": "2024-04-30T06:23:45.991369Z"
    },
    "papermill": {
     "duration": 0.023953,
     "end_time": "2024-04-30T06:23:45.995265",
     "exception": false,
     "start_time": "2024-04-30T06:23:45.971312",
     "status": "completed"
    },
    "tags": []
   },
   "outputs": [],
   "source": [
    "# pipeline_cross_validation(lgbm_pipeline, X_train, y_train)"
   ]
  },
  {
   "cell_type": "code",
   "execution_count": 36,
   "id": "7cdea96e",
   "metadata": {
    "execution": {
     "iopub.execute_input": "2024-04-30T06:23:46.026542Z",
     "iopub.status.busy": "2024-04-30T06:23:46.026111Z",
     "iopub.status.idle": "2024-04-30T06:23:46.049410Z",
     "shell.execute_reply": "2024-04-30T06:23:46.047689Z"
    },
    "papermill": {
     "duration": 0.042248,
     "end_time": "2024-04-30T06:23:46.052514",
     "exception": false,
     "start_time": "2024-04-30T06:23:46.010266",
     "status": "completed"
    },
    "tags": []
   },
   "outputs": [
    {
     "name": "stdout",
     "output_type": "stream",
     "text": [
      "              precision    recall  f1-score   support\n",
      "\n",
      "           1       0.66      0.35      0.45       251\n",
      "           2       0.67      0.64      0.66       945\n",
      "           3       0.60      0.64      0.62      1240\n",
      "           4       0.54      0.65      0.59       768\n",
      "           5       0.49      0.38      0.43       216\n",
      "           6       0.64      0.21      0.32        42\n",
      "\n",
      "    accuracy                           0.60      3462\n",
      "   macro avg       0.60      0.48      0.51      3462\n",
      "weighted avg       0.60      0.60      0.60      3462\n",
      "\n"
     ]
    }
   ],
   "source": [
    "print(classification_report(y_test, lgbm_y_pred))"
   ]
  },
  {
   "cell_type": "code",
   "execution_count": 37,
   "id": "6d163499",
   "metadata": {
    "execution": {
     "iopub.execute_input": "2024-04-30T06:23:46.083149Z",
     "iopub.status.busy": "2024-04-30T06:23:46.082554Z",
     "iopub.status.idle": "2024-04-30T06:23:46.100115Z",
     "shell.execute_reply": "2024-04-30T06:23:46.098711Z"
    },
    "papermill": {
     "duration": 0.035382,
     "end_time": "2024-04-30T06:23:46.102479",
     "exception": false,
     "start_time": "2024-04-30T06:23:46.067097",
     "status": "completed"
    },
    "tags": []
   },
   "outputs": [
    {
     "name": "stdout",
     "output_type": "stream",
     "text": [
      "[LightGBM] [Warning] feature_fraction is set=0.6, colsample_bytree=1.0 will be ignored. Current value: feature_fraction=0.6\n",
      "Model prediction on submission essays:  [3, 3, 4]\n",
      "Submission essays actual classes:  [3, 3, 4]\n"
     ]
    }
   ],
   "source": [
    "# trained_lgbm_pipeline.predict(df_test[['full_text', 'word_count', 'length']]).tolist()\n",
    "print(\"Model prediction on submission essays: \", trained_lgbm_pipeline.predict(sub_X).tolist())\n",
    "print('Submission essays actual classes: ', sub_y.tolist())"
   ]
  },
  {
   "cell_type": "markdown",
   "id": "ca1adeaa",
   "metadata": {
    "papermill": {
     "duration": 0.013309,
     "end_time": "2024-04-30T06:23:46.129576",
     "exception": false,
     "start_time": "2024-04-30T06:23:46.116267",
     "status": "completed"
    },
    "tags": []
   },
   "source": [
    "LogisticRegressionCV classifier model and pipeline"
   ]
  },
  {
   "cell_type": "code",
   "execution_count": 38,
   "id": "0788eca8",
   "metadata": {
    "execution": {
     "iopub.execute_input": "2024-04-30T06:23:46.158331Z",
     "iopub.status.busy": "2024-04-30T06:23:46.157901Z",
     "iopub.status.idle": "2024-04-30T06:23:46.162210Z",
     "shell.execute_reply": "2024-04-30T06:23:46.160965Z"
    },
    "papermill": {
     "duration": 0.021394,
     "end_time": "2024-04-30T06:23:46.164472",
     "exception": false,
     "start_time": "2024-04-30T06:23:46.143078",
     "status": "completed"
    },
    "tags": []
   },
   "outputs": [],
   "source": [
    "# logregcv_clf = LogisticRegressionCV(multi_class='multinomial', cv=3, solver='lbfgs', max_iter=1000, refit=True, scoring=qwk_scorer)"
   ]
  },
  {
   "cell_type": "code",
   "execution_count": 39,
   "id": "529cf3d0",
   "metadata": {
    "execution": {
     "iopub.execute_input": "2024-04-30T06:23:46.193004Z",
     "iopub.status.busy": "2024-04-30T06:23:46.192585Z",
     "iopub.status.idle": "2024-04-30T06:23:46.197466Z",
     "shell.execute_reply": "2024-04-30T06:23:46.196263Z"
    },
    "papermill": {
     "duration": 0.022117,
     "end_time": "2024-04-30T06:23:46.199720",
     "exception": false,
     "start_time": "2024-04-30T06:23:46.177603",
     "status": "completed"
    },
    "tags": []
   },
   "outputs": [],
   "source": [
    "# logregcv_pipeline = Pipeline(steps=[\n",
    "# #     ('tfidf', tfidf_vectorizer),\n",
    "#     ('preprocessor', preprocessor),\n",
    "#     ('classifier', logregcv_clf)\n",
    "# ])"
   ]
  },
  {
   "cell_type": "code",
   "execution_count": 40,
   "id": "ccc7fa07",
   "metadata": {
    "execution": {
     "iopub.execute_input": "2024-04-30T06:23:46.227763Z",
     "iopub.status.busy": "2024-04-30T06:23:46.227392Z",
     "iopub.status.idle": "2024-04-30T06:23:46.232177Z",
     "shell.execute_reply": "2024-04-30T06:23:46.230962Z"
    },
    "papermill": {
     "duration": 0.021499,
     "end_time": "2024-04-30T06:23:46.234527",
     "exception": false,
     "start_time": "2024-04-30T06:23:46.213028",
     "status": "completed"
    },
    "tags": []
   },
   "outputs": [],
   "source": [
    "# logregcv_y_pred = train_and_evaluate_pipeline(logregcv_pipeline, X_train, y_train, X_test, y_test)"
   ]
  },
  {
   "cell_type": "markdown",
   "id": "b007430e",
   "metadata": {
    "papermill": {
     "duration": 0.013131,
     "end_time": "2024-04-30T06:23:46.261662",
     "exception": false,
     "start_time": "2024-04-30T06:23:46.248531",
     "status": "completed"
    },
    "tags": []
   },
   "source": [
    "# ***Things to do:***\n",
    "\n",
    "- put explanations and more markup in notebook\n",
    "\n",
    "- more EDA, some diagrams and graphs on the dataset \n",
    "\n",
    "    ideas: - compare the cross validation qwk scores, group by scores and show word lengths etc\n",
    "\n",
    "- try word2vec for vector embeddings and compare with tfidf - make w2v more accurate somehow\n",
    "\n",
    "- find more models - potential: xgboostclassifier, ordinal logistic regression, ordinal random forest,\n",
    "\n",
    "- overall increase the performance of the models they arent predicting the test dataset 100% correctly\n",
    "\n"
   ]
  },
  {
   "cell_type": "raw",
   "id": "f54709b3",
   "metadata": {
    "papermill": {
     "duration": 0.013224,
     "end_time": "2024-04-30T06:23:46.288718",
     "exception": false,
     "start_time": "2024-04-30T06:23:46.275494",
     "status": "completed"
    },
    "tags": []
   },
   "source": []
  }
 ],
 "metadata": {
  "kaggle": {
   "accelerator": "none",
   "dataSources": [
    {
     "databundleVersionId": 8059942,
     "sourceId": 71485,
     "sourceType": "competition"
    }
   ],
   "dockerImageVersionId": 30698,
   "isGpuEnabled": false,
   "isInternetEnabled": false,
   "language": "python",
   "sourceType": "notebook"
  },
  "kernelspec": {
   "display_name": "Python 3",
   "language": "python",
   "name": "python3"
  },
  "language_info": {
   "codemirror_mode": {
    "name": "ipython",
    "version": 3
   },
   "file_extension": ".py",
   "mimetype": "text/x-python",
   "name": "python",
   "nbconvert_exporter": "python",
   "pygments_lexer": "ipython3",
   "version": "3.10.13"
  },
  "papermill": {
   "default_parameters": {},
   "duration": 147.905367,
   "end_time": "2024-04-30T06:23:47.428642",
   "environment_variables": {},
   "exception": null,
   "input_path": "__notebook__.ipynb",
   "output_path": "__notebook__.ipynb",
   "parameters": {},
   "start_time": "2024-04-30T06:21:19.523275",
   "version": "2.5.0"
  }
 },
 "nbformat": 4,
 "nbformat_minor": 5
}
